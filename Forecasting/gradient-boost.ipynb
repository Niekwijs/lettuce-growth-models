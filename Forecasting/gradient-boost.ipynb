{
 "cells": [
  {
   "cell_type": "code",
   "execution_count": 55,
   "metadata": {
    "collapsed": true,
    "pycharm": {
     "name": "#%%\n"
    }
   },
   "outputs": [],
   "source": [
    "import pandas as pd\n",
    "import seaborn as sns\n",
    "import matplotlib.pyplot as plt\n",
    "\n",
    "# sklearn imports fore\n",
    "from sklearn.ensemble import GradientBoostingRegressor\n",
    "from sklearn.model_selection import train_test_split\n",
    "from sklearn.metrics import mean_squared_error"
   ]
  },
  {
   "cell_type": "markdown",
   "source": [
    "Load dataset"
   ],
   "metadata": {
    "collapsed": false,
    "pycharm": {
     "name": "#%% md\n"
    }
   }
  },
  {
   "cell_type": "code",
   "execution_count": 56,
   "outputs": [
    {
     "data": {
      "text/plain": "    Variety  RGB_Image Depth_Information  FreshWeightShoot  DryWeightShoot  \\\n229  Satine  RGB_1.png       Depth_1.png               2.6            0.14   \n362  Satine  RGB_2.png       Depth_2.png               2.1            0.10   \n258  Satine  RGB_3.png       Depth_3.png               2.0            0.09   \n263  Satine  RGB_4.png       Depth_4.png               2.7            0.13   \n224  Lugano  RGB_5.png       Depth_5.png               2.3            0.11   \n\n     Height  Diameter  LeafArea  ID     Week        Date  \n229     8.2      12.0      80.6   1  2021-W1  2021-01-04  \n362     8.5       8.2      67.4   2  2021-W1  2021-01-04  \n258     7.5       9.5      65.0   3  2021-W1  2021-01-04  \n263     6.0      10.6      78.7   4  2021-W1  2021-01-04  \n224     8.3       9.8      73.9   5  2021-W1  2021-01-04  ",
      "text/html": "<div>\n<style scoped>\n    .dataframe tbody tr th:only-of-type {\n        vertical-align: middle;\n    }\n\n    .dataframe tbody tr th {\n        vertical-align: top;\n    }\n\n    .dataframe thead th {\n        text-align: right;\n    }\n</style>\n<table border=\"1\" class=\"dataframe\">\n  <thead>\n    <tr style=\"text-align: right;\">\n      <th></th>\n      <th>Variety</th>\n      <th>RGB_Image</th>\n      <th>Depth_Information</th>\n      <th>FreshWeightShoot</th>\n      <th>DryWeightShoot</th>\n      <th>Height</th>\n      <th>Diameter</th>\n      <th>LeafArea</th>\n      <th>ID</th>\n      <th>Week</th>\n      <th>Date</th>\n    </tr>\n  </thead>\n  <tbody>\n    <tr>\n      <th>229</th>\n      <td>Satine</td>\n      <td>RGB_1.png</td>\n      <td>Depth_1.png</td>\n      <td>2.6</td>\n      <td>0.14</td>\n      <td>8.2</td>\n      <td>12.0</td>\n      <td>80.6</td>\n      <td>1</td>\n      <td>2021-W1</td>\n      <td>2021-01-04</td>\n    </tr>\n    <tr>\n      <th>362</th>\n      <td>Satine</td>\n      <td>RGB_2.png</td>\n      <td>Depth_2.png</td>\n      <td>2.1</td>\n      <td>0.10</td>\n      <td>8.5</td>\n      <td>8.2</td>\n      <td>67.4</td>\n      <td>2</td>\n      <td>2021-W1</td>\n      <td>2021-01-04</td>\n    </tr>\n    <tr>\n      <th>258</th>\n      <td>Satine</td>\n      <td>RGB_3.png</td>\n      <td>Depth_3.png</td>\n      <td>2.0</td>\n      <td>0.09</td>\n      <td>7.5</td>\n      <td>9.5</td>\n      <td>65.0</td>\n      <td>3</td>\n      <td>2021-W1</td>\n      <td>2021-01-04</td>\n    </tr>\n    <tr>\n      <th>263</th>\n      <td>Satine</td>\n      <td>RGB_4.png</td>\n      <td>Depth_4.png</td>\n      <td>2.7</td>\n      <td>0.13</td>\n      <td>6.0</td>\n      <td>10.6</td>\n      <td>78.7</td>\n      <td>4</td>\n      <td>2021-W1</td>\n      <td>2021-01-04</td>\n    </tr>\n    <tr>\n      <th>224</th>\n      <td>Lugano</td>\n      <td>RGB_5.png</td>\n      <td>Depth_5.png</td>\n      <td>2.3</td>\n      <td>0.11</td>\n      <td>8.3</td>\n      <td>9.8</td>\n      <td>73.9</td>\n      <td>5</td>\n      <td>2021-W1</td>\n      <td>2021-01-04</td>\n    </tr>\n  </tbody>\n</table>\n</div>"
     },
     "execution_count": 56,
     "metadata": {},
     "output_type": "execute_result"
    }
   ],
   "source": [
    "df = pd.read_csv(\"../measurements\")\n",
    "\n",
    "df.head()"
   ],
   "metadata": {
    "collapsed": false,
    "pycharm": {
     "name": "#%%\n"
    }
   }
  },
  {
   "cell_type": "code",
   "execution_count": 57,
   "outputs": [
    {
     "data": {
      "text/plain": "    Variety  RGB_Image Depth_Information  FreshWeightShoot  DryWeightShoot  \\\n229  Satine  RGB_1.png       Depth_1.png               2.6            0.14   \n362  Satine  RGB_2.png       Depth_2.png               2.1            0.10   \n258  Satine  RGB_3.png       Depth_3.png               2.0            0.09   \n263  Satine  RGB_4.png       Depth_4.png               2.7            0.13   \n224  Lugano  RGB_5.png       Depth_5.png               2.3            0.11   \n\n     Height  Diameter  LeafArea  ID     Week        Date  WeekNum  \n229     8.2      12.0      80.6   1  2021-W1  2021-01-04        1  \n362     8.5       8.2      67.4   2  2021-W1  2021-01-04        1  \n258     7.5       9.5      65.0   3  2021-W1  2021-01-04        1  \n263     6.0      10.6      78.7   4  2021-W1  2021-01-04        1  \n224     8.3       9.8      73.9   5  2021-W1  2021-01-04        1  ",
      "text/html": "<div>\n<style scoped>\n    .dataframe tbody tr th:only-of-type {\n        vertical-align: middle;\n    }\n\n    .dataframe tbody tr th {\n        vertical-align: top;\n    }\n\n    .dataframe thead th {\n        text-align: right;\n    }\n</style>\n<table border=\"1\" class=\"dataframe\">\n  <thead>\n    <tr style=\"text-align: right;\">\n      <th></th>\n      <th>Variety</th>\n      <th>RGB_Image</th>\n      <th>Depth_Information</th>\n      <th>FreshWeightShoot</th>\n      <th>DryWeightShoot</th>\n      <th>Height</th>\n      <th>Diameter</th>\n      <th>LeafArea</th>\n      <th>ID</th>\n      <th>Week</th>\n      <th>Date</th>\n      <th>WeekNum</th>\n    </tr>\n  </thead>\n  <tbody>\n    <tr>\n      <th>229</th>\n      <td>Satine</td>\n      <td>RGB_1.png</td>\n      <td>Depth_1.png</td>\n      <td>2.6</td>\n      <td>0.14</td>\n      <td>8.2</td>\n      <td>12.0</td>\n      <td>80.6</td>\n      <td>1</td>\n      <td>2021-W1</td>\n      <td>2021-01-04</td>\n      <td>1</td>\n    </tr>\n    <tr>\n      <th>362</th>\n      <td>Satine</td>\n      <td>RGB_2.png</td>\n      <td>Depth_2.png</td>\n      <td>2.1</td>\n      <td>0.10</td>\n      <td>8.5</td>\n      <td>8.2</td>\n      <td>67.4</td>\n      <td>2</td>\n      <td>2021-W1</td>\n      <td>2021-01-04</td>\n      <td>1</td>\n    </tr>\n    <tr>\n      <th>258</th>\n      <td>Satine</td>\n      <td>RGB_3.png</td>\n      <td>Depth_3.png</td>\n      <td>2.0</td>\n      <td>0.09</td>\n      <td>7.5</td>\n      <td>9.5</td>\n      <td>65.0</td>\n      <td>3</td>\n      <td>2021-W1</td>\n      <td>2021-01-04</td>\n      <td>1</td>\n    </tr>\n    <tr>\n      <th>263</th>\n      <td>Satine</td>\n      <td>RGB_4.png</td>\n      <td>Depth_4.png</td>\n      <td>2.7</td>\n      <td>0.13</td>\n      <td>6.0</td>\n      <td>10.6</td>\n      <td>78.7</td>\n      <td>4</td>\n      <td>2021-W1</td>\n      <td>2021-01-04</td>\n      <td>1</td>\n    </tr>\n    <tr>\n      <th>224</th>\n      <td>Lugano</td>\n      <td>RGB_5.png</td>\n      <td>Depth_5.png</td>\n      <td>2.3</td>\n      <td>0.11</td>\n      <td>8.3</td>\n      <td>9.8</td>\n      <td>73.9</td>\n      <td>5</td>\n      <td>2021-W1</td>\n      <td>2021-01-04</td>\n      <td>1</td>\n    </tr>\n  </tbody>\n</table>\n</div>"
     },
     "execution_count": 57,
     "metadata": {},
     "output_type": "execute_result"
    }
   ],
   "source": [
    "def add_week_callback(item):\n",
    "    str = item.Week\n",
    "    str_new = str[-1]\n",
    "    return int(str_new)\n",
    "\n",
    "df[\"WeekNum\"] = df.apply(func=add_week_callback, axis=1)\n",
    "\n",
    "df.head()"
   ],
   "metadata": {
    "collapsed": false,
    "pycharm": {
     "name": "#%%\n"
    }
   }
  },
  {
   "cell_type": "code",
   "execution_count": 58,
   "outputs": [],
   "source": [
    "def prepare_data(target, ):\n",
    "    x, Y = df[\"WeekNum\"], df[target]\n",
    "    xtrain, xtest, ytrain, ytest=train_test_split(x, Y, random_state=12, test_size=0.20)\n",
    "    return xtrain, xtest, ytrain, ytest\n",
    "\n",
    "xtrain, xtest, ytrain, ytest = prepare_data(\"FreshWeightShoot\")"
   ],
   "metadata": {
    "collapsed": false,
    "pycharm": {
     "name": "#%%\n"
    }
   }
  },
  {
   "cell_type": "code",
   "execution_count": 59,
   "outputs": [],
   "source": [
    "def create_gradient_boosting_regressor():\n",
    "    return GradientBoostingRegressor(n_estimators=600,\n",
    "                                max_depth=5,\n",
    "                                learning_rate=0.01,\n",
    "                                min_samples_split=3)"
   ],
   "metadata": {
    "collapsed": false,
    "pycharm": {
     "name": "#%%\n"
    }
   }
  },
  {
   "cell_type": "code",
   "execution_count": 60,
   "outputs": [],
   "source": [
    "def fit_gradient_model(gbr:GradientBoostingRegressor, xtrain,ytrain):\n",
    "    gbr.fit(xtrain, ytrain)\n"
   ],
   "metadata": {
    "collapsed": false,
    "pycharm": {
     "name": "#%%\n"
    }
   }
  },
  {
   "cell_type": "markdown",
   "source": [],
   "metadata": {
    "collapsed": false,
    "pycharm": {
     "name": "#%% md\n"
    }
   }
  },
  {
   "cell_type": "code",
   "execution_count": 63,
   "outputs": [],
   "source": [
    "def prepare_model(xtrain, xtest, ytrain, ytest):\n",
    "    model = create_gradient_boosting_regressor()\n",
    "    fit_gradient_model(model, xtrain, ytrain )\n",
    "    return model"
   ],
   "metadata": {
    "collapsed": false,
    "pycharm": {
     "name": "#%%\n"
    }
   }
  },
  {
   "cell_type": "code",
   "execution_count": 67,
   "outputs": [],
   "source": [
    "def evaluate_model(gbr:GradientBoostingRegressor, xtest, ytest):\n",
    "    ypred = gbr.predict(xtest)\n",
    "    rmse = mean_squared_error(ytest,ypred)"
   ],
   "metadata": {
    "collapsed": false,
    "pycharm": {
     "name": "#%%\n"
    }
   }
  },
  {
   "cell_type": "code",
   "execution_count": 71,
   "outputs": [
    {
     "data": {
      "text/plain": "array([279.4,   5.3, 208.8,  45.6, 318.4, 372.6,  18.8, 300. , 180.6,\n        79.8, 198.5, 145.4,  25.8,  95.8,   5.2,  55.2,   2.8,  17. ,\n       336. ,  23.2, 292.4, 167.1, 425.6, 180.4, 279.4,  91. , 186.2,\n        26.3,   9.8, 167.7, 395.9,   7.1, 406. , 196.2,  96. , 196.3,\n        31. ,   2.5,  20.8, 165.6,   8.4, 229.2, 163. , 216.6,   2.2,\n        69.8,   3.5, 172.7,  25. ,   4.7, 285.8,   2.7, 206. , 318.4,\n       175. , 104. , 182.9,  74.3, 347.6,  48.8,   6.8,  23.2,  23.2,\n         3. , 213.5, 179.9, 459.7, 311. ,  16.4,   5.5,   7.3,   6. ,\n         6.1,  56. ,   4.2,  33.1, 145.3, 405.7,  54.6,  31.9, 226.4,\n        22.6, 137.2, 187.4,  30.4,   9.1,   7.4,   6.1,  87. ,   7.3,\n       180.9, 272.6, 218.5, 128.7, 308.3, 320.1,  60.4,  23. ,  62.3,\n       143. ,  95. , 274.1,   3.8,  73.5,  90. ,   2.3, 125.1,   6. ,\n       147.4,  75.9, 216.6,  88. ,  19.1,  64. , 178. , 112. ,   2. ,\n        62.7,  55. , 139. ,  70.1,   2.4,  68.5,   4.8,   5. ,  30.6,\n        49.6, 223.2, 337.1,  60.1,  72.2, 193.4,  82. ,  27.3,   4.8,\n         4.5,   6.6,  85.5, 161.3,  71. , 251.9,   6. ,  73.2, 436.8,\n         3.3, 125. ,  93. ,  28.6, 164.3,  87.4,  63.2, 241.9,   6. ,\n       117.4, 179.9,   2.5, 263.2,  36. ,   4.6,   5.5, 259.4,  21.1,\n         5.5,  44.9,   4.5,  22.3,   3.8,  78. ,  64. , 197.7, 133.2,\n       229.6,   4.2,  27.9, 184.2, 162.9,   3.1, 253.9,  88.1,  57.6,\n        26.7,  16. ,  18.6, 149. , 113. , 119.9, 335.8,  97. , 282.8,\n       268.9,  74. ,  14.5,  27.8,  67. , 107. , 414.2,  70. , 206.8,\n       315.8,  85.1,  17.9, 186.3,  39.8,  60. ,  29.9,  32.1,   4.5,\n        10.4,  20.4,  94. , 127. , 173.6,   2. ,   7.4, 204.5, 130.4,\n         1.4,  60.3,  10.3,  66. ,  28.3,  40.1,   4. ,  74. ,  33.5,\n        99.7,  24.9, 159.3, 232.5, 150.7,  19.4,  32.3,  22.8,  20.4,\n       313.1,  23.2, 118.3, 172. , 352.5, 325.1,  70. , 142. ,  37. ,\n         7.8,  93. , 118. ,  34. ,  63. ,  17.9,   3.9,   6.2,  47.1,\n       163.2, 228.4, 240.1,  78. ,  53.9,   3.3,  78.1,  24.5, 286.4,\n       444.7,  39.1, 235.6, 224.1, 135. , 392. ,   4.6, 121. , 207.7,\n       106. , 125.8,   4.7, 273.4, 314. ,  61.6,   8.3,  38.2,  50.4,\n       240. ,  83.5,  30.6,  22.9,  23. ,  66.9,  85. ,  85.6, 247.1,\n        17.1,  55. ,  24.9, 221.5,  28.9,  17.9, 229.8, 161. ,  34. ,\n       134.7,  28.8,  27.5,  60.9,   6.7, 182.1, 213.8, 128.3,  31.2,\n       242.1, 155.5,  47.2, 268.4])"
     },
     "execution_count": 71,
     "metadata": {},
     "output_type": "execute_result"
    }
   ],
   "source": [
    "\n",
    "xtrain.to_numpy()\n",
    "xtest.to_numpy()\n",
    "ytest.to_numpy()\n",
    "ytrain.to_numpy()\n"
   ],
   "metadata": {
    "collapsed": false,
    "pycharm": {
     "name": "#%%\n"
    }
   }
  },
  {
   "cell_type": "code",
   "execution_count": 72,
   "outputs": [
    {
     "ename": "ValueError",
     "evalue": "Expected 2D array, got 1D array instead:\narray=[6. 2. 5. 3. 6. 6. 2. 6. 7. 3. 6. 5. 3. 6. 1. 3. 1. 2. 6. 2. 6. 7. 6. 6.\n 7. 5. 7. 2. 1. 6. 6. 1. 6. 7. 4. 5. 2. 1. 2. 6. 1. 6. 4. 7. 1. 3. 1. 7.\n 3. 1. 6. 1. 7. 6. 5. 5. 5. 3. 6. 4. 1. 2. 2. 1. 7. 6. 6. 6. 2. 1. 1. 2.\n 1. 3. 1. 2. 7. 6. 3. 4. 6. 2. 6. 6. 2. 1. 1. 1. 6. 2. 6. 6. 6. 5. 7. 6.\n 3. 3. 3. 6. 5. 6. 1. 3. 4. 1. 6. 2. 6. 3. 6. 4. 2. 5. 4. 4. 1. 3. 4. 7.\n 3. 1. 4. 1. 2. 3. 4. 5. 6. 3. 3. 6. 5. 2. 2. 1. 1. 3. 7. 5. 7. 1. 3. 6.\n 1. 4. 5. 3. 5. 3. 3. 6. 2. 6. 5. 1. 5. 2. 1. 1. 6. 3. 1. 3. 1. 3. 1. 4.\n 4. 6. 5. 7. 1. 2. 6. 5. 1. 7. 3. 3. 2. 2. 2. 4. 4. 6. 6. 4. 6. 6. 4. 2.\n 2. 4. 4. 6. 5. 6. 6. 3. 2. 7. 3. 4. 2. 3. 1. 1. 3. 3. 4. 5. 1. 1. 7. 7.\n 1. 3. 2. 5. 2. 4. 2. 4. 3. 3. 2. 5. 6. 7. 2. 2. 2. 3. 6. 3. 6. 6. 6. 6.\n 4. 4. 2. 1. 5. 4. 4. 4. 2. 2. 2. 3. 7. 7. 6. 4. 3. 2. 3. 2. 6. 6. 4. 6.\n 5. 4. 6. 2. 5. 6. 4. 5. 1. 6. 6. 4. 1. 2. 3. 5. 3. 2. 2. 3. 3. 4. 3. 6.\n 3. 3. 2. 6. 2. 2. 5. 4. 2. 7. 2. 3. 3. 1. 6. 6. 5. 3. 5. 5. 3. 6.].\nReshape your data either using array.reshape(-1, 1) if your data has a single feature or array.reshape(1, -1) if it contains a single sample.",
     "output_type": "error",
     "traceback": [
      "\u001B[1;31m---------------------------------------------------------------------------\u001B[0m",
      "\u001B[1;31mValueError\u001B[0m                                Traceback (most recent call last)",
      "Cell \u001B[1;32mIn[72], line 1\u001B[0m\n\u001B[1;32m----> 1\u001B[0m model \u001B[38;5;241m=\u001B[39m \u001B[43mprepare_model\u001B[49m\u001B[43m(\u001B[49m\u001B[43mxtrain\u001B[49m\u001B[43m,\u001B[49m\u001B[43mxtest\u001B[49m\u001B[43m,\u001B[49m\u001B[43mytrain\u001B[49m\u001B[43m,\u001B[49m\u001B[43mytest\u001B[49m\u001B[43m)\u001B[49m\n",
      "Cell \u001B[1;32mIn[63], line 3\u001B[0m, in \u001B[0;36mprepare_model\u001B[1;34m(xtrain, xtest, ytrain, ytest)\u001B[0m\n\u001B[0;32m      1\u001B[0m \u001B[38;5;28;01mdef\u001B[39;00m \u001B[38;5;21mprepare_model\u001B[39m(xtrain, xtest, ytrain, ytest):\n\u001B[0;32m      2\u001B[0m     model \u001B[38;5;241m=\u001B[39m create_gradient_boosting_regressor()\n\u001B[1;32m----> 3\u001B[0m     \u001B[43mfit_gradient_model\u001B[49m\u001B[43m(\u001B[49m\u001B[43mmodel\u001B[49m\u001B[43m,\u001B[49m\u001B[43m \u001B[49m\u001B[43mxtrain\u001B[49m\u001B[43m,\u001B[49m\u001B[43m \u001B[49m\u001B[43mytrain\u001B[49m\u001B[43m \u001B[49m\u001B[43m)\u001B[49m\n\u001B[0;32m      4\u001B[0m     \u001B[38;5;28;01mreturn\u001B[39;00m model\n",
      "Cell \u001B[1;32mIn[60], line 2\u001B[0m, in \u001B[0;36mfit_gradient_model\u001B[1;34m(gbr, xtrain, ytrain)\u001B[0m\n\u001B[0;32m      1\u001B[0m \u001B[38;5;28;01mdef\u001B[39;00m \u001B[38;5;21mfit_gradient_model\u001B[39m(gbr:GradientBoostingRegressor, xtrain,ytrain):\n\u001B[1;32m----> 2\u001B[0m     \u001B[43mgbr\u001B[49m\u001B[38;5;241;43m.\u001B[39;49m\u001B[43mfit\u001B[49m\u001B[43m(\u001B[49m\u001B[43mxtrain\u001B[49m\u001B[43m,\u001B[49m\u001B[43m \u001B[49m\u001B[43mytrain\u001B[49m\u001B[43m)\u001B[49m\n",
      "File \u001B[1;32mC:\\school\\minor-ai\\lettuce-cnn\\lib\\site-packages\\sklearn\\ensemble\\_gb.py:562\u001B[0m, in \u001B[0;36mBaseGradientBoosting.fit\u001B[1;34m(self, X, y, sample_weight, monitor)\u001B[0m\n\u001B[0;32m    556\u001B[0m     \u001B[38;5;28mself\u001B[39m\u001B[38;5;241m.\u001B[39m_clear_state()\n\u001B[0;32m    558\u001B[0m \u001B[38;5;66;03m# Check input\u001B[39;00m\n\u001B[0;32m    559\u001B[0m \u001B[38;5;66;03m# Since check_array converts both X and y to the same dtype, but the\u001B[39;00m\n\u001B[0;32m    560\u001B[0m \u001B[38;5;66;03m# trees use different types for X and y, checking them separately.\u001B[39;00m\n\u001B[1;32m--> 562\u001B[0m X, y \u001B[38;5;241m=\u001B[39m \u001B[38;5;28;43mself\u001B[39;49m\u001B[38;5;241;43m.\u001B[39;49m\u001B[43m_validate_data\u001B[49m\u001B[43m(\u001B[49m\n\u001B[0;32m    563\u001B[0m \u001B[43m    \u001B[49m\u001B[43mX\u001B[49m\u001B[43m,\u001B[49m\u001B[43m \u001B[49m\u001B[43my\u001B[49m\u001B[43m,\u001B[49m\u001B[43m \u001B[49m\u001B[43maccept_sparse\u001B[49m\u001B[38;5;241;43m=\u001B[39;49m\u001B[43m[\u001B[49m\u001B[38;5;124;43m\"\u001B[39;49m\u001B[38;5;124;43mcsr\u001B[39;49m\u001B[38;5;124;43m\"\u001B[39;49m\u001B[43m,\u001B[49m\u001B[43m \u001B[49m\u001B[38;5;124;43m\"\u001B[39;49m\u001B[38;5;124;43mcsc\u001B[39;49m\u001B[38;5;124;43m\"\u001B[39;49m\u001B[43m,\u001B[49m\u001B[43m \u001B[49m\u001B[38;5;124;43m\"\u001B[39;49m\u001B[38;5;124;43mcoo\u001B[39;49m\u001B[38;5;124;43m\"\u001B[39;49m\u001B[43m]\u001B[49m\u001B[43m,\u001B[49m\u001B[43m \u001B[49m\u001B[43mdtype\u001B[49m\u001B[38;5;241;43m=\u001B[39;49m\u001B[43mDTYPE\u001B[49m\u001B[43m,\u001B[49m\u001B[43m \u001B[49m\u001B[43mmulti_output\u001B[49m\u001B[38;5;241;43m=\u001B[39;49m\u001B[38;5;28;43;01mTrue\u001B[39;49;00m\n\u001B[0;32m    564\u001B[0m \u001B[43m\u001B[49m\u001B[43m)\u001B[49m\n\u001B[0;32m    566\u001B[0m sample_weight_is_none \u001B[38;5;241m=\u001B[39m sample_weight \u001B[38;5;129;01mis\u001B[39;00m \u001B[38;5;28;01mNone\u001B[39;00m\n\u001B[0;32m    568\u001B[0m sample_weight \u001B[38;5;241m=\u001B[39m _check_sample_weight(sample_weight, X)\n",
      "File \u001B[1;32mC:\\school\\minor-ai\\lettuce-cnn\\lib\\site-packages\\sklearn\\base.py:596\u001B[0m, in \u001B[0;36mBaseEstimator._validate_data\u001B[1;34m(self, X, y, reset, validate_separately, **check_params)\u001B[0m\n\u001B[0;32m    594\u001B[0m         y \u001B[38;5;241m=\u001B[39m check_array(y, input_name\u001B[38;5;241m=\u001B[39m\u001B[38;5;124m\"\u001B[39m\u001B[38;5;124my\u001B[39m\u001B[38;5;124m\"\u001B[39m, \u001B[38;5;241m*\u001B[39m\u001B[38;5;241m*\u001B[39mcheck_y_params)\n\u001B[0;32m    595\u001B[0m     \u001B[38;5;28;01melse\u001B[39;00m:\n\u001B[1;32m--> 596\u001B[0m         X, y \u001B[38;5;241m=\u001B[39m check_X_y(X, y, \u001B[38;5;241m*\u001B[39m\u001B[38;5;241m*\u001B[39mcheck_params)\n\u001B[0;32m    597\u001B[0m     out \u001B[38;5;241m=\u001B[39m X, y\n\u001B[0;32m    599\u001B[0m \u001B[38;5;28;01mif\u001B[39;00m \u001B[38;5;129;01mnot\u001B[39;00m no_val_X \u001B[38;5;129;01mand\u001B[39;00m check_params\u001B[38;5;241m.\u001B[39mget(\u001B[38;5;124m\"\u001B[39m\u001B[38;5;124mensure_2d\u001B[39m\u001B[38;5;124m\"\u001B[39m, \u001B[38;5;28;01mTrue\u001B[39;00m):\n",
      "File \u001B[1;32mC:\\school\\minor-ai\\lettuce-cnn\\lib\\site-packages\\sklearn\\utils\\validation.py:1074\u001B[0m, in \u001B[0;36mcheck_X_y\u001B[1;34m(X, y, accept_sparse, accept_large_sparse, dtype, order, copy, force_all_finite, ensure_2d, allow_nd, multi_output, ensure_min_samples, ensure_min_features, y_numeric, estimator)\u001B[0m\n\u001B[0;32m   1069\u001B[0m         estimator_name \u001B[38;5;241m=\u001B[39m _check_estimator_name(estimator)\n\u001B[0;32m   1070\u001B[0m     \u001B[38;5;28;01mraise\u001B[39;00m \u001B[38;5;167;01mValueError\u001B[39;00m(\n\u001B[0;32m   1071\u001B[0m         \u001B[38;5;124mf\u001B[39m\u001B[38;5;124m\"\u001B[39m\u001B[38;5;132;01m{\u001B[39;00mestimator_name\u001B[38;5;132;01m}\u001B[39;00m\u001B[38;5;124m requires y to be passed, but the target y is None\u001B[39m\u001B[38;5;124m\"\u001B[39m\n\u001B[0;32m   1072\u001B[0m     )\n\u001B[1;32m-> 1074\u001B[0m X \u001B[38;5;241m=\u001B[39m \u001B[43mcheck_array\u001B[49m\u001B[43m(\u001B[49m\n\u001B[0;32m   1075\u001B[0m \u001B[43m    \u001B[49m\u001B[43mX\u001B[49m\u001B[43m,\u001B[49m\n\u001B[0;32m   1076\u001B[0m \u001B[43m    \u001B[49m\u001B[43maccept_sparse\u001B[49m\u001B[38;5;241;43m=\u001B[39;49m\u001B[43maccept_sparse\u001B[49m\u001B[43m,\u001B[49m\n\u001B[0;32m   1077\u001B[0m \u001B[43m    \u001B[49m\u001B[43maccept_large_sparse\u001B[49m\u001B[38;5;241;43m=\u001B[39;49m\u001B[43maccept_large_sparse\u001B[49m\u001B[43m,\u001B[49m\n\u001B[0;32m   1078\u001B[0m \u001B[43m    \u001B[49m\u001B[43mdtype\u001B[49m\u001B[38;5;241;43m=\u001B[39;49m\u001B[43mdtype\u001B[49m\u001B[43m,\u001B[49m\n\u001B[0;32m   1079\u001B[0m \u001B[43m    \u001B[49m\u001B[43morder\u001B[49m\u001B[38;5;241;43m=\u001B[39;49m\u001B[43morder\u001B[49m\u001B[43m,\u001B[49m\n\u001B[0;32m   1080\u001B[0m \u001B[43m    \u001B[49m\u001B[43mcopy\u001B[49m\u001B[38;5;241;43m=\u001B[39;49m\u001B[43mcopy\u001B[49m\u001B[43m,\u001B[49m\n\u001B[0;32m   1081\u001B[0m \u001B[43m    \u001B[49m\u001B[43mforce_all_finite\u001B[49m\u001B[38;5;241;43m=\u001B[39;49m\u001B[43mforce_all_finite\u001B[49m\u001B[43m,\u001B[49m\n\u001B[0;32m   1082\u001B[0m \u001B[43m    \u001B[49m\u001B[43mensure_2d\u001B[49m\u001B[38;5;241;43m=\u001B[39;49m\u001B[43mensure_2d\u001B[49m\u001B[43m,\u001B[49m\n\u001B[0;32m   1083\u001B[0m \u001B[43m    \u001B[49m\u001B[43mallow_nd\u001B[49m\u001B[38;5;241;43m=\u001B[39;49m\u001B[43mallow_nd\u001B[49m\u001B[43m,\u001B[49m\n\u001B[0;32m   1084\u001B[0m \u001B[43m    \u001B[49m\u001B[43mensure_min_samples\u001B[49m\u001B[38;5;241;43m=\u001B[39;49m\u001B[43mensure_min_samples\u001B[49m\u001B[43m,\u001B[49m\n\u001B[0;32m   1085\u001B[0m \u001B[43m    \u001B[49m\u001B[43mensure_min_features\u001B[49m\u001B[38;5;241;43m=\u001B[39;49m\u001B[43mensure_min_features\u001B[49m\u001B[43m,\u001B[49m\n\u001B[0;32m   1086\u001B[0m \u001B[43m    \u001B[49m\u001B[43mestimator\u001B[49m\u001B[38;5;241;43m=\u001B[39;49m\u001B[43mestimator\u001B[49m\u001B[43m,\u001B[49m\n\u001B[0;32m   1087\u001B[0m \u001B[43m    \u001B[49m\u001B[43minput_name\u001B[49m\u001B[38;5;241;43m=\u001B[39;49m\u001B[38;5;124;43m\"\u001B[39;49m\u001B[38;5;124;43mX\u001B[39;49m\u001B[38;5;124;43m\"\u001B[39;49m\u001B[43m,\u001B[49m\n\u001B[0;32m   1088\u001B[0m \u001B[43m\u001B[49m\u001B[43m)\u001B[49m\n\u001B[0;32m   1090\u001B[0m y \u001B[38;5;241m=\u001B[39m _check_y(y, multi_output\u001B[38;5;241m=\u001B[39mmulti_output, y_numeric\u001B[38;5;241m=\u001B[39my_numeric, estimator\u001B[38;5;241m=\u001B[39mestimator)\n\u001B[0;32m   1092\u001B[0m check_consistent_length(X, y)\n",
      "File \u001B[1;32mC:\\school\\minor-ai\\lettuce-cnn\\lib\\site-packages\\sklearn\\utils\\validation.py:879\u001B[0m, in \u001B[0;36mcheck_array\u001B[1;34m(array, accept_sparse, accept_large_sparse, dtype, order, copy, force_all_finite, ensure_2d, allow_nd, ensure_min_samples, ensure_min_features, estimator, input_name)\u001B[0m\n\u001B[0;32m    877\u001B[0m     \u001B[38;5;66;03m# If input is 1D raise error\u001B[39;00m\n\u001B[0;32m    878\u001B[0m     \u001B[38;5;28;01mif\u001B[39;00m array\u001B[38;5;241m.\u001B[39mndim \u001B[38;5;241m==\u001B[39m \u001B[38;5;241m1\u001B[39m:\n\u001B[1;32m--> 879\u001B[0m         \u001B[38;5;28;01mraise\u001B[39;00m \u001B[38;5;167;01mValueError\u001B[39;00m(\n\u001B[0;32m    880\u001B[0m             \u001B[38;5;124m\"\u001B[39m\u001B[38;5;124mExpected 2D array, got 1D array instead:\u001B[39m\u001B[38;5;130;01m\\n\u001B[39;00m\u001B[38;5;124marray=\u001B[39m\u001B[38;5;132;01m{}\u001B[39;00m\u001B[38;5;124m.\u001B[39m\u001B[38;5;130;01m\\n\u001B[39;00m\u001B[38;5;124m\"\u001B[39m\n\u001B[0;32m    881\u001B[0m             \u001B[38;5;124m\"\u001B[39m\u001B[38;5;124mReshape your data either using array.reshape(-1, 1) if \u001B[39m\u001B[38;5;124m\"\u001B[39m\n\u001B[0;32m    882\u001B[0m             \u001B[38;5;124m\"\u001B[39m\u001B[38;5;124myour data has a single feature or array.reshape(1, -1) \u001B[39m\u001B[38;5;124m\"\u001B[39m\n\u001B[0;32m    883\u001B[0m             \u001B[38;5;124m\"\u001B[39m\u001B[38;5;124mif it contains a single sample.\u001B[39m\u001B[38;5;124m\"\u001B[39m\u001B[38;5;241m.\u001B[39mformat(array)\n\u001B[0;32m    884\u001B[0m         )\n\u001B[0;32m    886\u001B[0m \u001B[38;5;28;01mif\u001B[39;00m dtype_numeric \u001B[38;5;129;01mand\u001B[39;00m array\u001B[38;5;241m.\u001B[39mdtype\u001B[38;5;241m.\u001B[39mkind \u001B[38;5;129;01min\u001B[39;00m \u001B[38;5;124m\"\u001B[39m\u001B[38;5;124mUSV\u001B[39m\u001B[38;5;124m\"\u001B[39m:\n\u001B[0;32m    887\u001B[0m     \u001B[38;5;28;01mraise\u001B[39;00m \u001B[38;5;167;01mValueError\u001B[39;00m(\n\u001B[0;32m    888\u001B[0m         \u001B[38;5;124m\"\u001B[39m\u001B[38;5;124mdtype=\u001B[39m\u001B[38;5;124m'\u001B[39m\u001B[38;5;124mnumeric\u001B[39m\u001B[38;5;124m'\u001B[39m\u001B[38;5;124m is not compatible with arrays of bytes/strings.\u001B[39m\u001B[38;5;124m\"\u001B[39m\n\u001B[0;32m    889\u001B[0m         \u001B[38;5;124m\"\u001B[39m\u001B[38;5;124mConvert your data to numeric values explicitly instead.\u001B[39m\u001B[38;5;124m\"\u001B[39m\n\u001B[0;32m    890\u001B[0m     )\n",
      "\u001B[1;31mValueError\u001B[0m: Expected 2D array, got 1D array instead:\narray=[6. 2. 5. 3. 6. 6. 2. 6. 7. 3. 6. 5. 3. 6. 1. 3. 1. 2. 6. 2. 6. 7. 6. 6.\n 7. 5. 7. 2. 1. 6. 6. 1. 6. 7. 4. 5. 2. 1. 2. 6. 1. 6. 4. 7. 1. 3. 1. 7.\n 3. 1. 6. 1. 7. 6. 5. 5. 5. 3. 6. 4. 1. 2. 2. 1. 7. 6. 6. 6. 2. 1. 1. 2.\n 1. 3. 1. 2. 7. 6. 3. 4. 6. 2. 6. 6. 2. 1. 1. 1. 6. 2. 6. 6. 6. 5. 7. 6.\n 3. 3. 3. 6. 5. 6. 1. 3. 4. 1. 6. 2. 6. 3. 6. 4. 2. 5. 4. 4. 1. 3. 4. 7.\n 3. 1. 4. 1. 2. 3. 4. 5. 6. 3. 3. 6. 5. 2. 2. 1. 1. 3. 7. 5. 7. 1. 3. 6.\n 1. 4. 5. 3. 5. 3. 3. 6. 2. 6. 5. 1. 5. 2. 1. 1. 6. 3. 1. 3. 1. 3. 1. 4.\n 4. 6. 5. 7. 1. 2. 6. 5. 1. 7. 3. 3. 2. 2. 2. 4. 4. 6. 6. 4. 6. 6. 4. 2.\n 2. 4. 4. 6. 5. 6. 6. 3. 2. 7. 3. 4. 2. 3. 1. 1. 3. 3. 4. 5. 1. 1. 7. 7.\n 1. 3. 2. 5. 2. 4. 2. 4. 3. 3. 2. 5. 6. 7. 2. 2. 2. 3. 6. 3. 6. 6. 6. 6.\n 4. 4. 2. 1. 5. 4. 4. 4. 2. 2. 2. 3. 7. 7. 6. 4. 3. 2. 3. 2. 6. 6. 4. 6.\n 5. 4. 6. 2. 5. 6. 4. 5. 1. 6. 6. 4. 1. 2. 3. 5. 3. 2. 2. 3. 3. 4. 3. 6.\n 3. 3. 2. 6. 2. 2. 5. 4. 2. 7. 2. 3. 3. 1. 6. 6. 5. 3. 5. 5. 3. 6.].\nReshape your data either using array.reshape(-1, 1) if your data has a single feature or array.reshape(1, -1) if it contains a single sample."
     ]
    }
   ],
   "source": [
    "model = prepare_model(xtrain,xtest,ytrain,ytest)\n"
   ],
   "metadata": {
    "collapsed": false,
    "pycharm": {
     "name": "#%%\n"
    }
   }
  },
  {
   "cell_type": "code",
   "execution_count": null,
   "outputs": [],
   "source": [
    "x_ax = range(len(ytest))\n",
    "plt.scatter(x_ax, ytest, s=5, color=\"blue\", label=\"original\")\n",
    "plt.plot(x_ax, ypred, lw=0.8, color=\"red\", label=\"predicted\")\n",
    "plt.legend()\n",
    "plt.show()"
   ],
   "metadata": {
    "collapsed": false,
    "pycharm": {
     "name": "#%%\n"
    }
   }
  }
 ],
 "metadata": {
  "kernelspec": {
   "display_name": "Python 3",
   "language": "python",
   "name": "python3"
  },
  "language_info": {
   "codemirror_mode": {
    "name": "ipython",
    "version": 2
   },
   "file_extension": ".py",
   "mimetype": "text/x-python",
   "name": "python",
   "nbconvert_exporter": "python",
   "pygments_lexer": "ipython2",
   "version": "2.7.6"
  }
 },
 "nbformat": 4,
 "nbformat_minor": 0
}