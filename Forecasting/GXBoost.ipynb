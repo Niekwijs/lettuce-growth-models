{
 "cells": [
  {
   "cell_type": "code",
   "execution_count": 43,
   "metadata": {
    "collapsed": true,
    "pycharm": {
     "name": "#%%\n"
    }
   },
   "outputs": [],
   "source": [
    "import pandas as pd\n",
    "import numpy as np\n",
    "import datetime\n",
    "\n",
    "# plot imports\n",
    "import seaborn as sns\n",
    "import matplotlib.pyplot as plt\n",
    "\n",
    "from sklearn.preprocessing import OneHotEncoder\n",
    "from sklearn.preprocessing import StandardScaler\n",
    "from sklearn.compose import ColumnTransformer\n",
    "\n",
    "from skforecast.ForecasterAutoreg import ForecasterAutoreg\n",
    "from skforecast.ForecasterAutoregMultiOutput import ForecasterAutoregMultiOutput\n",
    "from skforecast.model_selection import grid_search_forecaster\n",
    "from skforecast.model_selection import backtesting_forecaster\n",
    "\n",
    "\n",
    "# moddeling and forecasting\n",
    "from xgboost import XGBRegressor\n"
   ]
  },
  {
   "cell_type": "code",
   "execution_count": 44,
   "outputs": [
    {
     "data": {
      "text/plain": "    Variety  RGB_Image Depth_Information  FreshWeightShoot  DryWeightShoot  \\\n229  Satine  RGB_1.png       Depth_1.png               2.6            0.14   \n362  Satine  RGB_2.png       Depth_2.png               2.1            0.10   \n258  Satine  RGB_3.png       Depth_3.png               2.0            0.09   \n263  Satine  RGB_4.png       Depth_4.png               2.7            0.13   \n224  Lugano  RGB_5.png       Depth_5.png               2.3            0.11   \n\n     Height  Diameter  LeafArea  ID     Week        Date  \n229     8.2      12.0      80.6   1  2021-W1  2021-01-04  \n362     8.5       8.2      67.4   2  2021-W1  2021-01-04  \n258     7.5       9.5      65.0   3  2021-W1  2021-01-04  \n263     6.0      10.6      78.7   4  2021-W1  2021-01-04  \n224     8.3       9.8      73.9   5  2021-W1  2021-01-04  ",
      "text/html": "<div>\n<style scoped>\n    .dataframe tbody tr th:only-of-type {\n        vertical-align: middle;\n    }\n\n    .dataframe tbody tr th {\n        vertical-align: top;\n    }\n\n    .dataframe thead th {\n        text-align: right;\n    }\n</style>\n<table border=\"1\" class=\"dataframe\">\n  <thead>\n    <tr style=\"text-align: right;\">\n      <th></th>\n      <th>Variety</th>\n      <th>RGB_Image</th>\n      <th>Depth_Information</th>\n      <th>FreshWeightShoot</th>\n      <th>DryWeightShoot</th>\n      <th>Height</th>\n      <th>Diameter</th>\n      <th>LeafArea</th>\n      <th>ID</th>\n      <th>Week</th>\n      <th>Date</th>\n    </tr>\n  </thead>\n  <tbody>\n    <tr>\n      <th>229</th>\n      <td>Satine</td>\n      <td>RGB_1.png</td>\n      <td>Depth_1.png</td>\n      <td>2.6</td>\n      <td>0.14</td>\n      <td>8.2</td>\n      <td>12.0</td>\n      <td>80.6</td>\n      <td>1</td>\n      <td>2021-W1</td>\n      <td>2021-01-04</td>\n    </tr>\n    <tr>\n      <th>362</th>\n      <td>Satine</td>\n      <td>RGB_2.png</td>\n      <td>Depth_2.png</td>\n      <td>2.1</td>\n      <td>0.10</td>\n      <td>8.5</td>\n      <td>8.2</td>\n      <td>67.4</td>\n      <td>2</td>\n      <td>2021-W1</td>\n      <td>2021-01-04</td>\n    </tr>\n    <tr>\n      <th>258</th>\n      <td>Satine</td>\n      <td>RGB_3.png</td>\n      <td>Depth_3.png</td>\n      <td>2.0</td>\n      <td>0.09</td>\n      <td>7.5</td>\n      <td>9.5</td>\n      <td>65.0</td>\n      <td>3</td>\n      <td>2021-W1</td>\n      <td>2021-01-04</td>\n    </tr>\n    <tr>\n      <th>263</th>\n      <td>Satine</td>\n      <td>RGB_4.png</td>\n      <td>Depth_4.png</td>\n      <td>2.7</td>\n      <td>0.13</td>\n      <td>6.0</td>\n      <td>10.6</td>\n      <td>78.7</td>\n      <td>4</td>\n      <td>2021-W1</td>\n      <td>2021-01-04</td>\n    </tr>\n    <tr>\n      <th>224</th>\n      <td>Lugano</td>\n      <td>RGB_5.png</td>\n      <td>Depth_5.png</td>\n      <td>2.3</td>\n      <td>0.11</td>\n      <td>8.3</td>\n      <td>9.8</td>\n      <td>73.9</td>\n      <td>5</td>\n      <td>2021-W1</td>\n      <td>2021-01-04</td>\n    </tr>\n  </tbody>\n</table>\n</div>"
     },
     "execution_count": 44,
     "metadata": {},
     "output_type": "execute_result"
    }
   ],
   "source": [
    "df = pd.read_csv(\"../measurements\")\n",
    "\n",
    "df.head()"
   ],
   "metadata": {
    "collapsed": false,
    "pycharm": {
     "name": "#%%\n"
    }
   }
  },
  {
   "cell_type": "code",
   "execution_count": 45,
   "outputs": [
    {
     "data": {
      "text/plain": "array(['2021-01-04', '2021-01-11', '2021-01-18', '2021-01-25',\n       '2021-02-01', '2021-02-08', '2021-02-15'], dtype=object)"
     },
     "execution_count": 45,
     "metadata": {},
     "output_type": "execute_result"
    }
   ],
   "source": [
    "df[\"Date\"].unique()"
   ],
   "metadata": {
    "collapsed": false,
    "pycharm": {
     "name": "#%%\n"
    }
   }
  },
  {
   "cell_type": "code",
   "execution_count": null,
   "outputs": [],
   "source": [
    "def prepare_dataframe(df, variety):\n",
    "    #%Y-%m-%d\n",
    "    df[\"date_time\"] = pd.to_datetime(df['Date'], format='%Y-%m-%d')\n",
    "    df.head()\n",
    "    df = df.loc(axis=1)[\"date_time\",\"Variety\", \"FreshWeightShoot\", \"DryWeightShoot\", \"Height\", \"Diameter\", \"LeafArea\",\"ID\"]\n",
    "\n",
    "\n",
    "    df = df.groupby(by='date_time').mean()\n",
    "\n",
    "    # # changed index to date\n",
    "    # df = df.set_index('date_time')\n",
    "    # df = df.asfreq('H')\n",
    "\n",
    "    # df = df.loc[df[\"Variety\"] == variety]\n",
    "    return df"
   ],
   "metadata": {
    "collapsed": false,
    "pycharm": {
     "name": "#%%\n"
    }
   }
  },
  {
   "cell_type": "code",
   "execution_count": null,
   "outputs": [],
   "source": [
    "df = prepare_dataframe(df, \"Satine\")\n",
    "\n",
    "df.head()"
   ],
   "metadata": {
    "collapsed": false,
    "pycharm": {
     "name": "#%%\n"
    }
   }
  },
  {
   "cell_type": "code",
   "execution_count": null,
   "outputs": [],
   "source": [
    "def split_data(train_weeks, validation_weeks):\n",
    "    # Raises exception when te requested amount of weeks is to big\n",
    "    if train_weeks + validation_weeks > 6:\n",
    "        raise Exception(\"To many weeks!\")\n",
    "\n",
    "    # Calculate datetime from weeks\n",
    "    start_date = datetime.datetime(2021,1,4)\n",
    "    end_train_date = start_date + datetime.timedelta(weeks=train_weeks -1 )\n",
    "    end_validation_date = end_train_date + datetime.timedelta(weeks=validation_weeks)\n",
    "\n",
    "    #format datetime to %Y-%m-%d\n",
    "    end_train_date = end_train_date.strftime(format='%Y-%m-%d')\n",
    "    end_validation_date = end_validation_date.strftime(format='%Y-%m-%d')\n",
    "\n",
    "\n",
    "    data_train = df.loc[: end_train_date, :]\n",
    "    data_val   = df.loc[end_train_date:end_validation_date, :]\n",
    "    data_test  = df.loc[end_validation_date:, :]\n",
    "\n",
    "    return data_train, data_val, data_test, end_train_date, end_validation_date\n",
    "\n"
   ],
   "metadata": {
    "collapsed": false,
    "pycharm": {
     "name": "#%%\n"
    }
   }
  },
  {
   "cell_type": "code",
   "execution_count": null,
   "outputs": [],
   "source": [
    "data_train, data_val, data_test,end_train_date, end_validation_date  = split_data(4,2)"
   ],
   "metadata": {
    "collapsed": false,
    "pycharm": {
     "name": "#%%\n"
    }
   }
  },
  {
   "cell_type": "code",
   "execution_count": null,
   "outputs": [],
   "source": [
    "data_val_mean = data_val.groupby('date_time').mean()\n",
    "data_test_mean = data_test.groupby('date_time').mean()\n",
    "data_train_mean = data_train.groupby('date_time').mean()\n",
    "\n",
    "fig, ax = plt.subplots(figsize=(11, 4))\n",
    "data_train_mean['Diameter'].plot(ax=ax, label='train')\n",
    "data_val_mean['Diameter'].plot(ax=ax, label='validation')\n",
    "data_test_mean['Diameter'].plot(ax=ax, label='test')\n",
    "ax.set_title(' Diameter')\n",
    "ax.legend();"
   ],
   "metadata": {
    "collapsed": false,
    "pycharm": {
     "name": "#%%\n"
    }
   }
  },
  {
   "cell_type": "markdown",
   "source": [
    "XGBoost"
   ],
   "metadata": {
    "collapsed": false,
    "pycharm": {
     "name": "#%% md\n"
    }
   }
  },
  {
   "cell_type": "code",
   "execution_count": null,
   "outputs": [],
   "source": [
    "def create_forecaster(lags):\n",
    "    forecaster = ForecasterAutoreg(\n",
    "        regressor = XGBRegressor(random_state=123),\n",
    "        lags = lags\n",
    "    )\n",
    "    return forecaster\n",
    "\n",
    "forecaster = create_forecaster(5)\n",
    "\n",
    "forecaster"
   ],
   "metadata": {
    "collapsed": false,
    "pycharm": {
     "name": "#%%\n"
    }
   }
  },
  {
   "cell_type": "code",
   "execution_count": null,
   "outputs": [],
   "source": [
    "param_grid = {\n",
    "    'n_estimators': [50, 100],\n",
    "    'max_depth': [3, 5, 10],\n",
    "    'learning_rate': [0.01, 0.1]\n",
    "}\n",
    "\n",
    "# Lags used as predictors\n",
    "lags_grid = [3,10, [1, 2, 3,20]]\n",
    "\n",
    "\n",
    "results_grid = grid_search_forecaster(\n",
    "    forecaster         = forecaster,\n",
    "    y                  = df.loc[:end_validation_date, 'Diameter'], # Train and validation data\n",
    "    param_grid         = param_grid,\n",
    "    lags_grid          = lags_grid,\n",
    "    steps              = 11,\n",
    "    refit              = False,\n",
    "    metric             = 'mean_squared_error',\n",
    "    initial_train_size = int(len(data_train)), # Model is trained with trainign data\n",
    "    fixed_train_size   = False,\n",
    "    return_best        = True,\n",
    "    verbose            = False\n",
    ")"
   ],
   "metadata": {
    "collapsed": false,
    "pycharm": {
     "name": "#%%\n"
    }
   }
  },
  {
   "cell_type": "markdown",
   "source": [],
   "metadata": {
    "collapsed": false,
    "pycharm": {
     "name": "#%% md\n"
    }
   }
  },
  {
   "cell_type": "code",
   "execution_count": null,
   "outputs": [],
   "source": [
    "results_grid.head(10)"
   ],
   "metadata": {
    "collapsed": false,
    "pycharm": {
     "name": "#%%\n"
    }
   }
  },
  {
   "cell_type": "code",
   "execution_count": null,
   "outputs": [],
   "source": [
    "metric, predictions = backtesting_forecaster(\n",
    "    forecaster = forecaster,\n",
    "    y          = df['Diameter'],\n",
    "    initial_train_size = len(df.loc[:end_validation_date]),\n",
    "    fixed_train_size   = False,\n",
    "    steps      = 10,\n",
    "    refit      = False,\n",
    "    metric     = 'mean_squared_error',\n",
    "    verbose    = False # Change to True to see detailed information\n",
    ")\n",
    "\n",
    "print(f\"Backtest error: {metric}\")"
   ],
   "metadata": {
    "collapsed": false,
    "pycharm": {
     "name": "#%%\n"
    }
   }
  },
  {
   "cell_type": "code",
   "execution_count": null,
   "outputs": [],
   "source": [
    "print(backtesting_forecaster.__doc__)"
   ],
   "metadata": {
    "collapsed": false,
    "pycharm": {
     "name": "#%%\n"
    }
   }
  },
  {
   "cell_type": "code",
   "execution_count": null,
   "outputs": [],
   "source": [
    "predictions.head()"
   ],
   "metadata": {
    "collapsed": false,
    "pycharm": {
     "name": "#%%\n"
    }
   }
  },
  {
   "cell_type": "code",
   "execution_count": null,
   "outputs": [],
   "source": [
    "fig, ax = plt.subplots(figsize=(11, 4))\n",
    "data_test['Diameter'].plot(ax=ax, label='test')\n",
    "predictions['pred'].plot(ax=ax, label='predictions')\n",
    "ax.legend();"
   ],
   "metadata": {
    "collapsed": false,
    "pycharm": {
     "name": "#%%\n"
    }
   }
  }
 ],
 "metadata": {
  "kernelspec": {
   "display_name": "Python 3",
   "language": "python",
   "name": "python3"
  },
  "language_info": {
   "codemirror_mode": {
    "name": "ipython",
    "version": 2
   },
   "file_extension": ".py",
   "mimetype": "text/x-python",
   "name": "python",
   "nbconvert_exporter": "python",
   "pygments_lexer": "ipython2",
   "version": "2.7.6"
  }
 },
 "nbformat": 4,
 "nbformat_minor": 0
}