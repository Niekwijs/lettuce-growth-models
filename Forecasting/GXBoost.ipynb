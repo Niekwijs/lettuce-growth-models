{
 "cells": [
  {
   "cell_type": "code",
   "execution_count": 43,
   "metadata": {
    "collapsed": true,
    "pycharm": {
     "name": "#%%\n"
    }
   },
   "outputs": [],
   "source": [
    "import pandas as pd\n",
    "import numpy as np\n",
    "import datetime\n",
    "\n",
    "# plot imports\n",
    "import seaborn as sns\n",
    "import matplotlib.pyplot as plt\n",
    "\n",
    "from sklearn.preprocessing import OneHotEncoder\n",
    "from sklearn.preprocessing import StandardScaler\n",
    "from sklearn.compose import ColumnTransformer\n",
    "\n",
    "from skforecast.ForecasterAutoreg import ForecasterAutoreg\n",
    "from skforecast.ForecasterAutoregMultiOutput import ForecasterAutoregMultiOutput\n",
    "from skforecast.model_selection import grid_search_forecaster\n",
    "from skforecast.model_selection import backtesting_forecaster\n",
    "\n",
    "\n",
    "# moddeling and forecasting\n",
    "from xgboost import XGBRegressor\n"
   ]
  },
  {
   "cell_type": "code",
   "execution_count": 44,
   "outputs": [
    {
     "data": {
      "text/plain": "    Variety  RGB_Image Depth_Information  FreshWeightShoot  DryWeightShoot  \\\n229  Satine  RGB_1.png       Depth_1.png               2.6            0.14   \n362  Satine  RGB_2.png       Depth_2.png               2.1            0.10   \n258  Satine  RGB_3.png       Depth_3.png               2.0            0.09   \n263  Satine  RGB_4.png       Depth_4.png               2.7            0.13   \n224  Lugano  RGB_5.png       Depth_5.png               2.3            0.11   \n\n     Height  Diameter  LeafArea  ID     Week        Date  \n229     8.2      12.0      80.6   1  2021-W1  2021-01-04  \n362     8.5       8.2      67.4   2  2021-W1  2021-01-04  \n258     7.5       9.5      65.0   3  2021-W1  2021-01-04  \n263     6.0      10.6      78.7   4  2021-W1  2021-01-04  \n224     8.3       9.8      73.9   5  2021-W1  2021-01-04  ",
      "text/html": "<div>\n<style scoped>\n    .dataframe tbody tr th:only-of-type {\n        vertical-align: middle;\n    }\n\n    .dataframe tbody tr th {\n        vertical-align: top;\n    }\n\n    .dataframe thead th {\n        text-align: right;\n    }\n</style>\n<table border=\"1\" class=\"dataframe\">\n  <thead>\n    <tr style=\"text-align: right;\">\n      <th></th>\n      <th>Variety</th>\n      <th>RGB_Image</th>\n      <th>Depth_Information</th>\n      <th>FreshWeightShoot</th>\n      <th>DryWeightShoot</th>\n      <th>Height</th>\n      <th>Diameter</th>\n      <th>LeafArea</th>\n      <th>ID</th>\n      <th>Week</th>\n      <th>Date</th>\n    </tr>\n  </thead>\n  <tbody>\n    <tr>\n      <th>229</th>\n      <td>Satine</td>\n      <td>RGB_1.png</td>\n      <td>Depth_1.png</td>\n      <td>2.6</td>\n      <td>0.14</td>\n      <td>8.2</td>\n      <td>12.0</td>\n      <td>80.6</td>\n      <td>1</td>\n      <td>2021-W1</td>\n      <td>2021-01-04</td>\n    </tr>\n    <tr>\n      <th>362</th>\n      <td>Satine</td>\n      <td>RGB_2.png</td>\n      <td>Depth_2.png</td>\n      <td>2.1</td>\n      <td>0.10</td>\n      <td>8.5</td>\n      <td>8.2</td>\n      <td>67.4</td>\n      <td>2</td>\n      <td>2021-W1</td>\n      <td>2021-01-04</td>\n    </tr>\n    <tr>\n      <th>258</th>\n      <td>Satine</td>\n      <td>RGB_3.png</td>\n      <td>Depth_3.png</td>\n      <td>2.0</td>\n      <td>0.09</td>\n      <td>7.5</td>\n      <td>9.5</td>\n      <td>65.0</td>\n      <td>3</td>\n      <td>2021-W1</td>\n      <td>2021-01-04</td>\n    </tr>\n    <tr>\n      <th>263</th>\n      <td>Satine</td>\n      <td>RGB_4.png</td>\n      <td>Depth_4.png</td>\n      <td>2.7</td>\n      <td>0.13</td>\n      <td>6.0</td>\n      <td>10.6</td>\n      <td>78.7</td>\n      <td>4</td>\n      <td>2021-W1</td>\n      <td>2021-01-04</td>\n    </tr>\n    <tr>\n      <th>224</th>\n      <td>Lugano</td>\n      <td>RGB_5.png</td>\n      <td>Depth_5.png</td>\n      <td>2.3</td>\n      <td>0.11</td>\n      <td>8.3</td>\n      <td>9.8</td>\n      <td>73.9</td>\n      <td>5</td>\n      <td>2021-W1</td>\n      <td>2021-01-04</td>\n    </tr>\n  </tbody>\n</table>\n</div>"
     },
     "execution_count": 44,
     "metadata": {},
     "output_type": "execute_result"
    }
   ],
   "source": [
    "df = pd.read_csv(\"../measurements\")\n",
    "\n",
    "df.head()"
   ],
   "metadata": {
    "collapsed": false,
    "pycharm": {
     "name": "#%%\n"
    }
   }
  },
  {
   "cell_type": "code",
   "execution_count": 45,
   "outputs": [
    {
     "data": {
      "text/plain": "array(['2021-01-04', '2021-01-11', '2021-01-18', '2021-01-25',\n       '2021-02-01', '2021-02-08', '2021-02-15'], dtype=object)"
     },
     "execution_count": 45,
     "metadata": {},
     "output_type": "execute_result"
    }
   ],
   "source": [
    "df[\"Date\"].unique()"
   ],
   "metadata": {
    "collapsed": false,
    "pycharm": {
     "name": "#%%\n"
    }
   }
  },
  {
   "cell_type": "code",
   "execution_count": 46,
   "outputs": [],
   "source": [
    "def prepare_dataframe(df, variety):\n",
    "    #%Y-%m-%d\n",
    "    df[\"date_time\"] = pd.to_datetime(df['Date'], format='%Y-%m-%d')\n",
    "    df.head()\n",
    "    df = df.loc(axis=1)[\"date_time\",\"Variety\", \"FreshWeightShoot\", \"DryWeightShoot\", \"Height\", \"Diameter\", \"LeafArea\",\"ID\"]\n",
    "\n",
    "\n",
    "    df = df.groupby(by='date_time').mean()\n",
    "\n",
    "    # # changed index to date\n",
    "    # df = df.set_index('date_time')\n",
    "    # df = df.asfreq('H')\n",
    "\n",
    "    # df = df.loc[df[\"Variety\"] == variety]\n",
    "    return df"
   ],
   "metadata": {
    "collapsed": false,
    "pycharm": {
     "name": "#%%\n"
    }
   }
  },
  {
   "cell_type": "code",
   "execution_count": 47,
   "outputs": [
    {
     "data": {
      "text/plain": "            FreshWeightShoot  DryWeightShoot     Height   Diameter  \\\ndate_time                                                            \n2021-01-04          4.952727        0.425818   7.078182  15.094545   \n2021-01-11         20.928333        1.440167   7.241667  17.868333   \n2021-01-18         53.932812        2.764219  10.714063  20.676562   \n2021-01-25         91.297959        4.516327  11.877551  22.587755   \n2021-02-01        158.300000        7.563182  15.463636  26.215909   \n\n               LeafArea     ID  \ndate_time                       \n2021-01-04   138.087273   28.0  \n2021-01-11   481.061667   85.5  \n2021-01-18  1104.575000  147.5  \n2021-01-25  1699.681633  204.0  \n2021-02-01  2808.152273  250.5  ",
      "text/html": "<div>\n<style scoped>\n    .dataframe tbody tr th:only-of-type {\n        vertical-align: middle;\n    }\n\n    .dataframe tbody tr th {\n        vertical-align: top;\n    }\n\n    .dataframe thead th {\n        text-align: right;\n    }\n</style>\n<table border=\"1\" class=\"dataframe\">\n  <thead>\n    <tr style=\"text-align: right;\">\n      <th></th>\n      <th>FreshWeightShoot</th>\n      <th>DryWeightShoot</th>\n      <th>Height</th>\n      <th>Diameter</th>\n      <th>LeafArea</th>\n      <th>ID</th>\n    </tr>\n    <tr>\n      <th>date_time</th>\n      <th></th>\n      <th></th>\n      <th></th>\n      <th></th>\n      <th></th>\n      <th></th>\n    </tr>\n  </thead>\n  <tbody>\n    <tr>\n      <th>2021-01-04</th>\n      <td>4.952727</td>\n      <td>0.425818</td>\n      <td>7.078182</td>\n      <td>15.094545</td>\n      <td>138.087273</td>\n      <td>28.0</td>\n    </tr>\n    <tr>\n      <th>2021-01-11</th>\n      <td>20.928333</td>\n      <td>1.440167</td>\n      <td>7.241667</td>\n      <td>17.868333</td>\n      <td>481.061667</td>\n      <td>85.5</td>\n    </tr>\n    <tr>\n      <th>2021-01-18</th>\n      <td>53.932812</td>\n      <td>2.764219</td>\n      <td>10.714063</td>\n      <td>20.676562</td>\n      <td>1104.575000</td>\n      <td>147.5</td>\n    </tr>\n    <tr>\n      <th>2021-01-25</th>\n      <td>91.297959</td>\n      <td>4.516327</td>\n      <td>11.877551</td>\n      <td>22.587755</td>\n      <td>1699.681633</td>\n      <td>204.0</td>\n    </tr>\n    <tr>\n      <th>2021-02-01</th>\n      <td>158.300000</td>\n      <td>7.563182</td>\n      <td>15.463636</td>\n      <td>26.215909</td>\n      <td>2808.152273</td>\n      <td>250.5</td>\n    </tr>\n  </tbody>\n</table>\n</div>"
     },
     "execution_count": 47,
     "metadata": {},
     "output_type": "execute_result"
    }
   ],
   "source": [
    "df = prepare_dataframe(df, \"Satine\")\n",
    "\n",
    "df.head()"
   ],
   "metadata": {
    "collapsed": false,
    "pycharm": {
     "name": "#%%\n"
    }
   }
  },
  {
   "cell_type": "code",
   "execution_count": 48,
   "outputs": [],
   "source": [
    "def split_data(train_weeks, validation_weeks):\n",
    "    # Raises exception when te requested amount of weeks is to big\n",
    "    if train_weeks + validation_weeks > 6:\n",
    "        raise Exception(\"To many weeks!\")\n",
    "\n",
    "    # Calculate datetime from weeks\n",
    "    start_date = datetime.datetime(2021,1,4)\n",
    "    end_train_date = start_date + datetime.timedelta(weeks=train_weeks -1 )\n",
    "    end_validation_date = end_train_date + datetime.timedelta(weeks=validation_weeks)\n",
    "\n",
    "    #format datetime to %Y-%m-%d\n",
    "    end_train_date = end_train_date.strftime(format='%Y-%m-%d')\n",
    "    end_validation_date = end_validation_date.strftime(format='%Y-%m-%d')\n",
    "\n",
    "\n",
    "    data_train = df.loc[: end_train_date, :]\n",
    "    data_val   = df.loc[end_train_date:end_validation_date, :]\n",
    "    data_test  = df.loc[end_validation_date:, :]\n",
    "\n",
    "    return data_train, data_val, data_test, end_train_date, end_validation_date\n",
    "\n"
   ],
   "metadata": {
    "collapsed": false,
    "pycharm": {
     "name": "#%%\n"
    }
   }
  },
  {
   "cell_type": "code",
   "execution_count": 49,
   "outputs": [],
   "source": [
    "data_train, data_val, data_test,end_train_date, end_validation_date  = split_data(4,2)"
   ],
   "metadata": {
    "collapsed": false,
    "pycharm": {
     "name": "#%%\n"
    }
   }
  },
  {
   "cell_type": "code",
   "execution_count": 50,
   "outputs": [
    {
     "data": {
      "text/plain": "<Figure size 1100x400 with 1 Axes>",
      "image/png": "[encoded data removed]"
     },
     "metadata": {},
     "output_type": "display_data"
    }
   ],
   "source": [
    "data_val_mean = data_val.groupby('date_time').mean()\n",
    "data_test_mean = data_test.groupby('date_time').mean()\n",
    "data_train_mean = data_train.groupby('date_time').mean()\n",
    "\n",
    "fig, ax = plt.subplots(figsize=(11, 4))\n",
    "data_train_mean['Diameter'].plot(ax=ax, label='train')\n",
    "data_val_mean['Diameter'].plot(ax=ax, label='validation')\n",
    "data_test_mean['Diameter'].plot(ax=ax, label='test')\n",
    "ax.set_title(' Diameter')\n",
    "ax.legend();"
   ],
   "metadata": {
    "collapsed": false,
    "pycharm": {
     "name": "#%%\n"
    }
   }
  },
  {
   "cell_type": "markdown",
   "source": [
    "XGBoost"
   ],
   "metadata": {
    "collapsed": false,
    "pycharm": {
     "name": "#%% md\n"
    }
   }
  },
  {
   "cell_type": "code",
   "execution_count": 51,
   "outputs": [
    {
     "data": {
      "text/plain": "================= \nForecasterAutoreg \n================= \nRegressor: XGBRegressor(base_score=None, booster=None, callbacks=None,\n             colsample_bylevel=None, colsample_bynode=None,\n             colsample_bytree=None, early_stopping_rounds=None,\n             enable_categorical=False, eval_metric=None, feature_types=None,\n             gamma=None, gpu_id=None, grow_policy=None, importance_type=None,\n             interaction_constraints=None, learning_rate=None, max_bin=None,\n             max_cat_threshold=None, max_cat_to_onehot=None,\n             max_delta_step=None, max_depth=None, max_leaves=None,\n             min_child_weight=None, missing=nan, monotone_constraints=None,\n             n_estimators=100, n_jobs=None, num_parallel_tree=None,\n             predictor=None, random_state=123, ...) \nLags: [1 2 3 4 5] \nTransformer for y: None \nTransformer for exog: None \nWindow size: 5 \nWeight function included: False \nExogenous included: False \nType of exogenous variable: None \nExogenous variables names: None \nTraining range: None \nTraining index type: None \nTraining index frequency: None \nRegressor parameters: {'objective': 'reg:squarederror', 'base_score': None, 'booster': None, 'callbacks': None, 'colsample_bylevel': None, 'colsample_bynode': None, 'colsample_bytree': None, 'early_stopping_rounds': None, 'enable_categorical': False, 'eval_metric': None, 'feature_types': None, 'gamma': None, 'gpu_id': None, 'grow_policy': None, 'importance_type': None, 'interaction_constraints': None, 'learning_rate': None, 'max_bin': None, 'max_cat_threshold': None, 'max_cat_to_onehot': None, 'max_delta_step': None, 'max_depth': None, 'max_leaves': None, 'min_child_weight': None, 'missing': nan, 'monotone_constraints': None, 'n_estimators': 100, 'n_jobs': None, 'num_parallel_tree': None, 'predictor': None, 'random_state': 123, 'reg_alpha': None, 'reg_lambda': None, 'sampling_method': None, 'scale_pos_weight': None, 'subsample': None, 'tree_method': None, 'validate_parameters': None, 'verbosity': None} \nCreation date: 2023-01-12 17:25:55 \nLast fit date: None \nSkforecast version: 0.6.0 \nPython version: 3.9.4 "
     },
     "execution_count": 51,
     "metadata": {},
     "output_type": "execute_result"
    }
   ],
   "source": [
    "def create_forecaster(lags):\n",
    "    forecaster = ForecasterAutoreg(\n",
    "        regressor = XGBRegressor(random_state=123),\n",
    "        lags = lags\n",
    "    )\n",
    "    return forecaster\n",
    "\n",
    "forecaster = create_forecaster(5)\n",
    "\n",
    "forecaster"
   ],
   "metadata": {
    "collapsed": false,
    "pycharm": {
     "name": "#%%\n"
    }
   }
  },
  {
   "cell_type": "code",
   "execution_count": 52,
   "outputs": [
    {
     "name": "stdout",
     "output_type": "stream",
     "text": [
      "Number of models compared: 36.\n"
     ]
    },
    {
     "name": "stderr",
     "output_type": "stream",
     "text": [
      "loop lags_grid:   0%|                                               | 0/3 [00:00<?, ?it/s]\n",
      "loop param_grid:   0%|                                             | 0/12 [00:00<?, ?it/s]\u001B[AC:\\school\\minor-ai\\lettuce-cnn\\lib\\site-packages\\skforecast\\utils\\utils.py:522: UserWarning: `y` has DatetimeIndex index but no frequency. Index is overwritten with a RangeIndex of step 1.\n",
      "  warnings.warn(\n",
      "C:\\school\\minor-ai\\lettuce-cnn\\lib\\site-packages\\skforecast\\utils\\utils.py:579: UserWarning: `last_window` has DatetimeIndex index but no frequency. Index is overwritten with a RangeIndex of step 1.\n",
      "  warnings.warn(\n",
      "C:\\school\\minor-ai\\lettuce-cnn\\lib\\site-packages\\skforecast\\utils\\utils.py:522: UserWarning: `y` has DatetimeIndex index but no frequency. Index is overwritten with a RangeIndex of step 1.\n",
      "  warnings.warn(\n",
      "C:\\school\\minor-ai\\lettuce-cnn\\lib\\site-packages\\skforecast\\utils\\utils.py:579: UserWarning: `last_window` has DatetimeIndex index but no frequency. Index is overwritten with a RangeIndex of step 1.\n",
      "  warnings.warn(\n",
      "\n",
      "loop param_grid:  17%|██████▏                              | 2/12 [00:00<00:01,  8.03it/s]\u001B[AC:\\school\\minor-ai\\lettuce-cnn\\lib\\site-packages\\skforecast\\utils\\utils.py:522: UserWarning: `y` has DatetimeIndex index but no frequency. Index is overwritten with a RangeIndex of step 1.\n",
      "  warnings.warn(\n",
      "C:\\school\\minor-ai\\lettuce-cnn\\lib\\site-packages\\skforecast\\utils\\utils.py:579: UserWarning: `last_window` has DatetimeIndex index but no frequency. Index is overwritten with a RangeIndex of step 1.\n",
      "  warnings.warn(\n",
      "C:\\school\\minor-ai\\lettuce-cnn\\lib\\site-packages\\skforecast\\utils\\utils.py:522: UserWarning: `y` has DatetimeIndex index but no frequency. Index is overwritten with a RangeIndex of step 1.\n",
      "  warnings.warn(\n",
      "C:\\school\\minor-ai\\lettuce-cnn\\lib\\site-packages\\skforecast\\utils\\utils.py:579: UserWarning: `last_window` has DatetimeIndex index but no frequency. Index is overwritten with a RangeIndex of step 1.\n",
      "  warnings.warn(\n",
      "\n",
      "loop param_grid:  33%|████████████▎                        | 4/12 [00:00<00:01,  7.59it/s]\u001B[AC:\\school\\minor-ai\\lettuce-cnn\\lib\\site-packages\\skforecast\\utils\\utils.py:522: UserWarning: `y` has DatetimeIndex index but no frequency. Index is overwritten with a RangeIndex of step 1.\n",
      "  warnings.warn(\n",
      "C:\\school\\minor-ai\\lettuce-cnn\\lib\\site-packages\\skforecast\\utils\\utils.py:579: UserWarning: `last_window` has DatetimeIndex index but no frequency. Index is overwritten with a RangeIndex of step 1.\n",
      "  warnings.warn(\n",
      "\n",
      "loop param_grid:  42%|███████████████▍                     | 5/12 [00:00<00:01,  6.57it/s]\u001B[AC:\\school\\minor-ai\\lettuce-cnn\\lib\\site-packages\\skforecast\\utils\\utils.py:522: UserWarning: `y` has DatetimeIndex index but no frequency. Index is overwritten with a RangeIndex of step 1.\n",
      "  warnings.warn(\n",
      "C:\\school\\minor-ai\\lettuce-cnn\\lib\\site-packages\\skforecast\\utils\\utils.py:579: UserWarning: `last_window` has DatetimeIndex index but no frequency. Index is overwritten with a RangeIndex of step 1.\n",
      "  warnings.warn(\n",
      "C:\\school\\minor-ai\\lettuce-cnn\\lib\\site-packages\\skforecast\\utils\\utils.py:522: UserWarning: `y` has DatetimeIndex index but no frequency. Index is overwritten with a RangeIndex of step 1.\n",
      "  warnings.warn(\n",
      "C:\\school\\minor-ai\\lettuce-cnn\\lib\\site-packages\\skforecast\\utils\\utils.py:579: UserWarning: `last_window` has DatetimeIndex index but no frequency. Index is overwritten with a RangeIndex of step 1.\n",
      "  warnings.warn(\n",
      "\n",
      "loop param_grid:  58%|█████████████████████▌               | 7/12 [00:00<00:00,  8.31it/s]\u001B[AC:\\school\\minor-ai\\lettuce-cnn\\lib\\site-packages\\skforecast\\utils\\utils.py:522: UserWarning: `y` has DatetimeIndex index but no frequency. Index is overwritten with a RangeIndex of step 1.\n",
      "  warnings.warn(\n",
      "C:\\school\\minor-ai\\lettuce-cnn\\lib\\site-packages\\skforecast\\utils\\utils.py:579: UserWarning: `last_window` has DatetimeIndex index but no frequency. Index is overwritten with a RangeIndex of step 1.\n",
      "  warnings.warn(\n",
      "\n",
      "loop param_grid:  67%|████████████████████████▋            | 8/12 [00:01<00:00,  7.42it/s]\u001B[AC:\\school\\minor-ai\\lettuce-cnn\\lib\\site-packages\\skforecast\\utils\\utils.py:522: UserWarning: `y` has DatetimeIndex index but no frequency. Index is overwritten with a RangeIndex of step 1.\n",
      "  warnings.warn(\n",
      "C:\\school\\minor-ai\\lettuce-cnn\\lib\\site-packages\\skforecast\\utils\\utils.py:579: UserWarning: `last_window` has DatetimeIndex index but no frequency. Index is overwritten with a RangeIndex of step 1.\n",
      "  warnings.warn(\n",
      "C:\\school\\minor-ai\\lettuce-cnn\\lib\\site-packages\\skforecast\\utils\\utils.py:522: UserWarning: `y` has DatetimeIndex index but no frequency. Index is overwritten with a RangeIndex of step 1.\n",
      "  warnings.warn(\n",
      "C:\\school\\minor-ai\\lettuce-cnn\\lib\\site-packages\\skforecast\\utils\\utils.py:579: UserWarning: `last_window` has DatetimeIndex index but no frequency. Index is overwritten with a RangeIndex of step 1.\n",
      "  warnings.warn(\n",
      "\n",
      "loop param_grid:  83%|██████████████████████████████      | 10/12 [00:01<00:00,  8.72it/s]\u001B[AC:\\school\\minor-ai\\lettuce-cnn\\lib\\site-packages\\skforecast\\utils\\utils.py:522: UserWarning: `y` has DatetimeIndex index but no frequency. Index is overwritten with a RangeIndex of step 1.\n",
      "  warnings.warn(\n",
      "C:\\school\\minor-ai\\lettuce-cnn\\lib\\site-packages\\skforecast\\utils\\utils.py:579: UserWarning: `last_window` has DatetimeIndex index but no frequency. Index is overwritten with a RangeIndex of step 1.\n",
      "  warnings.warn(\n",
      "C:\\school\\minor-ai\\lettuce-cnn\\lib\\site-packages\\skforecast\\utils\\utils.py:522: UserWarning: `y` has DatetimeIndex index but no frequency. Index is overwritten with a RangeIndex of step 1.\n",
      "  warnings.warn(\n",
      "C:\\school\\minor-ai\\lettuce-cnn\\lib\\site-packages\\skforecast\\utils\\utils.py:579: UserWarning: `last_window` has DatetimeIndex index but no frequency. Index is overwritten with a RangeIndex of step 1.\n",
      "  warnings.warn(\n",
      "\n",
      "loop param_grid: 100%|████████████████████████████████████| 12/12 [00:01<00:00,  9.85it/s]\u001B[A\n",
      "loop lags_grid:  33%|█████████████                          | 1/3 [00:01<00:02,  1.42s/it]\u001B[A\n",
      "loop param_grid:   0%|                                             | 0/12 [00:00<?, ?it/s]\u001B[A\n",
      "loop lags_grid:  33%|█████████████                          | 1/3 [00:01<00:02,  1.43s/it]\u001B[A\n"
     ]
    },
    {
     "ename": "ValueError",
     "evalue": "`initial_train_size` must be greater than forecaster's window_size (10).",
     "output_type": "error",
     "traceback": [
      "\u001B[1;31m---------------------------------------------------------------------------\u001B[0m",
      "\u001B[1;31mValueError\u001B[0m                                Traceback (most recent call last)",
      "Cell \u001B[1;32mIn[52], line 11\u001B[0m\n\u001B[0;32m      7\u001B[0m \u001B[38;5;66;03m# Lags used as predictors\u001B[39;00m\n\u001B[0;32m      8\u001B[0m lags_grid \u001B[38;5;241m=\u001B[39m [\u001B[38;5;241m3\u001B[39m,\u001B[38;5;241m10\u001B[39m, [\u001B[38;5;241m1\u001B[39m, \u001B[38;5;241m2\u001B[39m, \u001B[38;5;241m3\u001B[39m,\u001B[38;5;241m20\u001B[39m]]\n\u001B[1;32m---> 11\u001B[0m results_grid \u001B[38;5;241m=\u001B[39m \u001B[43mgrid_search_forecaster\u001B[49m\u001B[43m(\u001B[49m\n\u001B[0;32m     12\u001B[0m \u001B[43m    \u001B[49m\u001B[43mforecaster\u001B[49m\u001B[43m         \u001B[49m\u001B[38;5;241;43m=\u001B[39;49m\u001B[43m \u001B[49m\u001B[43mforecaster\u001B[49m\u001B[43m,\u001B[49m\n\u001B[0;32m     13\u001B[0m \u001B[43m    \u001B[49m\u001B[43my\u001B[49m\u001B[43m                  \u001B[49m\u001B[38;5;241;43m=\u001B[39;49m\u001B[43m \u001B[49m\u001B[43mdf\u001B[49m\u001B[38;5;241;43m.\u001B[39;49m\u001B[43mloc\u001B[49m\u001B[43m[\u001B[49m\u001B[43m:\u001B[49m\u001B[43mend_validation_date\u001B[49m\u001B[43m,\u001B[49m\u001B[43m \u001B[49m\u001B[38;5;124;43m'\u001B[39;49m\u001B[38;5;124;43mDiameter\u001B[39;49m\u001B[38;5;124;43m'\u001B[39;49m\u001B[43m]\u001B[49m\u001B[43m,\u001B[49m\u001B[43m \u001B[49m\u001B[38;5;66;43;03m# Train and validation data\u001B[39;49;00m\n\u001B[0;32m     14\u001B[0m \u001B[43m    \u001B[49m\u001B[43mparam_grid\u001B[49m\u001B[43m         \u001B[49m\u001B[38;5;241;43m=\u001B[39;49m\u001B[43m \u001B[49m\u001B[43mparam_grid\u001B[49m\u001B[43m,\u001B[49m\n\u001B[0;32m     15\u001B[0m \u001B[43m    \u001B[49m\u001B[43mlags_grid\u001B[49m\u001B[43m          \u001B[49m\u001B[38;5;241;43m=\u001B[39;49m\u001B[43m \u001B[49m\u001B[43mlags_grid\u001B[49m\u001B[43m,\u001B[49m\n\u001B[0;32m     16\u001B[0m \u001B[43m    \u001B[49m\u001B[43msteps\u001B[49m\u001B[43m              \u001B[49m\u001B[38;5;241;43m=\u001B[39;49m\u001B[43m \u001B[49m\u001B[38;5;241;43m11\u001B[39;49m\u001B[43m,\u001B[49m\n\u001B[0;32m     17\u001B[0m \u001B[43m    \u001B[49m\u001B[43mrefit\u001B[49m\u001B[43m              \u001B[49m\u001B[38;5;241;43m=\u001B[39;49m\u001B[43m \u001B[49m\u001B[38;5;28;43;01mFalse\u001B[39;49;00m\u001B[43m,\u001B[49m\n\u001B[0;32m     18\u001B[0m \u001B[43m    \u001B[49m\u001B[43mmetric\u001B[49m\u001B[43m             \u001B[49m\u001B[38;5;241;43m=\u001B[39;49m\u001B[43m \u001B[49m\u001B[38;5;124;43m'\u001B[39;49m\u001B[38;5;124;43mmean_squared_error\u001B[39;49m\u001B[38;5;124;43m'\u001B[39;49m\u001B[43m,\u001B[49m\n\u001B[0;32m     19\u001B[0m \u001B[43m    \u001B[49m\u001B[43minitial_train_size\u001B[49m\u001B[43m \u001B[49m\u001B[38;5;241;43m=\u001B[39;49m\u001B[43m \u001B[49m\u001B[38;5;28;43mint\u001B[39;49m\u001B[43m(\u001B[49m\u001B[38;5;28;43mlen\u001B[39;49m\u001B[43m(\u001B[49m\u001B[43mdata_train\u001B[49m\u001B[43m)\u001B[49m\u001B[43m)\u001B[49m\u001B[43m,\u001B[49m\u001B[43m \u001B[49m\u001B[38;5;66;43;03m# Model is trained with trainign data\u001B[39;49;00m\n\u001B[0;32m     20\u001B[0m \u001B[43m    \u001B[49m\u001B[43mfixed_train_size\u001B[49m\u001B[43m   \u001B[49m\u001B[38;5;241;43m=\u001B[39;49m\u001B[43m \u001B[49m\u001B[38;5;28;43;01mFalse\u001B[39;49;00m\u001B[43m,\u001B[49m\n\u001B[0;32m     21\u001B[0m \u001B[43m    \u001B[49m\u001B[43mreturn_best\u001B[49m\u001B[43m        \u001B[49m\u001B[38;5;241;43m=\u001B[39;49m\u001B[43m \u001B[49m\u001B[38;5;28;43;01mTrue\u001B[39;49;00m\u001B[43m,\u001B[49m\n\u001B[0;32m     22\u001B[0m \u001B[43m    \u001B[49m\u001B[43mverbose\u001B[49m\u001B[43m            \u001B[49m\u001B[38;5;241;43m=\u001B[39;49m\u001B[43m \u001B[49m\u001B[38;5;28;43;01mFalse\u001B[39;49;00m\n\u001B[0;32m     23\u001B[0m \u001B[43m)\u001B[49m\n",
      "File \u001B[1;32mC:\\school\\minor-ai\\lettuce-cnn\\lib\\site-packages\\skforecast\\model_selection\\model_selection.py:878\u001B[0m, in \u001B[0;36mgrid_search_forecaster\u001B[1;34m(forecaster, y, param_grid, steps, metric, initial_train_size, fixed_train_size, exog, lags_grid, refit, return_best, verbose)\u001B[0m\n\u001B[0;32m    809\u001B[0m \u001B[38;5;124;03m\"\"\"\u001B[39;00m\n\u001B[0;32m    810\u001B[0m \u001B[38;5;124;03mExhaustive search over specified parameter values for a Forecaster object.\u001B[39;00m\n\u001B[0;32m    811\u001B[0m \u001B[38;5;124;03mValidation is done using time series backtesting.\u001B[39;00m\n\u001B[1;32m   (...)\u001B[0m\n\u001B[0;32m    873\u001B[0m \u001B[38;5;124;03m\u001B[39;00m\n\u001B[0;32m    874\u001B[0m \u001B[38;5;124;03m\"\"\"\u001B[39;00m\n\u001B[0;32m    876\u001B[0m param_grid \u001B[38;5;241m=\u001B[39m \u001B[38;5;28mlist\u001B[39m(ParameterGrid(param_grid))\n\u001B[1;32m--> 878\u001B[0m results \u001B[38;5;241m=\u001B[39m \u001B[43m_evaluate_grid_hyperparameters\u001B[49m\u001B[43m(\u001B[49m\n\u001B[0;32m    879\u001B[0m \u001B[43m    \u001B[49m\u001B[43mforecaster\u001B[49m\u001B[43m          \u001B[49m\u001B[38;5;241;43m=\u001B[39;49m\u001B[43m \u001B[49m\u001B[43mforecaster\u001B[49m\u001B[43m,\u001B[49m\n\u001B[0;32m    880\u001B[0m \u001B[43m    \u001B[49m\u001B[43my\u001B[49m\u001B[43m                   \u001B[49m\u001B[38;5;241;43m=\u001B[39;49m\u001B[43m \u001B[49m\u001B[43my\u001B[49m\u001B[43m,\u001B[49m\n\u001B[0;32m    881\u001B[0m \u001B[43m    \u001B[49m\u001B[43mparam_grid\u001B[49m\u001B[43m          \u001B[49m\u001B[38;5;241;43m=\u001B[39;49m\u001B[43m \u001B[49m\u001B[43mparam_grid\u001B[49m\u001B[43m,\u001B[49m\n\u001B[0;32m    882\u001B[0m \u001B[43m    \u001B[49m\u001B[43msteps\u001B[49m\u001B[43m               \u001B[49m\u001B[38;5;241;43m=\u001B[39;49m\u001B[43m \u001B[49m\u001B[43msteps\u001B[49m\u001B[43m,\u001B[49m\n\u001B[0;32m    883\u001B[0m \u001B[43m    \u001B[49m\u001B[43mmetric\u001B[49m\u001B[43m              \u001B[49m\u001B[38;5;241;43m=\u001B[39;49m\u001B[43m \u001B[49m\u001B[43mmetric\u001B[49m\u001B[43m,\u001B[49m\n\u001B[0;32m    884\u001B[0m \u001B[43m    \u001B[49m\u001B[43minitial_train_size\u001B[49m\u001B[43m  \u001B[49m\u001B[38;5;241;43m=\u001B[39;49m\u001B[43m \u001B[49m\u001B[43minitial_train_size\u001B[49m\u001B[43m,\u001B[49m\n\u001B[0;32m    885\u001B[0m \u001B[43m    \u001B[49m\u001B[43mfixed_train_size\u001B[49m\u001B[43m    \u001B[49m\u001B[38;5;241;43m=\u001B[39;49m\u001B[43m \u001B[49m\u001B[43mfixed_train_size\u001B[49m\u001B[43m,\u001B[49m\n\u001B[0;32m    886\u001B[0m \u001B[43m    \u001B[49m\u001B[43mexog\u001B[49m\u001B[43m                \u001B[49m\u001B[38;5;241;43m=\u001B[39;49m\u001B[43m \u001B[49m\u001B[43mexog\u001B[49m\u001B[43m,\u001B[49m\n\u001B[0;32m    887\u001B[0m \u001B[43m    \u001B[49m\u001B[43mlags_grid\u001B[49m\u001B[43m           \u001B[49m\u001B[38;5;241;43m=\u001B[39;49m\u001B[43m \u001B[49m\u001B[43mlags_grid\u001B[49m\u001B[43m,\u001B[49m\n\u001B[0;32m    888\u001B[0m \u001B[43m    \u001B[49m\u001B[43mrefit\u001B[49m\u001B[43m               \u001B[49m\u001B[38;5;241;43m=\u001B[39;49m\u001B[43m \u001B[49m\u001B[43mrefit\u001B[49m\u001B[43m,\u001B[49m\n\u001B[0;32m    889\u001B[0m \u001B[43m    \u001B[49m\u001B[43mreturn_best\u001B[49m\u001B[43m         \u001B[49m\u001B[38;5;241;43m=\u001B[39;49m\u001B[43m \u001B[49m\u001B[43mreturn_best\u001B[49m\u001B[43m,\u001B[49m\n\u001B[0;32m    890\u001B[0m \u001B[43m    \u001B[49m\u001B[43mverbose\u001B[49m\u001B[43m             \u001B[49m\u001B[38;5;241;43m=\u001B[39;49m\u001B[43m \u001B[49m\u001B[43mverbose\u001B[49m\n\u001B[0;32m    891\u001B[0m \u001B[43m\u001B[49m\u001B[43m)\u001B[49m\n\u001B[0;32m    893\u001B[0m \u001B[38;5;28;01mreturn\u001B[39;00m results\n",
      "File \u001B[1;32mC:\\school\\minor-ai\\lettuce-cnn\\lib\\site-packages\\skforecast\\model_selection\\model_selection.py:1124\u001B[0m, in \u001B[0;36m_evaluate_grid_hyperparameters\u001B[1;34m(forecaster, y, param_grid, steps, metric, initial_train_size, fixed_train_size, exog, lags_grid, refit, return_best, verbose)\u001B[0m\n\u001B[0;32m   1121\u001B[0m \u001B[38;5;28;01mfor\u001B[39;00m params \u001B[38;5;129;01min\u001B[39;00m tqdm(param_grid, desc\u001B[38;5;241m=\u001B[39m\u001B[38;5;124m'\u001B[39m\u001B[38;5;124mloop param_grid\u001B[39m\u001B[38;5;124m'\u001B[39m, position\u001B[38;5;241m=\u001B[39m\u001B[38;5;241m1\u001B[39m, leave\u001B[38;5;241m=\u001B[39m\u001B[38;5;28;01mFalse\u001B[39;00m, ncols\u001B[38;5;241m=\u001B[39m\u001B[38;5;241m90\u001B[39m):\n\u001B[0;32m   1123\u001B[0m     forecaster\u001B[38;5;241m.\u001B[39mset_params(\u001B[38;5;241m*\u001B[39m\u001B[38;5;241m*\u001B[39mparams)\n\u001B[1;32m-> 1124\u001B[0m     metrics_values \u001B[38;5;241m=\u001B[39m \u001B[43mbacktesting_forecaster\u001B[49m\u001B[43m(\u001B[49m\n\u001B[0;32m   1125\u001B[0m \u001B[43m                         \u001B[49m\u001B[43mforecaster\u001B[49m\u001B[43m         \u001B[49m\u001B[38;5;241;43m=\u001B[39;49m\u001B[43m \u001B[49m\u001B[43mforecaster\u001B[49m\u001B[43m,\u001B[49m\n\u001B[0;32m   1126\u001B[0m \u001B[43m                         \u001B[49m\u001B[43my\u001B[49m\u001B[43m                  \u001B[49m\u001B[38;5;241;43m=\u001B[39;49m\u001B[43m \u001B[49m\u001B[43my\u001B[49m\u001B[43m,\u001B[49m\n\u001B[0;32m   1127\u001B[0m \u001B[43m                         \u001B[49m\u001B[43msteps\u001B[49m\u001B[43m              \u001B[49m\u001B[38;5;241;43m=\u001B[39;49m\u001B[43m \u001B[49m\u001B[43msteps\u001B[49m\u001B[43m,\u001B[49m\n\u001B[0;32m   1128\u001B[0m \u001B[43m                         \u001B[49m\u001B[43mmetric\u001B[49m\u001B[43m             \u001B[49m\u001B[38;5;241;43m=\u001B[39;49m\u001B[43m \u001B[49m\u001B[43mmetric\u001B[49m\u001B[43m,\u001B[49m\n\u001B[0;32m   1129\u001B[0m \u001B[43m                         \u001B[49m\u001B[43minitial_train_size\u001B[49m\u001B[43m \u001B[49m\u001B[38;5;241;43m=\u001B[39;49m\u001B[43m \u001B[49m\u001B[43minitial_train_size\u001B[49m\u001B[43m,\u001B[49m\n\u001B[0;32m   1130\u001B[0m \u001B[43m                         \u001B[49m\u001B[43mfixed_train_size\u001B[49m\u001B[43m   \u001B[49m\u001B[38;5;241;43m=\u001B[39;49m\u001B[43m \u001B[49m\u001B[43mfixed_train_size\u001B[49m\u001B[43m,\u001B[49m\n\u001B[0;32m   1131\u001B[0m \u001B[43m                         \u001B[49m\u001B[43mexog\u001B[49m\u001B[43m               \u001B[49m\u001B[38;5;241;43m=\u001B[39;49m\u001B[43m \u001B[49m\u001B[43mexog\u001B[49m\u001B[43m,\u001B[49m\n\u001B[0;32m   1132\u001B[0m \u001B[43m                         \u001B[49m\u001B[43mrefit\u001B[49m\u001B[43m              \u001B[49m\u001B[38;5;241;43m=\u001B[39;49m\u001B[43m \u001B[49m\u001B[43mrefit\u001B[49m\u001B[43m,\u001B[49m\n\u001B[0;32m   1133\u001B[0m \u001B[43m                         \u001B[49m\u001B[43minterval\u001B[49m\u001B[43m           \u001B[49m\u001B[38;5;241;43m=\u001B[39;49m\u001B[43m \u001B[49m\u001B[38;5;28;43;01mNone\u001B[39;49;00m\u001B[43m,\u001B[49m\n\u001B[0;32m   1134\u001B[0m \u001B[43m                         \u001B[49m\u001B[43mverbose\u001B[49m\u001B[43m            \u001B[49m\u001B[38;5;241;43m=\u001B[39;49m\u001B[43m \u001B[49m\u001B[43mverbose\u001B[49m\n\u001B[0;32m   1135\u001B[0m \u001B[43m                     \u001B[49m\u001B[43m)\u001B[49m[\u001B[38;5;241m0\u001B[39m]\n\u001B[0;32m   1136\u001B[0m     warnings\u001B[38;5;241m.\u001B[39mfilterwarnings(\u001B[38;5;124m'\u001B[39m\u001B[38;5;124mignore\u001B[39m\u001B[38;5;124m'\u001B[39m, category\u001B[38;5;241m=\u001B[39m\u001B[38;5;167;01mRuntimeWarning\u001B[39;00m, message\u001B[38;5;241m=\u001B[39m \u001B[38;5;124m\"\u001B[39m\u001B[38;5;124mThe forecaster will be fit.*\u001B[39m\u001B[38;5;124m\"\u001B[39m)\n\u001B[0;32m   1137\u001B[0m     lags_list\u001B[38;5;241m.\u001B[39mappend(lags)\n",
      "File \u001B[1;32mC:\\school\\minor-ai\\lettuce-cnn\\lib\\site-packages\\skforecast\\model_selection\\model_selection.py:729\u001B[0m, in \u001B[0;36mbacktesting_forecaster\u001B[1;34m(forecaster, y, steps, metric, initial_train_size, fixed_train_size, exog, refit, interval, n_boot, random_state, in_sample_residuals, verbose)\u001B[0m\n\u001B[0;32m    724\u001B[0m     \u001B[38;5;28;01mraise\u001B[39;00m \u001B[38;5;167;01mValueError\u001B[39;00m(\n\u001B[0;32m    725\u001B[0m         \u001B[38;5;124m'\u001B[39m\u001B[38;5;124mIf used, `initial_train_size` must be smaller than length of `y`.\u001B[39m\u001B[38;5;124m'\u001B[39m\n\u001B[0;32m    726\u001B[0m     )\n\u001B[0;32m    728\u001B[0m \u001B[38;5;28;01mif\u001B[39;00m initial_train_size \u001B[38;5;129;01mis\u001B[39;00m \u001B[38;5;129;01mnot\u001B[39;00m \u001B[38;5;28;01mNone\u001B[39;00m \u001B[38;5;129;01mand\u001B[39;00m initial_train_size \u001B[38;5;241m<\u001B[39m forecaster\u001B[38;5;241m.\u001B[39mwindow_size:\n\u001B[1;32m--> 729\u001B[0m     \u001B[38;5;28;01mraise\u001B[39;00m \u001B[38;5;167;01mValueError\u001B[39;00m(\n\u001B[0;32m    730\u001B[0m         \u001B[38;5;124mf\u001B[39m\u001B[38;5;124m\"\u001B[39m\u001B[38;5;124m`initial_train_size` must be greater than \u001B[39m\u001B[38;5;124m\"\u001B[39m\n\u001B[0;32m    731\u001B[0m         \u001B[38;5;124mf\u001B[39m\u001B[38;5;124m\"\u001B[39m\u001B[38;5;124mforecaster\u001B[39m\u001B[38;5;124m'\u001B[39m\u001B[38;5;124ms window_size (\u001B[39m\u001B[38;5;132;01m{\u001B[39;00mforecaster\u001B[38;5;241m.\u001B[39mwindow_size\u001B[38;5;132;01m}\u001B[39;00m\u001B[38;5;124m).\u001B[39m\u001B[38;5;124m\"\u001B[39m\n\u001B[0;32m    732\u001B[0m     )\n\u001B[0;32m    734\u001B[0m \u001B[38;5;28;01mif\u001B[39;00m initial_train_size \u001B[38;5;129;01mis\u001B[39;00m \u001B[38;5;28;01mNone\u001B[39;00m \u001B[38;5;129;01mand\u001B[39;00m \u001B[38;5;129;01mnot\u001B[39;00m forecaster\u001B[38;5;241m.\u001B[39mfitted:\n\u001B[0;32m    735\u001B[0m     \u001B[38;5;28;01mraise\u001B[39;00m NotFittedError(\n\u001B[0;32m    736\u001B[0m         \u001B[38;5;124m'\u001B[39m\u001B[38;5;124m`forecaster` must be already trained if no `initial_train_size` is provided.\u001B[39m\u001B[38;5;124m'\u001B[39m\n\u001B[0;32m    737\u001B[0m     )\n",
      "\u001B[1;31mValueError\u001B[0m: `initial_train_size` must be greater than forecaster's window_size (10)."
     ]
    }
   ],
   "source": [
    "param_grid = {\n",
    "    'n_estimators': [50, 100],\n",
    "    'max_depth': [3, 5, 10],\n",
    "    'learning_rate': [0.01, 0.1]\n",
    "}\n",
    "\n",
    "# Lags used as predictors\n",
    "lags_grid = [3,10, [1, 2, 3,20]]\n",
    "\n",
    "\n",
    "results_grid = grid_search_forecaster(\n",
    "    forecaster         = forecaster,\n",
    "    y                  = df.loc[:end_validation_date, 'Diameter'], # Train and validation data\n",
    "    param_grid         = param_grid,\n",
    "    lags_grid          = lags_grid,\n",
    "    steps              = 11,\n",
    "    refit              = False,\n",
    "    metric             = 'mean_squared_error',\n",
    "    initial_train_size = int(len(data_train)), # Model is trained with trainign data\n",
    "    fixed_train_size   = False,\n",
    "    return_best        = True,\n",
    "    verbose            = False\n",
    ")"
   ],
   "metadata": {
    "collapsed": false,
    "pycharm": {
     "name": "#%%\n"
    }
   }
  },
  {
   "cell_type": "markdown",
   "source": [],
   "metadata": {
    "collapsed": false,
    "pycharm": {
     "name": "#%% md\n"
    }
   }
  },
  {
   "cell_type": "code",
   "execution_count": null,
   "outputs": [],
   "source": [
    "results_grid.head(10)"
   ],
   "metadata": {
    "collapsed": false,
    "pycharm": {
     "name": "#%%\n"
    }
   }
  },
  {
   "cell_type": "code",
   "execution_count": null,
   "outputs": [],
   "source": [
    "metric, predictions = backtesting_forecaster(\n",
    "    forecaster = forecaster,\n",
    "    y          = df['Diameter'],\n",
    "    initial_train_size = len(df.loc[:end_validation_date]),\n",
    "    fixed_train_size   = False,\n",
    "    steps      = 10,\n",
    "    refit      = False,\n",
    "    metric     = 'mean_squared_error',\n",
    "    verbose    = False # Change to True to see detailed information\n",
    ")\n",
    "\n",
    "print(f\"Backtest error: {metric}\")"
   ],
   "metadata": {
    "collapsed": false,
    "pycharm": {
     "name": "#%%\n"
    }
   }
  },
  {
   "cell_type": "code",
   "execution_count": null,
   "outputs": [],
   "source": [
    "print(backtesting_forecaster.__doc__)"
   ],
   "metadata": {
    "collapsed": false,
    "pycharm": {
     "name": "#%%\n"
    }
   }
  },
  {
   "cell_type": "code",
   "execution_count": null,
   "outputs": [],
   "source": [
    "predictions.head()"
   ],
   "metadata": {
    "collapsed": false,
    "pycharm": {
     "name": "#%%\n"
    }
   }
  },
  {
   "cell_type": "code",
   "execution_count": null,
   "outputs": [],
   "source": [
    "fig, ax = plt.subplots(figsize=(11, 4))\n",
    "data_test['Diameter'].plot(ax=ax, label='test')\n",
    "predictions['pred'].plot(ax=ax, label='predictions')\n",
    "ax.legend();"
   ],
   "metadata": {
    "collapsed": false,
    "pycharm": {
     "name": "#%%\n"
    }
   }
  }
 ],
 "metadata": {
  "kernelspec": {
   "display_name": "Python 3",
   "language": "python",
   "name": "python3"
  },
  "language_info": {
   "codemirror_mode": {
    "name": "ipython",
    "version": 2
   },
   "file_extension": ".py",
   "mimetype": "text/x-python",
   "name": "python",
   "nbconvert_exporter": "python",
   "pygments_lexer": "ipython2",
   "version": "2.7.6"
  }
 },
 "nbformat": 4,
 "nbformat_minor": 0
}