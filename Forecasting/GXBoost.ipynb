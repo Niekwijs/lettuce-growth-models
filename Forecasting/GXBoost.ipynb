{
 "cells": [
  {
   "cell_type": "code",
   "execution_count": 54,
   "metadata": {
    "collapsed": true,
    "pycharm": {
     "name": "#%%\n"
    }
   },
   "outputs": [],
   "source": [
    "import pandas as pd\n",
    "import numpy as np\n",
    "import datetime\n",
    "\n",
    "# plot imports\n",
    "import seaborn as sns\n",
    "import matplotlib.pyplot as plt\n",
    "\n",
    "# moddeling and forecasting\n",
    "from xgboost import XGBRegressor\n"
   ]
  },
  {
   "cell_type": "code",
   "execution_count": 55,
   "outputs": [
    {
     "data": {
      "text/plain": "    Variety  RGB_Image Depth_Information  FreshWeightShoot  DryWeightShoot  \\\n229  Satine  RGB_1.png       Depth_1.png               2.6            0.14   \n362  Satine  RGB_2.png       Depth_2.png               2.1            0.10   \n258  Satine  RGB_3.png       Depth_3.png               2.0            0.09   \n263  Satine  RGB_4.png       Depth_4.png               2.7            0.13   \n224  Lugano  RGB_5.png       Depth_5.png               2.3            0.11   \n\n     Height  Diameter  LeafArea  ID     Week        Date  \n229     8.2      12.0      80.6   1  2021-W1  2021-01-04  \n362     8.5       8.2      67.4   2  2021-W1  2021-01-04  \n258     7.5       9.5      65.0   3  2021-W1  2021-01-04  \n263     6.0      10.6      78.7   4  2021-W1  2021-01-04  \n224     8.3       9.8      73.9   5  2021-W1  2021-01-04  ",
      "text/html": "<div>\n<style scoped>\n    .dataframe tbody tr th:only-of-type {\n        vertical-align: middle;\n    }\n\n    .dataframe tbody tr th {\n        vertical-align: top;\n    }\n\n    .dataframe thead th {\n        text-align: right;\n    }\n</style>\n<table border=\"1\" class=\"dataframe\">\n  <thead>\n    <tr style=\"text-align: right;\">\n      <th></th>\n      <th>Variety</th>\n      <th>RGB_Image</th>\n      <th>Depth_Information</th>\n      <th>FreshWeightShoot</th>\n      <th>DryWeightShoot</th>\n      <th>Height</th>\n      <th>Diameter</th>\n      <th>LeafArea</th>\n      <th>ID</th>\n      <th>Week</th>\n      <th>Date</th>\n    </tr>\n  </thead>\n  <tbody>\n    <tr>\n      <th>229</th>\n      <td>Satine</td>\n      <td>RGB_1.png</td>\n      <td>Depth_1.png</td>\n      <td>2.6</td>\n      <td>0.14</td>\n      <td>8.2</td>\n      <td>12.0</td>\n      <td>80.6</td>\n      <td>1</td>\n      <td>2021-W1</td>\n      <td>2021-01-04</td>\n    </tr>\n    <tr>\n      <th>362</th>\n      <td>Satine</td>\n      <td>RGB_2.png</td>\n      <td>Depth_2.png</td>\n      <td>2.1</td>\n      <td>0.10</td>\n      <td>8.5</td>\n      <td>8.2</td>\n      <td>67.4</td>\n      <td>2</td>\n      <td>2021-W1</td>\n      <td>2021-01-04</td>\n    </tr>\n    <tr>\n      <th>258</th>\n      <td>Satine</td>\n      <td>RGB_3.png</td>\n      <td>Depth_3.png</td>\n      <td>2.0</td>\n      <td>0.09</td>\n      <td>7.5</td>\n      <td>9.5</td>\n      <td>65.0</td>\n      <td>3</td>\n      <td>2021-W1</td>\n      <td>2021-01-04</td>\n    </tr>\n    <tr>\n      <th>263</th>\n      <td>Satine</td>\n      <td>RGB_4.png</td>\n      <td>Depth_4.png</td>\n      <td>2.7</td>\n      <td>0.13</td>\n      <td>6.0</td>\n      <td>10.6</td>\n      <td>78.7</td>\n      <td>4</td>\n      <td>2021-W1</td>\n      <td>2021-01-04</td>\n    </tr>\n    <tr>\n      <th>224</th>\n      <td>Lugano</td>\n      <td>RGB_5.png</td>\n      <td>Depth_5.png</td>\n      <td>2.3</td>\n      <td>0.11</td>\n      <td>8.3</td>\n      <td>9.8</td>\n      <td>73.9</td>\n      <td>5</td>\n      <td>2021-W1</td>\n      <td>2021-01-04</td>\n    </tr>\n  </tbody>\n</table>\n</div>"
     },
     "execution_count": 55,
     "metadata": {},
     "output_type": "execute_result"
    }
   ],
   "source": [
    "df = pd.read_csv(\"../measurements\")\n",
    "\n",
    "df.head()"
   ],
   "metadata": {
    "collapsed": false,
    "pycharm": {
     "name": "#%%\n"
    }
   }
  },
  {
   "cell_type": "code",
   "execution_count": 56,
   "outputs": [
    {
     "data": {
      "text/plain": "array(['2021-01-04', '2021-01-11', '2021-01-18', '2021-01-25',\n       '2021-02-01', '2021-02-08', '2021-02-15'], dtype=object)"
     },
     "execution_count": 56,
     "metadata": {},
     "output_type": "execute_result"
    }
   ],
   "source": [
    "df[\"Date\"].unique()"
   ],
   "metadata": {
    "collapsed": false,
    "pycharm": {
     "name": "#%%\n"
    }
   }
  },
  {
   "cell_type": "code",
   "execution_count": 57,
   "outputs": [],
   "source": [
    "def prepare_dataframe(df):\n",
    "    df['date_time'] = pd.to_datetime(df['Date'], format='%Y-%m-%d %H:%M:%S')\n",
    "    # changed in dex to date\n",
    "    df = df.set_index('date_time')\n",
    "\n",
    "    # splice of unecessary colums\n",
    "    df = df.loc(axis=1)[\"Variety\", \"FreshWeightShoot\", \"DryWeightShoot\", \"Height\", \"Diameter\", \"LeafArea\",\"ID\"]\n",
    "    return df\n",
    "\n"
   ],
   "metadata": {
    "collapsed": false,
    "pycharm": {
     "name": "#%%\n"
    }
   }
  },
  {
   "cell_type": "code",
   "execution_count": 58,
   "outputs": [
    {
     "data": {
      "text/plain": "           Variety  FreshWeightShoot  DryWeightShoot  Height  Diameter  \\\ndate_time                                                                \n2021-01-04  Satine               2.6            0.14     8.2      12.0   \n2021-01-04  Satine               2.1            0.10     8.5       8.2   \n2021-01-04  Satine               2.0            0.09     7.5       9.5   \n2021-01-04  Satine               2.7            0.13     6.0      10.6   \n2021-01-04  Lugano               2.3            0.11     8.3       9.8   \n...            ...               ...             ...     ...       ...   \n2021-02-15  Satine             163.2            9.17    16.0      26.0   \n2021-02-15  Satine             180.6           10.01    17.0      31.0   \n2021-02-15  Satine             209.3            8.19    15.0      25.6   \n2021-02-15  Satine             204.5            9.20    18.0      32.0   \n2021-02-15  Satine             216.6            8.74    17.1      25.1   \n\n            LeafArea   ID  \ndate_time                  \n2021-01-04      80.6    1  \n2021-01-04      67.4    2  \n2021-01-04      65.0    3  \n2021-01-04      78.7    4  \n2021-01-04      73.9    5  \n...              ...  ...  \n2021-02-15    1858.3  387  \n2021-02-15    1805.6  388  \n2021-02-15    2257.1  389  \n2021-02-15    3179.4  390  \n2021-02-15    3279.8  391  \n\n[388 rows x 7 columns]",
      "text/html": "<div>\n<style scoped>\n    .dataframe tbody tr th:only-of-type {\n        vertical-align: middle;\n    }\n\n    .dataframe tbody tr th {\n        vertical-align: top;\n    }\n\n    .dataframe thead th {\n        text-align: right;\n    }\n</style>\n<table border=\"1\" class=\"dataframe\">\n  <thead>\n    <tr style=\"text-align: right;\">\n      <th></th>\n      <th>Variety</th>\n      <th>FreshWeightShoot</th>\n      <th>DryWeightShoot</th>\n      <th>Height</th>\n      <th>Diameter</th>\n      <th>LeafArea</th>\n      <th>ID</th>\n    </tr>\n    <tr>\n      <th>date_time</th>\n      <th></th>\n      <th></th>\n      <th></th>\n      <th></th>\n      <th></th>\n      <th></th>\n      <th></th>\n    </tr>\n  </thead>\n  <tbody>\n    <tr>\n      <th>2021-01-04</th>\n      <td>Satine</td>\n      <td>2.6</td>\n      <td>0.14</td>\n      <td>8.2</td>\n      <td>12.0</td>\n      <td>80.6</td>\n      <td>1</td>\n    </tr>\n    <tr>\n      <th>2021-01-04</th>\n      <td>Satine</td>\n      <td>2.1</td>\n      <td>0.10</td>\n      <td>8.5</td>\n      <td>8.2</td>\n      <td>67.4</td>\n      <td>2</td>\n    </tr>\n    <tr>\n      <th>2021-01-04</th>\n      <td>Satine</td>\n      <td>2.0</td>\n      <td>0.09</td>\n      <td>7.5</td>\n      <td>9.5</td>\n      <td>65.0</td>\n      <td>3</td>\n    </tr>\n    <tr>\n      <th>2021-01-04</th>\n      <td>Satine</td>\n      <td>2.7</td>\n      <td>0.13</td>\n      <td>6.0</td>\n      <td>10.6</td>\n      <td>78.7</td>\n      <td>4</td>\n    </tr>\n    <tr>\n      <th>2021-01-04</th>\n      <td>Lugano</td>\n      <td>2.3</td>\n      <td>0.11</td>\n      <td>8.3</td>\n      <td>9.8</td>\n      <td>73.9</td>\n      <td>5</td>\n    </tr>\n    <tr>\n      <th>...</th>\n      <td>...</td>\n      <td>...</td>\n      <td>...</td>\n      <td>...</td>\n      <td>...</td>\n      <td>...</td>\n      <td>...</td>\n    </tr>\n    <tr>\n      <th>2021-02-15</th>\n      <td>Satine</td>\n      <td>163.2</td>\n      <td>9.17</td>\n      <td>16.0</td>\n      <td>26.0</td>\n      <td>1858.3</td>\n      <td>387</td>\n    </tr>\n    <tr>\n      <th>2021-02-15</th>\n      <td>Satine</td>\n      <td>180.6</td>\n      <td>10.01</td>\n      <td>17.0</td>\n      <td>31.0</td>\n      <td>1805.6</td>\n      <td>388</td>\n    </tr>\n    <tr>\n      <th>2021-02-15</th>\n      <td>Satine</td>\n      <td>209.3</td>\n      <td>8.19</td>\n      <td>15.0</td>\n      <td>25.6</td>\n      <td>2257.1</td>\n      <td>389</td>\n    </tr>\n    <tr>\n      <th>2021-02-15</th>\n      <td>Satine</td>\n      <td>204.5</td>\n      <td>9.20</td>\n      <td>18.0</td>\n      <td>32.0</td>\n      <td>3179.4</td>\n      <td>390</td>\n    </tr>\n    <tr>\n      <th>2021-02-15</th>\n      <td>Satine</td>\n      <td>216.6</td>\n      <td>8.74</td>\n      <td>17.1</td>\n      <td>25.1</td>\n      <td>3279.8</td>\n      <td>391</td>\n    </tr>\n  </tbody>\n</table>\n<p>388 rows × 7 columns</p>\n</div>"
     },
     "execution_count": 58,
     "metadata": {},
     "output_type": "execute_result"
    }
   ],
   "source": [
    "df = prepare_dataframe(df)\n",
    "df"
   ],
   "metadata": {
    "collapsed": false,
    "pycharm": {
     "name": "#%%\n"
    }
   }
  },
  {
   "cell_type": "code",
   "execution_count": 69,
   "outputs": [],
   "source": [
    "def split_data(train_weeks, validation_weeks):\n",
    "    # Raises exception when te requested amount of weeks is to big\n",
    "    if train_weeks + validation_weeks > 6:\n",
    "        raise Exception(\"To many weeks!\")\n",
    "\n",
    "    # Calculate datetime from weeks\n",
    "    start_date = datetime.datetime(2021,1,4)\n",
    "    end_train_date = start_date + datetime.timedelta(weeks=train_weeks -1 )\n",
    "    end_validation_date = end_train_date + datetime.timedelta(weeks=validation_weeks)\n",
    "\n",
    "    #format datetime to %Y-%m-%d\n",
    "    end_train_date = end_train_date.strftime(format=\"%m-%d-%Y\")\n",
    "    end_validation_date = end_validation_date.strftime(format=\"%m-%d-%Y\")\n",
    "\n",
    "    data_train = df.loc[: end_train_date, :]\n",
    "    data_val   = df.loc[end_train_date:end_validation_date, :]\n",
    "    data_test  = df.loc[end_validation_date:, :]\n",
    "\n",
    "    return data_train, data_val, data_test\n",
    "\n"
   ],
   "metadata": {
    "collapsed": false,
    "pycharm": {
     "name": "#%%\n"
    }
   }
  },
  {
   "cell_type": "code",
   "execution_count": 70,
   "outputs": [],
   "source": [
    "data_train, data_val, data_test = split_data(4,2)"
   ],
   "metadata": {
    "collapsed": false,
    "pycharm": {
     "name": "#%%\n"
    }
   }
  },
  {
   "cell_type": "code",
   "execution_count": 74,
   "outputs": [
    {
     "name": "stdout",
     "output_type": "stream",
     "text": [
      "<class 'pandas.core.frame.DataFrame'>\n",
      "DatetimeIndex: 228 entries, 2021-01-04 to 2021-01-25\n",
      "Data columns (total 7 columns):\n",
      " #   Column            Non-Null Count  Dtype  \n",
      "---  ------            --------------  -----  \n",
      " 0   Variety           228 non-null    object \n",
      " 1   FreshWeightShoot  228 non-null    float64\n",
      " 2   DryWeightShoot    228 non-null    float64\n",
      " 3   Height            228 non-null    float64\n",
      " 4   Diameter          228 non-null    float64\n",
      " 5   LeafArea          228 non-null    float64\n",
      " 6   ID                228 non-null    int64  \n",
      "dtypes: float64(5), int64(1), object(1)\n",
      "memory usage: 14.2+ KB\n",
      "<class 'pandas.core.frame.DataFrame'>\n",
      "DatetimeIndex: 181 entries, 2021-01-25 to 2021-02-08\n",
      "Data columns (total 7 columns):\n",
      " #   Column            Non-Null Count  Dtype  \n",
      "---  ------            --------------  -----  \n",
      " 0   Variety           181 non-null    object \n",
      " 1   FreshWeightShoot  181 non-null    float64\n",
      " 2   DryWeightShoot    181 non-null    float64\n",
      " 3   Height            181 non-null    float64\n",
      " 4   Diameter          181 non-null    float64\n",
      " 5   LeafArea          181 non-null    float64\n",
      " 6   ID                181 non-null    int64  \n",
      "dtypes: float64(5), int64(1), object(1)\n",
      "memory usage: 11.3+ KB\n",
      "<class 'pandas.core.frame.DataFrame'>\n",
      "DatetimeIndex: 116 entries, 2021-02-08 to 2021-02-15\n",
      "Data columns (total 7 columns):\n",
      " #   Column            Non-Null Count  Dtype  \n",
      "---  ------            --------------  -----  \n",
      " 0   Variety           116 non-null    object \n",
      " 1   FreshWeightShoot  116 non-null    float64\n",
      " 2   DryWeightShoot    116 non-null    float64\n",
      " 3   Height            116 non-null    float64\n",
      " 4   Diameter          116 non-null    float64\n",
      " 5   LeafArea          116 non-null    float64\n",
      " 6   ID                116 non-null    int64  \n",
      "dtypes: float64(5), int64(1), object(1)\n",
      "memory usage: 7.2+ KB\n"
     ]
    }
   ],
   "source": [],
   "metadata": {
    "collapsed": false,
    "pycharm": {
     "name": "#%%\n"
    }
   }
  }
 ],
 "metadata": {
  "kernelspec": {
   "display_name": "Python 3",
   "language": "python",
   "name": "python3"
  },
  "language_info": {
   "codemirror_mode": {
    "name": "ipython",
    "version": 2
   },
   "file_extension": ".py",
   "mimetype": "text/x-python",
   "name": "python",
   "nbconvert_exporter": "python",
   "pygments_lexer": "ipython2",
   "version": "2.7.6"
  }
 },
 "nbformat": 4,
 "nbformat_minor": 0
}