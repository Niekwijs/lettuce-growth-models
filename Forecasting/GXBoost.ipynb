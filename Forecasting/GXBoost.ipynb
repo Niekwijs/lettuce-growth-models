{
 "cells": [
  {
   "cell_type": "code",
   "execution_count": 139,
   "metadata": {
    "collapsed": true,
    "pycharm": {
     "name": "#%%\n"
    }
   },
   "outputs": [],
   "source": [
    "import pandas as pd\n",
    "import numpy as np\n",
    "import datetime\n",
    "\n",
    "# plot imports\n",
    "import seaborn as sns\n",
    "import matplotlib.pyplot as plt\n",
    "\n",
    "from sklearn.preprocessing import OneHotEncoder\n",
    "from sklearn.preprocessing import StandardScaler\n",
    "from sklearn.compose import ColumnTransformer\n",
    "\n",
    "from skforecast.ForecasterAutoreg import ForecasterAutoreg\n",
    "from skforecast.ForecasterAutoregMultiOutput import ForecasterAutoregMultiOutput\n",
    "from skforecast.model_selection import grid_search_forecaster\n",
    "from skforecast.model_selection import backtesting_forecaster\n",
    "\n",
    "\n",
    "# moddeling and forecasting\n",
    "from xgboost import XGBRegressor\n"
   ]
  },
  {
   "cell_type": "code",
   "execution_count": 140,
   "outputs": [
    {
     "data": {
      "text/plain": "    Variety  RGB_Image Depth_Information  FreshWeightShoot  DryWeightShoot  \\\n229  Satine  RGB_1.png       Depth_1.png               2.6            0.14   \n362  Satine  RGB_2.png       Depth_2.png               2.1            0.10   \n258  Satine  RGB_3.png       Depth_3.png               2.0            0.09   \n263  Satine  RGB_4.png       Depth_4.png               2.7            0.13   \n224  Lugano  RGB_5.png       Depth_5.png               2.3            0.11   \n\n     Height  Diameter  LeafArea  ID     Week        Date  \n229     8.2      12.0      80.6   1  2021-W1  2021-01-04  \n362     8.5       8.2      67.4   2  2021-W1  2021-01-04  \n258     7.5       9.5      65.0   3  2021-W1  2021-01-04  \n263     6.0      10.6      78.7   4  2021-W1  2021-01-04  \n224     8.3       9.8      73.9   5  2021-W1  2021-01-04  ",
      "text/html": "<div>\n<style scoped>\n    .dataframe tbody tr th:only-of-type {\n        vertical-align: middle;\n    }\n\n    .dataframe tbody tr th {\n        vertical-align: top;\n    }\n\n    .dataframe thead th {\n        text-align: right;\n    }\n</style>\n<table border=\"1\" class=\"dataframe\">\n  <thead>\n    <tr style=\"text-align: right;\">\n      <th></th>\n      <th>Variety</th>\n      <th>RGB_Image</th>\n      <th>Depth_Information</th>\n      <th>FreshWeightShoot</th>\n      <th>DryWeightShoot</th>\n      <th>Height</th>\n      <th>Diameter</th>\n      <th>LeafArea</th>\n      <th>ID</th>\n      <th>Week</th>\n      <th>Date</th>\n    </tr>\n  </thead>\n  <tbody>\n    <tr>\n      <th>229</th>\n      <td>Satine</td>\n      <td>RGB_1.png</td>\n      <td>Depth_1.png</td>\n      <td>2.6</td>\n      <td>0.14</td>\n      <td>8.2</td>\n      <td>12.0</td>\n      <td>80.6</td>\n      <td>1</td>\n      <td>2021-W1</td>\n      <td>2021-01-04</td>\n    </tr>\n    <tr>\n      <th>362</th>\n      <td>Satine</td>\n      <td>RGB_2.png</td>\n      <td>Depth_2.png</td>\n      <td>2.1</td>\n      <td>0.10</td>\n      <td>8.5</td>\n      <td>8.2</td>\n      <td>67.4</td>\n      <td>2</td>\n      <td>2021-W1</td>\n      <td>2021-01-04</td>\n    </tr>\n    <tr>\n      <th>258</th>\n      <td>Satine</td>\n      <td>RGB_3.png</td>\n      <td>Depth_3.png</td>\n      <td>2.0</td>\n      <td>0.09</td>\n      <td>7.5</td>\n      <td>9.5</td>\n      <td>65.0</td>\n      <td>3</td>\n      <td>2021-W1</td>\n      <td>2021-01-04</td>\n    </tr>\n    <tr>\n      <th>263</th>\n      <td>Satine</td>\n      <td>RGB_4.png</td>\n      <td>Depth_4.png</td>\n      <td>2.7</td>\n      <td>0.13</td>\n      <td>6.0</td>\n      <td>10.6</td>\n      <td>78.7</td>\n      <td>4</td>\n      <td>2021-W1</td>\n      <td>2021-01-04</td>\n    </tr>\n    <tr>\n      <th>224</th>\n      <td>Lugano</td>\n      <td>RGB_5.png</td>\n      <td>Depth_5.png</td>\n      <td>2.3</td>\n      <td>0.11</td>\n      <td>8.3</td>\n      <td>9.8</td>\n      <td>73.9</td>\n      <td>5</td>\n      <td>2021-W1</td>\n      <td>2021-01-04</td>\n    </tr>\n  </tbody>\n</table>\n</div>"
     },
     "execution_count": 140,
     "metadata": {},
     "output_type": "execute_result"
    }
   ],
   "source": [
    "df = pd.read_csv(\"../measurements\")\n",
    "\n",
    "df.head()"
   ],
   "metadata": {
    "collapsed": false,
    "pycharm": {
     "name": "#%%\n"
    }
   }
  },
  {
   "cell_type": "code",
   "execution_count": 141,
   "outputs": [
    {
     "data": {
      "text/plain": "array(['2021-01-04', '2021-01-11', '2021-01-18', '2021-01-25',\n       '2021-02-01', '2021-02-08', '2021-02-15'], dtype=object)"
     },
     "execution_count": 141,
     "metadata": {},
     "output_type": "execute_result"
    }
   ],
   "source": [
    "df[\"Date\"].unique()"
   ],
   "metadata": {
    "collapsed": false,
    "pycharm": {
     "name": "#%%\n"
    }
   }
  },
  {
   "cell_type": "code",
   "execution_count": 142,
   "outputs": [],
   "source": [
    "def prepare_dataframe(df, variety):\n",
    "    #%Y-%m-%d\n",
    "    df['date_time'] = pd.to_datetime(df['Date'], format='%Y-%m-%d')\n",
    "    # # changed index to date\n",
    "    df = df.set_index('date_time')\n",
    "    # df = df.asfreq('H')\n",
    "    # df = df.sort_index()\n",
    "\n",
    "\n",
    "    # splice of unecessary colums and rows\n",
    "    df = df.loc(axis=1)[\"Variety\", \"FreshWeightShoot\", \"DryWeightShoot\", \"Height\", \"Diameter\", \"LeafArea\",\"ID\"]\n",
    "    df = df.loc[df[\"Variety\"] == variety]\n",
    "\n",
    "\n",
    "\n",
    "    return df"
   ],
   "metadata": {
    "collapsed": false,
    "pycharm": {
     "name": "#%%\n"
    }
   }
  },
  {
   "cell_type": "code",
   "execution_count": 143,
   "outputs": [],
   "source": [
    "df = prepare_dataframe(df, \"Satine\")"
   ],
   "metadata": {
    "collapsed": false,
    "pycharm": {
     "name": "#%%\n"
    }
   }
  },
  {
   "cell_type": "code",
   "execution_count": 144,
   "outputs": [],
   "source": [
    "def split_data(train_weeks, validation_weeks):\n",
    "    # Raises exception when te requested amount of weeks is to big\n",
    "    if train_weeks + validation_weeks > 6:\n",
    "        raise Exception(\"To many weeks!\")\n",
    "\n",
    "    # Calculate datetime from weeks\n",
    "    start_date = datetime.datetime(2021,1,4)\n",
    "    end_train_date = start_date + datetime.timedelta(weeks=train_weeks -1 )\n",
    "    end_validation_date = end_train_date + datetime.timedelta(weeks=validation_weeks)\n",
    "\n",
    "    #format datetime to %Y-%m-%d\n",
    "    end_train_date = end_train_date.strftime(format='%Y-%m-%d')\n",
    "    end_validation_date = end_validation_date.strftime(format='%Y-%m-%d')\n",
    "\n",
    "\n",
    "    data_train = df.loc[: end_train_date, :]\n",
    "    data_val   = df.loc[end_train_date:end_validation_date, :]\n",
    "    data_test  = df.loc[end_validation_date:, :]\n",
    "\n",
    "    return data_train, data_val, data_test, end_train_date, end_validation_date\n",
    "\n"
   ],
   "metadata": {
    "collapsed": false,
    "pycharm": {
     "name": "#%%\n"
    }
   }
  },
  {
   "cell_type": "code",
   "execution_count": 145,
   "outputs": [],
   "source": [
    "data_train, data_val, data_test,end_train_date, end_validation_date  = split_data(4,2)"
   ],
   "metadata": {
    "collapsed": false,
    "pycharm": {
     "name": "#%%\n"
    }
   }
  },
  {
   "cell_type": "code",
   "execution_count": 146,
   "outputs": [
    {
     "data": {
      "text/plain": "<Figure size 1100x400 with 1 Axes>",
      "image/png": "[encoded data removed]"
     },
     "metadata": {},
     "output_type": "display_data"
    }
   ],
   "source": [
    "data_val_mean = data_val.groupby('date_time').mean()\n",
    "data_test_mean = data_test.groupby('date_time').mean()\n",
    "data_train_mean = data_train.groupby('date_time').mean()\n",
    "\n",
    "fig, ax = plt.subplots(figsize=(11, 4))\n",
    "data_train_mean['Diameter'].plot(ax=ax, label='train')\n",
    "data_val_mean['Diameter'].plot(ax=ax, label='validation')\n",
    "data_test_mean['Diameter'].plot(ax=ax, label='test')\n",
    "ax.set_title(' Diameter')\n",
    "ax.legend();"
   ],
   "metadata": {
    "collapsed": false,
    "pycharm": {
     "name": "#%%\n"
    }
   }
  },
  {
   "cell_type": "markdown",
   "source": [
    "XGBoost"
   ],
   "metadata": {
    "collapsed": false,
    "pycharm": {
     "name": "#%% md\n"
    }
   }
  },
  {
   "cell_type": "code",
   "execution_count": 147,
   "outputs": [
    {
     "data": {
      "text/plain": "================= \nForecasterAutoreg \n================= \nRegressor: XGBRegressor(base_score=None, booster=None, callbacks=None,\n             colsample_bylevel=None, colsample_bynode=None,\n             colsample_bytree=None, early_stopping_rounds=None,\n             enable_categorical=False, eval_metric=None, feature_types=None,\n             gamma=None, gpu_id=None, grow_policy=None, importance_type=None,\n             interaction_constraints=None, learning_rate=None, max_bin=None,\n             max_cat_threshold=None, max_cat_to_onehot=None,\n             max_delta_step=None, max_depth=None, max_leaves=None,\n             min_child_weight=None, missing=nan, monotone_constraints=None,\n             n_estimators=100, n_jobs=None, num_parallel_tree=None,\n             predictor=None, random_state=123, ...) \nLags: [ 1  2  3  4  5  6  7  8  9 10] \nTransformer for y: None \nTransformer for exog: None \nWindow size: 10 \nWeight function included: False \nExogenous included: False \nType of exogenous variable: None \nExogenous variables names: None \nTraining range: None \nTraining index type: None \nTraining index frequency: None \nRegressor parameters: {'objective': 'reg:squarederror', 'base_score': None, 'booster': None, 'callbacks': None, 'colsample_bylevel': None, 'colsample_bynode': None, 'colsample_bytree': None, 'early_stopping_rounds': None, 'enable_categorical': False, 'eval_metric': None, 'feature_types': None, 'gamma': None, 'gpu_id': None, 'grow_policy': None, 'importance_type': None, 'interaction_constraints': None, 'learning_rate': None, 'max_bin': None, 'max_cat_threshold': None, 'max_cat_to_onehot': None, 'max_delta_step': None, 'max_depth': None, 'max_leaves': None, 'min_child_weight': None, 'missing': nan, 'monotone_constraints': None, 'n_estimators': 100, 'n_jobs': None, 'num_parallel_tree': None, 'predictor': None, 'random_state': 123, 'reg_alpha': None, 'reg_lambda': None, 'sampling_method': None, 'scale_pos_weight': None, 'subsample': None, 'tree_method': None, 'validate_parameters': None, 'verbosity': None} \nCreation date: 2023-01-11 15:28:29 \nLast fit date: None \nSkforecast version: 0.6.0 \nPython version: 3.9.4 "
     },
     "execution_count": 147,
     "metadata": {},
     "output_type": "execute_result"
    }
   ],
   "source": [
    "def create_forecaster(lags):\n",
    "    forecaster = ForecasterAutoreg(\n",
    "        regressor = XGBRegressor(random_state=123),\n",
    "        lags = lags\n",
    "    )\n",
    "    return forecaster\n",
    "\n",
    "forecaster = create_forecaster(10)\n",
    "\n",
    "forecaster"
   ],
   "metadata": {
    "collapsed": false,
    "pycharm": {
     "name": "#%%\n"
    }
   }
  },
  {
   "cell_type": "code",
   "execution_count": 148,
   "outputs": [
    {
     "name": "stdout",
     "output_type": "stream",
     "text": [
      "Number of models compared: 36.\n"
     ]
    },
    {
     "name": "stderr",
     "output_type": "stream",
     "text": [
      "loop lags_grid:   0%|                                               | 0/3 [00:00<?, ?it/s]\n",
      "loop param_grid:   0%|                                             | 0/12 [00:00<?, ?it/s]\u001B[AC:\\school\\minor-ai\\lettuce-cnn\\lib\\site-packages\\skforecast\\utils\\utils.py:522: UserWarning: `y` has DatetimeIndex index but no frequency. Index is overwritten with a RangeIndex of step 1.\n",
      "  warnings.warn(\n",
      "C:\\school\\minor-ai\\lettuce-cnn\\lib\\site-packages\\skforecast\\utils\\utils.py:579: UserWarning: `last_window` has DatetimeIndex index but no frequency. Index is overwritten with a RangeIndex of step 1.\n",
      "  warnings.warn(\n",
      "C:\\school\\minor-ai\\lettuce-cnn\\lib\\site-packages\\skforecast\\utils\\utils.py:579: UserWarning: `last_window` has DatetimeIndex index but no frequency. Index is overwritten with a RangeIndex of step 1.\n",
      "  warnings.warn(\n",
      "C:\\school\\minor-ai\\lettuce-cnn\\lib\\site-packages\\skforecast\\utils\\utils.py:579: UserWarning: `last_window` has DatetimeIndex index but no frequency. Index is overwritten with a RangeIndex of step 1.\n",
      "  warnings.warn(\n",
      "\n",
      "loop param_grid:   8%|███                                  | 1/12 [00:00<00:04,  2.31it/s]\u001B[AC:\\school\\minor-ai\\lettuce-cnn\\lib\\site-packages\\skforecast\\utils\\utils.py:522: UserWarning: `y` has DatetimeIndex index but no frequency. Index is overwritten with a RangeIndex of step 1.\n",
      "  warnings.warn(\n",
      "C:\\school\\minor-ai\\lettuce-cnn\\lib\\site-packages\\skforecast\\utils\\utils.py:579: UserWarning: `last_window` has DatetimeIndex index but no frequency. Index is overwritten with a RangeIndex of step 1.\n",
      "  warnings.warn(\n",
      "C:\\school\\minor-ai\\lettuce-cnn\\lib\\site-packages\\skforecast\\utils\\utils.py:579: UserWarning: `last_window` has DatetimeIndex index but no frequency. Index is overwritten with a RangeIndex of step 1.\n",
      "  warnings.warn(\n",
      "C:\\school\\minor-ai\\lettuce-cnn\\lib\\site-packages\\skforecast\\utils\\utils.py:579: UserWarning: `last_window` has DatetimeIndex index but no frequency. Index is overwritten with a RangeIndex of step 1.\n",
      "  warnings.warn(\n",
      "\n",
      "loop param_grid:  17%|██████▏                              | 2/12 [00:00<00:03,  3.12it/s]\u001B[AC:\\school\\minor-ai\\lettuce-cnn\\lib\\site-packages\\skforecast\\utils\\utils.py:522: UserWarning: `y` has DatetimeIndex index but no frequency. Index is overwritten with a RangeIndex of step 1.\n",
      "  warnings.warn(\n",
      "C:\\school\\minor-ai\\lettuce-cnn\\lib\\site-packages\\skforecast\\utils\\utils.py:579: UserWarning: `last_window` has DatetimeIndex index but no frequency. Index is overwritten with a RangeIndex of step 1.\n",
      "  warnings.warn(\n",
      "C:\\school\\minor-ai\\lettuce-cnn\\lib\\site-packages\\skforecast\\utils\\utils.py:579: UserWarning: `last_window` has DatetimeIndex index but no frequency. Index is overwritten with a RangeIndex of step 1.\n",
      "  warnings.warn(\n",
      "C:\\school\\minor-ai\\lettuce-cnn\\lib\\site-packages\\skforecast\\utils\\utils.py:579: UserWarning: `last_window` has DatetimeIndex index but no frequency. Index is overwritten with a RangeIndex of step 1.\n",
      "  warnings.warn(\n",
      "\n",
      "loop param_grid:  25%|█████████▎                           | 3/12 [00:00<00:02,  4.10it/s]\u001B[AC:\\school\\minor-ai\\lettuce-cnn\\lib\\site-packages\\skforecast\\utils\\utils.py:522: UserWarning: `y` has DatetimeIndex index but no frequency. Index is overwritten with a RangeIndex of step 1.\n",
      "  warnings.warn(\n",
      "C:\\school\\minor-ai\\lettuce-cnn\\lib\\site-packages\\skforecast\\utils\\utils.py:579: UserWarning: `last_window` has DatetimeIndex index but no frequency. Index is overwritten with a RangeIndex of step 1.\n",
      "  warnings.warn(\n",
      "C:\\school\\minor-ai\\lettuce-cnn\\lib\\site-packages\\skforecast\\utils\\utils.py:579: UserWarning: `last_window` has DatetimeIndex index but no frequency. Index is overwritten with a RangeIndex of step 1.\n",
      "  warnings.warn(\n",
      "C:\\school\\minor-ai\\lettuce-cnn\\lib\\site-packages\\skforecast\\utils\\utils.py:579: UserWarning: `last_window` has DatetimeIndex index but no frequency. Index is overwritten with a RangeIndex of step 1.\n",
      "  warnings.warn(\n",
      "\n",
      "loop param_grid:  33%|████████████▎                        | 4/12 [00:01<00:01,  4.56it/s]\u001B[AC:\\school\\minor-ai\\lettuce-cnn\\lib\\site-packages\\skforecast\\utils\\utils.py:522: UserWarning: `y` has DatetimeIndex index but no frequency. Index is overwritten with a RangeIndex of step 1.\n",
      "  warnings.warn(\n",
      "C:\\school\\minor-ai\\lettuce-cnn\\lib\\site-packages\\skforecast\\utils\\utils.py:579: UserWarning: `last_window` has DatetimeIndex index but no frequency. Index is overwritten with a RangeIndex of step 1.\n",
      "  warnings.warn(\n",
      "C:\\school\\minor-ai\\lettuce-cnn\\lib\\site-packages\\skforecast\\utils\\utils.py:579: UserWarning: `last_window` has DatetimeIndex index but no frequency. Index is overwritten with a RangeIndex of step 1.\n",
      "  warnings.warn(\n",
      "C:\\school\\minor-ai\\lettuce-cnn\\lib\\site-packages\\skforecast\\utils\\utils.py:579: UserWarning: `last_window` has DatetimeIndex index but no frequency. Index is overwritten with a RangeIndex of step 1.\n",
      "  warnings.warn(\n",
      "\n",
      "loop param_grid:  42%|███████████████▍                     | 5/12 [00:01<00:01,  5.64it/s]\u001B[AC:\\school\\minor-ai\\lettuce-cnn\\lib\\site-packages\\skforecast\\utils\\utils.py:522: UserWarning: `y` has DatetimeIndex index but no frequency. Index is overwritten with a RangeIndex of step 1.\n",
      "  warnings.warn(\n",
      "C:\\school\\minor-ai\\lettuce-cnn\\lib\\site-packages\\skforecast\\utils\\utils.py:579: UserWarning: `last_window` has DatetimeIndex index but no frequency. Index is overwritten with a RangeIndex of step 1.\n",
      "  warnings.warn(\n",
      "C:\\school\\minor-ai\\lettuce-cnn\\lib\\site-packages\\skforecast\\utils\\utils.py:579: UserWarning: `last_window` has DatetimeIndex index but no frequency. Index is overwritten with a RangeIndex of step 1.\n",
      "  warnings.warn(\n",
      "C:\\school\\minor-ai\\lettuce-cnn\\lib\\site-packages\\skforecast\\utils\\utils.py:579: UserWarning: `last_window` has DatetimeIndex index but no frequency. Index is overwritten with a RangeIndex of step 1.\n",
      "  warnings.warn(\n",
      "\n",
      "loop param_grid:  50%|██████████████████▌                  | 6/12 [00:01<00:00,  6.17it/s]\u001B[AC:\\school\\minor-ai\\lettuce-cnn\\lib\\site-packages\\skforecast\\utils\\utils.py:522: UserWarning: `y` has DatetimeIndex index but no frequency. Index is overwritten with a RangeIndex of step 1.\n",
      "  warnings.warn(\n",
      "C:\\school\\minor-ai\\lettuce-cnn\\lib\\site-packages\\skforecast\\utils\\utils.py:579: UserWarning: `last_window` has DatetimeIndex index but no frequency. Index is overwritten with a RangeIndex of step 1.\n",
      "  warnings.warn(\n",
      "C:\\school\\minor-ai\\lettuce-cnn\\lib\\site-packages\\skforecast\\utils\\utils.py:579: UserWarning: `last_window` has DatetimeIndex index but no frequency. Index is overwritten with a RangeIndex of step 1.\n",
      "  warnings.warn(\n",
      "C:\\school\\minor-ai\\lettuce-cnn\\lib\\site-packages\\skforecast\\utils\\utils.py:579: UserWarning: `last_window` has DatetimeIndex index but no frequency. Index is overwritten with a RangeIndex of step 1.\n",
      "  warnings.warn(\n",
      "C:\\school\\minor-ai\\lettuce-cnn\\lib\\site-packages\\skforecast\\utils\\utils.py:522: UserWarning: `y` has DatetimeIndex index but no frequency. Index is overwritten with a RangeIndex of step 1.\n",
      "  warnings.warn(\n",
      "C:\\school\\minor-ai\\lettuce-cnn\\lib\\site-packages\\skforecast\\utils\\utils.py:579: UserWarning: `last_window` has DatetimeIndex index but no frequency. Index is overwritten with a RangeIndex of step 1.\n",
      "  warnings.warn(\n",
      "C:\\school\\minor-ai\\lettuce-cnn\\lib\\site-packages\\skforecast\\utils\\utils.py:579: UserWarning: `last_window` has DatetimeIndex index but no frequency. Index is overwritten with a RangeIndex of step 1.\n",
      "  warnings.warn(\n",
      "C:\\school\\minor-ai\\lettuce-cnn\\lib\\site-packages\\skforecast\\utils\\utils.py:579: UserWarning: `last_window` has DatetimeIndex index but no frequency. Index is overwritten with a RangeIndex of step 1.\n",
      "  warnings.warn(\n",
      "\n",
      "loop param_grid:  67%|████████████████████████▋            | 8/12 [00:01<00:00,  7.75it/s]\u001B[AC:\\school\\minor-ai\\lettuce-cnn\\lib\\site-packages\\skforecast\\utils\\utils.py:522: UserWarning: `y` has DatetimeIndex index but no frequency. Index is overwritten with a RangeIndex of step 1.\n",
      "  warnings.warn(\n",
      "C:\\school\\minor-ai\\lettuce-cnn\\lib\\site-packages\\skforecast\\utils\\utils.py:579: UserWarning: `last_window` has DatetimeIndex index but no frequency. Index is overwritten with a RangeIndex of step 1.\n",
      "  warnings.warn(\n",
      "C:\\school\\minor-ai\\lettuce-cnn\\lib\\site-packages\\skforecast\\utils\\utils.py:579: UserWarning: `last_window` has DatetimeIndex index but no frequency. Index is overwritten with a RangeIndex of step 1.\n",
      "  warnings.warn(\n",
      "C:\\school\\minor-ai\\lettuce-cnn\\lib\\site-packages\\skforecast\\utils\\utils.py:579: UserWarning: `last_window` has DatetimeIndex index but no frequency. Index is overwritten with a RangeIndex of step 1.\n",
      "  warnings.warn(\n",
      "\n",
      "loop param_grid:  75%|███████████████████████████▊         | 9/12 [00:01<00:00,  8.07it/s]\u001B[AC:\\school\\minor-ai\\lettuce-cnn\\lib\\site-packages\\skforecast\\utils\\utils.py:522: UserWarning: `y` has DatetimeIndex index but no frequency. Index is overwritten with a RangeIndex of step 1.\n",
      "  warnings.warn(\n",
      "C:\\school\\minor-ai\\lettuce-cnn\\lib\\site-packages\\skforecast\\utils\\utils.py:579: UserWarning: `last_window` has DatetimeIndex index but no frequency. Index is overwritten with a RangeIndex of step 1.\n",
      "  warnings.warn(\n",
      "C:\\school\\minor-ai\\lettuce-cnn\\lib\\site-packages\\skforecast\\utils\\utils.py:579: UserWarning: `last_window` has DatetimeIndex index but no frequency. Index is overwritten with a RangeIndex of step 1.\n",
      "  warnings.warn(\n",
      "C:\\school\\minor-ai\\lettuce-cnn\\lib\\site-packages\\skforecast\\utils\\utils.py:579: UserWarning: `last_window` has DatetimeIndex index but no frequency. Index is overwritten with a RangeIndex of step 1.\n",
      "  warnings.warn(\n",
      "\n",
      "loop param_grid:  83%|██████████████████████████████      | 10/12 [00:01<00:00,  7.52it/s]\u001B[AC:\\school\\minor-ai\\lettuce-cnn\\lib\\site-packages\\skforecast\\utils\\utils.py:522: UserWarning: `y` has DatetimeIndex index but no frequency. Index is overwritten with a RangeIndex of step 1.\n",
      "  warnings.warn(\n",
      "C:\\school\\minor-ai\\lettuce-cnn\\lib\\site-packages\\skforecast\\utils\\utils.py:579: UserWarning: `last_window` has DatetimeIndex index but no frequency. Index is overwritten with a RangeIndex of step 1.\n",
      "  warnings.warn(\n",
      "C:\\school\\minor-ai\\lettuce-cnn\\lib\\site-packages\\skforecast\\utils\\utils.py:579: UserWarning: `last_window` has DatetimeIndex index but no frequency. Index is overwritten with a RangeIndex of step 1.\n",
      "  warnings.warn(\n",
      "C:\\school\\minor-ai\\lettuce-cnn\\lib\\site-packages\\skforecast\\utils\\utils.py:579: UserWarning: `last_window` has DatetimeIndex index but no frequency. Index is overwritten with a RangeIndex of step 1.\n",
      "  warnings.warn(\n",
      "C:\\school\\minor-ai\\lettuce-cnn\\lib\\site-packages\\skforecast\\utils\\utils.py:522: UserWarning: `y` has DatetimeIndex index but no frequency. Index is overwritten with a RangeIndex of step 1.\n",
      "  warnings.warn(\n",
      "C:\\school\\minor-ai\\lettuce-cnn\\lib\\site-packages\\skforecast\\utils\\utils.py:579: UserWarning: `last_window` has DatetimeIndex index but no frequency. Index is overwritten with a RangeIndex of step 1.\n",
      "  warnings.warn(\n",
      "C:\\school\\minor-ai\\lettuce-cnn\\lib\\site-packages\\skforecast\\utils\\utils.py:579: UserWarning: `last_window` has DatetimeIndex index but no frequency. Index is overwritten with a RangeIndex of step 1.\n",
      "  warnings.warn(\n",
      "C:\\school\\minor-ai\\lettuce-cnn\\lib\\site-packages\\skforecast\\utils\\utils.py:579: UserWarning: `last_window` has DatetimeIndex index but no frequency. Index is overwritten with a RangeIndex of step 1.\n",
      "  warnings.warn(\n",
      "\n",
      "loop param_grid: 100%|████████████████████████████████████| 12/12 [00:01<00:00,  8.21it/s]\u001B[A\n",
      "loop lags_grid:  33%|█████████████                          | 1/3 [00:01<00:03,  1.94s/it]\u001B[A\n",
      "loop param_grid:   0%|                                             | 0/12 [00:00<?, ?it/s]\u001B[AC:\\school\\minor-ai\\lettuce-cnn\\lib\\site-packages\\skforecast\\utils\\utils.py:522: UserWarning: `y` has DatetimeIndex index but no frequency. Index is overwritten with a RangeIndex of step 1.\n",
      "  warnings.warn(\n",
      "C:\\school\\minor-ai\\lettuce-cnn\\lib\\site-packages\\skforecast\\utils\\utils.py:579: UserWarning: `last_window` has DatetimeIndex index but no frequency. Index is overwritten with a RangeIndex of step 1.\n",
      "  warnings.warn(\n",
      "C:\\school\\minor-ai\\lettuce-cnn\\lib\\site-packages\\skforecast\\utils\\utils.py:579: UserWarning: `last_window` has DatetimeIndex index but no frequency. Index is overwritten with a RangeIndex of step 1.\n",
      "  warnings.warn(\n",
      "C:\\school\\minor-ai\\lettuce-cnn\\lib\\site-packages\\skforecast\\utils\\utils.py:579: UserWarning: `last_window` has DatetimeIndex index but no frequency. Index is overwritten with a RangeIndex of step 1.\n",
      "  warnings.warn(\n",
      "C:\\school\\minor-ai\\lettuce-cnn\\lib\\site-packages\\skforecast\\utils\\utils.py:522: UserWarning: `y` has DatetimeIndex index but no frequency. Index is overwritten with a RangeIndex of step 1.\n",
      "  warnings.warn(\n",
      "C:\\school\\minor-ai\\lettuce-cnn\\lib\\site-packages\\skforecast\\utils\\utils.py:579: UserWarning: `last_window` has DatetimeIndex index but no frequency. Index is overwritten with a RangeIndex of step 1.\n",
      "  warnings.warn(\n",
      "C:\\school\\minor-ai\\lettuce-cnn\\lib\\site-packages\\skforecast\\utils\\utils.py:579: UserWarning: `last_window` has DatetimeIndex index but no frequency. Index is overwritten with a RangeIndex of step 1.\n",
      "  warnings.warn(\n",
      "C:\\school\\minor-ai\\lettuce-cnn\\lib\\site-packages\\skforecast\\utils\\utils.py:579: UserWarning: `last_window` has DatetimeIndex index but no frequency. Index is overwritten with a RangeIndex of step 1.\n",
      "  warnings.warn(\n",
      "\n",
      "loop param_grid:  17%|██████▏                              | 2/12 [00:00<00:00, 14.06it/s]\u001B[AC:\\school\\minor-ai\\lettuce-cnn\\lib\\site-packages\\skforecast\\utils\\utils.py:522: UserWarning: `y` has DatetimeIndex index but no frequency. Index is overwritten with a RangeIndex of step 1.\n",
      "  warnings.warn(\n",
      "C:\\school\\minor-ai\\lettuce-cnn\\lib\\site-packages\\skforecast\\utils\\utils.py:579: UserWarning: `last_window` has DatetimeIndex index but no frequency. Index is overwritten with a RangeIndex of step 1.\n",
      "  warnings.warn(\n",
      "C:\\school\\minor-ai\\lettuce-cnn\\lib\\site-packages\\skforecast\\utils\\utils.py:579: UserWarning: `last_window` has DatetimeIndex index but no frequency. Index is overwritten with a RangeIndex of step 1.\n",
      "  warnings.warn(\n",
      "C:\\school\\minor-ai\\lettuce-cnn\\lib\\site-packages\\skforecast\\utils\\utils.py:579: UserWarning: `last_window` has DatetimeIndex index but no frequency. Index is overwritten with a RangeIndex of step 1.\n",
      "  warnings.warn(\n",
      "C:\\school\\minor-ai\\lettuce-cnn\\lib\\site-packages\\skforecast\\utils\\utils.py:522: UserWarning: `y` has DatetimeIndex index but no frequency. Index is overwritten with a RangeIndex of step 1.\n",
      "  warnings.warn(\n",
      "C:\\school\\minor-ai\\lettuce-cnn\\lib\\site-packages\\skforecast\\utils\\utils.py:579: UserWarning: `last_window` has DatetimeIndex index but no frequency. Index is overwritten with a RangeIndex of step 1.\n",
      "  warnings.warn(\n",
      "C:\\school\\minor-ai\\lettuce-cnn\\lib\\site-packages\\skforecast\\utils\\utils.py:579: UserWarning: `last_window` has DatetimeIndex index but no frequency. Index is overwritten with a RangeIndex of step 1.\n",
      "  warnings.warn(\n",
      "C:\\school\\minor-ai\\lettuce-cnn\\lib\\site-packages\\skforecast\\utils\\utils.py:579: UserWarning: `last_window` has DatetimeIndex index but no frequency. Index is overwritten with a RangeIndex of step 1.\n",
      "  warnings.warn(\n",
      "\n",
      "loop param_grid:  33%|████████████▎                        | 4/12 [00:00<00:00, 13.70it/s]\u001B[AC:\\school\\minor-ai\\lettuce-cnn\\lib\\site-packages\\skforecast\\utils\\utils.py:522: UserWarning: `y` has DatetimeIndex index but no frequency. Index is overwritten with a RangeIndex of step 1.\n",
      "  warnings.warn(\n",
      "C:\\school\\minor-ai\\lettuce-cnn\\lib\\site-packages\\skforecast\\utils\\utils.py:579: UserWarning: `last_window` has DatetimeIndex index but no frequency. Index is overwritten with a RangeIndex of step 1.\n",
      "  warnings.warn(\n",
      "C:\\school\\minor-ai\\lettuce-cnn\\lib\\site-packages\\skforecast\\utils\\utils.py:579: UserWarning: `last_window` has DatetimeIndex index but no frequency. Index is overwritten with a RangeIndex of step 1.\n",
      "  warnings.warn(\n",
      "C:\\school\\minor-ai\\lettuce-cnn\\lib\\site-packages\\skforecast\\utils\\utils.py:579: UserWarning: `last_window` has DatetimeIndex index but no frequency. Index is overwritten with a RangeIndex of step 1.\n",
      "  warnings.warn(\n",
      "C:\\school\\minor-ai\\lettuce-cnn\\lib\\site-packages\\skforecast\\utils\\utils.py:522: UserWarning: `y` has DatetimeIndex index but no frequency. Index is overwritten with a RangeIndex of step 1.\n",
      "  warnings.warn(\n",
      "C:\\school\\minor-ai\\lettuce-cnn\\lib\\site-packages\\skforecast\\utils\\utils.py:579: UserWarning: `last_window` has DatetimeIndex index but no frequency. Index is overwritten with a RangeIndex of step 1.\n",
      "  warnings.warn(\n",
      "C:\\school\\minor-ai\\lettuce-cnn\\lib\\site-packages\\skforecast\\utils\\utils.py:579: UserWarning: `last_window` has DatetimeIndex index but no frequency. Index is overwritten with a RangeIndex of step 1.\n",
      "  warnings.warn(\n",
      "C:\\school\\minor-ai\\lettuce-cnn\\lib\\site-packages\\skforecast\\utils\\utils.py:579: UserWarning: `last_window` has DatetimeIndex index but no frequency. Index is overwritten with a RangeIndex of step 1.\n",
      "  warnings.warn(\n",
      "\n",
      "loop param_grid:  50%|██████████████████▌                  | 6/12 [00:00<00:00, 10.70it/s]\u001B[AC:\\school\\minor-ai\\lettuce-cnn\\lib\\site-packages\\skforecast\\utils\\utils.py:522: UserWarning: `y` has DatetimeIndex index but no frequency. Index is overwritten with a RangeIndex of step 1.\n",
      "  warnings.warn(\n",
      "C:\\school\\minor-ai\\lettuce-cnn\\lib\\site-packages\\skforecast\\utils\\utils.py:579: UserWarning: `last_window` has DatetimeIndex index but no frequency. Index is overwritten with a RangeIndex of step 1.\n",
      "  warnings.warn(\n",
      "C:\\school\\minor-ai\\lettuce-cnn\\lib\\site-packages\\skforecast\\utils\\utils.py:579: UserWarning: `last_window` has DatetimeIndex index but no frequency. Index is overwritten with a RangeIndex of step 1.\n",
      "  warnings.warn(\n",
      "C:\\school\\minor-ai\\lettuce-cnn\\lib\\site-packages\\skforecast\\utils\\utils.py:579: UserWarning: `last_window` has DatetimeIndex index but no frequency. Index is overwritten with a RangeIndex of step 1.\n",
      "  warnings.warn(\n",
      "C:\\school\\minor-ai\\lettuce-cnn\\lib\\site-packages\\skforecast\\utils\\utils.py:522: UserWarning: `y` has DatetimeIndex index but no frequency. Index is overwritten with a RangeIndex of step 1.\n",
      "  warnings.warn(\n",
      "C:\\school\\minor-ai\\lettuce-cnn\\lib\\site-packages\\skforecast\\utils\\utils.py:579: UserWarning: `last_window` has DatetimeIndex index but no frequency. Index is overwritten with a RangeIndex of step 1.\n",
      "  warnings.warn(\n",
      "C:\\school\\minor-ai\\lettuce-cnn\\lib\\site-packages\\skforecast\\utils\\utils.py:579: UserWarning: `last_window` has DatetimeIndex index but no frequency. Index is overwritten with a RangeIndex of step 1.\n",
      "  warnings.warn(\n",
      "C:\\school\\minor-ai\\lettuce-cnn\\lib\\site-packages\\skforecast\\utils\\utils.py:579: UserWarning: `last_window` has DatetimeIndex index but no frequency. Index is overwritten with a RangeIndex of step 1.\n",
      "  warnings.warn(\n",
      "\n",
      "loop param_grid:  67%|████████████████████████▋            | 8/12 [00:00<00:00, 10.38it/s]\u001B[AC:\\school\\minor-ai\\lettuce-cnn\\lib\\site-packages\\skforecast\\utils\\utils.py:522: UserWarning: `y` has DatetimeIndex index but no frequency. Index is overwritten with a RangeIndex of step 1.\n",
      "  warnings.warn(\n",
      "C:\\school\\minor-ai\\lettuce-cnn\\lib\\site-packages\\skforecast\\utils\\utils.py:579: UserWarning: `last_window` has DatetimeIndex index but no frequency. Index is overwritten with a RangeIndex of step 1.\n",
      "  warnings.warn(\n",
      "C:\\school\\minor-ai\\lettuce-cnn\\lib\\site-packages\\skforecast\\utils\\utils.py:579: UserWarning: `last_window` has DatetimeIndex index but no frequency. Index is overwritten with a RangeIndex of step 1.\n",
      "  warnings.warn(\n",
      "C:\\school\\minor-ai\\lettuce-cnn\\lib\\site-packages\\skforecast\\utils\\utils.py:579: UserWarning: `last_window` has DatetimeIndex index but no frequency. Index is overwritten with a RangeIndex of step 1.\n",
      "  warnings.warn(\n",
      "C:\\school\\minor-ai\\lettuce-cnn\\lib\\site-packages\\skforecast\\utils\\utils.py:522: UserWarning: `y` has DatetimeIndex index but no frequency. Index is overwritten with a RangeIndex of step 1.\n",
      "  warnings.warn(\n",
      "C:\\school\\minor-ai\\lettuce-cnn\\lib\\site-packages\\skforecast\\utils\\utils.py:579: UserWarning: `last_window` has DatetimeIndex index but no frequency. Index is overwritten with a RangeIndex of step 1.\n",
      "  warnings.warn(\n",
      "C:\\school\\minor-ai\\lettuce-cnn\\lib\\site-packages\\skforecast\\utils\\utils.py:579: UserWarning: `last_window` has DatetimeIndex index but no frequency. Index is overwritten with a RangeIndex of step 1.\n",
      "  warnings.warn(\n",
      "C:\\school\\minor-ai\\lettuce-cnn\\lib\\site-packages\\skforecast\\utils\\utils.py:579: UserWarning: `last_window` has DatetimeIndex index but no frequency. Index is overwritten with a RangeIndex of step 1.\n",
      "  warnings.warn(\n",
      "\n",
      "loop param_grid:  83%|██████████████████████████████      | 10/12 [00:00<00:00, 10.91it/s]\u001B[AC:\\school\\minor-ai\\lettuce-cnn\\lib\\site-packages\\skforecast\\utils\\utils.py:522: UserWarning: `y` has DatetimeIndex index but no frequency. Index is overwritten with a RangeIndex of step 1.\n",
      "  warnings.warn(\n",
      "C:\\school\\minor-ai\\lettuce-cnn\\lib\\site-packages\\skforecast\\utils\\utils.py:579: UserWarning: `last_window` has DatetimeIndex index but no frequency. Index is overwritten with a RangeIndex of step 1.\n",
      "  warnings.warn(\n",
      "C:\\school\\minor-ai\\lettuce-cnn\\lib\\site-packages\\skforecast\\utils\\utils.py:579: UserWarning: `last_window` has DatetimeIndex index but no frequency. Index is overwritten with a RangeIndex of step 1.\n",
      "  warnings.warn(\n",
      "C:\\school\\minor-ai\\lettuce-cnn\\lib\\site-packages\\skforecast\\utils\\utils.py:579: UserWarning: `last_window` has DatetimeIndex index but no frequency. Index is overwritten with a RangeIndex of step 1.\n",
      "  warnings.warn(\n",
      "C:\\school\\minor-ai\\lettuce-cnn\\lib\\site-packages\\skforecast\\utils\\utils.py:522: UserWarning: `y` has DatetimeIndex index but no frequency. Index is overwritten with a RangeIndex of step 1.\n",
      "  warnings.warn(\n",
      "C:\\school\\minor-ai\\lettuce-cnn\\lib\\site-packages\\skforecast\\utils\\utils.py:579: UserWarning: `last_window` has DatetimeIndex index but no frequency. Index is overwritten with a RangeIndex of step 1.\n",
      "  warnings.warn(\n",
      "C:\\school\\minor-ai\\lettuce-cnn\\lib\\site-packages\\skforecast\\utils\\utils.py:579: UserWarning: `last_window` has DatetimeIndex index but no frequency. Index is overwritten with a RangeIndex of step 1.\n",
      "  warnings.warn(\n",
      "C:\\school\\minor-ai\\lettuce-cnn\\lib\\site-packages\\skforecast\\utils\\utils.py:579: UserWarning: `last_window` has DatetimeIndex index but no frequency. Index is overwritten with a RangeIndex of step 1.\n",
      "  warnings.warn(\n",
      "\n",
      "loop param_grid: 100%|████████████████████████████████████| 12/12 [00:01<00:00, 10.82it/s]\u001B[A\n",
      "loop lags_grid:  67%|██████████████████████████             | 2/3 [00:03<00:01,  1.44s/it]\u001B[A\n",
      "loop param_grid:   0%|                                             | 0/12 [00:00<?, ?it/s]\u001B[AC:\\school\\minor-ai\\lettuce-cnn\\lib\\site-packages\\skforecast\\utils\\utils.py:522: UserWarning: `y` has DatetimeIndex index but no frequency. Index is overwritten with a RangeIndex of step 1.\n",
      "  warnings.warn(\n",
      "C:\\school\\minor-ai\\lettuce-cnn\\lib\\site-packages\\skforecast\\utils\\utils.py:579: UserWarning: `last_window` has DatetimeIndex index but no frequency. Index is overwritten with a RangeIndex of step 1.\n",
      "  warnings.warn(\n",
      "C:\\school\\minor-ai\\lettuce-cnn\\lib\\site-packages\\skforecast\\utils\\utils.py:579: UserWarning: `last_window` has DatetimeIndex index but no frequency. Index is overwritten with a RangeIndex of step 1.\n",
      "  warnings.warn(\n",
      "C:\\school\\minor-ai\\lettuce-cnn\\lib\\site-packages\\skforecast\\utils\\utils.py:579: UserWarning: `last_window` has DatetimeIndex index but no frequency. Index is overwritten with a RangeIndex of step 1.\n",
      "  warnings.warn(\n",
      "C:\\school\\minor-ai\\lettuce-cnn\\lib\\site-packages\\skforecast\\utils\\utils.py:522: UserWarning: `y` has DatetimeIndex index but no frequency. Index is overwritten with a RangeIndex of step 1.\n",
      "  warnings.warn(\n",
      "C:\\school\\minor-ai\\lettuce-cnn\\lib\\site-packages\\skforecast\\utils\\utils.py:579: UserWarning: `last_window` has DatetimeIndex index but no frequency. Index is overwritten with a RangeIndex of step 1.\n",
      "  warnings.warn(\n",
      "C:\\school\\minor-ai\\lettuce-cnn\\lib\\site-packages\\skforecast\\utils\\utils.py:579: UserWarning: `last_window` has DatetimeIndex index but no frequency. Index is overwritten with a RangeIndex of step 1.\n",
      "  warnings.warn(\n",
      "C:\\school\\minor-ai\\lettuce-cnn\\lib\\site-packages\\skforecast\\utils\\utils.py:579: UserWarning: `last_window` has DatetimeIndex index but no frequency. Index is overwritten with a RangeIndex of step 1.\n",
      "  warnings.warn(\n",
      "\n",
      "loop param_grid:  17%|██████▏                              | 2/12 [00:00<00:00, 12.70it/s]\u001B[AC:\\school\\minor-ai\\lettuce-cnn\\lib\\site-packages\\skforecast\\utils\\utils.py:522: UserWarning: `y` has DatetimeIndex index but no frequency. Index is overwritten with a RangeIndex of step 1.\n",
      "  warnings.warn(\n",
      "C:\\school\\minor-ai\\lettuce-cnn\\lib\\site-packages\\skforecast\\utils\\utils.py:579: UserWarning: `last_window` has DatetimeIndex index but no frequency. Index is overwritten with a RangeIndex of step 1.\n",
      "  warnings.warn(\n",
      "C:\\school\\minor-ai\\lettuce-cnn\\lib\\site-packages\\skforecast\\utils\\utils.py:579: UserWarning: `last_window` has DatetimeIndex index but no frequency. Index is overwritten with a RangeIndex of step 1.\n",
      "  warnings.warn(\n",
      "C:\\school\\minor-ai\\lettuce-cnn\\lib\\site-packages\\skforecast\\utils\\utils.py:579: UserWarning: `last_window` has DatetimeIndex index but no frequency. Index is overwritten with a RangeIndex of step 1.\n",
      "  warnings.warn(\n",
      "C:\\school\\minor-ai\\lettuce-cnn\\lib\\site-packages\\skforecast\\utils\\utils.py:522: UserWarning: `y` has DatetimeIndex index but no frequency. Index is overwritten with a RangeIndex of step 1.\n",
      "  warnings.warn(\n",
      "C:\\school\\minor-ai\\lettuce-cnn\\lib\\site-packages\\skforecast\\utils\\utils.py:579: UserWarning: `last_window` has DatetimeIndex index but no frequency. Index is overwritten with a RangeIndex of step 1.\n",
      "  warnings.warn(\n",
      "C:\\school\\minor-ai\\lettuce-cnn\\lib\\site-packages\\skforecast\\utils\\utils.py:579: UserWarning: `last_window` has DatetimeIndex index but no frequency. Index is overwritten with a RangeIndex of step 1.\n",
      "  warnings.warn(\n",
      "C:\\school\\minor-ai\\lettuce-cnn\\lib\\site-packages\\skforecast\\utils\\utils.py:579: UserWarning: `last_window` has DatetimeIndex index but no frequency. Index is overwritten with a RangeIndex of step 1.\n",
      "  warnings.warn(\n",
      "\n",
      "loop param_grid:  33%|████████████▎                        | 4/12 [00:00<00:00, 12.93it/s]\u001B[AC:\\school\\minor-ai\\lettuce-cnn\\lib\\site-packages\\skforecast\\utils\\utils.py:522: UserWarning: `y` has DatetimeIndex index but no frequency. Index is overwritten with a RangeIndex of step 1.\n",
      "  warnings.warn(\n",
      "C:\\school\\minor-ai\\lettuce-cnn\\lib\\site-packages\\skforecast\\utils\\utils.py:579: UserWarning: `last_window` has DatetimeIndex index but no frequency. Index is overwritten with a RangeIndex of step 1.\n",
      "  warnings.warn(\n",
      "C:\\school\\minor-ai\\lettuce-cnn\\lib\\site-packages\\skforecast\\utils\\utils.py:579: UserWarning: `last_window` has DatetimeIndex index but no frequency. Index is overwritten with a RangeIndex of step 1.\n",
      "  warnings.warn(\n",
      "C:\\school\\minor-ai\\lettuce-cnn\\lib\\site-packages\\skforecast\\utils\\utils.py:579: UserWarning: `last_window` has DatetimeIndex index but no frequency. Index is overwritten with a RangeIndex of step 1.\n",
      "  warnings.warn(\n",
      "C:\\school\\minor-ai\\lettuce-cnn\\lib\\site-packages\\skforecast\\utils\\utils.py:522: UserWarning: `y` has DatetimeIndex index but no frequency. Index is overwritten with a RangeIndex of step 1.\n",
      "  warnings.warn(\n",
      "C:\\school\\minor-ai\\lettuce-cnn\\lib\\site-packages\\skforecast\\utils\\utils.py:579: UserWarning: `last_window` has DatetimeIndex index but no frequency. Index is overwritten with a RangeIndex of step 1.\n",
      "  warnings.warn(\n",
      "C:\\school\\minor-ai\\lettuce-cnn\\lib\\site-packages\\skforecast\\utils\\utils.py:579: UserWarning: `last_window` has DatetimeIndex index but no frequency. Index is overwritten with a RangeIndex of step 1.\n",
      "  warnings.warn(\n",
      "C:\\school\\minor-ai\\lettuce-cnn\\lib\\site-packages\\skforecast\\utils\\utils.py:579: UserWarning: `last_window` has DatetimeIndex index but no frequency. Index is overwritten with a RangeIndex of step 1.\n",
      "  warnings.warn(\n",
      "\n",
      "loop param_grid:  50%|██████████████████▌                  | 6/12 [00:00<00:00, 13.16it/s]\u001B[AC:\\school\\minor-ai\\lettuce-cnn\\lib\\site-packages\\skforecast\\utils\\utils.py:522: UserWarning: `y` has DatetimeIndex index but no frequency. Index is overwritten with a RangeIndex of step 1.\n",
      "  warnings.warn(\n",
      "C:\\school\\minor-ai\\lettuce-cnn\\lib\\site-packages\\skforecast\\utils\\utils.py:579: UserWarning: `last_window` has DatetimeIndex index but no frequency. Index is overwritten with a RangeIndex of step 1.\n",
      "  warnings.warn(\n",
      "C:\\school\\minor-ai\\lettuce-cnn\\lib\\site-packages\\skforecast\\utils\\utils.py:579: UserWarning: `last_window` has DatetimeIndex index but no frequency. Index is overwritten with a RangeIndex of step 1.\n",
      "  warnings.warn(\n",
      "C:\\school\\minor-ai\\lettuce-cnn\\lib\\site-packages\\skforecast\\utils\\utils.py:579: UserWarning: `last_window` has DatetimeIndex index but no frequency. Index is overwritten with a RangeIndex of step 1.\n",
      "  warnings.warn(\n",
      "C:\\school\\minor-ai\\lettuce-cnn\\lib\\site-packages\\skforecast\\utils\\utils.py:522: UserWarning: `y` has DatetimeIndex index but no frequency. Index is overwritten with a RangeIndex of step 1.\n",
      "  warnings.warn(\n",
      "C:\\school\\minor-ai\\lettuce-cnn\\lib\\site-packages\\skforecast\\utils\\utils.py:579: UserWarning: `last_window` has DatetimeIndex index but no frequency. Index is overwritten with a RangeIndex of step 1.\n",
      "  warnings.warn(\n",
      "C:\\school\\minor-ai\\lettuce-cnn\\lib\\site-packages\\skforecast\\utils\\utils.py:579: UserWarning: `last_window` has DatetimeIndex index but no frequency. Index is overwritten with a RangeIndex of step 1.\n",
      "  warnings.warn(\n",
      "C:\\school\\minor-ai\\lettuce-cnn\\lib\\site-packages\\skforecast\\utils\\utils.py:579: UserWarning: `last_window` has DatetimeIndex index but no frequency. Index is overwritten with a RangeIndex of step 1.\n",
      "  warnings.warn(\n",
      "\n",
      "loop param_grid:  67%|████████████████████████▋            | 8/12 [00:00<00:00, 11.27it/s]\u001B[AC:\\school\\minor-ai\\lettuce-cnn\\lib\\site-packages\\skforecast\\utils\\utils.py:522: UserWarning: `y` has DatetimeIndex index but no frequency. Index is overwritten with a RangeIndex of step 1.\n",
      "  warnings.warn(\n",
      "C:\\school\\minor-ai\\lettuce-cnn\\lib\\site-packages\\skforecast\\utils\\utils.py:579: UserWarning: `last_window` has DatetimeIndex index but no frequency. Index is overwritten with a RangeIndex of step 1.\n",
      "  warnings.warn(\n",
      "C:\\school\\minor-ai\\lettuce-cnn\\lib\\site-packages\\skforecast\\utils\\utils.py:579: UserWarning: `last_window` has DatetimeIndex index but no frequency. Index is overwritten with a RangeIndex of step 1.\n",
      "  warnings.warn(\n",
      "C:\\school\\minor-ai\\lettuce-cnn\\lib\\site-packages\\skforecast\\utils\\utils.py:579: UserWarning: `last_window` has DatetimeIndex index but no frequency. Index is overwritten with a RangeIndex of step 1.\n",
      "  warnings.warn(\n",
      "C:\\school\\minor-ai\\lettuce-cnn\\lib\\site-packages\\skforecast\\utils\\utils.py:522: UserWarning: `y` has DatetimeIndex index but no frequency. Index is overwritten with a RangeIndex of step 1.\n",
      "  warnings.warn(\n",
      "C:\\school\\minor-ai\\lettuce-cnn\\lib\\site-packages\\skforecast\\utils\\utils.py:579: UserWarning: `last_window` has DatetimeIndex index but no frequency. Index is overwritten with a RangeIndex of step 1.\n",
      "  warnings.warn(\n",
      "C:\\school\\minor-ai\\lettuce-cnn\\lib\\site-packages\\skforecast\\utils\\utils.py:579: UserWarning: `last_window` has DatetimeIndex index but no frequency. Index is overwritten with a RangeIndex of step 1.\n",
      "  warnings.warn(\n",
      "C:\\school\\minor-ai\\lettuce-cnn\\lib\\site-packages\\skforecast\\utils\\utils.py:579: UserWarning: `last_window` has DatetimeIndex index but no frequency. Index is overwritten with a RangeIndex of step 1.\n",
      "  warnings.warn(\n",
      "\n",
      "loop param_grid:  83%|██████████████████████████████      | 10/12 [00:00<00:00, 10.68it/s]\u001B[AC:\\school\\minor-ai\\lettuce-cnn\\lib\\site-packages\\skforecast\\utils\\utils.py:522: UserWarning: `y` has DatetimeIndex index but no frequency. Index is overwritten with a RangeIndex of step 1.\n",
      "  warnings.warn(\n",
      "C:\\school\\minor-ai\\lettuce-cnn\\lib\\site-packages\\skforecast\\utils\\utils.py:579: UserWarning: `last_window` has DatetimeIndex index but no frequency. Index is overwritten with a RangeIndex of step 1.\n",
      "  warnings.warn(\n",
      "C:\\school\\minor-ai\\lettuce-cnn\\lib\\site-packages\\skforecast\\utils\\utils.py:579: UserWarning: `last_window` has DatetimeIndex index but no frequency. Index is overwritten with a RangeIndex of step 1.\n",
      "  warnings.warn(\n",
      "C:\\school\\minor-ai\\lettuce-cnn\\lib\\site-packages\\skforecast\\utils\\utils.py:579: UserWarning: `last_window` has DatetimeIndex index but no frequency. Index is overwritten with a RangeIndex of step 1.\n",
      "  warnings.warn(\n",
      "C:\\school\\minor-ai\\lettuce-cnn\\lib\\site-packages\\skforecast\\utils\\utils.py:522: UserWarning: `y` has DatetimeIndex index but no frequency. Index is overwritten with a RangeIndex of step 1.\n",
      "  warnings.warn(\n",
      "C:\\school\\minor-ai\\lettuce-cnn\\lib\\site-packages\\skforecast\\utils\\utils.py:579: UserWarning: `last_window` has DatetimeIndex index but no frequency. Index is overwritten with a RangeIndex of step 1.\n",
      "  warnings.warn(\n",
      "C:\\school\\minor-ai\\lettuce-cnn\\lib\\site-packages\\skforecast\\utils\\utils.py:579: UserWarning: `last_window` has DatetimeIndex index but no frequency. Index is overwritten with a RangeIndex of step 1.\n",
      "  warnings.warn(\n",
      "C:\\school\\minor-ai\\lettuce-cnn\\lib\\site-packages\\skforecast\\utils\\utils.py:579: UserWarning: `last_window` has DatetimeIndex index but no frequency. Index is overwritten with a RangeIndex of step 1.\n",
      "  warnings.warn(\n",
      "\n",
      "loop param_grid: 100%|████████████████████████████████████| 12/12 [00:01<00:00, 10.48it/s]\u001B[A\n",
      "loop lags_grid: 100%|███████████████████████████████████████| 3/3 [00:04<00:00,  1.38s/it]\u001B[A"
     ]
    },
    {
     "name": "stdout",
     "output_type": "stream",
     "text": [
      "`Forecaster` refitted using the best-found lags and parameters, and the whole data set: \n",
      "  Lags: [ 1  2  3 20] \n",
      "  Parameters: {'learning_rate': 0.1, 'max_depth': 5, 'n_estimators': 50}\n",
      "  Backtesting metric: 3.656346183912569\n",
      "\n"
     ]
    },
    {
     "name": "stderr",
     "output_type": "stream",
     "text": [
      "\n",
      "C:\\school\\minor-ai\\lettuce-cnn\\lib\\site-packages\\skforecast\\utils\\utils.py:522: UserWarning: `y` has DatetimeIndex index but no frequency. Index is overwritten with a RangeIndex of step 1.\n",
      "  warnings.warn(\n"
     ]
    }
   ],
   "source": [
    "param_grid = {\n",
    "    'n_estimators': [50, 100],\n",
    "    'max_depth': [3, 5, 10],\n",
    "    'learning_rate': [0.01, 0.1]\n",
    "}\n",
    "\n",
    "# Lags used as predictors\n",
    "lags_grid = [3,10, [1, 2, 3,20]]\n",
    "\n",
    "\n",
    "results_grid = grid_search_forecaster(\n",
    "    forecaster         = forecaster,\n",
    "    y                  = df.loc[:end_validation_date, 'Diameter'], # Train and validation data\n",
    "    param_grid         = param_grid,\n",
    "    lags_grid          = lags_grid,\n",
    "    steps              = 10,\n",
    "    refit              = False,\n",
    "    metric             = 'mean_squared_error',\n",
    "    initial_train_size = int(len(data_train)), # Model is trained with trainign data\n",
    "    fixed_train_size   = False,\n",
    "    return_best        = True,\n",
    "    verbose            = False\n",
    ")"
   ],
   "metadata": {
    "collapsed": false,
    "pycharm": {
     "name": "#%%\n"
    }
   }
  },
  {
   "cell_type": "markdown",
   "source": [],
   "metadata": {
    "collapsed": false,
    "pycharm": {
     "name": "#%% md\n"
    }
   }
  },
  {
   "cell_type": "code",
   "execution_count": 149,
   "outputs": [
    {
     "data": {
      "text/plain": "             lags                                             params  \\\n32  [1, 2, 3, 20]  {'learning_rate': 0.1, 'max_depth': 5, 'n_esti...   \n34  [1, 2, 3, 20]  {'learning_rate': 0.1, 'max_depth': 10, 'n_est...   \n33  [1, 2, 3, 20]  {'learning_rate': 0.1, 'max_depth': 5, 'n_esti...   \n35  [1, 2, 3, 20]  {'learning_rate': 0.1, 'max_depth': 10, 'n_est...   \n31  [1, 2, 3, 20]  {'learning_rate': 0.1, 'max_depth': 3, 'n_esti...   \n30  [1, 2, 3, 20]  {'learning_rate': 0.1, 'max_depth': 3, 'n_esti...   \n8       [1, 2, 3]  {'learning_rate': 0.1, 'max_depth': 5, 'n_esti...   \n9       [1, 2, 3]  {'learning_rate': 0.1, 'max_depth': 5, 'n_esti...   \n7       [1, 2, 3]  {'learning_rate': 0.1, 'max_depth': 3, 'n_esti...   \n10      [1, 2, 3]  {'learning_rate': 0.1, 'max_depth': 10, 'n_est...   \n\n    mean_squared_error  learning_rate  max_depth  n_estimators  \n32            3.656346            0.1        5.0          50.0  \n34            3.671758            0.1       10.0          50.0  \n33            3.758300            0.1        5.0         100.0  \n35            3.794921            0.1       10.0         100.0  \n31            3.983396            0.1        3.0         100.0  \n30            4.018903            0.1        3.0          50.0  \n8             4.084638            0.1        5.0          50.0  \n9             4.315260            0.1        5.0         100.0  \n7             4.376408            0.1        3.0         100.0  \n10            4.554479            0.1       10.0          50.0  ",
      "text/html": "<div>\n<style scoped>\n    .dataframe tbody tr th:only-of-type {\n        vertical-align: middle;\n    }\n\n    .dataframe tbody tr th {\n        vertical-align: top;\n    }\n\n    .dataframe thead th {\n        text-align: right;\n    }\n</style>\n<table border=\"1\" class=\"dataframe\">\n  <thead>\n    <tr style=\"text-align: right;\">\n      <th></th>\n      <th>lags</th>\n      <th>params</th>\n      <th>mean_squared_error</th>\n      <th>learning_rate</th>\n      <th>max_depth</th>\n      <th>n_estimators</th>\n    </tr>\n  </thead>\n  <tbody>\n    <tr>\n      <th>32</th>\n      <td>[1, 2, 3, 20]</td>\n      <td>{'learning_rate': 0.1, 'max_depth': 5, 'n_esti...</td>\n      <td>3.656346</td>\n      <td>0.1</td>\n      <td>5.0</td>\n      <td>50.0</td>\n    </tr>\n    <tr>\n      <th>34</th>\n      <td>[1, 2, 3, 20]</td>\n      <td>{'learning_rate': 0.1, 'max_depth': 10, 'n_est...</td>\n      <td>3.671758</td>\n      <td>0.1</td>\n      <td>10.0</td>\n      <td>50.0</td>\n    </tr>\n    <tr>\n      <th>33</th>\n      <td>[1, 2, 3, 20]</td>\n      <td>{'learning_rate': 0.1, 'max_depth': 5, 'n_esti...</td>\n      <td>3.758300</td>\n      <td>0.1</td>\n      <td>5.0</td>\n      <td>100.0</td>\n    </tr>\n    <tr>\n      <th>35</th>\n      <td>[1, 2, 3, 20]</td>\n      <td>{'learning_rate': 0.1, 'max_depth': 10, 'n_est...</td>\n      <td>3.794921</td>\n      <td>0.1</td>\n      <td>10.0</td>\n      <td>100.0</td>\n    </tr>\n    <tr>\n      <th>31</th>\n      <td>[1, 2, 3, 20]</td>\n      <td>{'learning_rate': 0.1, 'max_depth': 3, 'n_esti...</td>\n      <td>3.983396</td>\n      <td>0.1</td>\n      <td>3.0</td>\n      <td>100.0</td>\n    </tr>\n    <tr>\n      <th>30</th>\n      <td>[1, 2, 3, 20]</td>\n      <td>{'learning_rate': 0.1, 'max_depth': 3, 'n_esti...</td>\n      <td>4.018903</td>\n      <td>0.1</td>\n      <td>3.0</td>\n      <td>50.0</td>\n    </tr>\n    <tr>\n      <th>8</th>\n      <td>[1, 2, 3]</td>\n      <td>{'learning_rate': 0.1, 'max_depth': 5, 'n_esti...</td>\n      <td>4.084638</td>\n      <td>0.1</td>\n      <td>5.0</td>\n      <td>50.0</td>\n    </tr>\n    <tr>\n      <th>9</th>\n      <td>[1, 2, 3]</td>\n      <td>{'learning_rate': 0.1, 'max_depth': 5, 'n_esti...</td>\n      <td>4.315260</td>\n      <td>0.1</td>\n      <td>5.0</td>\n      <td>100.0</td>\n    </tr>\n    <tr>\n      <th>7</th>\n      <td>[1, 2, 3]</td>\n      <td>{'learning_rate': 0.1, 'max_depth': 3, 'n_esti...</td>\n      <td>4.376408</td>\n      <td>0.1</td>\n      <td>3.0</td>\n      <td>100.0</td>\n    </tr>\n    <tr>\n      <th>10</th>\n      <td>[1, 2, 3]</td>\n      <td>{'learning_rate': 0.1, 'max_depth': 10, 'n_est...</td>\n      <td>4.554479</td>\n      <td>0.1</td>\n      <td>10.0</td>\n      <td>50.0</td>\n    </tr>\n  </tbody>\n</table>\n</div>"
     },
     "execution_count": 149,
     "metadata": {},
     "output_type": "execute_result"
    }
   ],
   "source": [
    "results_grid.head(10)"
   ],
   "metadata": {
    "collapsed": false,
    "pycharm": {
     "name": "#%%\n"
    }
   }
  },
  {
   "cell_type": "code",
   "execution_count": 150,
   "outputs": [
    {
     "name": "stderr",
     "output_type": "stream",
     "text": [
      "C:\\school\\minor-ai\\lettuce-cnn\\lib\\site-packages\\skforecast\\utils\\utils.py:522: UserWarning: `y` has DatetimeIndex index but no frequency. Index is overwritten with a RangeIndex of step 1.\n",
      "  warnings.warn(\n",
      "C:\\school\\minor-ai\\lettuce-cnn\\lib\\site-packages\\skforecast\\utils\\utils.py:579: UserWarning: `last_window` has DatetimeIndex index but no frequency. Index is overwritten with a RangeIndex of step 1.\n",
      "  warnings.warn(\n",
      "C:\\school\\minor-ai\\lettuce-cnn\\lib\\site-packages\\skforecast\\utils\\utils.py:579: UserWarning: `last_window` has DatetimeIndex index but no frequency. Index is overwritten with a RangeIndex of step 1.\n",
      "  warnings.warn(\n",
      "C:\\school\\minor-ai\\lettuce-cnn\\lib\\site-packages\\skforecast\\utils\\utils.py:579: UserWarning: `last_window` has DatetimeIndex index but no frequency. Index is overwritten with a RangeIndex of step 1.\n",
      "  warnings.warn(\n"
     ]
    },
    {
     "name": "stdout",
     "output_type": "stream",
     "text": [
      "Backtest error: 16.561084822765242\n"
     ]
    }
   ],
   "source": [
    "metric, predictions = backtesting_forecaster(\n",
    "    forecaster = forecaster,\n",
    "    y          = df['Diameter'],\n",
    "    initial_train_size = len(df.loc[:end_validation_date]),\n",
    "    fixed_train_size   = False,\n",
    "    steps      = 10,\n",
    "    refit      = False,\n",
    "    metric     = 'mean_squared_error',\n",
    "    verbose    = False # Change to True to see detailed information\n",
    ")\n",
    "\n",
    "print(f\"Backtest error: {metric}\")"
   ],
   "metadata": {
    "collapsed": false,
    "pycharm": {
     "name": "#%%\n"
    }
   }
  },
  {
   "cell_type": "code",
   "execution_count": 151,
   "outputs": [
    {
     "name": "stdout",
     "output_type": "stream",
     "text": [
      "\n",
      "    Backtesting of forecaster model.\n",
      "\n",
      "    If `refit` is False, the model is trained only once using the `initial_train_size`\n",
      "    first observations. If `refit` is True, the model is trained in each iteration\n",
      "    increasing the training set. A copy of the original forecaster is created so \n",
      "    it is not modified during the process.\n",
      "\n",
      "    Parameters\n",
      "    ----------\n",
      "    forecaster : ForecasterAutoreg, ForecasterAutoregCustom, ForecasterAutoregDirect\n",
      "        Forecaster model.\n",
      "        \n",
      "    y : pandas Series\n",
      "        Training time series.\n",
      "    \n",
      "    steps : int\n",
      "        Number of steps to predict.\n",
      "        \n",
      "    metric : str, callable, list\n",
      "        Metric used to quantify the goodness of fit of the model.\n",
      "        \n",
      "        If string:\n",
      "            {'mean_squared_error', 'mean_absolute_error',\n",
      "             'mean_absolute_percentage_error', 'mean_squared_log_error'}\n",
      "    \n",
      "        If callable:\n",
      "            Function with arguments y_true, y_pred that returns a float.\n",
      "\n",
      "        If list:\n",
      "            List containing several strings and/or callable.\n",
      "    \n",
      "    initial_train_size : int, default `None`\n",
      "        Number of samples in the initial train split. If `None` and `forecaster` is already \n",
      "        trained, no initial train is done and all data is used to evaluate the model. However, \n",
      "        the first `len(forecaster.last_window)` observations are needed to create the \n",
      "        initial predictors, so no predictions are calculated for them.\n",
      "\n",
      "        `None` is only allowed when `refit` is `False`.\n",
      "    \n",
      "    fixed_train_size : bool, default `True`\n",
      "        If True, train size doesn't increase but moves by `steps` in each iteration.\n",
      "        \n",
      "    exog : pandas Series, pandas DataFrame, default `None`\n",
      "        Exogenous variable/s included as predictor/s. Must have the same\n",
      "        number of observations as `y` and should be aligned so that y[i] is\n",
      "        regressed on exog[i].\n",
      "\n",
      "    refit : bool, default `False`\n",
      "        Whether to re-fit the forecaster in each iteration.\n",
      "\n",
      "    interval : list, default `None`\n",
      "        Confidence of the prediction interval estimated. Sequence of percentiles\n",
      "        to compute, which must be between 0 and 100 inclusive. For example, \n",
      "        interval of 95% should be as `interval = [2.5, 97.5]`. If `None`, no\n",
      "        intervals are estimated. Only available for forecaster of type \n",
      "        ForecasterAutoreg and ForecasterAutoregCustom.\n",
      "            \n",
      "    n_boot : int, default `500`\n",
      "        Number of bootstrapping iterations used to estimate prediction\n",
      "        intervals.\n",
      "\n",
      "    random_state : int, default `123`\n",
      "        Sets a seed to the random generator, so that boot intervals are always \n",
      "        deterministic.\n",
      "\n",
      "    in_sample_residuals : bool, default `True`\n",
      "        If `True`, residuals from the training data are used as proxy of\n",
      "        prediction error to create prediction intervals.  If `False`, out_sample_residuals\n",
      "        are used if they are already stored inside the forecaster.\n",
      "                  \n",
      "    verbose : bool, default `False`\n",
      "        Print number of folds and index of training and validation sets used for backtesting.\n",
      "\n",
      "    Returns \n",
      "    -------\n",
      "    metrics_value : float, list\n",
      "        Value(s) of the metric(s).\n",
      "\n",
      "    backtest_predictions : pandas DataFrame\n",
      "        Value of predictions and their estimated interval if `interval` is not `None`.\n",
      "            column pred = predictions.\n",
      "            column lower_bound = lower bound of the interval.\n",
      "            column upper_bound = upper bound interval of the interval.\n",
      "    \n",
      "    \n"
     ]
    }
   ],
   "source": [
    "print(backtesting_forecaster.__doc__)"
   ],
   "metadata": {
    "collapsed": false,
    "pycharm": {
     "name": "#%%\n"
    }
   }
  },
  {
   "cell_type": "code",
   "execution_count": 152,
   "outputs": [
    {
     "data": {
      "text/plain": "         pred\n20  23.598036\n21  24.201738\n22  25.720509\n23  24.190258\n24  25.720509",
      "text/html": "<div>\n<style scoped>\n    .dataframe tbody tr th:only-of-type {\n        vertical-align: middle;\n    }\n\n    .dataframe tbody tr th {\n        vertical-align: top;\n    }\n\n    .dataframe thead th {\n        text-align: right;\n    }\n</style>\n<table border=\"1\" class=\"dataframe\">\n  <thead>\n    <tr style=\"text-align: right;\">\n      <th></th>\n      <th>pred</th>\n    </tr>\n  </thead>\n  <tbody>\n    <tr>\n      <th>20</th>\n      <td>23.598036</td>\n    </tr>\n    <tr>\n      <th>21</th>\n      <td>24.201738</td>\n    </tr>\n    <tr>\n      <th>22</th>\n      <td>25.720509</td>\n    </tr>\n    <tr>\n      <th>23</th>\n      <td>24.190258</td>\n    </tr>\n    <tr>\n      <th>24</th>\n      <td>25.720509</td>\n    </tr>\n  </tbody>\n</table>\n</div>"
     },
     "execution_count": 152,
     "metadata": {},
     "output_type": "execute_result"
    }
   ],
   "source": [
    "predictions.head()"
   ],
   "metadata": {
    "collapsed": false,
    "pycharm": {
     "name": "#%%\n"
    }
   }
  },
  {
   "cell_type": "code",
   "execution_count": 153,
   "outputs": [
    {
     "data": {
      "text/plain": "<Figure size 1100x400 with 1 Axes>",
      "image/png": "[encoded data removed]"
     },
     "metadata": {},
     "output_type": "display_data"
    }
   ],
   "source": [
    "fig, ax = plt.subplots(figsize=(11, 4))\n",
    "data_test['Diameter'].plot(ax=ax, label='test')\n",
    "predictions['pred'].plot(ax=ax, label='predictions')\n",
    "ax.legend();"
   ],
   "metadata": {
    "collapsed": false,
    "pycharm": {
     "name": "#%%\n"
    }
   }
  }
 ],
 "metadata": {
  "kernelspec": {
   "display_name": "Python 3",
   "language": "python",
   "name": "python3"
  },
  "language_info": {
   "codemirror_mode": {
    "name": "ipython",
    "version": 2
   },
   "file_extension": ".py",
   "mimetype": "text/x-python",
   "name": "python",
   "nbconvert_exporter": "python",
   "pygments_lexer": "ipython2",
   "version": "2.7.6"
  }
 },
 "nbformat": 4,
 "nbformat_minor": 0
}