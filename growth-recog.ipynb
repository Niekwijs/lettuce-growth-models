{
 "cells": [
  {
   "cell_type": "code",
   "execution_count": null,
   "outputs": [],
   "source": [
    "import os\n",
    "\n",
    "import numpy as np\n",
    "import pandas as pd\n",
    "import json\n",
    "import cv2\n",
    "from sklearn.model_selection import train_test_split\n",
    "import cv2\n",
    "\n",
    "# tf imports\n",
    "import tensorflow as tf\n",
    "from tensorflow import keras\n",
    "import matplotlib.pyplot as plt\n",
    "from keras.layers import Dense\n",
    "from keras import backend as K"
   ],
   "metadata": {
    "collapsed": false,
    "pycharm": {
     "name": "#%%\n"
    }
   }
  },
  {
   "cell_type": "code",
   "execution_count": null,
   "outputs": [],
   "source": [
    "gpus = tf.config.list_physical_devices('GPU')\n",
    "if gpus:\n",
    "  try:\n",
    "    tf.config.set_visible_devices(gpus[0], 'GPU')\n",
    "    for gpu in gpus:\n",
    "      tf.config.experimental.set_memory_growth(gpu, True)\n",
    "    logical_gpus = tf.config.list_logical_devices('GPU')\n",
    "    print(len(gpus), \"Physical GPUs,\", len(logical_gpus), \"Logical GPU\")\n",
    "  except RuntimeError as e:\n",
    "    print(e)"
   ],
   "metadata": {
    "collapsed": false,
    "pycharm": {
     "name": "#%%\n"
    }
   }
  },
  {
   "cell_type": "markdown",
   "source": [
    "loading images with labels"
   ],
   "metadata": {
    "collapsed": false,
    "pycharm": {
     "name": "#%% md\n"
    }
   }
  },
  {
   "cell_type": "code",
   "execution_count": null,
   "outputs": [],
   "source": [
    "f = open(\".\\data\\measurements.json\")\n",
    "data_json = json.loads(f.read())[\"Measurements\"]\n",
    "\n",
    "vs = data_json.values()\n",
    "\n",
    "df = pd.json_normalize(vs)\n",
    "\n",
    "df.head()"
   ],
   "metadata": {
    "collapsed": false,
    "pycharm": {
     "name": "#%%\n"
    }
   }
  },
  {
   "cell_type": "code",
   "execution_count": null,
   "outputs": [],
   "source": [
    "df.sort_values(\"Height\")"
   ],
   "metadata": {
    "collapsed": false,
    "pycharm": {
     "name": "#%%\n"
    }
   }
  },
  {
   "cell_type": "code",
   "execution_count": null,
   "outputs": [],
   "source": [
    "# testing images shaping\n",
    "img = cv2.imread('.\\data\\RGBImages\\RGB_270.png')\n",
    "w, h, c = img.shape\n",
    "\n",
    "img = img[ (w // 2 - 400 ) : (w // 2 + 400) , (h // 2 - 400 + 100)  : (h // 2 + 400 + 100) ]\n",
    "plt.imshow(img)"
   ],
   "metadata": {
    "collapsed": false,
    "pycharm": {
     "name": "#%%\n"
    }
   }
  },
  {
   "cell_type": "code",
   "execution_count": null,
   "outputs": [],
   "source": [
    "\n",
    "path = './data/DepthImages/'\n",
    "all_images = []\n",
    "y = []\n",
    "for image_path in os.listdir(path):\n",
    "    y.append(df.loc[df['Depth_Information'] == image_path].Height.item())\n",
    "    img = cv2.imread(path + image_path, -1)\n",
    "    img = img[ (w // 2 - 400 ) : (w // 2 + 400) , (h // 2 - 400 + 100)  : (h // 2 + 400 + 100) ]\n",
    "    img = cv2.resize(img, (250, 250))\n",
    "    all_images.append(img)\n",
    "\n",
    "X = np.array(all_images)"
   ],
   "metadata": {
    "collapsed": false,
    "pycharm": {
     "name": "#%%\n"
    }
   }
  },
  {
   "cell_type": "code",
   "execution_count": null,
   "outputs": [],
   "source": [
    "X_train, X_test, y_train, y_test = train_test_split(X, y, test_size=0.25, shuffle=True)"
   ],
   "metadata": {
    "collapsed": false,
    "pycharm": {
     "name": "#%%\n"
    }
   }
  },
  {
   "cell_type": "code",
   "execution_count": null,
   "outputs": [],
   "source": [
    "def r2_keras(y_true, y_pred):\n",
    "    SS_res =  K.sum(K.square( y_true - y_pred ))\n",
    "    SS_tot = K.sum(K.square( y_true - K.mean(y_true) ) )\n",
    "    return ( 1 - SS_res/(SS_tot + K.epsilon()) )"
   ],
   "metadata": {
    "collapsed": false,
    "pycharm": {
     "name": "#%%\n"
    }
   }
  },
  {
   "cell_type": "code",
   "execution_count": null,
   "outputs": [],
   "source": [
    "model = keras.models.Sequential()\n",
    "model.add(keras.layers.Conv2D(32, (3, 3), activation='relu', input_shape=(800, 800, 1)))\n",
    "model.add(keras.layers.MaxPooling2D((2, 2)))\n",
    "model.add(keras.layers.Conv2D(64, (3, 3), activation='relu'))\n",
    "model.add(keras.layers.MaxPooling2D((2, 2)))\n",
    "model.add(keras.layers.Conv2D(64, (3, 3), activation='relu'))\n",
    "\n",
    "model.add(Dense(1, activation='linear'))\n",
    "\n",
    "model.compile(loss=\"mean_squared_error\", optimizer=\"adam\", metrics=[r2_keras])\n",
    "model.summary()"
   ],
   "metadata": {
    "collapsed": false,
    "pycharm": {
     "name": "#%%\n"
    }
   }
  },
  {
   "cell_type": "code",
   "execution_count": null,
   "outputs": [],
   "source": [
    "X_train = np.asarray(X_train)\n",
    "y_train = np.asarray(y_train)\n",
    "X_test = np.asarray(X_test)\n",
    "y_test = np.asarray(y_test)\n",
    "history = model.fit(X_train, y_train,\n",
    "          batch_size=32,\n",
    "          epochs=30,\n",
    "          verbose=2,\n",
    "          validation_data=(X_test, y_test))\n",
    "score = model.evaluate(X_test, y_test, verbose=0)"
   ],
   "metadata": {
    "collapsed": false,
    "pycharm": {
     "name": "#%%\n"
    }
   }
  },
  {
   "cell_type": "code",
   "execution_count": null,
   "outputs": [],
   "source": [
    "plt.plot(history.history['loss'][4 : ])\n",
    "plt.plot(history.history['val_loss'][4: ])\n",
    "plt.title('model MSE')\n",
    "plt.ylabel('MSE')\n",
    "plt.xlabel('epoch')\n",
    "plt.legend(['train', 'val'], loc='upper left')\n",
    "plt.show()"
   ],
   "metadata": {
    "collapsed": false,
    "pycharm": {
     "name": "#%%\n"
    }
   }
  },
  {
   "cell_type": "code",
   "execution_count": null,
   "outputs": [],
   "source": [
    "model.predict([X_train[0]])"
   ],
   "metadata": {
    "collapsed": false,
    "pycharm": {
     "name": "#%%\n"
    }
   }
  },
  {
   "cell_type": "markdown",
   "source": [
    "ResNet Implementation for regression: depth images height\n",
    "\n",
    "https://towardsdatascience.com/building-a-resnet-in-keras-e8f1322a49ba\n",
    "\n",
    "!!LET OP NIET RUNNEN ZONDER GPU!!"
   ],
   "metadata": {
    "collapsed": false,
    "pycharm": {
     "name": "#%% md\n"
    }
   }
  },
  {
   "cell_type": "code",
   "execution_count": 40,
   "metadata": {
    "pycharm": {
     "name": "#%%\n"
    }
   },
   "outputs": [],
   "source": [
    "from tensorflow import Tensor\n",
    "from tensorflow.keras.layers import Input, Conv2D, ReLU, BatchNormalization, \\\n",
    "    Add, AveragePooling2D, Flatten, Dense\n",
    "from tensorflow.keras.models import Model"
   ]
  },
  {
   "cell_type": "code",
   "execution_count": 41,
   "metadata": {
    "pycharm": {
     "name": "#%%\n"
    }
   },
   "outputs": [],
   "source": [
    "def relu_bn(inputs: Tensor) -> Tensor:\n",
    "    relu = ReLU()(inputs)\n",
    "    bn = BatchNormalization()(relu)\n",
    "    return bn"
   ]
  },
  {
   "cell_type": "code",
   "execution_count": 42,
   "metadata": {
    "pycharm": {
     "name": "#%%\n"
    }
   },
   "outputs": [],
   "source": [
    "def residual_block(x: Tensor, downsample: bool, filters: int, kernel_size: int = 3) -> Tensor:\n",
    "    y = Conv2D(kernel_size=kernel_size,\n",
    "               strides=(1 if not downsample else 2),\n",
    "               filters=filters,\n",
    "               padding=\"same\")(x)\n",
    "    y = relu_bn(y)\n",
    "    y = Conv2D(kernel_size=kernel_size,\n",
    "               strides=1,\n",
    "               filters=filters,\n",
    "               padding=\"same\")(y)\n",
    "\n",
    "    if downsample:\n",
    "        x = Conv2D(kernel_size=1,\n",
    "                   strides=2,\n",
    "                   filters=filters,\n",
    "                   padding=\"same\")(x)\n",
    "    out = Add()([x, y])\n",
    "    out = relu_bn(out)\n",
    "    return out"
   ]
  },
  {
   "cell_type": "code",
   "execution_count": 43,
   "metadata": {
    "pycharm": {
     "name": "#%%\n"
    }
   },
   "outputs": [],
   "source": [
    "def create_res_net(input_shape, regression):\n",
    "    inputs = Input(shape=input_shape)\n",
    "    num_filters = 64\n",
    "\n",
    "    t = BatchNormalization()(inputs)\n",
    "    t = Conv2D(kernel_size=3,\n",
    "               strides=1,\n",
    "               filters=num_filters,\n",
    "               padding=\"same\")(t)\n",
    "    t = relu_bn(t)\n",
    "\n",
    "    num_blocks_list = [2, 5, 5, 2]\n",
    "    for i in range(len(num_blocks_list)):\n",
    "        num_blocks = num_blocks_list[i]\n",
    "        for j in range(num_blocks):\n",
    "            t = residual_block(t, downsample=(j == 0 and i != 0), filters=num_filters)\n",
    "        num_filters *= 2\n",
    "\n",
    "    t = AveragePooling2D(4)(t)\n",
    "    t = Flatten()(t)\n",
    "    outputs = Dense(19, activation='softmax')(t)\n",
    "\n",
    "    if regression:\n",
    "        outputs = Dense(1, activation='linear')(t)\n",
    "\n",
    "    model = Model(inputs, outputs)\n",
    "\n",
    "    if regression:\n",
    "        model.compile(\n",
    "            optimizer='adam',\n",
    "            loss='mean_squared_error',\n",
    "            metrics=['mean_absolute_percentage_error']\n",
    "        )\n",
    "    else:\n",
    "        model.compile(\n",
    "            optimizer='adam',\n",
    "            loss='sparse_categorical_crossentropy',\n",
    "            metrics=['accuracy']\n",
    "        )\n",
    "\n",
    "    return model"
   ]
  },
  {
   "cell_type": "code",
   "execution_count": 44,
   "metadata": {
    "pycharm": {
     "name": "#%%\n"
    }
   },
   "outputs": [],
   "source": [
    "rn = create_res_net((250,250,1),True)"
   ]
  },
  {
   "cell_type": "code",
   "execution_count": 45,
   "metadata": {
    "pycharm": {
     "name": "#%%\n"
    }
   },
   "outputs": [
    {
     "name": "stdout",
     "output_type": "stream",
     "text": [
      "Model: \"model_3\"\n",
      "__________________________________________________________________________________________________\n",
      " Layer (type)                   Output Shape         Param #     Connected to                     \n",
      "==================================================================================================\n",
      " input_4 (InputLayer)           [(None, 250, 250, 1  0           []                               \n",
      "                                )]                                                                \n",
      "                                                                                                  \n",
      " batch_normalization_90 (BatchN  (None, 250, 250, 1)  4          ['input_4[0][0]']                \n",
      " ormalization)                                                                                    \n",
      "                                                                                                  \n",
      " conv2d_96 (Conv2D)             (None, 250, 250, 64  640         ['batch_normalization_90[0][0]'] \n",
      "                                )                                                                 \n",
      "                                                                                                  \n",
      " re_lu_87 (ReLU)                (None, 250, 250, 64  0           ['conv2d_96[0][0]']              \n",
      "                                )                                                                 \n",
      "                                                                                                  \n",
      " batch_normalization_91 (BatchN  (None, 250, 250, 64  256        ['re_lu_87[0][0]']               \n",
      " ormalization)                  )                                                                 \n",
      "                                                                                                  \n",
      " conv2d_97 (Conv2D)             (None, 250, 250, 64  36928       ['batch_normalization_91[0][0]'] \n",
      "                                )                                                                 \n",
      "                                                                                                  \n",
      " re_lu_88 (ReLU)                (None, 250, 250, 64  0           ['conv2d_97[0][0]']              \n",
      "                                )                                                                 \n",
      "                                                                                                  \n",
      " batch_normalization_92 (BatchN  (None, 250, 250, 64  256        ['re_lu_88[0][0]']               \n",
      " ormalization)                  )                                                                 \n",
      "                                                                                                  \n",
      " conv2d_98 (Conv2D)             (None, 250, 250, 64  36928       ['batch_normalization_92[0][0]'] \n",
      "                                )                                                                 \n",
      "                                                                                                  \n",
      " add_42 (Add)                   (None, 250, 250, 64  0           ['batch_normalization_91[0][0]', \n",
      "                                )                                 'conv2d_98[0][0]']              \n",
      "                                                                                                  \n",
      " re_lu_89 (ReLU)                (None, 250, 250, 64  0           ['add_42[0][0]']                 \n",
      "                                )                                                                 \n",
      "                                                                                                  \n",
      " batch_normalization_93 (BatchN  (None, 250, 250, 64  256        ['re_lu_89[0][0]']               \n",
      " ormalization)                  )                                                                 \n",
      "                                                                                                  \n",
      " conv2d_99 (Conv2D)             (None, 250, 250, 64  36928       ['batch_normalization_93[0][0]'] \n",
      "                                )                                                                 \n",
      "                                                                                                  \n",
      " re_lu_90 (ReLU)                (None, 250, 250, 64  0           ['conv2d_99[0][0]']              \n",
      "                                )                                                                 \n",
      "                                                                                                  \n",
      " batch_normalization_94 (BatchN  (None, 250, 250, 64  256        ['re_lu_90[0][0]']               \n",
      " ormalization)                  )                                                                 \n",
      "                                                                                                  \n",
      " conv2d_100 (Conv2D)            (None, 250, 250, 64  36928       ['batch_normalization_94[0][0]'] \n",
      "                                )                                                                 \n",
      "                                                                                                  \n",
      " add_43 (Add)                   (None, 250, 250, 64  0           ['batch_normalization_93[0][0]', \n",
      "                                )                                 'conv2d_100[0][0]']             \n",
      "                                                                                                  \n",
      " re_lu_91 (ReLU)                (None, 250, 250, 64  0           ['add_43[0][0]']                 \n",
      "                                )                                                                 \n",
      "                                                                                                  \n",
      " batch_normalization_95 (BatchN  (None, 250, 250, 64  256        ['re_lu_91[0][0]']               \n",
      " ormalization)                  )                                                                 \n",
      "                                                                                                  \n",
      " conv2d_101 (Conv2D)            (None, 125, 125, 12  73856       ['batch_normalization_95[0][0]'] \n",
      "                                8)                                                                \n",
      "                                                                                                  \n",
      " re_lu_92 (ReLU)                (None, 125, 125, 12  0           ['conv2d_101[0][0]']             \n",
      "                                8)                                                                \n",
      "                                                                                                  \n",
      " batch_normalization_96 (BatchN  (None, 125, 125, 12  512        ['re_lu_92[0][0]']               \n",
      " ormalization)                  8)                                                                \n",
      "                                                                                                  \n",
      " conv2d_103 (Conv2D)            (None, 125, 125, 12  8320        ['batch_normalization_95[0][0]'] \n",
      "                                8)                                                                \n",
      "                                                                                                  \n",
      " conv2d_102 (Conv2D)            (None, 125, 125, 12  147584      ['batch_normalization_96[0][0]'] \n",
      "                                8)                                                                \n",
      "                                                                                                  \n",
      " add_44 (Add)                   (None, 125, 125, 12  0           ['conv2d_103[0][0]',             \n",
      "                                8)                                'conv2d_102[0][0]']             \n",
      "                                                                                                  \n",
      " re_lu_93 (ReLU)                (None, 125, 125, 12  0           ['add_44[0][0]']                 \n",
      "                                8)                                                                \n",
      "                                                                                                  \n",
      " batch_normalization_97 (BatchN  (None, 125, 125, 12  512        ['re_lu_93[0][0]']               \n",
      " ormalization)                  8)                                                                \n",
      "                                                                                                  \n",
      " conv2d_104 (Conv2D)            (None, 125, 125, 12  147584      ['batch_normalization_97[0][0]'] \n",
      "                                8)                                                                \n",
      "                                                                                                  \n",
      " re_lu_94 (ReLU)                (None, 125, 125, 12  0           ['conv2d_104[0][0]']             \n",
      "                                8)                                                                \n",
      "                                                                                                  \n",
      " batch_normalization_98 (BatchN  (None, 125, 125, 12  512        ['re_lu_94[0][0]']               \n",
      " ormalization)                  8)                                                                \n",
      "                                                                                                  \n",
      " conv2d_105 (Conv2D)            (None, 125, 125, 12  147584      ['batch_normalization_98[0][0]'] \n",
      "                                8)                                                                \n",
      "                                                                                                  \n",
      " add_45 (Add)                   (None, 125, 125, 12  0           ['batch_normalization_97[0][0]', \n",
      "                                8)                                'conv2d_105[0][0]']             \n",
      "                                                                                                  \n",
      " re_lu_95 (ReLU)                (None, 125, 125, 12  0           ['add_45[0][0]']                 \n",
      "                                8)                                                                \n",
      "                                                                                                  \n",
      " batch_normalization_99 (BatchN  (None, 125, 125, 12  512        ['re_lu_95[0][0]']               \n",
      " ormalization)                  8)                                                                \n",
      "                                                                                                  \n",
      " conv2d_106 (Conv2D)            (None, 125, 125, 12  147584      ['batch_normalization_99[0][0]'] \n",
      "                                8)                                                                \n",
      "                                                                                                  \n",
      " re_lu_96 (ReLU)                (None, 125, 125, 12  0           ['conv2d_106[0][0]']             \n",
      "                                8)                                                                \n",
      "                                                                                                  \n",
      " batch_normalization_100 (Batch  (None, 125, 125, 12  512        ['re_lu_96[0][0]']               \n",
      " Normalization)                 8)                                                                \n",
      "                                                                                                  \n",
      " conv2d_107 (Conv2D)            (None, 125, 125, 12  147584      ['batch_normalization_100[0][0]']\n",
      "                                8)                                                                \n",
      "                                                                                                  \n",
      " add_46 (Add)                   (None, 125, 125, 12  0           ['batch_normalization_99[0][0]', \n",
      "                                8)                                'conv2d_107[0][0]']             \n",
      "                                                                                                  \n",
      " re_lu_97 (ReLU)                (None, 125, 125, 12  0           ['add_46[0][0]']                 \n",
      "                                8)                                                                \n",
      "                                                                                                  \n",
      " batch_normalization_101 (Batch  (None, 125, 125, 12  512        ['re_lu_97[0][0]']               \n",
      " Normalization)                 8)                                                                \n",
      "                                                                                                  \n",
      " conv2d_108 (Conv2D)            (None, 125, 125, 12  147584      ['batch_normalization_101[0][0]']\n",
      "                                8)                                                                \n",
      "                                                                                                  \n",
      " re_lu_98 (ReLU)                (None, 125, 125, 12  0           ['conv2d_108[0][0]']             \n",
      "                                8)                                                                \n",
      "                                                                                                  \n",
      " batch_normalization_102 (Batch  (None, 125, 125, 12  512        ['re_lu_98[0][0]']               \n",
      " Normalization)                 8)                                                                \n",
      "                                                                                                  \n",
      " conv2d_109 (Conv2D)            (None, 125, 125, 12  147584      ['batch_normalization_102[0][0]']\n",
      "                                8)                                                                \n",
      "                                                                                                  \n",
      " add_47 (Add)                   (None, 125, 125, 12  0           ['batch_normalization_101[0][0]',\n",
      "                                8)                                'conv2d_109[0][0]']             \n",
      "                                                                                                  \n",
      " re_lu_99 (ReLU)                (None, 125, 125, 12  0           ['add_47[0][0]']                 \n",
      "                                8)                                                                \n",
      "                                                                                                  \n",
      " batch_normalization_103 (Batch  (None, 125, 125, 12  512        ['re_lu_99[0][0]']               \n",
      " Normalization)                 8)                                                                \n",
      "                                                                                                  \n",
      " conv2d_110 (Conv2D)            (None, 125, 125, 12  147584      ['batch_normalization_103[0][0]']\n",
      "                                8)                                                                \n",
      "                                                                                                  \n",
      " re_lu_100 (ReLU)               (None, 125, 125, 12  0           ['conv2d_110[0][0]']             \n",
      "                                8)                                                                \n",
      "                                                                                                  \n",
      " batch_normalization_104 (Batch  (None, 125, 125, 12  512        ['re_lu_100[0][0]']              \n",
      " Normalization)                 8)                                                                \n",
      "                                                                                                  \n",
      " conv2d_111 (Conv2D)            (None, 125, 125, 12  147584      ['batch_normalization_104[0][0]']\n",
      "                                8)                                                                \n",
      "                                                                                                  \n",
      " add_48 (Add)                   (None, 125, 125, 12  0           ['batch_normalization_103[0][0]',\n",
      "                                8)                                'conv2d_111[0][0]']             \n",
      "                                                                                                  \n",
      " re_lu_101 (ReLU)               (None, 125, 125, 12  0           ['add_48[0][0]']                 \n",
      "                                8)                                                                \n",
      "                                                                                                  \n",
      " batch_normalization_105 (Batch  (None, 125, 125, 12  512        ['re_lu_101[0][0]']              \n",
      " Normalization)                 8)                                                                \n",
      "                                                                                                  \n",
      " conv2d_112 (Conv2D)            (None, 63, 63, 256)  295168      ['batch_normalization_105[0][0]']\n",
      "                                                                                                  \n",
      " re_lu_102 (ReLU)               (None, 63, 63, 256)  0           ['conv2d_112[0][0]']             \n",
      "                                                                                                  \n",
      " batch_normalization_106 (Batch  (None, 63, 63, 256)  1024       ['re_lu_102[0][0]']              \n",
      " Normalization)                                                                                   \n",
      "                                                                                                  \n",
      " conv2d_114 (Conv2D)            (None, 63, 63, 256)  33024       ['batch_normalization_105[0][0]']\n",
      "                                                                                                  \n",
      " conv2d_113 (Conv2D)            (None, 63, 63, 256)  590080      ['batch_normalization_106[0][0]']\n",
      "                                                                                                  \n",
      " add_49 (Add)                   (None, 63, 63, 256)  0           ['conv2d_114[0][0]',             \n",
      "                                                                  'conv2d_113[0][0]']             \n",
      "                                                                                                  \n",
      " re_lu_103 (ReLU)               (None, 63, 63, 256)  0           ['add_49[0][0]']                 \n",
      "                                                                                                  \n",
      " batch_normalization_107 (Batch  (None, 63, 63, 256)  1024       ['re_lu_103[0][0]']              \n",
      " Normalization)                                                                                   \n",
      "                                                                                                  \n",
      " conv2d_115 (Conv2D)            (None, 63, 63, 256)  590080      ['batch_normalization_107[0][0]']\n",
      "                                                                                                  \n",
      " re_lu_104 (ReLU)               (None, 63, 63, 256)  0           ['conv2d_115[0][0]']             \n",
      "                                                                                                  \n",
      " batch_normalization_108 (Batch  (None, 63, 63, 256)  1024       ['re_lu_104[0][0]']              \n",
      " Normalization)                                                                                   \n",
      "                                                                                                  \n",
      " conv2d_116 (Conv2D)            (None, 63, 63, 256)  590080      ['batch_normalization_108[0][0]']\n",
      "                                                                                                  \n",
      " add_50 (Add)                   (None, 63, 63, 256)  0           ['batch_normalization_107[0][0]',\n",
      "                                                                  'conv2d_116[0][0]']             \n",
      "                                                                                                  \n",
      " re_lu_105 (ReLU)               (None, 63, 63, 256)  0           ['add_50[0][0]']                 \n",
      "                                                                                                  \n",
      " batch_normalization_109 (Batch  (None, 63, 63, 256)  1024       ['re_lu_105[0][0]']              \n",
      " Normalization)                                                                                   \n",
      "                                                                                                  \n",
      " conv2d_117 (Conv2D)            (None, 63, 63, 256)  590080      ['batch_normalization_109[0][0]']\n",
      "                                                                                                  \n",
      " re_lu_106 (ReLU)               (None, 63, 63, 256)  0           ['conv2d_117[0][0]']             \n",
      "                                                                                                  \n",
      " batch_normalization_110 (Batch  (None, 63, 63, 256)  1024       ['re_lu_106[0][0]']              \n",
      " Normalization)                                                                                   \n",
      "                                                                                                  \n",
      " conv2d_118 (Conv2D)            (None, 63, 63, 256)  590080      ['batch_normalization_110[0][0]']\n",
      "                                                                                                  \n",
      " add_51 (Add)                   (None, 63, 63, 256)  0           ['batch_normalization_109[0][0]',\n",
      "                                                                  'conv2d_118[0][0]']             \n",
      "                                                                                                  \n",
      " re_lu_107 (ReLU)               (None, 63, 63, 256)  0           ['add_51[0][0]']                 \n",
      "                                                                                                  \n",
      " batch_normalization_111 (Batch  (None, 63, 63, 256)  1024       ['re_lu_107[0][0]']              \n",
      " Normalization)                                                                                   \n",
      "                                                                                                  \n",
      " conv2d_119 (Conv2D)            (None, 63, 63, 256)  590080      ['batch_normalization_111[0][0]']\n",
      "                                                                                                  \n",
      " re_lu_108 (ReLU)               (None, 63, 63, 256)  0           ['conv2d_119[0][0]']             \n",
      "                                                                                                  \n",
      " batch_normalization_112 (Batch  (None, 63, 63, 256)  1024       ['re_lu_108[0][0]']              \n",
      " Normalization)                                                                                   \n",
      "                                                                                                  \n",
      " conv2d_120 (Conv2D)            (None, 63, 63, 256)  590080      ['batch_normalization_112[0][0]']\n",
      "                                                                                                  \n",
      " add_52 (Add)                   (None, 63, 63, 256)  0           ['batch_normalization_111[0][0]',\n",
      "                                                                  'conv2d_120[0][0]']             \n",
      "                                                                                                  \n",
      " re_lu_109 (ReLU)               (None, 63, 63, 256)  0           ['add_52[0][0]']                 \n",
      "                                                                                                  \n",
      " batch_normalization_113 (Batch  (None, 63, 63, 256)  1024       ['re_lu_109[0][0]']              \n",
      " Normalization)                                                                                   \n",
      "                                                                                                  \n",
      " conv2d_121 (Conv2D)            (None, 63, 63, 256)  590080      ['batch_normalization_113[0][0]']\n",
      "                                                                                                  \n",
      " re_lu_110 (ReLU)               (None, 63, 63, 256)  0           ['conv2d_121[0][0]']             \n",
      "                                                                                                  \n",
      " batch_normalization_114 (Batch  (None, 63, 63, 256)  1024       ['re_lu_110[0][0]']              \n",
      " Normalization)                                                                                   \n",
      "                                                                                                  \n",
      " conv2d_122 (Conv2D)            (None, 63, 63, 256)  590080      ['batch_normalization_114[0][0]']\n",
      "                                                                                                  \n",
      " add_53 (Add)                   (None, 63, 63, 256)  0           ['batch_normalization_113[0][0]',\n",
      "                                                                  'conv2d_122[0][0]']             \n",
      "                                                                                                  \n",
      " re_lu_111 (ReLU)               (None, 63, 63, 256)  0           ['add_53[0][0]']                 \n",
      "                                                                                                  \n",
      " batch_normalization_115 (Batch  (None, 63, 63, 256)  1024       ['re_lu_111[0][0]']              \n",
      " Normalization)                                                                                   \n",
      "                                                                                                  \n",
      " conv2d_123 (Conv2D)            (None, 32, 32, 512)  1180160     ['batch_normalization_115[0][0]']\n",
      "                                                                                                  \n",
      " re_lu_112 (ReLU)               (None, 32, 32, 512)  0           ['conv2d_123[0][0]']             \n",
      "                                                                                                  \n",
      " batch_normalization_116 (Batch  (None, 32, 32, 512)  2048       ['re_lu_112[0][0]']              \n",
      " Normalization)                                                                                   \n",
      "                                                                                                  \n",
      " conv2d_125 (Conv2D)            (None, 32, 32, 512)  131584      ['batch_normalization_115[0][0]']\n",
      "                                                                                                  \n",
      " conv2d_124 (Conv2D)            (None, 32, 32, 512)  2359808     ['batch_normalization_116[0][0]']\n",
      "                                                                                                  \n",
      " add_54 (Add)                   (None, 32, 32, 512)  0           ['conv2d_125[0][0]',             \n",
      "                                                                  'conv2d_124[0][0]']             \n",
      "                                                                                                  \n",
      " re_lu_113 (ReLU)               (None, 32, 32, 512)  0           ['add_54[0][0]']                 \n",
      "                                                                                                  \n",
      " batch_normalization_117 (Batch  (None, 32, 32, 512)  2048       ['re_lu_113[0][0]']              \n",
      " Normalization)                                                                                   \n",
      "                                                                                                  \n",
      " conv2d_126 (Conv2D)            (None, 32, 32, 512)  2359808     ['batch_normalization_117[0][0]']\n",
      "                                                                                                  \n",
      " re_lu_114 (ReLU)               (None, 32, 32, 512)  0           ['conv2d_126[0][0]']             \n",
      "                                                                                                  \n",
      " batch_normalization_118 (Batch  (None, 32, 32, 512)  2048       ['re_lu_114[0][0]']              \n",
      " Normalization)                                                                                   \n",
      "                                                                                                  \n",
      " conv2d_127 (Conv2D)            (None, 32, 32, 512)  2359808     ['batch_normalization_118[0][0]']\n",
      "                                                                                                  \n",
      " add_55 (Add)                   (None, 32, 32, 512)  0           ['batch_normalization_117[0][0]',\n",
      "                                                                  'conv2d_127[0][0]']             \n",
      "                                                                                                  \n",
      " re_lu_115 (ReLU)               (None, 32, 32, 512)  0           ['add_55[0][0]']                 \n",
      "                                                                                                  \n",
      " batch_normalization_119 (Batch  (None, 32, 32, 512)  2048       ['re_lu_115[0][0]']              \n",
      " Normalization)                                                                                   \n",
      "                                                                                                  \n",
      " average_pooling2d_3 (AveragePo  (None, 8, 8, 512)   0           ['batch_normalization_119[0][0]']\n",
      " oling2D)                                                                                         \n",
      "                                                                                                  \n",
      " flatten_3 (Flatten)            (None, 32768)        0           ['average_pooling2d_3[0][0]']    \n",
      "                                                                                                  \n",
      " dense_7 (Dense)                (None, 1)            32769       ['flatten_3[0][0]']              \n",
      "                                                                                                  \n",
      "==================================================================================================\n",
      "Total params: 15,646,469\n",
      "Trainable params: 15,634,051\n",
      "Non-trainable params: 12,418\n",
      "__________________________________________________________________________________________________\n"
     ]
    }
   ],
   "source": [
    "rn.summary()"
   ]
  },
  {
   "cell_type": "code",
   "execution_count": 49,
   "metadata": {
    "pycharm": {
     "name": "#%%\n"
    }
   },
   "outputs": [
    {
     "name": "stdout",
     "output_type": "stream",
     "text": [
      "(310, 250, 250)\n",
      "Epoch 1/100\n",
      "20/20 [==============================] - ETA: 0s - loss: 6.3316 - mean_absolute_percentage_error: 18.8602\n",
      "Epoch 1: saving model to checkpoints/res_net_depth20221206-114207\\cp-0001.ckpt\n"
     ]
    },
    {
     "name": "stderr",
     "output_type": "stream",
     "text": [
      "WARNING:absl:Found untraced functions such as _jit_compiled_convolution_op, _jit_compiled_convolution_op, _jit_compiled_convolution_op, _jit_compiled_convolution_op, _jit_compiled_convolution_op while saving (showing 5 of 32). These functions will not be directly callable after loading.\n"
     ]
    },
    {
     "name": "stdout",
     "output_type": "stream",
     "text": [
      "INFO:tensorflow:Assets written to: checkpoints/res_net_depth20221206-114207\\cp-0001.ckpt\\assets\n"
     ]
    },
    {
     "name": "stderr",
     "output_type": "stream",
     "text": [
      "INFO:tensorflow:Assets written to: checkpoints/res_net_depth20221206-114207\\cp-0001.ckpt\\assets\n"
     ]
    },
    {
     "name": "stdout",
     "output_type": "stream",
     "text": [
      "20/20 [==============================] - 34s 2s/step - loss: 6.3316 - mean_absolute_percentage_error: 18.8602 - val_loss: 30.5157 - val_mean_absolute_percentage_error: 27.8470\n",
      "Epoch 2/100\n",
      "20/20 [==============================] - ETA: 0s - loss: 4.7581 - mean_absolute_percentage_error: 14.9169\n",
      "Epoch 2: saving model to checkpoints/res_net_depth20221206-114207\\cp-0002.ckpt\n"
     ]
    },
    {
     "name": "stderr",
     "output_type": "stream",
     "text": [
      "WARNING:absl:Found untraced functions such as _jit_compiled_convolution_op, _jit_compiled_convolution_op, _jit_compiled_convolution_op, _jit_compiled_convolution_op, _jit_compiled_convolution_op while saving (showing 5 of 32). These functions will not be directly callable after loading.\n"
     ]
    },
    {
     "name": "stdout",
     "output_type": "stream",
     "text": [
      "INFO:tensorflow:Assets written to: checkpoints/res_net_depth20221206-114207\\cp-0002.ckpt\\assets\n"
     ]
    },
    {
     "name": "stderr",
     "output_type": "stream",
     "text": [
      "INFO:tensorflow:Assets written to: checkpoints/res_net_depth20221206-114207\\cp-0002.ckpt\\assets\n"
     ]
    },
    {
     "name": "stdout",
     "output_type": "stream",
     "text": [
      "20/20 [==============================] - 34s 2s/step - loss: 4.7581 - mean_absolute_percentage_error: 14.9169 - val_loss: 29.0178 - val_mean_absolute_percentage_error: 34.9624\n",
      "Epoch 3/100\n",
      "20/20 [==============================] - ETA: 0s - loss: 4.8179 - mean_absolute_percentage_error: 15.3122\n",
      "Epoch 3: saving model to checkpoints/res_net_depth20221206-114207\\cp-0003.ckpt\n"
     ]
    },
    {
     "name": "stderr",
     "output_type": "stream",
     "text": [
      "WARNING:absl:Found untraced functions such as _jit_compiled_convolution_op, _jit_compiled_convolution_op, _jit_compiled_convolution_op, _jit_compiled_convolution_op, _jit_compiled_convolution_op while saving (showing 5 of 32). These functions will not be directly callable after loading.\n"
     ]
    },
    {
     "name": "stdout",
     "output_type": "stream",
     "text": [
      "INFO:tensorflow:Assets written to: checkpoints/res_net_depth20221206-114207\\cp-0003.ckpt\\assets\n"
     ]
    },
    {
     "name": "stderr",
     "output_type": "stream",
     "text": [
      "INFO:tensorflow:Assets written to: checkpoints/res_net_depth20221206-114207\\cp-0003.ckpt\\assets\n"
     ]
    },
    {
     "name": "stdout",
     "output_type": "stream",
     "text": [
      "20/20 [==============================] - 33s 2s/step - loss: 4.8179 - mean_absolute_percentage_error: 15.3122 - val_loss: 27.0914 - val_mean_absolute_percentage_error: 32.9241\n",
      "Epoch 4/100\n",
      "20/20 [==============================] - ETA: 0s - loss: 6.2882 - mean_absolute_percentage_error: 18.8397\n",
      "Epoch 4: saving model to checkpoints/res_net_depth20221206-114207\\cp-0004.ckpt\n"
     ]
    },
    {
     "name": "stderr",
     "output_type": "stream",
     "text": [
      "WARNING:absl:Found untraced functions such as _jit_compiled_convolution_op, _jit_compiled_convolution_op, _jit_compiled_convolution_op, _jit_compiled_convolution_op, _jit_compiled_convolution_op while saving (showing 5 of 32). These functions will not be directly callable after loading.\n"
     ]
    },
    {
     "name": "stdout",
     "output_type": "stream",
     "text": [
      "INFO:tensorflow:Assets written to: checkpoints/res_net_depth20221206-114207\\cp-0004.ckpt\\assets\n"
     ]
    },
    {
     "name": "stderr",
     "output_type": "stream",
     "text": [
      "INFO:tensorflow:Assets written to: checkpoints/res_net_depth20221206-114207\\cp-0004.ckpt\\assets\n"
     ]
    },
    {
     "name": "stdout",
     "output_type": "stream",
     "text": [
      "20/20 [==============================] - 34s 2s/step - loss: 6.2882 - mean_absolute_percentage_error: 18.8397 - val_loss: 11.3995 - val_mean_absolute_percentage_error: 22.8442\n",
      "Epoch 5/100\n",
      "20/20 [==============================] - ETA: 0s - loss: 4.7147 - mean_absolute_percentage_error: 17.2526\n",
      "Epoch 5: saving model to checkpoints/res_net_depth20221206-114207\\cp-0005.ckpt\n"
     ]
    },
    {
     "name": "stderr",
     "output_type": "stream",
     "text": [
      "WARNING:absl:Found untraced functions such as _jit_compiled_convolution_op, _jit_compiled_convolution_op, _jit_compiled_convolution_op, _jit_compiled_convolution_op, _jit_compiled_convolution_op while saving (showing 5 of 32). These functions will not be directly callable after loading.\n"
     ]
    },
    {
     "name": "stdout",
     "output_type": "stream",
     "text": [
      "INFO:tensorflow:Assets written to: checkpoints/res_net_depth20221206-114207\\cp-0005.ckpt\\assets\n"
     ]
    },
    {
     "name": "stderr",
     "output_type": "stream",
     "text": [
      "INFO:tensorflow:Assets written to: checkpoints/res_net_depth20221206-114207\\cp-0005.ckpt\\assets\n"
     ]
    },
    {
     "name": "stdout",
     "output_type": "stream",
     "text": [
      "20/20 [==============================] - 33s 2s/step - loss: 4.7147 - mean_absolute_percentage_error: 17.2526 - val_loss: 19.1411 - val_mean_absolute_percentage_error: 36.4503\n",
      "Epoch 6/100\n",
      "20/20 [==============================] - ETA: 0s - loss: 4.0442 - mean_absolute_percentage_error: 15.2538\n",
      "Epoch 6: saving model to checkpoints/res_net_depth20221206-114207\\cp-0006.ckpt\n"
     ]
    },
    {
     "name": "stderr",
     "output_type": "stream",
     "text": [
      "WARNING:absl:Found untraced functions such as _jit_compiled_convolution_op, _jit_compiled_convolution_op, _jit_compiled_convolution_op, _jit_compiled_convolution_op, _jit_compiled_convolution_op while saving (showing 5 of 32). These functions will not be directly callable after loading.\n"
     ]
    },
    {
     "name": "stdout",
     "output_type": "stream",
     "text": [
      "INFO:tensorflow:Assets written to: checkpoints/res_net_depth20221206-114207\\cp-0006.ckpt\\assets\n"
     ]
    },
    {
     "name": "stderr",
     "output_type": "stream",
     "text": [
      "INFO:tensorflow:Assets written to: checkpoints/res_net_depth20221206-114207\\cp-0006.ckpt\\assets\n"
     ]
    },
    {
     "name": "stdout",
     "output_type": "stream",
     "text": [
      "20/20 [==============================] - 34s 2s/step - loss: 4.0442 - mean_absolute_percentage_error: 15.2538 - val_loss: 21.7047 - val_mean_absolute_percentage_error: 35.4470\n",
      "Epoch 7/100\n",
      "20/20 [==============================] - ETA: 0s - loss: 9.4143 - mean_absolute_percentage_error: 23.1155\n",
      "Epoch 7: saving model to checkpoints/res_net_depth20221206-114207\\cp-0007.ckpt\n"
     ]
    },
    {
     "name": "stderr",
     "output_type": "stream",
     "text": [
      "WARNING:absl:Found untraced functions such as _jit_compiled_convolution_op, _jit_compiled_convolution_op, _jit_compiled_convolution_op, _jit_compiled_convolution_op, _jit_compiled_convolution_op while saving (showing 5 of 32). These functions will not be directly callable after loading.\n"
     ]
    },
    {
     "name": "stdout",
     "output_type": "stream",
     "text": [
      "INFO:tensorflow:Assets written to: checkpoints/res_net_depth20221206-114207\\cp-0007.ckpt\\assets\n"
     ]
    },
    {
     "name": "stderr",
     "output_type": "stream",
     "text": [
      "INFO:tensorflow:Assets written to: checkpoints/res_net_depth20221206-114207\\cp-0007.ckpt\\assets\n"
     ]
    },
    {
     "name": "stdout",
     "output_type": "stream",
     "text": [
      "20/20 [==============================] - 33s 2s/step - loss: 9.4143 - mean_absolute_percentage_error: 23.1155 - val_loss: 10.3704 - val_mean_absolute_percentage_error: 19.4629\n",
      "Epoch 8/100\n",
      "20/20 [==============================] - ETA: 0s - loss: 6.3539 - mean_absolute_percentage_error: 18.5854\n",
      "Epoch 8: saving model to checkpoints/res_net_depth20221206-114207\\cp-0008.ckpt\n"
     ]
    },
    {
     "name": "stderr",
     "output_type": "stream",
     "text": [
      "WARNING:absl:Found untraced functions such as _jit_compiled_convolution_op, _jit_compiled_convolution_op, _jit_compiled_convolution_op, _jit_compiled_convolution_op, _jit_compiled_convolution_op while saving (showing 5 of 32). These functions will not be directly callable after loading.\n"
     ]
    },
    {
     "name": "stdout",
     "output_type": "stream",
     "text": [
      "INFO:tensorflow:Assets written to: checkpoints/res_net_depth20221206-114207\\cp-0008.ckpt\\assets\n"
     ]
    },
    {
     "name": "stderr",
     "output_type": "stream",
     "text": [
      "INFO:tensorflow:Assets written to: checkpoints/res_net_depth20221206-114207\\cp-0008.ckpt\\assets\n"
     ]
    },
    {
     "name": "stdout",
     "output_type": "stream",
     "text": [
      "20/20 [==============================] - 34s 2s/step - loss: 6.3539 - mean_absolute_percentage_error: 18.5854 - val_loss: 5.1403 - val_mean_absolute_percentage_error: 16.5058\n",
      "Epoch 9/100\n",
      "20/20 [==============================] - ETA: 0s - loss: 3.8165 - mean_absolute_percentage_error: 14.5475\n",
      "Epoch 9: saving model to checkpoints/res_net_depth20221206-114207\\cp-0009.ckpt\n"
     ]
    },
    {
     "name": "stderr",
     "output_type": "stream",
     "text": [
      "WARNING:absl:Found untraced functions such as _jit_compiled_convolution_op, _jit_compiled_convolution_op, _jit_compiled_convolution_op, _jit_compiled_convolution_op, _jit_compiled_convolution_op while saving (showing 5 of 32). These functions will not be directly callable after loading.\n"
     ]
    },
    {
     "name": "stdout",
     "output_type": "stream",
     "text": [
      "INFO:tensorflow:Assets written to: checkpoints/res_net_depth20221206-114207\\cp-0009.ckpt\\assets\n"
     ]
    },
    {
     "name": "stderr",
     "output_type": "stream",
     "text": [
      "INFO:tensorflow:Assets written to: checkpoints/res_net_depth20221206-114207\\cp-0009.ckpt\\assets\n"
     ]
    },
    {
     "name": "stdout",
     "output_type": "stream",
     "text": [
      "20/20 [==============================] - 34s 2s/step - loss: 3.8165 - mean_absolute_percentage_error: 14.5475 - val_loss: 5.3485 - val_mean_absolute_percentage_error: 16.0296\n",
      "Epoch 10/100\n",
      "20/20 [==============================] - ETA: 0s - loss: 4.6189 - mean_absolute_percentage_error: 15.9445\n",
      "Epoch 10: saving model to checkpoints/res_net_depth20221206-114207\\cp-0010.ckpt\n"
     ]
    },
    {
     "name": "stderr",
     "output_type": "stream",
     "text": [
      "WARNING:absl:Found untraced functions such as _jit_compiled_convolution_op, _jit_compiled_convolution_op, _jit_compiled_convolution_op, _jit_compiled_convolution_op, _jit_compiled_convolution_op while saving (showing 5 of 32). These functions will not be directly callable after loading.\n"
     ]
    },
    {
     "name": "stdout",
     "output_type": "stream",
     "text": [
      "INFO:tensorflow:Assets written to: checkpoints/res_net_depth20221206-114207\\cp-0010.ckpt\\assets\n"
     ]
    },
    {
     "name": "stderr",
     "output_type": "stream",
     "text": [
      "INFO:tensorflow:Assets written to: checkpoints/res_net_depth20221206-114207\\cp-0010.ckpt\\assets\n"
     ]
    },
    {
     "name": "stdout",
     "output_type": "stream",
     "text": [
      "20/20 [==============================] - 33s 2s/step - loss: 4.6189 - mean_absolute_percentage_error: 15.9445 - val_loss: 8.5604 - val_mean_absolute_percentage_error: 19.6054\n",
      "Epoch 11/100\n",
      "20/20 [==============================] - ETA: 0s - loss: 7.6180 - mean_absolute_percentage_error: 22.1858\n",
      "Epoch 11: saving model to checkpoints/res_net_depth20221206-114207\\cp-0011.ckpt\n"
     ]
    },
    {
     "name": "stderr",
     "output_type": "stream",
     "text": [
      "WARNING:absl:Found untraced functions such as _jit_compiled_convolution_op, _jit_compiled_convolution_op, _jit_compiled_convolution_op, _jit_compiled_convolution_op, _jit_compiled_convolution_op while saving (showing 5 of 32). These functions will not be directly callable after loading.\n"
     ]
    },
    {
     "name": "stdout",
     "output_type": "stream",
     "text": [
      "INFO:tensorflow:Assets written to: checkpoints/res_net_depth20221206-114207\\cp-0011.ckpt\\assets\n"
     ]
    },
    {
     "name": "stderr",
     "output_type": "stream",
     "text": [
      "INFO:tensorflow:Assets written to: checkpoints/res_net_depth20221206-114207\\cp-0011.ckpt\\assets\n"
     ]
    },
    {
     "name": "stdout",
     "output_type": "stream",
     "text": [
      "20/20 [==============================] - 34s 2s/step - loss: 7.6180 - mean_absolute_percentage_error: 22.1858 - val_loss: 3.7227 - val_mean_absolute_percentage_error: 11.5557\n",
      "Epoch 12/100\n",
      "20/20 [==============================] - ETA: 0s - loss: 7.2853 - mean_absolute_percentage_error: 22.4452\n",
      "Epoch 12: saving model to checkpoints/res_net_depth20221206-114207\\cp-0012.ckpt\n"
     ]
    },
    {
     "name": "stderr",
     "output_type": "stream",
     "text": [
      "WARNING:absl:Found untraced functions such as _jit_compiled_convolution_op, _jit_compiled_convolution_op, _jit_compiled_convolution_op, _jit_compiled_convolution_op, _jit_compiled_convolution_op while saving (showing 5 of 32). These functions will not be directly callable after loading.\n"
     ]
    },
    {
     "name": "stdout",
     "output_type": "stream",
     "text": [
      "INFO:tensorflow:Assets written to: checkpoints/res_net_depth20221206-114207\\cp-0012.ckpt\\assets\n"
     ]
    },
    {
     "name": "stderr",
     "output_type": "stream",
     "text": [
      "INFO:tensorflow:Assets written to: checkpoints/res_net_depth20221206-114207\\cp-0012.ckpt\\assets\n"
     ]
    },
    {
     "name": "stdout",
     "output_type": "stream",
     "text": [
      "20/20 [==============================] - 34s 2s/step - loss: 7.2853 - mean_absolute_percentage_error: 22.4452 - val_loss: 6.9462 - val_mean_absolute_percentage_error: 19.0375\n",
      "Epoch 13/100\n",
      "20/20 [==============================] - ETA: 0s - loss: 4.1140 - mean_absolute_percentage_error: 15.3496\n",
      "Epoch 13: saving model to checkpoints/res_net_depth20221206-114207\\cp-0013.ckpt\n"
     ]
    },
    {
     "name": "stderr",
     "output_type": "stream",
     "text": [
      "WARNING:absl:Found untraced functions such as _jit_compiled_convolution_op, _jit_compiled_convolution_op, _jit_compiled_convolution_op, _jit_compiled_convolution_op, _jit_compiled_convolution_op while saving (showing 5 of 32). These functions will not be directly callable after loading.\n"
     ]
    },
    {
     "name": "stdout",
     "output_type": "stream",
     "text": [
      "INFO:tensorflow:Assets written to: checkpoints/res_net_depth20221206-114207\\cp-0013.ckpt\\assets\n"
     ]
    },
    {
     "name": "stderr",
     "output_type": "stream",
     "text": [
      "INFO:tensorflow:Assets written to: checkpoints/res_net_depth20221206-114207\\cp-0013.ckpt\\assets\n"
     ]
    },
    {
     "name": "stdout",
     "output_type": "stream",
     "text": [
      "20/20 [==============================] - 34s 2s/step - loss: 4.1140 - mean_absolute_percentage_error: 15.3496 - val_loss: 16.6070 - val_mean_absolute_percentage_error: 19.2101\n",
      "Epoch 14/100\n",
      "20/20 [==============================] - ETA: 0s - loss: 4.0297 - mean_absolute_percentage_error: 14.4007\n",
      "Epoch 14: saving model to checkpoints/res_net_depth20221206-114207\\cp-0014.ckpt\n"
     ]
    },
    {
     "name": "stderr",
     "output_type": "stream",
     "text": [
      "WARNING:absl:Found untraced functions such as _jit_compiled_convolution_op, _jit_compiled_convolution_op, _jit_compiled_convolution_op, _jit_compiled_convolution_op, _jit_compiled_convolution_op while saving (showing 5 of 32). These functions will not be directly callable after loading.\n"
     ]
    },
    {
     "ename": "FailedPreconditionError",
     "evalue": "{{function_node __wrapped__SaveV2_dtypes_448_device_/job:localhost/replica:0/task:0/device:CPU:0}} Failed to rename: checkpoints/res_net_depth20221206-114207\\cp-0014.ckpt\\variables\\variables_temp/part-00000-of-00001.data-00000-of-00001.tempstate15686874212932515873 to: checkpoints/res_net_depth20221206-114207\\cp-0014.ckpt\\variables\\variables_temp/part-00000-of-00001.data-00000-of-00001 : The process cannot access the file because it is being used by another process.\r\n; Broken pipe [Op:SaveV2]",
     "output_type": "error",
     "traceback": [
      "\u001B[1;31m---------------------------------------------------------------------------\u001B[0m",
      "\u001B[1;31mFailedPreconditionError\u001B[0m                   Traceback (most recent call last)",
      "\u001B[1;32m~\\AppData\\Local\\Temp\\ipykernel_5480\\490122592.py\u001B[0m in \u001B[0;36m<module>\u001B[1;34m\u001B[0m\n\u001B[0;32m     31\u001B[0m     \u001B[0mvalidation_data\u001B[0m\u001B[1;33m=\u001B[0m\u001B[1;33m(\u001B[0m\u001B[0mX_test\u001B[0m\u001B[1;33m,\u001B[0m \u001B[0my_test\u001B[0m\u001B[1;33m)\u001B[0m\u001B[1;33m,\u001B[0m\u001B[1;33m\u001B[0m\u001B[1;33m\u001B[0m\u001B[0m\n\u001B[0;32m     32\u001B[0m     \u001B[0mbatch_size\u001B[0m\u001B[1;33m=\u001B[0m\u001B[1;36m16\u001B[0m\u001B[1;33m,\u001B[0m\u001B[1;33m\u001B[0m\u001B[1;33m\u001B[0m\u001B[0m\n\u001B[1;32m---> 33\u001B[1;33m     \u001B[0mcallbacks\u001B[0m\u001B[1;33m=\u001B[0m\u001B[1;33m[\u001B[0m\u001B[0mcp_callback\u001B[0m\u001B[1;33m,\u001B[0m \u001B[0mtensorboard_callback\u001B[0m\u001B[1;33m]\u001B[0m\u001B[1;33m\u001B[0m\u001B[1;33m\u001B[0m\u001B[0m\n\u001B[0m\u001B[0;32m     34\u001B[0m )\n",
      "\u001B[1;32m~\\AppData\\Roaming\\Python\\Python37\\site-packages\\keras\\utils\\traceback_utils.py\u001B[0m in \u001B[0;36merror_handler\u001B[1;34m(*args, **kwargs)\u001B[0m\n\u001B[0;32m     68\u001B[0m             \u001B[1;31m# To get the full stack trace, call:\u001B[0m\u001B[1;33m\u001B[0m\u001B[1;33m\u001B[0m\u001B[1;33m\u001B[0m\u001B[0m\n\u001B[0;32m     69\u001B[0m             \u001B[1;31m# `tf.debugging.disable_traceback_filtering()`\u001B[0m\u001B[1;33m\u001B[0m\u001B[1;33m\u001B[0m\u001B[1;33m\u001B[0m\u001B[0m\n\u001B[1;32m---> 70\u001B[1;33m             \u001B[1;32mraise\u001B[0m \u001B[0me\u001B[0m\u001B[1;33m.\u001B[0m\u001B[0mwith_traceback\u001B[0m\u001B[1;33m(\u001B[0m\u001B[0mfiltered_tb\u001B[0m\u001B[1;33m)\u001B[0m \u001B[1;32mfrom\u001B[0m \u001B[1;32mNone\u001B[0m\u001B[1;33m\u001B[0m\u001B[1;33m\u001B[0m\u001B[0m\n\u001B[0m\u001B[0;32m     71\u001B[0m         \u001B[1;32mfinally\u001B[0m\u001B[1;33m:\u001B[0m\u001B[1;33m\u001B[0m\u001B[1;33m\u001B[0m\u001B[0m\n\u001B[0;32m     72\u001B[0m             \u001B[1;32mdel\u001B[0m \u001B[0mfiltered_tb\u001B[0m\u001B[1;33m\u001B[0m\u001B[1;33m\u001B[0m\u001B[0m\n",
      "\u001B[1;32m~\\AppData\\Roaming\\Python\\Python37\\site-packages\\tensorflow\\python\\eager\\execute.py\u001B[0m in \u001B[0;36mquick_execute\u001B[1;34m(op_name, num_outputs, inputs, attrs, ctx, name)\u001B[0m\n\u001B[0;32m     53\u001B[0m     \u001B[0mctx\u001B[0m\u001B[1;33m.\u001B[0m\u001B[0mensure_initialized\u001B[0m\u001B[1;33m(\u001B[0m\u001B[1;33m)\u001B[0m\u001B[1;33m\u001B[0m\u001B[1;33m\u001B[0m\u001B[0m\n\u001B[0;32m     54\u001B[0m     tensors = pywrap_tfe.TFE_Py_Execute(ctx._handle, device_name, op_name,\n\u001B[1;32m---> 55\u001B[1;33m                                         inputs, attrs, num_outputs)\n\u001B[0m\u001B[0;32m     56\u001B[0m   \u001B[1;32mexcept\u001B[0m \u001B[0mcore\u001B[0m\u001B[1;33m.\u001B[0m\u001B[0m_NotOkStatusException\u001B[0m \u001B[1;32mas\u001B[0m \u001B[0me\u001B[0m\u001B[1;33m:\u001B[0m\u001B[1;33m\u001B[0m\u001B[1;33m\u001B[0m\u001B[0m\n\u001B[0;32m     57\u001B[0m     \u001B[1;32mif\u001B[0m \u001B[0mname\u001B[0m \u001B[1;32mis\u001B[0m \u001B[1;32mnot\u001B[0m \u001B[1;32mNone\u001B[0m\u001B[1;33m:\u001B[0m\u001B[1;33m\u001B[0m\u001B[1;33m\u001B[0m\u001B[0m\n",
      "\u001B[1;31mFailedPreconditionError\u001B[0m: {{function_node __wrapped__SaveV2_dtypes_448_device_/job:localhost/replica:0/task:0/device:CPU:0}} Failed to rename: checkpoints/res_net_depth20221206-114207\\cp-0014.ckpt\\variables\\variables_temp/part-00000-of-00001.data-00000-of-00001.tempstate15686874212932515873 to: checkpoints/res_net_depth20221206-114207\\cp-0014.ckpt\\variables\\variables_temp/part-00000-of-00001.data-00000-of-00001 : The process cannot access the file because it is being used by another process.\r\n; Broken pipe [Op:SaveV2]"
     ]
    }
   ],
   "source": [
    "from tensorflow.keras.callbacks import ModelCheckpoint, TensorBoard\n",
    "import datetime\n",
    "import os\n",
    "\n",
    "timestr = datetime.datetime.now().strftime(\"%Y%m%d-%H%M%S\")\n",
    "name = 'res_net_depth'+timestr\n",
    "\n",
    "checkpoint_path = \"checkpoints/\"+name+\"/cp-{epoch:04d}.ckpt\"\n",
    "checkpoint_dir = os.path.dirname(checkpoint_path)\n",
    "os.system('mkdir {}'.format(checkpoint_dir))\n",
    "\n",
    "cp_callback = ModelCheckpoint(\n",
    "    filepath=checkpoint_path,\n",
    "    verbose=0,\n",
    "    save_best_only=True,\n",
    "    monitor='val_loss',\n",
    "    mode='min'\n",
    ")\n",
    "tensorboard_callback = TensorBoard(\n",
    "    log_dir=f'tensorboard_logs/{name}',\n",
    "    histogram_freq=1\n",
    ")\n",
    "\n",
    "X_train = tf.convert_to_tensor(X_train)\n",
    "X_test = tf.convert_to_tensor(X_test)\n",
    "y_train = tf.convert_to_tensor(y_train)\n",
    "y_test = tf.convert_to_tensor(y_test)\n",
    "\n",
    "rn.fit(\n",
    "    x=X_train,\n",
    "    y=y_train,\n",
    "    epochs=100,\n",
    "    verbose=1,\n",
    "    validation_data=(X_test, y_test),\n",
    "    batch_size=16,\n",
    "    callbacks=[cp_callback, tensorboard_callback]\n",
    ")"
   ]
  }
 ],
 "metadata": {
  "kernelspec": {
   "display_name": "Python 3 (ipykernel)",
   "language": "python",
   "name": "python3"
  },
  "language_info": {
   "codemirror_mode": {
    "name": "ipython",
    "version": 3
   },
   "file_extension": ".py",
   "mimetype": "text/x-python",
   "name": "python",
   "nbconvert_exporter": "python",
   "pygments_lexer": "ipython3",
   "version": "3.7.15"
  }
 },
 "nbformat": 4,
 "nbformat_minor": 1
}