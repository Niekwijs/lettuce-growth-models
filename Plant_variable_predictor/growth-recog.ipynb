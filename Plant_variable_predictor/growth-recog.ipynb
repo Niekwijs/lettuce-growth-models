{
 "cells": [
  {
   "cell_type": "code",
   "execution_count": 1,
   "outputs": [],
   "source": [
    "import os\n",
    "\n",
    "import numpy as np\n",
    "import pandas as pd\n",
    "import json\n",
    "import cv2\n",
    "from sklearn.model_selection import train_test_split\n",
    "import cv2\n",
    "\n",
    "# tf imports\n",
    "import tensorflow as tf\n",
    "from tensorflow import keras\n",
    "import matplotlib.pyplot as plt\n",
    "from keras.layers import Dense\n",
    "from keras import backend as K"
   ],
   "metadata": {
    "collapsed": false,
    "pycharm": {
     "name": "#%%\n"
    }
   }
  },
  {
   "cell_type": "code",
   "execution_count": 2,
   "outputs": [
    {
     "name": "stdout",
     "output_type": "stream",
     "text": [
      "1 Physical GPUs, 1 Logical GPU\n"
     ]
    }
   ],
   "source": [
    "gpus = tf.config.list_physical_devices('GPU')\n",
    "if gpus:\n",
    "  try:\n",
    "    tf.config.set_visible_devices(gpus[0], 'GPU')\n",
    "    for gpu in gpus:\n",
    "      tf.config.experimental.set_memory_growth(gpu, True)\n",
    "    logical_gpus = tf.config.list_logical_devices('GPU')\n",
    "    print(len(gpus), \"Physical GPUs,\", len(logical_gpus), \"Logical GPU\")\n",
    "  except RuntimeError as e:\n",
    "    print(e)"
   ],
   "metadata": {
    "collapsed": false,
    "pycharm": {
     "name": "#%%\n"
    }
   }
  },
  {
   "cell_type": "markdown",
   "source": [
    "loading images with labels"
   ],
   "metadata": {
    "collapsed": false,
    "pycharm": {
     "name": "#%% md\n"
    }
   }
  },
  {
   "cell_type": "code",
   "execution_count": 3,
   "outputs": [
    {
     "data": {
      "text/plain": "  Variety    RGB_Image Depth_Information  FreshWeightShoot  DryWeightShoot  \\\n0  Lugano   RGB_27.png      Depth_27.png               5.5            0.42   \n1  Lugano   RGB_79.png      Depth_79.png              30.3            1.92   \n2  Lugano  RGB_140.png     Depth_140.png              60.9            2.83   \n3  Lugano  RGB_203.png     Depth_203.png             112.0            5.76   \n4  Lugano  RGB_292.png     Depth_292.png             372.6           14.17   \n\n   Height  Diameter  LeafArea  \n0     9.0      11.0     153.9  \n1     8.8      20.2     582.3  \n2    11.6      19.0     960.6  \n3    11.0      22.0    1614.9  \n4    17.0      32.0    3839.6  ",
      "text/html": "<div>\n<style scoped>\n    .dataframe tbody tr th:only-of-type {\n        vertical-align: middle;\n    }\n\n    .dataframe tbody tr th {\n        vertical-align: top;\n    }\n\n    .dataframe thead th {\n        text-align: right;\n    }\n</style>\n<table border=\"1\" class=\"dataframe\">\n  <thead>\n    <tr style=\"text-align: right;\">\n      <th></th>\n      <th>Variety</th>\n      <th>RGB_Image</th>\n      <th>Depth_Information</th>\n      <th>FreshWeightShoot</th>\n      <th>DryWeightShoot</th>\n      <th>Height</th>\n      <th>Diameter</th>\n      <th>LeafArea</th>\n    </tr>\n  </thead>\n  <tbody>\n    <tr>\n      <th>0</th>\n      <td>Lugano</td>\n      <td>RGB_27.png</td>\n      <td>Depth_27.png</td>\n      <td>5.5</td>\n      <td>0.42</td>\n      <td>9.0</td>\n      <td>11.0</td>\n      <td>153.9</td>\n    </tr>\n    <tr>\n      <th>1</th>\n      <td>Lugano</td>\n      <td>RGB_79.png</td>\n      <td>Depth_79.png</td>\n      <td>30.3</td>\n      <td>1.92</td>\n      <td>8.8</td>\n      <td>20.2</td>\n      <td>582.3</td>\n    </tr>\n    <tr>\n      <th>2</th>\n      <td>Lugano</td>\n      <td>RGB_140.png</td>\n      <td>Depth_140.png</td>\n      <td>60.9</td>\n      <td>2.83</td>\n      <td>11.6</td>\n      <td>19.0</td>\n      <td>960.6</td>\n    </tr>\n    <tr>\n      <th>3</th>\n      <td>Lugano</td>\n      <td>RGB_203.png</td>\n      <td>Depth_203.png</td>\n      <td>112.0</td>\n      <td>5.76</td>\n      <td>11.0</td>\n      <td>22.0</td>\n      <td>1614.9</td>\n    </tr>\n    <tr>\n      <th>4</th>\n      <td>Lugano</td>\n      <td>RGB_292.png</td>\n      <td>Depth_292.png</td>\n      <td>372.6</td>\n      <td>14.17</td>\n      <td>17.0</td>\n      <td>32.0</td>\n      <td>3839.6</td>\n    </tr>\n  </tbody>\n</table>\n</div>"
     },
     "execution_count": 3,
     "metadata": {},
     "output_type": "execute_result"
    }
   ],
   "source": [
    "f = open(\"..\\data\\measurements.json\")\n",
    "data_json = json.loads(f.read())[\"Measurements\"]\n",
    "\n",
    "vs = data_json.values()\n",
    "\n",
    "df = pd.json_normalize(vs)\n",
    "\n",
    "df.head()\n"
   ],
   "metadata": {
    "collapsed": false,
    "pycharm": {
     "name": "#%%\n"
    }
   }
  },
  {
   "cell_type": "code",
   "execution_count": 4,
   "outputs": [],
   "source": [
    "import albumentations as alb\n",
    "\n",
    "def augment(train_set, train_labels, iterations):\n",
    "    # Define a list of image augmentation transformations to apply\n",
    "    aug_transforms = [\n",
    "        alb.HorizontalFlip(),\n",
    "        alb.VerticalFlip(),\n",
    "        alb.RandomRotate90(),\n",
    "        alb.Transpose(),\n",
    "        alb.RandomBrightnessContrast()\n",
    "    ]\n",
    "\n",
    "    # Use the Compose function to apply the transformations\n",
    "    aug = alb.Compose(aug_transforms)\n",
    "\n",
    "    # Set the number of times to augment the images\n",
    "    num_augmentations = iterations\n",
    "\n",
    "    # Iterate through the number of augmentations\n",
    "    for i in range(num_augmentations):\n",
    "      # Iterate through your training set and apply the augmentations to each image\n",
    "      augmented_train_set = []\n",
    "      augmented_train_labels = []\n",
    "      for image, label in zip(train_set, train_labels):\n",
    "        augmented_image = aug(image=image)['image']\n",
    "        augmented_train_set.append(augmented_image)\n",
    "        augmented_train_labels.append(label)\n",
    "\n",
    "      # Add the augmented images and labels to the training set\n",
    "      train_set = np.concatenate((train_set, augmented_train_set))\n",
    "      train_labels = np.concatenate((train_labels, augmented_train_labels))\n",
    "\n",
    "    # Shuffle the training set and labels\n",
    "    p = np.random.permutation(len(train_set))\n",
    "    X = train_set[p]\n",
    "    y = train_labels[p]\n",
    "    return X, y\n"
   ],
   "metadata": {
    "collapsed": false,
    "pycharm": {
     "name": "#%%\n"
    }
   }
  },
  {
   "cell_type": "code",
   "execution_count": 5,
   "outputs": [],
   "source": [
    "\"\"\"\n",
    "    number: depth=0, RGB=1, depth/RGB=2, augment_data: amount of times for data to be augmented\n",
    "\"\"\"\n",
    "def prepare_data(number=0, y_key='Height', augment_data=0, normalized = True):\n",
    "\n",
    "    all_images = []\n",
    "    y = []\n",
    "\n",
    "    if number == 2:\n",
    "        path_RGB = '../data/RGBImagesResize/'\n",
    "        key_RGB = 'RGB_Image'\n",
    "        flag_RGB = cv2.IMREAD_COLOR\n",
    "\n",
    "        path_depth = '../data/DepthImagesResize/'\n",
    "        key_depth = 'Depth_Information'\n",
    "        flag_depth = cv2.IMREAD_GRAYSCALE\n",
    "\n",
    "        for image_path_RGB in os.listdir(path_RGB):\n",
    "            if df.loc[df[key_RGB] == image_path_RGB][y_key].size > 0:\n",
    "                img_ID = image_path_RGB.strip(\".png\").strip(\"RGB_\")\n",
    "                y.append(df.loc[df[key_RGB] == image_path_RGB][y_key].item())\n",
    "                img_RGB = cv2.imread(path_RGB + image_path_RGB, flag_RGB)\n",
    "                img_RGB = cv2.resize(img_RGB, (250, 250))\n",
    "                image_path_depth = path_depth + \"Depth_\"+ img_ID + \".png\"\n",
    "                img_depth = cv2.imread(image_path_depth, flag_depth)\n",
    "                img_depth = cv2.resize(img_depth, (250,250))\n",
    "                if normalized:\n",
    "                    img_RGB = img_RGB.astype(np.float32) / 255.0\n",
    "                    img_depth = img_depth.astype(np.float32) / 255.0\n",
    "\n",
    "                img_combined = np.dstack((img_RGB, img_depth))\n",
    "                all_images.append(img_combined)\n",
    "    else:\n",
    "        if number == 1:\n",
    "            path = '../data/RGBImagesResize/'\n",
    "            key = 'RGB_Image'\n",
    "            flag = cv2.IMREAD_COLOR\n",
    "        else:\n",
    "            path = '../data/DepthImagesResize/'\n",
    "            key = 'Depth_Information'\n",
    "            flag = cv2.IMREAD_GRAYSCALE\n",
    "\n",
    "        for image_path in os.listdir(path):\n",
    "            if df.loc[df[key] == image_path][y_key].size > 0:\n",
    "                y.append(df.loc[df[key] == image_path][y_key].item())\n",
    "                img = cv2.imread(path + image_path, flag)\n",
    "                img = cv2.resize(img, (250, 250))\n",
    "                if normalized:\n",
    "                    img = img.astype(np.float32) / 255.0\n",
    "                all_images.append(img)\n",
    "\n",
    "\n",
    "    X_train, X_test, y_train, y_test = train_test_split(np.array(all_images), y, test_size=0.25, shuffle=True)\n",
    "\n",
    "    if augment_data > 0:\n",
    "        X_train, y_train = augment(X_train, y_train, augment_data)\n",
    "\n",
    "    X_train = tf.convert_to_tensor(X_train)\n",
    "    X_test = tf.convert_to_tensor(X_test)\n",
    "    y_train = tf.convert_to_tensor(y_train)\n",
    "    y_test = tf.convert_to_tensor(y_test)\n",
    "\n",
    "    return X_train, y_train, X_test, y_test"
   ],
   "metadata": {
    "collapsed": false,
    "pycharm": {
     "name": "#%%\n"
    }
   }
  },
  {
   "cell_type": "markdown",
   "source": [
    "ResNet Implementation for regression: depth images height\n",
    "\n",
    "https://towardsdatascience.com/building-a-resnet-in-keras-e8f1322a49ba\n",
    "\n",
    "!!LET OP NIET RUNNEN ZONDER GPU!!"
   ],
   "metadata": {
    "collapsed": false,
    "pycharm": {
     "name": "#%% md\n"
    }
   }
  },
  {
   "cell_type": "code",
   "execution_count": 6,
   "outputs": [],
   "source": [
    "from tensorflow import Tensor\n",
    "from tensorflow.keras.layers import Input, Conv2D, ReLU, BatchNormalization, \\\n",
    "    Add, AveragePooling2D, Flatten, Dense\n",
    "from tensorflow.keras.models import Model"
   ],
   "metadata": {
    "collapsed": false,
    "pycharm": {
     "name": "#%%\n"
    }
   }
  },
  {
   "cell_type": "code",
   "execution_count": 7,
   "outputs": [],
   "source": [
    "def relu_bn(inputs: Tensor) -> Tensor:\n",
    "    relu = ReLU()(inputs)\n",
    "    bn = BatchNormalization()(relu)\n",
    "    return bn"
   ],
   "metadata": {
    "collapsed": false,
    "pycharm": {
     "name": "#%%\n"
    }
   }
  },
  {
   "cell_type": "code",
   "execution_count": 8,
   "outputs": [],
   "source": [
    "def residual_block(x: Tensor, downsample: bool, filters: int, kernel_size: int = 3) -> Tensor:\n",
    "    y = Conv2D(kernel_size=kernel_size,\n",
    "               strides=(1 if not downsample else 2),\n",
    "               filters=filters,\n",
    "               padding=\"same\")(x)\n",
    "    y = relu_bn(y)\n",
    "    y = Conv2D(kernel_size=kernel_size,\n",
    "               strides=1,\n",
    "               filters=filters,\n",
    "               padding=\"same\")(y)\n",
    "\n",
    "    if downsample:\n",
    "        x = Conv2D(kernel_size=1,\n",
    "                   strides=2,\n",
    "                   filters=filters,\n",
    "                   padding=\"same\")(x)\n",
    "    out = Add()([x, y])\n",
    "    out = relu_bn(out)\n",
    "    return out"
   ],
   "metadata": {
    "collapsed": false,
    "pycharm": {
     "name": "#%%\n"
    }
   }
  },
  {
   "cell_type": "code",
   "execution_count": 9,
   "outputs": [],
   "source": [
    "def create_res_net(input_shape, regression):\n",
    "    inputs = Input(shape=input_shape)\n",
    "    num_filters = 64\n",
    "\n",
    "    t = BatchNormalization()(inputs)\n",
    "    t = Conv2D(kernel_size=3,\n",
    "               strides=1,\n",
    "               filters=num_filters,\n",
    "               padding=\"same\")(t)\n",
    "    t = relu_bn(t)\n",
    "\n",
    "    num_blocks_list = [2, 5, 5, 2]\n",
    "    for i in range(len(num_blocks_list)):\n",
    "        num_blocks = num_blocks_list[i]\n",
    "        for j in range(num_blocks):\n",
    "            t = residual_block(t, downsample=(j == 0 and i != 0), filters=num_filters)\n",
    "        num_filters *= 2\n",
    "\n",
    "    t = AveragePooling2D(4)(t)\n",
    "    t = Flatten()(t)\n",
    "    outputs = Dense(19, activation='softmax')(t)\n",
    "\n",
    "    if regression:\n",
    "        outputs = Dense(1, activation='linear')(t)\n",
    "\n",
    "    model = Model(inputs, outputs)\n",
    "\n",
    "    if regression:\n",
    "        model.compile(\n",
    "            optimizer='adam',\n",
    "            loss='mean_squared_error',\n",
    "            metrics=['mean_absolute_percentage_error']\n",
    "        )\n",
    "    else:\n",
    "        model.compile(\n",
    "            optimizer='adam',\n",
    "            loss='sparse_categorical_crossentropy',\n",
    "            metrics=['accuracy']\n",
    "        )\n",
    "\n",
    "    return model"
   ],
   "metadata": {
    "collapsed": false,
    "pycharm": {
     "name": "#%%\n"
    }
   }
  },
  {
   "cell_type": "code",
   "execution_count": 10,
   "outputs": [],
   "source": [
    "from tensorflow.keras.callbacks import ModelCheckpoint, TensorBoard\n",
    "import datetime\n",
    "import os\n",
    "\n",
    "def fit_model(model, epochs, batch_size, X_train, y_train, X_test, y_test):\n",
    "    timestr = datetime.datetime.now().strftime(\"%Y%m%d-%H%M%S\")\n",
    "    name = 'res_net'+timestr\n",
    "\n",
    "    checkpoint_path = \"checkpoints/\"+name+\"/cp-{epoch:04d}.ckpt\"\n",
    "    checkpoint_dir = os.path.dirname(checkpoint_path)\n",
    "    os.system('mkdir {}'.format(checkpoint_dir))\n",
    "\n",
    "    cp_callback = ModelCheckpoint(\n",
    "        filepath=checkpoint_path,\n",
    "        verbose=0,\n",
    "        save_best_only=True,\n",
    "        monitor='val_loss',\n",
    "        mode='min'\n",
    "    )\n",
    "    tensorboard_callback = TensorBoard(\n",
    "        log_dir=f'tensorboard_logs/{name}',\n",
    "        histogram_freq=1\n",
    "    )\n",
    "\n",
    "    model.fit(\n",
    "        x=X_train,\n",
    "        y=y_train,\n",
    "        epochs=epochs,\n",
    "        verbose=1,\n",
    "        validation_data=(X_test, y_test),\n",
    "        batch_size=batch_size,\n",
    "        callbacks=[cp_callback, tensorboard_callback]\n",
    "    )"
   ],
   "metadata": {
    "collapsed": false,
    "pycharm": {
     "name": "#%%\n"
    }
   }
  },
  {
   "cell_type": "code",
   "execution_count": 12,
   "outputs": [
    {
     "name": "stdout",
     "output_type": "stream",
     "text": [
      "(580, 250, 250, 4)\n",
      "Epoch 1/100\n",
      "37/37 [==============================] - ETA: 0s - loss: 90.1663 - mean_absolute_percentage_error: 31.4015"
     ]
    },
    {
     "name": "stderr",
     "output_type": "stream",
     "text": [
      "WARNING:absl:Found untraced functions such as _jit_compiled_convolution_op, _jit_compiled_convolution_op, _jit_compiled_convolution_op, _jit_compiled_convolution_op, _jit_compiled_convolution_op while saving (showing 5 of 32). These functions will not be directly callable after loading.\n"
     ]
    },
    {
     "name": "stdout",
     "output_type": "stream",
     "text": [
      "INFO:tensorflow:Assets written to: checkpoints/res_net20221222-193327\\cp-0001.ckpt\\assets\n"
     ]
    },
    {
     "name": "stderr",
     "output_type": "stream",
     "text": [
      "INFO:tensorflow:Assets written to: checkpoints/res_net20221222-193327\\cp-0001.ckpt\\assets\n"
     ]
    },
    {
     "name": "stdout",
     "output_type": "stream",
     "text": [
      "37/37 [==============================] - 57s 1s/step - loss: 90.1663 - mean_absolute_percentage_error: 31.4015 - val_loss: 134362080.0000 - val_mean_absolute_percentage_error: 48469.0156\n",
      "Epoch 2/100\n",
      "37/37 [==============================] - ETA: 0s - loss: 20.3901 - mean_absolute_percentage_error: 16.4037"
     ]
    },
    {
     "name": "stderr",
     "output_type": "stream",
     "text": [
      "WARNING:absl:Found untraced functions such as _jit_compiled_convolution_op, _jit_compiled_convolution_op, _jit_compiled_convolution_op, _jit_compiled_convolution_op, _jit_compiled_convolution_op while saving (showing 5 of 32). These functions will not be directly callable after loading.\n"
     ]
    },
    {
     "name": "stdout",
     "output_type": "stream",
     "text": [
      "INFO:tensorflow:Assets written to: checkpoints/res_net20221222-193327\\cp-0002.ckpt\\assets\n"
     ]
    },
    {
     "name": "stderr",
     "output_type": "stream",
     "text": [
      "INFO:tensorflow:Assets written to: checkpoints/res_net20221222-193327\\cp-0002.ckpt\\assets\n"
     ]
    },
    {
     "name": "stdout",
     "output_type": "stream",
     "text": [
      "37/37 [==============================] - 52s 1s/step - loss: 20.3901 - mean_absolute_percentage_error: 16.4037 - val_loss: 251733.2812 - val_mean_absolute_percentage_error: 2449.6719\n",
      "Epoch 3/100\n",
      "37/37 [==============================] - ETA: 0s - loss: 19.1101 - mean_absolute_percentage_error: 15.3158"
     ]
    },
    {
     "name": "stderr",
     "output_type": "stream",
     "text": [
      "WARNING:absl:Found untraced functions such as _jit_compiled_convolution_op, _jit_compiled_convolution_op, _jit_compiled_convolution_op, _jit_compiled_convolution_op, _jit_compiled_convolution_op while saving (showing 5 of 32). These functions will not be directly callable after loading.\n"
     ]
    },
    {
     "name": "stdout",
     "output_type": "stream",
     "text": [
      "INFO:tensorflow:Assets written to: checkpoints/res_net20221222-193327\\cp-0003.ckpt\\assets\n"
     ]
    },
    {
     "name": "stderr",
     "output_type": "stream",
     "text": [
      "INFO:tensorflow:Assets written to: checkpoints/res_net20221222-193327\\cp-0003.ckpt\\assets\n"
     ]
    },
    {
     "name": "stdout",
     "output_type": "stream",
     "text": [
      "37/37 [==============================] - 52s 1s/step - loss: 19.1101 - mean_absolute_percentage_error: 15.3158 - val_loss: 1270.4800 - val_mean_absolute_percentage_error: 123.7962\n",
      "Epoch 4/100\n",
      "37/37 [==============================] - ETA: 0s - loss: 19.4678 - mean_absolute_percentage_error: 15.4022"
     ]
    },
    {
     "name": "stderr",
     "output_type": "stream",
     "text": [
      "WARNING:absl:Found untraced functions such as _jit_compiled_convolution_op, _jit_compiled_convolution_op, _jit_compiled_convolution_op, _jit_compiled_convolution_op, _jit_compiled_convolution_op while saving (showing 5 of 32). These functions will not be directly callable after loading.\n"
     ]
    },
    {
     "name": "stdout",
     "output_type": "stream",
     "text": [
      "INFO:tensorflow:Assets written to: checkpoints/res_net20221222-193327\\cp-0004.ckpt\\assets\n"
     ]
    },
    {
     "name": "stderr",
     "output_type": "stream",
     "text": [
      "INFO:tensorflow:Assets written to: checkpoints/res_net20221222-193327\\cp-0004.ckpt\\assets\n"
     ]
    },
    {
     "name": "stdout",
     "output_type": "stream",
     "text": [
      "37/37 [==============================] - 53s 1s/step - loss: 19.4678 - mean_absolute_percentage_error: 15.4022 - val_loss: 519.2493 - val_mean_absolute_percentage_error: 82.1488\n",
      "Epoch 5/100\n",
      "37/37 [==============================] - 42s 1s/step - loss: 14.1905 - mean_absolute_percentage_error: 13.8990 - val_loss: 618.4908 - val_mean_absolute_percentage_error: 112.5506\n",
      "Epoch 6/100\n",
      "37/37 [==============================] - ETA: 0s - loss: 20.7252 - mean_absolute_percentage_error: 16.1876"
     ]
    },
    {
     "name": "stderr",
     "output_type": "stream",
     "text": [
      "WARNING:absl:Found untraced functions such as _jit_compiled_convolution_op, _jit_compiled_convolution_op, _jit_compiled_convolution_op, _jit_compiled_convolution_op, _jit_compiled_convolution_op while saving (showing 5 of 32). These functions will not be directly callable after loading.\n"
     ]
    },
    {
     "name": "stdout",
     "output_type": "stream",
     "text": [
      "INFO:tensorflow:Assets written to: checkpoints/res_net20221222-193327\\cp-0006.ckpt\\assets\n"
     ]
    },
    {
     "name": "stderr",
     "output_type": "stream",
     "text": [
      "INFO:tensorflow:Assets written to: checkpoints/res_net20221222-193327\\cp-0006.ckpt\\assets\n"
     ]
    },
    {
     "name": "stdout",
     "output_type": "stream",
     "text": [
      "37/37 [==============================] - 53s 1s/step - loss: 20.7252 - mean_absolute_percentage_error: 16.1876 - val_loss: 205.3041 - val_mean_absolute_percentage_error: 56.3286\n",
      "Epoch 7/100\n",
      "37/37 [==============================] - ETA: 0s - loss: 11.8855 - mean_absolute_percentage_error: 12.2689"
     ]
    },
    {
     "name": "stderr",
     "output_type": "stream",
     "text": [
      "WARNING:absl:Found untraced functions such as _jit_compiled_convolution_op, _jit_compiled_convolution_op, _jit_compiled_convolution_op, _jit_compiled_convolution_op, _jit_compiled_convolution_op while saving (showing 5 of 32). These functions will not be directly callable after loading.\n"
     ]
    },
    {
     "name": "stdout",
     "output_type": "stream",
     "text": [
      "INFO:tensorflow:Assets written to: checkpoints/res_net20221222-193327\\cp-0007.ckpt\\assets\n"
     ]
    },
    {
     "name": "stderr",
     "output_type": "stream",
     "text": [
      "INFO:tensorflow:Assets written to: checkpoints/res_net20221222-193327\\cp-0007.ckpt\\assets\n"
     ]
    },
    {
     "name": "stdout",
     "output_type": "stream",
     "text": [
      "37/37 [==============================] - 50s 1s/step - loss: 11.8855 - mean_absolute_percentage_error: 12.2689 - val_loss: 116.7254 - val_mean_absolute_percentage_error: 33.5143\n",
      "Epoch 8/100\n",
      "37/37 [==============================] - ETA: 0s - loss: 14.7661 - mean_absolute_percentage_error: 14.6407"
     ]
    },
    {
     "name": "stderr",
     "output_type": "stream",
     "text": [
      "WARNING:absl:Found untraced functions such as _jit_compiled_convolution_op, _jit_compiled_convolution_op, _jit_compiled_convolution_op, _jit_compiled_convolution_op, _jit_compiled_convolution_op while saving (showing 5 of 32). These functions will not be directly callable after loading.\n"
     ]
    },
    {
     "name": "stdout",
     "output_type": "stream",
     "text": [
      "INFO:tensorflow:Assets written to: checkpoints/res_net20221222-193327\\cp-0008.ckpt\\assets\n"
     ]
    },
    {
     "name": "stderr",
     "output_type": "stream",
     "text": [
      "INFO:tensorflow:Assets written to: checkpoints/res_net20221222-193327\\cp-0008.ckpt\\assets\n"
     ]
    },
    {
     "name": "stdout",
     "output_type": "stream",
     "text": [
      "37/37 [==============================] - 51s 1s/step - loss: 14.7661 - mean_absolute_percentage_error: 14.6407 - val_loss: 26.5912 - val_mean_absolute_percentage_error: 17.5338\n",
      "Epoch 9/100\n",
      "37/37 [==============================] - 41s 1s/step - loss: 14.3082 - mean_absolute_percentage_error: 13.7171 - val_loss: 30.6453 - val_mean_absolute_percentage_error: 24.3722\n",
      "Epoch 10/100\n",
      "37/37 [==============================] - ETA: 0s - loss: 12.7238 - mean_absolute_percentage_error: 12.9869"
     ]
    },
    {
     "name": "stderr",
     "output_type": "stream",
     "text": [
      "WARNING:absl:Found untraced functions such as _jit_compiled_convolution_op, _jit_compiled_convolution_op, _jit_compiled_convolution_op, _jit_compiled_convolution_op, _jit_compiled_convolution_op while saving (showing 5 of 32). These functions will not be directly callable after loading.\n"
     ]
    },
    {
     "name": "stdout",
     "output_type": "stream",
     "text": [
      "INFO:tensorflow:Assets written to: checkpoints/res_net20221222-193327\\cp-0010.ckpt\\assets\n"
     ]
    },
    {
     "name": "stderr",
     "output_type": "stream",
     "text": [
      "INFO:tensorflow:Assets written to: checkpoints/res_net20221222-193327\\cp-0010.ckpt\\assets\n"
     ]
    },
    {
     "name": "stdout",
     "output_type": "stream",
     "text": [
      "37/37 [==============================] - 51s 1s/step - loss: 12.7238 - mean_absolute_percentage_error: 12.9869 - val_loss: 13.8563 - val_mean_absolute_percentage_error: 11.7354\n",
      "Epoch 11/100\n",
      "37/37 [==============================] - ETA: 0s - loss: 11.5371 - mean_absolute_percentage_error: 12.2868"
     ]
    },
    {
     "name": "stderr",
     "output_type": "stream",
     "text": [
      "WARNING:absl:Found untraced functions such as _jit_compiled_convolution_op, _jit_compiled_convolution_op, _jit_compiled_convolution_op, _jit_compiled_convolution_op, _jit_compiled_convolution_op while saving (showing 5 of 32). These functions will not be directly callable after loading.\n"
     ]
    },
    {
     "name": "stdout",
     "output_type": "stream",
     "text": [
      "INFO:tensorflow:Assets written to: checkpoints/res_net20221222-193327\\cp-0011.ckpt\\assets\n"
     ]
    },
    {
     "name": "stderr",
     "output_type": "stream",
     "text": [
      "INFO:tensorflow:Assets written to: checkpoints/res_net20221222-193327\\cp-0011.ckpt\\assets\n"
     ]
    },
    {
     "name": "stdout",
     "output_type": "stream",
     "text": [
      "37/37 [==============================] - 52s 1s/step - loss: 11.5371 - mean_absolute_percentage_error: 12.2868 - val_loss: 13.3344 - val_mean_absolute_percentage_error: 10.0632\n",
      "Epoch 12/100\n",
      "37/37 [==============================] - 42s 1s/step - loss: 8.9000 - mean_absolute_percentage_error: 11.0146 - val_loss: 16.2716 - val_mean_absolute_percentage_error: 14.0481\n",
      "Epoch 13/100\n",
      "37/37 [==============================] - 42s 1s/step - loss: 13.7177 - mean_absolute_percentage_error: 13.5588 - val_loss: 39.1966 - val_mean_absolute_percentage_error: 17.8092\n",
      "Epoch 14/100\n",
      "37/37 [==============================] - 42s 1s/step - loss: 12.7653 - mean_absolute_percentage_error: 12.5630 - val_loss: 54.0573 - val_mean_absolute_percentage_error: 18.5696\n",
      "Epoch 15/100\n",
      "37/37 [==============================] - 42s 1s/step - loss: 11.5504 - mean_absolute_percentage_error: 11.7978 - val_loss: 42.3852 - val_mean_absolute_percentage_error: 25.2938\n",
      "Epoch 16/100\n",
      "37/37 [==============================] - 42s 1s/step - loss: 27.4852 - mean_absolute_percentage_error: 17.6871 - val_loss: 29.0621 - val_mean_absolute_percentage_error: 16.8690\n",
      "Epoch 17/100\n",
      "37/37 [==============================] - 42s 1s/step - loss: 83.4993 - mean_absolute_percentage_error: 31.7896 - val_loss: 308852800.0000 - val_mean_absolute_percentage_error: 68281.6094\n",
      "Epoch 18/100\n",
      "37/37 [==============================] - 43s 1s/step - loss: 60.8058 - mean_absolute_percentage_error: 26.3260 - val_loss: 8932133.0000 - val_mean_absolute_percentage_error: 12684.9785\n",
      "Epoch 19/100\n",
      "37/37 [==============================] - 43s 1s/step - loss: 35.7957 - mean_absolute_percentage_error: 20.3612 - val_loss: 1294290.6250 - val_mean_absolute_percentage_error: 5286.1226\n",
      "Epoch 20/100\n",
      "37/37 [==============================] - 43s 1s/step - loss: 25.7655 - mean_absolute_percentage_error: 17.0800 - val_loss: 4118.2827 - val_mean_absolute_percentage_error: 207.3940\n",
      "Epoch 21/100\n",
      "37/37 [==============================] - 43s 1s/step - loss: 11.4122 - mean_absolute_percentage_error: 12.1012 - val_loss: 2125.8867 - val_mean_absolute_percentage_error: 117.2257\n",
      "Epoch 22/100\n",
      "37/37 [==============================] - 44s 1s/step - loss: 17.9848 - mean_absolute_percentage_error: 14.3989 - val_loss: 451.0625 - val_mean_absolute_percentage_error: 49.4242\n",
      "Epoch 23/100\n",
      "37/37 [==============================] - 42s 1s/step - loss: 11.3693 - mean_absolute_percentage_error: 11.8346 - val_loss: 29.9403 - val_mean_absolute_percentage_error: 18.1034\n",
      "Epoch 24/100\n",
      "37/37 [==============================] - ETA: 0s - loss: 9.7550 - mean_absolute_percentage_error: 10.7929"
     ]
    },
    {
     "name": "stderr",
     "output_type": "stream",
     "text": [
      "WARNING:absl:Found untraced functions such as _jit_compiled_convolution_op, _jit_compiled_convolution_op, _jit_compiled_convolution_op, _jit_compiled_convolution_op, _jit_compiled_convolution_op while saving (showing 5 of 32). These functions will not be directly callable after loading.\n"
     ]
    },
    {
     "name": "stdout",
     "output_type": "stream",
     "text": [
      "INFO:tensorflow:Assets written to: checkpoints/res_net20221222-193327\\cp-0024.ckpt\\assets\n"
     ]
    },
    {
     "name": "stderr",
     "output_type": "stream",
     "text": [
      "INFO:tensorflow:Assets written to: checkpoints/res_net20221222-193327\\cp-0024.ckpt\\assets\n"
     ]
    },
    {
     "name": "stdout",
     "output_type": "stream",
     "text": [
      "37/37 [==============================] - 52s 1s/step - loss: 9.7550 - mean_absolute_percentage_error: 10.7929 - val_loss: 12.0035 - val_mean_absolute_percentage_error: 11.6943\n",
      "Epoch 25/100\n",
      "37/37 [==============================] - 44s 1s/step - loss: 10.5473 - mean_absolute_percentage_error: 11.4981 - val_loss: 14.8976 - val_mean_absolute_percentage_error: 13.1720\n",
      "Epoch 26/100\n",
      "37/37 [==============================] - ETA: 0s - loss: 9.5817 - mean_absolute_percentage_error: 11.3112"
     ]
    },
    {
     "name": "stderr",
     "output_type": "stream",
     "text": [
      "WARNING:absl:Found untraced functions such as _jit_compiled_convolution_op, _jit_compiled_convolution_op, _jit_compiled_convolution_op, _jit_compiled_convolution_op, _jit_compiled_convolution_op while saving (showing 5 of 32). These functions will not be directly callable after loading.\n"
     ]
    },
    {
     "name": "stdout",
     "output_type": "stream",
     "text": [
      "INFO:tensorflow:Assets written to: checkpoints/res_net20221222-193327\\cp-0026.ckpt\\assets\n"
     ]
    },
    {
     "name": "stderr",
     "output_type": "stream",
     "text": [
      "INFO:tensorflow:Assets written to: checkpoints/res_net20221222-193327\\cp-0026.ckpt\\assets\n"
     ]
    },
    {
     "name": "stdout",
     "output_type": "stream",
     "text": [
      "37/37 [==============================] - 53s 1s/step - loss: 9.5817 - mean_absolute_percentage_error: 11.3112 - val_loss: 9.1557 - val_mean_absolute_percentage_error: 10.2192\n",
      "Epoch 27/100\n",
      "37/37 [==============================] - ETA: 0s - loss: 8.9627 - mean_absolute_percentage_error: 10.6316"
     ]
    },
    {
     "name": "stderr",
     "output_type": "stream",
     "text": [
      "WARNING:absl:Found untraced functions such as _jit_compiled_convolution_op, _jit_compiled_convolution_op, _jit_compiled_convolution_op, _jit_compiled_convolution_op, _jit_compiled_convolution_op while saving (showing 5 of 32). These functions will not be directly callable after loading.\n"
     ]
    },
    {
     "name": "stdout",
     "output_type": "stream",
     "text": [
      "INFO:tensorflow:Assets written to: checkpoints/res_net20221222-193327\\cp-0027.ckpt\\assets\n"
     ]
    },
    {
     "name": "stderr",
     "output_type": "stream",
     "text": [
      "INFO:tensorflow:Assets written to: checkpoints/res_net20221222-193327\\cp-0027.ckpt\\assets\n"
     ]
    },
    {
     "name": "stdout",
     "output_type": "stream",
     "text": [
      "37/37 [==============================] - 56s 2s/step - loss: 8.9627 - mean_absolute_percentage_error: 10.6316 - val_loss: 8.5319 - val_mean_absolute_percentage_error: 10.6038\n",
      "Epoch 28/100\n",
      "37/37 [==============================] - 45s 1s/step - loss: 8.5968 - mean_absolute_percentage_error: 10.6348 - val_loss: 41.9305 - val_mean_absolute_percentage_error: 15.7170\n",
      "Epoch 29/100\n",
      "37/37 [==============================] - 45s 1s/step - loss: 8.5651 - mean_absolute_percentage_error: 10.7906 - val_loss: 56.0248 - val_mean_absolute_percentage_error: 17.2336\n",
      "Epoch 30/100\n",
      "37/37 [==============================] - 45s 1s/step - loss: 10.0085 - mean_absolute_percentage_error: 11.5351 - val_loss: 58.3948 - val_mean_absolute_percentage_error: 19.2757\n",
      "Epoch 31/100\n",
      "37/37 [==============================] - 45s 1s/step - loss: 8.9424 - mean_absolute_percentage_error: 11.2890 - val_loss: 9.4035 - val_mean_absolute_percentage_error: 10.8281\n",
      "Epoch 32/100\n",
      "37/37 [==============================] - 45s 1s/step - loss: 7.0973 - mean_absolute_percentage_error: 9.9581 - val_loss: 9.5441 - val_mean_absolute_percentage_error: 10.4163\n",
      "Epoch 33/100\n",
      "37/37 [==============================] - 45s 1s/step - loss: 8.7753 - mean_absolute_percentage_error: 10.1730 - val_loss: 9.8469 - val_mean_absolute_percentage_error: 10.1001\n",
      "Epoch 34/100\n",
      "37/37 [==============================] - 44s 1s/step - loss: 8.3996 - mean_absolute_percentage_error: 10.3875 - val_loss: 16.8340 - val_mean_absolute_percentage_error: 14.0299\n",
      "Epoch 35/100\n",
      "37/37 [==============================] - 44s 1s/step - loss: 8.3623 - mean_absolute_percentage_error: 10.1124 - val_loss: 19.4264 - val_mean_absolute_percentage_error: 13.4671\n",
      "Epoch 36/100\n",
      "37/37 [==============================] - 44s 1s/step - loss: 7.3220 - mean_absolute_percentage_error: 9.8772 - val_loss: 26.1947 - val_mean_absolute_percentage_error: 15.6769\n",
      "Epoch 37/100\n",
      "37/37 [==============================] - ETA: 0s - loss: 8.2503 - mean_absolute_percentage_error: 10.1984"
     ]
    },
    {
     "name": "stderr",
     "output_type": "stream",
     "text": [
      "WARNING:absl:Found untraced functions such as _jit_compiled_convolution_op, _jit_compiled_convolution_op, _jit_compiled_convolution_op, _jit_compiled_convolution_op, _jit_compiled_convolution_op while saving (showing 5 of 32). These functions will not be directly callable after loading.\n"
     ]
    },
    {
     "name": "stdout",
     "output_type": "stream",
     "text": [
      "INFO:tensorflow:Assets written to: checkpoints/res_net20221222-193327\\cp-0037.ckpt\\assets\n"
     ]
    },
    {
     "name": "stderr",
     "output_type": "stream",
     "text": [
      "INFO:tensorflow:Assets written to: checkpoints/res_net20221222-193327\\cp-0037.ckpt\\assets\n"
     ]
    },
    {
     "name": "stdout",
     "output_type": "stream",
     "text": [
      "37/37 [==============================] - 55s 1s/step - loss: 8.2503 - mean_absolute_percentage_error: 10.1984 - val_loss: 8.2867 - val_mean_absolute_percentage_error: 10.3932\n",
      "Epoch 38/100\n",
      "37/37 [==============================] - 44s 1s/step - loss: 12.0664 - mean_absolute_percentage_error: 11.7634 - val_loss: 15.3987 - val_mean_absolute_percentage_error: 14.7756\n",
      "Epoch 39/100\n",
      "37/37 [==============================] - 43s 1s/step - loss: 14.9221 - mean_absolute_percentage_error: 13.5093 - val_loss: 12.7324 - val_mean_absolute_percentage_error: 13.8070\n",
      "Epoch 40/100\n",
      "37/37 [==============================] - 42s 1s/step - loss: 9.3480 - mean_absolute_percentage_error: 11.1549 - val_loss: 15.8585 - val_mean_absolute_percentage_error: 14.7236\n",
      "Epoch 41/100\n",
      "37/37 [==============================] - 42s 1s/step - loss: 7.5346 - mean_absolute_percentage_error: 9.7046 - val_loss: 19.1065 - val_mean_absolute_percentage_error: 17.6072\n",
      "Epoch 42/100\n",
      "37/37 [==============================] - 43s 1s/step - loss: 9.9281 - mean_absolute_percentage_error: 11.1608 - val_loss: 159.4743 - val_mean_absolute_percentage_error: 28.4072\n",
      "Epoch 43/100\n",
      "37/37 [==============================] - 43s 1s/step - loss: 10.0607 - mean_absolute_percentage_error: 11.3903 - val_loss: 61.7772 - val_mean_absolute_percentage_error: 22.0747\n",
      "Epoch 44/100\n",
      "37/37 [==============================] - 42s 1s/step - loss: 12.7668 - mean_absolute_percentage_error: 12.5641 - val_loss: 29.4954 - val_mean_absolute_percentage_error: 21.8346\n",
      "Epoch 45/100\n",
      "37/37 [==============================] - 43s 1s/step - loss: 10.1372 - mean_absolute_percentage_error: 11.0403 - val_loss: 20.2241 - val_mean_absolute_percentage_error: 12.8401\n",
      "Epoch 46/100\n",
      "37/37 [==============================] - 43s 1s/step - loss: 8.0449 - mean_absolute_percentage_error: 10.5692 - val_loss: 12.9387 - val_mean_absolute_percentage_error: 13.1538\n",
      "Epoch 47/100\n",
      "37/37 [==============================] - 42s 1s/step - loss: 6.9402 - mean_absolute_percentage_error: 9.3412 - val_loss: 11.8045 - val_mean_absolute_percentage_error: 12.3653\n",
      "Epoch 48/100\n",
      "37/37 [==============================] - 43s 1s/step - loss: 6.0106 - mean_absolute_percentage_error: 8.7937 - val_loss: 12.5314 - val_mean_absolute_percentage_error: 13.8277\n",
      "Epoch 49/100\n",
      "37/37 [==============================] - 41s 1s/step - loss: 11.0784 - mean_absolute_percentage_error: 11.3577 - val_loss: 11.0523 - val_mean_absolute_percentage_error: 12.0772\n",
      "Epoch 50/100\n",
      "37/37 [==============================] - 42s 1s/step - loss: 11.3917 - mean_absolute_percentage_error: 12.2230 - val_loss: 8.7028 - val_mean_absolute_percentage_error: 10.3161\n",
      "Epoch 51/100\n",
      "37/37 [==============================] - 42s 1s/step - loss: 13.6688 - mean_absolute_percentage_error: 11.8738 - val_loss: 28.3567 - val_mean_absolute_percentage_error: 15.7211\n",
      "Epoch 52/100\n",
      "37/37 [==============================] - 42s 1s/step - loss: 23.9132 - mean_absolute_percentage_error: 15.7127 - val_loss: 4194.2085 - val_mean_absolute_percentage_error: 118.5911\n",
      "Epoch 53/100\n",
      "37/37 [==============================] - 42s 1s/step - loss: 17.6587 - mean_absolute_percentage_error: 13.1118 - val_loss: 168.5448 - val_mean_absolute_percentage_error: 30.9904\n",
      "Epoch 54/100\n",
      "37/37 [==============================] - 42s 1s/step - loss: 26.8478 - mean_absolute_percentage_error: 15.6865 - val_loss: 33701.7539 - val_mean_absolute_percentage_error: 464.2110\n",
      "Epoch 55/100\n",
      "37/37 [==============================] - 42s 1s/step - loss: 28.6174 - mean_absolute_percentage_error: 15.5400 - val_loss: 5194.2622 - val_mean_absolute_percentage_error: 109.5607\n",
      "Epoch 56/100\n",
      "37/37 [==============================] - 41s 1s/step - loss: 28.8886 - mean_absolute_percentage_error: 16.8123 - val_loss: 479.5496 - val_mean_absolute_percentage_error: 47.9101\n",
      "Epoch 57/100\n",
      "37/37 [==============================] - 42s 1s/step - loss: 91.1469 - mean_absolute_percentage_error: 31.4215 - val_loss: 77630.1406 - val_mean_absolute_percentage_error: 1207.0306\n",
      "Epoch 58/100\n",
      "37/37 [==============================] - 43s 1s/step - loss: 44.5419 - mean_absolute_percentage_error: 24.2165 - val_loss: 6710734.5000 - val_mean_absolute_percentage_error: 10657.7715\n",
      "Epoch 59/100\n",
      "37/37 [==============================] - 42s 1s/step - loss: 24.9175 - mean_absolute_percentage_error: 18.4600 - val_loss: 3976.0703 - val_mean_absolute_percentage_error: 237.3245\n",
      "Epoch 60/100\n",
      "37/37 [==============================] - 42s 1s/step - loss: 15.2950 - mean_absolute_percentage_error: 14.5834 - val_loss: 1672.7102 - val_mean_absolute_percentage_error: 115.1928\n",
      "Epoch 61/100\n",
      "37/37 [==============================] - 43s 1s/step - loss: 10.5409 - mean_absolute_percentage_error: 12.0698 - val_loss: 217.3775 - val_mean_absolute_percentage_error: 48.5263\n",
      "Epoch 62/100\n",
      "37/37 [==============================] - 42s 1s/step - loss: 9.5534 - mean_absolute_percentage_error: 11.8052 - val_loss: 21.5281 - val_mean_absolute_percentage_error: 16.7250\n",
      "Epoch 63/100\n",
      "37/37 [==============================] - 43s 1s/step - loss: 9.5831 - mean_absolute_percentage_error: 11.3751 - val_loss: 23.1900 - val_mean_absolute_percentage_error: 20.2956\n",
      "Epoch 64/100\n",
      "37/37 [==============================] - 42s 1s/step - loss: 9.0960 - mean_absolute_percentage_error: 11.3196 - val_loss: 14.4472 - val_mean_absolute_percentage_error: 16.1617\n",
      "Epoch 65/100\n",
      "37/37 [==============================] - 42s 1s/step - loss: 7.6812 - mean_absolute_percentage_error: 10.3881 - val_loss: 11.9450 - val_mean_absolute_percentage_error: 13.8521\n",
      "Epoch 66/100\n",
      "37/37 [==============================] - 42s 1s/step - loss: 7.5560 - mean_absolute_percentage_error: 9.9914 - val_loss: 11.4636 - val_mean_absolute_percentage_error: 11.5589\n",
      "Epoch 67/100\n",
      "37/37 [==============================] - ETA: 0s - loss: 7.7189 - mean_absolute_percentage_error: 10.1485"
     ]
    },
    {
     "name": "stderr",
     "output_type": "stream",
     "text": [
      "WARNING:absl:Found untraced functions such as _jit_compiled_convolution_op, _jit_compiled_convolution_op, _jit_compiled_convolution_op, _jit_compiled_convolution_op, _jit_compiled_convolution_op while saving (showing 5 of 32). These functions will not be directly callable after loading.\n"
     ]
    },
    {
     "name": "stdout",
     "output_type": "stream",
     "text": [
      "INFO:tensorflow:Assets written to: checkpoints/res_net20221222-193327\\cp-0067.ckpt\\assets\n"
     ]
    },
    {
     "name": "stderr",
     "output_type": "stream",
     "text": [
      "INFO:tensorflow:Assets written to: checkpoints/res_net20221222-193327\\cp-0067.ckpt\\assets\n"
     ]
    },
    {
     "name": "stdout",
     "output_type": "stream",
     "text": [
      "37/37 [==============================] - 53s 1s/step - loss: 7.7189 - mean_absolute_percentage_error: 10.1485 - val_loss: 7.2576 - val_mean_absolute_percentage_error: 10.3728\n",
      "Epoch 68/100\n",
      "37/37 [==============================] - 42s 1s/step - loss: 6.3657 - mean_absolute_percentage_error: 9.3986 - val_loss: 8.3495 - val_mean_absolute_percentage_error: 10.9839\n",
      "Epoch 69/100\n",
      "37/37 [==============================] - 42s 1s/step - loss: 6.8215 - mean_absolute_percentage_error: 9.6724 - val_loss: 8.3866 - val_mean_absolute_percentage_error: 10.9840\n",
      "Epoch 70/100\n",
      "37/37 [==============================] - ETA: 0s - loss: 6.8077 - mean_absolute_percentage_error: 9.8314"
     ]
    },
    {
     "name": "stderr",
     "output_type": "stream",
     "text": [
      "WARNING:absl:Found untraced functions such as _jit_compiled_convolution_op, _jit_compiled_convolution_op, _jit_compiled_convolution_op, _jit_compiled_convolution_op, _jit_compiled_convolution_op while saving (showing 5 of 32). These functions will not be directly callable after loading.\n"
     ]
    },
    {
     "name": "stdout",
     "output_type": "stream",
     "text": [
      "INFO:tensorflow:Assets written to: checkpoints/res_net20221222-193327\\cp-0070.ckpt\\assets\n"
     ]
    },
    {
     "name": "stderr",
     "output_type": "stream",
     "text": [
      "INFO:tensorflow:Assets written to: checkpoints/res_net20221222-193327\\cp-0070.ckpt\\assets\n"
     ]
    },
    {
     "name": "stdout",
     "output_type": "stream",
     "text": [
      "37/37 [==============================] - 53s 1s/step - loss: 6.8077 - mean_absolute_percentage_error: 9.8314 - val_loss: 6.9816 - val_mean_absolute_percentage_error: 10.3585\n",
      "Epoch 71/100\n",
      "37/37 [==============================] - 42s 1s/step - loss: 6.2606 - mean_absolute_percentage_error: 9.3856 - val_loss: 7.6323 - val_mean_absolute_percentage_error: 10.8704\n",
      "Epoch 72/100\n",
      "37/37 [==============================] - 42s 1s/step - loss: 6.2885 - mean_absolute_percentage_error: 9.2790 - val_loss: 7.6547 - val_mean_absolute_percentage_error: 9.4691\n",
      "Epoch 73/100\n",
      "37/37 [==============================] - 43s 1s/step - loss: 7.6629 - mean_absolute_percentage_error: 10.4903 - val_loss: 7.2407 - val_mean_absolute_percentage_error: 10.3199\n",
      "Epoch 74/100\n",
      "37/37 [==============================] - 43s 1s/step - loss: 6.9627 - mean_absolute_percentage_error: 9.7269 - val_loss: 9.8274 - val_mean_absolute_percentage_error: 12.2609\n",
      "Epoch 75/100\n",
      "37/37 [==============================] - 43s 1s/step - loss: 6.2380 - mean_absolute_percentage_error: 9.2750 - val_loss: 7.5573 - val_mean_absolute_percentage_error: 10.7539\n",
      "Epoch 76/100\n",
      "37/37 [==============================] - 43s 1s/step - loss: 6.7708 - mean_absolute_percentage_error: 9.8398 - val_loss: 7.3680 - val_mean_absolute_percentage_error: 10.4574\n",
      "Epoch 77/100\n",
      "37/37 [==============================] - ETA: 0s - loss: 6.0393 - mean_absolute_percentage_error: 9.2761"
     ]
    },
    {
     "name": "stderr",
     "output_type": "stream",
     "text": [
      "WARNING:absl:Found untraced functions such as _jit_compiled_convolution_op, _jit_compiled_convolution_op, _jit_compiled_convolution_op, _jit_compiled_convolution_op, _jit_compiled_convolution_op while saving (showing 5 of 32). These functions will not be directly callable after loading.\n"
     ]
    },
    {
     "name": "stdout",
     "output_type": "stream",
     "text": [
      "INFO:tensorflow:Assets written to: checkpoints/res_net20221222-193327\\cp-0077.ckpt\\assets\n"
     ]
    },
    {
     "name": "stderr",
     "output_type": "stream",
     "text": [
      "INFO:tensorflow:Assets written to: checkpoints/res_net20221222-193327\\cp-0077.ckpt\\assets\n"
     ]
    },
    {
     "name": "stdout",
     "output_type": "stream",
     "text": [
      "37/37 [==============================] - 52s 1s/step - loss: 6.0393 - mean_absolute_percentage_error: 9.2761 - val_loss: 6.9757 - val_mean_absolute_percentage_error: 10.2965\n",
      "Epoch 78/100\n",
      "37/37 [==============================] - 43s 1s/step - loss: 6.2053 - mean_absolute_percentage_error: 9.2701 - val_loss: 7.4303 - val_mean_absolute_percentage_error: 10.9269\n",
      "Epoch 79/100\n",
      "37/37 [==============================] - ETA: 0s - loss: 5.8372 - mean_absolute_percentage_error: 9.3231"
     ]
    },
    {
     "name": "stderr",
     "output_type": "stream",
     "text": [
      "WARNING:absl:Found untraced functions such as _jit_compiled_convolution_op, _jit_compiled_convolution_op, _jit_compiled_convolution_op, _jit_compiled_convolution_op, _jit_compiled_convolution_op while saving (showing 5 of 32). These functions will not be directly callable after loading.\n"
     ]
    },
    {
     "name": "stdout",
     "output_type": "stream",
     "text": [
      "INFO:tensorflow:Assets written to: checkpoints/res_net20221222-193327\\cp-0079.ckpt\\assets\n"
     ]
    },
    {
     "name": "stderr",
     "output_type": "stream",
     "text": [
      "INFO:tensorflow:Assets written to: checkpoints/res_net20221222-193327\\cp-0079.ckpt\\assets\n"
     ]
    },
    {
     "name": "stdout",
     "output_type": "stream",
     "text": [
      "37/37 [==============================] - 53s 1s/step - loss: 5.8372 - mean_absolute_percentage_error: 9.3231 - val_loss: 6.6380 - val_mean_absolute_percentage_error: 9.3240\n",
      "Epoch 80/100\n",
      "37/37 [==============================] - 41s 1s/step - loss: 5.6076 - mean_absolute_percentage_error: 8.8819 - val_loss: 7.3428 - val_mean_absolute_percentage_error: 10.3660\n",
      "Epoch 81/100\n",
      "37/37 [==============================] - 41s 1s/step - loss: 5.3148 - mean_absolute_percentage_error: 8.4322 - val_loss: 7.7944 - val_mean_absolute_percentage_error: 9.8721\n",
      "Epoch 82/100\n",
      "37/37 [==============================] - 42s 1s/step - loss: 4.9663 - mean_absolute_percentage_error: 8.3319 - val_loss: 12.9640 - val_mean_absolute_percentage_error: 14.9883\n",
      "Epoch 83/100\n",
      "37/37 [==============================] - 43s 1s/step - loss: 8.7890 - mean_absolute_percentage_error: 11.3917 - val_loss: 7.3710 - val_mean_absolute_percentage_error: 10.1166\n",
      "Epoch 84/100\n",
      "37/37 [==============================] - 42s 1s/step - loss: 5.8654 - mean_absolute_percentage_error: 9.1131 - val_loss: 7.4914 - val_mean_absolute_percentage_error: 10.3223\n",
      "Epoch 85/100\n",
      "37/37 [==============================] - 43s 1s/step - loss: 4.9397 - mean_absolute_percentage_error: 8.3372 - val_loss: 9.2794 - val_mean_absolute_percentage_error: 10.6906\n",
      "Epoch 86/100\n",
      "37/37 [==============================] - 43s 1s/step - loss: 6.8728 - mean_absolute_percentage_error: 9.8611 - val_loss: 10.9837 - val_mean_absolute_percentage_error: 12.0847\n",
      "Epoch 87/100\n",
      "37/37 [==============================] - 42s 1s/step - loss: 5.0495 - mean_absolute_percentage_error: 8.3725 - val_loss: 7.7792 - val_mean_absolute_percentage_error: 10.1430\n",
      "Epoch 88/100\n",
      "37/37 [==============================] - 42s 1s/step - loss: 4.6990 - mean_absolute_percentage_error: 7.9860 - val_loss: 10.8611 - val_mean_absolute_percentage_error: 12.8811\n",
      "Epoch 89/100\n",
      "37/37 [==============================] - 42s 1s/step - loss: 7.5090 - mean_absolute_percentage_error: 10.4583 - val_loss: 13.1851 - val_mean_absolute_percentage_error: 14.9661\n",
      "Epoch 90/100\n",
      "37/37 [==============================] - 42s 1s/step - loss: 5.6490 - mean_absolute_percentage_error: 8.8253 - val_loss: 13.5762 - val_mean_absolute_percentage_error: 15.9434\n",
      "Epoch 91/100\n",
      "37/37 [==============================] - 43s 1s/step - loss: 4.1709 - mean_absolute_percentage_error: 7.6640 - val_loss: 8.0983 - val_mean_absolute_percentage_error: 11.0417\n",
      "Epoch 92/100\n",
      "37/37 [==============================] - 42s 1s/step - loss: 4.9746 - mean_absolute_percentage_error: 8.2200 - val_loss: 8.5638 - val_mean_absolute_percentage_error: 11.0421\n",
      "Epoch 93/100\n",
      "37/37 [==============================] - 42s 1s/step - loss: 4.3688 - mean_absolute_percentage_error: 7.7502 - val_loss: 8.8638 - val_mean_absolute_percentage_error: 11.5819\n",
      "Epoch 94/100\n",
      "37/37 [==============================] - 42s 1s/step - loss: 4.6768 - mean_absolute_percentage_error: 7.6701 - val_loss: 9.0831 - val_mean_absolute_percentage_error: 10.6880\n",
      "Epoch 95/100\n",
      "37/37 [==============================] - 42s 1s/step - loss: 5.2203 - mean_absolute_percentage_error: 8.5640 - val_loss: 10.3072 - val_mean_absolute_percentage_error: 11.6360\n",
      "Epoch 96/100\n",
      "37/37 [==============================] - 42s 1s/step - loss: 4.3065 - mean_absolute_percentage_error: 7.8224 - val_loss: 9.0917 - val_mean_absolute_percentage_error: 10.6306\n",
      "Epoch 97/100\n",
      "37/37 [==============================] - ETA: 0s - loss: 4.4099 - mean_absolute_percentage_error: 7.9327"
     ]
    },
    {
     "name": "stderr",
     "output_type": "stream",
     "text": [
      "WARNING:absl:Found untraced functions such as _jit_compiled_convolution_op, _jit_compiled_convolution_op, _jit_compiled_convolution_op, _jit_compiled_convolution_op, _jit_compiled_convolution_op while saving (showing 5 of 32). These functions will not be directly callable after loading.\n"
     ]
    },
    {
     "name": "stdout",
     "output_type": "stream",
     "text": [
      "INFO:tensorflow:Assets written to: checkpoints/res_net20221222-193327\\cp-0097.ckpt\\assets\n"
     ]
    },
    {
     "name": "stderr",
     "output_type": "stream",
     "text": [
      "INFO:tensorflow:Assets written to: checkpoints/res_net20221222-193327\\cp-0097.ckpt\\assets\n"
     ]
    },
    {
     "name": "stdout",
     "output_type": "stream",
     "text": [
      "37/37 [==============================] - 51s 1s/step - loss: 4.4099 - mean_absolute_percentage_error: 7.9327 - val_loss: 6.2315 - val_mean_absolute_percentage_error: 9.0373\n",
      "Epoch 98/100\n",
      "37/37 [==============================] - 42s 1s/step - loss: 5.3950 - mean_absolute_percentage_error: 8.9362 - val_loss: 7.6443 - val_mean_absolute_percentage_error: 9.0612\n",
      "Epoch 99/100\n",
      "37/37 [==============================] - 42s 1s/step - loss: 5.1371 - mean_absolute_percentage_error: 8.3315 - val_loss: 8.4073 - val_mean_absolute_percentage_error: 10.0848\n",
      "Epoch 100/100\n",
      "37/37 [==============================] - 42s 1s/step - loss: 3.8761 - mean_absolute_percentage_error: 7.5306 - val_loss: 6.6061 - val_mean_absolute_percentage_error: 9.3666\n"
     ]
    }
   ],
   "source": [
    "model = create_res_net((250,250,4),True)\n",
    "X_train, y_train, X_test, y_test = prepare_data(2, 'Diameter', 1, True)\n",
    "print(X_train.shape)\n",
    "fit_model(model, 100, 16, X_train, y_train, X_test, y_test)"
   ],
   "metadata": {
    "collapsed": false,
    "pycharm": {
     "name": "#%%\n"
    }
   }
  },
  {
   "cell_type": "markdown",
   "source": [
    "## Plots predicted vs actual"
   ],
   "metadata": {
    "collapsed": false
   }
  },
  {
   "cell_type": "code",
   "execution_count": 14,
   "outputs": [],
   "source": [
    "def plot_true_vs_predicted(model, X, y, title):\n",
    "    predicted = model.predict(X)\n",
    "    actual = y\n",
    "    plt.plot(actual, 'bo')\n",
    "    plt.plot(predicted, 'r^')\n",
    "\n",
    "    # Draw lines between the data points\n",
    "    for x1, y1, x2, y2 in zip(range(len(actual)), actual, range(len(predicted)), predicted):\n",
    "        plt.plot([x1, x2], [y1, y2], 'k-')\n",
    "\n",
    "    plt.title(title)\n",
    "    plt.legend(['True data', 'Predicted data'])\n",
    "    plt.show()\n"
   ],
   "metadata": {
    "collapsed": false,
    "pycharm": {
     "name": "#%%\n"
    }
   }
  },
  {
   "cell_type": "markdown",
   "source": [
    "Diameter"
   ],
   "metadata": {
    "collapsed": false
   }
  },
  {
   "cell_type": "code",
   "execution_count": 77,
   "outputs": [
    {
     "name": "stdout",
     "output_type": "stream",
     "text": [
      "4/4 [==============================] - 2s 608ms/step\n"
     ]
    },
    {
     "name": "stderr",
     "output_type": "stream",
     "text": [
      "C:\\Users\\joren\\anaconda3\\envs\\tf_try\\lib\\site-packages\\numpy\\core\\shape_base.py:65: VisibleDeprecationWarning: Creating an ndarray from ragged nested sequences (which is a list-or-tuple of lists-or-tuples-or ndarrays with different lengths or shapes) is deprecated. If you meant to do this, you must specify 'dtype=object' when creating the ndarray.\n",
      "  ary = asanyarray(ary)\n"
     ]
    },
    {
     "data": {
      "text/plain": "<Figure size 640x480 with 1 Axes>",
      "image/png": "[encoded data removed]"
     },
     "metadata": {},
     "output_type": "display_data"
    }
   ],
   "source": [
    "X_train, y_train, X_test, y_test = prepare_data(1,'Diameter',0, True)\n",
    "model = tf.keras.models.load_model('./checkpoints/rgb_augm_diameter/cp-0052.ckpt')\n",
    "plot_true_vs_predicted(model, X_test, y_test, 'Diameter (cm)')"
   ],
   "metadata": {
    "collapsed": false,
    "pycharm": {
     "name": "#%%\n"
    }
   }
  },
  {
   "cell_type": "markdown",
   "source": [
    "Height"
   ],
   "metadata": {
    "collapsed": false
   }
  },
  {
   "cell_type": "code",
   "execution_count": 78,
   "outputs": [
    {
     "name": "stdout",
     "output_type": "stream",
     "text": [
      "4/4 [==============================] - 2s 591ms/step\n"
     ]
    },
    {
     "name": "stderr",
     "output_type": "stream",
     "text": [
      "C:\\Users\\joren\\anaconda3\\envs\\tf_try\\lib\\site-packages\\numpy\\core\\shape_base.py:65: VisibleDeprecationWarning: Creating an ndarray from ragged nested sequences (which is a list-or-tuple of lists-or-tuples-or ndarrays with different lengths or shapes) is deprecated. If you meant to do this, you must specify 'dtype=object' when creating the ndarray.\n",
      "  ary = asanyarray(ary)\n"
     ]
    },
    {
     "data": {
      "text/plain": "<Figure size 640x480 with 1 Axes>",
      "image/png": "[encoded data removed]"
     },
     "metadata": {},
     "output_type": "display_data"
    }
   ],
   "source": [
    "X_train, y_train, X_test, y_test = prepare_data(0,'Height',0, False)\n",
    "model = tf.keras.models.load_model('./checkpoints/depth_height/cp-0064.ckpt')\n",
    "plot_true_vs_predicted(model, X_test, y_test, 'Height (cm)')"
   ],
   "metadata": {
    "collapsed": false,
    "pycharm": {
     "name": "#%%\n"
    }
   }
  },
  {
   "cell_type": "markdown",
   "source": [
    "Fresh Weight"
   ],
   "metadata": {
    "collapsed": false
   }
  },
  {
   "cell_type": "code",
   "execution_count": 79,
   "outputs": [
    {
     "name": "stdout",
     "output_type": "stream",
     "text": [
      "4/4 [==============================] - 2s 552ms/step\n"
     ]
    },
    {
     "name": "stderr",
     "output_type": "stream",
     "text": [
      "C:\\Users\\joren\\anaconda3\\envs\\tf_try\\lib\\site-packages\\numpy\\core\\shape_base.py:65: VisibleDeprecationWarning: Creating an ndarray from ragged nested sequences (which is a list-or-tuple of lists-or-tuples-or ndarrays with different lengths or shapes) is deprecated. If you meant to do this, you must specify 'dtype=object' when creating the ndarray.\n",
      "  ary = asanyarray(ary)\n"
     ]
    },
    {
     "data": {
      "text/plain": "<Figure size 640x480 with 1 Axes>",
      "image/png": "[encoded data removed]"
     },
     "metadata": {},
     "output_type": "display_data"
    }
   ],
   "source": [
    "X_train, y_train, X_test, y_test = prepare_data(2,'FreshWeightShoot',0, False)\n",
    "model = tf.keras.models.load_model('./checkpoints/rgb-d_freshweight/cp-0100.ckpt')\n",
    "plot_true_vs_predicted(model, X_test, y_test, 'Fresh Weight (g)')"
   ],
   "metadata": {
    "collapsed": false,
    "pycharm": {
     "name": "#%%\n"
    }
   }
  },
  {
   "cell_type": "markdown",
   "source": [
    "Dry Weight"
   ],
   "metadata": {
    "collapsed": false
   }
  },
  {
   "cell_type": "code",
   "execution_count": 80,
   "outputs": [
    {
     "name": "stdout",
     "output_type": "stream",
     "text": [
      "4/4 [==============================] - 2s 565ms/step\n"
     ]
    },
    {
     "name": "stderr",
     "output_type": "stream",
     "text": [
      "C:\\Users\\joren\\anaconda3\\envs\\tf_try\\lib\\site-packages\\numpy\\core\\shape_base.py:65: VisibleDeprecationWarning: Creating an ndarray from ragged nested sequences (which is a list-or-tuple of lists-or-tuples-or ndarrays with different lengths or shapes) is deprecated. If you meant to do this, you must specify 'dtype=object' when creating the ndarray.\n",
      "  ary = asanyarray(ary)\n"
     ]
    },
    {
     "data": {
      "text/plain": "<Figure size 640x480 with 1 Axes>",
      "image/png": "[encoded data removed]"
     },
     "metadata": {},
     "output_type": "display_data"
    }
   ],
   "source": [
    "X_train, y_train, X_test, y_test = prepare_data(1,'DryWeightShoot',0, False)\n",
    "model = tf.keras.models.load_model('./checkpoints/rgb_dryweight/cp-0077.ckpt')\n",
    "plot_true_vs_predicted(model, X_test, y_test, 'Dry Weight (g)')"
   ],
   "metadata": {
    "collapsed": false,
    "pycharm": {
     "name": "#%%\n"
    }
   }
  },
  {
   "cell_type": "markdown",
   "source": [
    "Leaf Area"
   ],
   "metadata": {
    "collapsed": false
   }
  },
  {
   "cell_type": "code",
   "execution_count": null,
   "outputs": [],
   "source": [
    "X_train, y_train, X_test, y_test = prepare_data(1,'LeafArea',0, True)\n",
    "model = tf.keras.models.load_model('./checkpoints/rgb_augm_leafarea/cp-0060.ckpt')\n",
    "\n",
    "plot_true_vs_predicted(model, X_test, y_test, 'Leaf Area (cm^2)')"
   ],
   "metadata": {
    "collapsed": false,
    "pycharm": {
     "name": "#%%\n",
     "is_executing": true
    }
   }
  },
  {
   "cell_type": "code",
   "execution_count": null,
   "outputs": [],
   "source": [],
   "metadata": {
    "collapsed": false,
    "pycharm": {
     "name": "#%%\n"
    }
   }
  }
 ],
 "metadata": {
  "kernelspec": {
   "display_name": "Python 3 (ipykernel)",
   "language": "python",
   "name": "python3"
  },
  "language_info": {
   "codemirror_mode": {
    "name": "ipython",
    "version": 3
   },
   "file_extension": ".py",
   "mimetype": "text/x-python",
   "name": "python",
   "nbconvert_exporter": "python",
   "pygments_lexer": "ipython3",
   "version": "3.7.15"
  }
 },
 "nbformat": 4,
 "nbformat_minor": 1
}