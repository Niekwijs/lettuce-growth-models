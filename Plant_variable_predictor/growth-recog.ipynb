{
 "cells": [
  {
   "cell_type": "code",
   "execution_count": 2,
   "outputs": [],
   "source": [
    "import os\n",
    "\n",
    "import numpy as np\n",
    "import pandas as pd\n",
    "import json\n",
    "import cv2\n",
    "from sklearn.model_selection import train_test_split\n",
    "import cv2\n",
    "\n",
    "# tf imports\n",
    "import tensorflow as tf\n",
    "from tensorflow import keras\n",
    "import matplotlib.pyplot as plt\n",
    "from keras.layers import Dense\n",
    "from keras import backend as K"
   ],
   "metadata": {
    "collapsed": false,
    "pycharm": {
     "name": "#%%\n"
    }
   }
  },
  {
   "cell_type": "code",
   "execution_count": 3,
   "outputs": [
    {
     "name": "stdout",
     "output_type": "stream",
     "text": [
      "1 Physical GPUs, 1 Logical GPU\n"
     ]
    }
   ],
   "source": [
    "gpus = tf.config.list_physical_devices('GPU')\n",
    "if gpus:\n",
    "  try:\n",
    "    tf.config.set_visible_devices(gpus[0], 'GPU')\n",
    "    for gpu in gpus:\n",
    "      tf.config.experimental.set_memory_growth(gpu, True)\n",
    "    logical_gpus = tf.config.list_logical_devices('GPU')\n",
    "    print(len(gpus), \"Physical GPUs,\", len(logical_gpus), \"Logical GPU\")\n",
    "  except RuntimeError as e:\n",
    "    print(e)"
   ],
   "metadata": {
    "collapsed": false,
    "pycharm": {
     "name": "#%%\n"
    }
   }
  },
  {
   "cell_type": "markdown",
   "source": [
    "loading images with labels"
   ],
   "metadata": {
    "collapsed": false,
    "pycharm": {
     "name": "#%% md\n"
    }
   }
  },
  {
   "cell_type": "code",
   "execution_count": 4,
   "outputs": [
    {
     "data": {
      "text/plain": "  Variety    RGB_Image Depth_Information  FreshWeightShoot  DryWeightShoot  \\\n0  Lugano   RGB_27.png      Depth_27.png               5.5            0.42   \n1  Lugano   RGB_79.png      Depth_79.png              30.3            1.92   \n2  Lugano  RGB_140.png     Depth_140.png              60.9            2.83   \n3  Lugano  RGB_203.png     Depth_203.png             112.0            5.76   \n4  Lugano  RGB_292.png     Depth_292.png             372.6           14.17   \n\n   Height  Diameter  LeafArea  \n0     9.0      11.0     153.9  \n1     8.8      20.2     582.3  \n2    11.6      19.0     960.6  \n3    11.0      22.0    1614.9  \n4    17.0      32.0    3839.6  ",
      "text/html": "<div>\n<style scoped>\n    .dataframe tbody tr th:only-of-type {\n        vertical-align: middle;\n    }\n\n    .dataframe tbody tr th {\n        vertical-align: top;\n    }\n\n    .dataframe thead th {\n        text-align: right;\n    }\n</style>\n<table border=\"1\" class=\"dataframe\">\n  <thead>\n    <tr style=\"text-align: right;\">\n      <th></th>\n      <th>Variety</th>\n      <th>RGB_Image</th>\n      <th>Depth_Information</th>\n      <th>FreshWeightShoot</th>\n      <th>DryWeightShoot</th>\n      <th>Height</th>\n      <th>Diameter</th>\n      <th>LeafArea</th>\n    </tr>\n  </thead>\n  <tbody>\n    <tr>\n      <th>0</th>\n      <td>Lugano</td>\n      <td>RGB_27.png</td>\n      <td>Depth_27.png</td>\n      <td>5.5</td>\n      <td>0.42</td>\n      <td>9.0</td>\n      <td>11.0</td>\n      <td>153.9</td>\n    </tr>\n    <tr>\n      <th>1</th>\n      <td>Lugano</td>\n      <td>RGB_79.png</td>\n      <td>Depth_79.png</td>\n      <td>30.3</td>\n      <td>1.92</td>\n      <td>8.8</td>\n      <td>20.2</td>\n      <td>582.3</td>\n    </tr>\n    <tr>\n      <th>2</th>\n      <td>Lugano</td>\n      <td>RGB_140.png</td>\n      <td>Depth_140.png</td>\n      <td>60.9</td>\n      <td>2.83</td>\n      <td>11.6</td>\n      <td>19.0</td>\n      <td>960.6</td>\n    </tr>\n    <tr>\n      <th>3</th>\n      <td>Lugano</td>\n      <td>RGB_203.png</td>\n      <td>Depth_203.png</td>\n      <td>112.0</td>\n      <td>5.76</td>\n      <td>11.0</td>\n      <td>22.0</td>\n      <td>1614.9</td>\n    </tr>\n    <tr>\n      <th>4</th>\n      <td>Lugano</td>\n      <td>RGB_292.png</td>\n      <td>Depth_292.png</td>\n      <td>372.6</td>\n      <td>14.17</td>\n      <td>17.0</td>\n      <td>32.0</td>\n      <td>3839.6</td>\n    </tr>\n  </tbody>\n</table>\n</div>"
     },
     "execution_count": 4,
     "metadata": {},
     "output_type": "execute_result"
    }
   ],
   "source": [
    "f = open(\"..\\data\\measurements.json\")\n",
    "data_json = json.loads(f.read())[\"Measurements\"]\n",
    "\n",
    "vs = data_json.values()\n",
    "\n",
    "df = pd.json_normalize(vs)\n",
    "\n",
    "df.head()\n"
   ],
   "metadata": {
    "collapsed": false,
    "pycharm": {
     "name": "#%%\n"
    }
   }
  },
  {
   "cell_type": "code",
   "execution_count": 5,
   "outputs": [],
   "source": [
    "import albumentations as alb\n",
    "\n",
    "def augment(train_set, train_labels, iterations):\n",
    "    # Define a list of image augmentation transformations to apply\n",
    "    aug_transforms = [\n",
    "        alb.HorizontalFlip(),\n",
    "        alb.VerticalFlip(),\n",
    "        alb.RandomRotate90(),\n",
    "        alb.Transpose(),\n",
    "        alb.RandomBrightnessContrast()\n",
    "    ]\n",
    "\n",
    "    # Use the Compose function to apply the transformations\n",
    "    aug = alb.Compose(aug_transforms)\n",
    "\n",
    "    # Set the number of times to augment the images\n",
    "    num_augmentations = iterations\n",
    "\n",
    "    # Iterate through the number of augmentations\n",
    "    for i in range(num_augmentations):\n",
    "      # Iterate through your training set and apply the augmentations to each image\n",
    "      augmented_train_set = []\n",
    "      augmented_train_labels = []\n",
    "      for image, label in zip(train_set, train_labels):\n",
    "        augmented_image = aug(image=image)['image']\n",
    "        augmented_train_set.append(augmented_image)\n",
    "        augmented_train_labels.append(label)\n",
    "\n",
    "      # Add the augmented images and labels to the training set\n",
    "      train_set = np.concatenate((train_set, augmented_train_set))\n",
    "      train_labels = np.concatenate((train_labels, augmented_train_labels))\n",
    "\n",
    "    # Shuffle the training set and labels\n",
    "    p = np.random.permutation(len(train_set))\n",
    "    X = train_set[p]\n",
    "    y = train_labels[p]\n",
    "    return X, y\n"
   ],
   "metadata": {
    "collapsed": false,
    "pycharm": {
     "name": "#%%\n"
    }
   }
  },
  {
   "cell_type": "code",
   "execution_count": 6,
   "outputs": [],
   "source": [
    "\"\"\"\n",
    "    number: depth=0, RGB=1, depth/RGB=2, augment_data: amount of times for data to be augmented\n",
    "\"\"\"\n",
    "def prepare_data(number=0, y_key='Height', augment_data=0):\n",
    "\n",
    "    all_images = []\n",
    "    y = []\n",
    "\n",
    "    if number == 2:\n",
    "        path_RGB = '../data/RGBImagesResize/'\n",
    "        key_RGB = 'RGB_Image'\n",
    "        flag_RGB = cv2.IMREAD_COLOR\n",
    "\n",
    "        path_depth = '../data/DepthImagesResize/'\n",
    "        key_depth = 'Depth_Information'\n",
    "        flag_depth = cv2.IMREAD_GRAYSCALE\n",
    "\n",
    "        for image_path_RGB in os.listdir(path_RGB):\n",
    "            if df.loc[df[key_RGB] == image_path_RGB][y_key].size > 0:\n",
    "                img_ID = image_path_RGB.strip(\".png\").strip(\"RGB_\")\n",
    "                y.append(df.loc[df[key_RGB] == image_path_RGB][y_key].item())\n",
    "                img_RGB = cv2.imread(path_RGB + image_path_RGB, flag_RGB)\n",
    "                img_RGB = cv2.resize(img_RGB, (250, 250))\n",
    "                image_path_depth = path_depth + \"Depth_\"+ img_ID + \".png\"\n",
    "                img_depth = cv2.imread(image_path_depth, flag_depth)\n",
    "                img_depth = cv2.resize(img_depth, (250,250))\n",
    "                img_combined = np.dstack((img_RGB, img_depth))\n",
    "                all_images.append(img_combined)\n",
    "    else:\n",
    "        if number == 1:\n",
    "            path = '../data/RGBImagesResize/'\n",
    "            key = 'RGB_Image'\n",
    "            flag = cv2.IMREAD_COLOR\n",
    "        else:\n",
    "            path = '../data/DepthImagesResize/'\n",
    "            key = 'Depth_Information'\n",
    "            flag = cv2.IMREAD_GRAYSCALE\n",
    "\n",
    "        for image_path in os.listdir(path):\n",
    "            if df.loc[df[key] == image_path][y_key].size > 0:\n",
    "                y.append(df.loc[df[key] == image_path][y_key].item())\n",
    "                img = cv2.imread(path + image_path, flag)\n",
    "                img = cv2.resize(img, (250, 250))\n",
    "                all_images.append(img)\n",
    "\n",
    "\n",
    "    X_train, X_test, y_train, y_test = train_test_split(np.array(all_images), y, test_size=0.25, shuffle=True)\n",
    "\n",
    "    if augment_data > 0:\n",
    "        X_train, y_train = augment(X_train, y_train, augment_data)\n",
    "\n",
    "    X_train = tf.convert_to_tensor(X_train)\n",
    "    X_test = tf.convert_to_tensor(X_test)\n",
    "    y_train = tf.convert_to_tensor(y_train)\n",
    "    y_test = tf.convert_to_tensor(y_test)\n",
    "\n",
    "    return X_train, y_train, X_test, y_test"
   ],
   "metadata": {
    "collapsed": false,
    "pycharm": {
     "name": "#%%\n"
    }
   }
  },
  {
   "cell_type": "markdown",
   "source": [
    "ResNet Implementation for regression: depth images height\n",
    "\n",
    "https://towardsdatascience.com/building-a-resnet-in-keras-e8f1322a49ba\n",
    "\n",
    "!!LET OP NIET RUNNEN ZONDER GPU!!"
   ],
   "metadata": {
    "collapsed": false,
    "pycharm": {
     "name": "#%% md\n"
    }
   }
  },
  {
   "cell_type": "code",
   "execution_count": 7,
   "outputs": [],
   "source": [
    "from tensorflow import Tensor\n",
    "from tensorflow.keras.layers import Input, Conv2D, ReLU, BatchNormalization, \\\n",
    "    Add, AveragePooling2D, Flatten, Dense\n",
    "from tensorflow.keras.models import Model"
   ],
   "metadata": {
    "collapsed": false,
    "pycharm": {
     "name": "#%%\n"
    }
   }
  },
  {
   "cell_type": "code",
   "execution_count": 8,
   "outputs": [],
   "source": [
    "def relu_bn(inputs: Tensor) -> Tensor:\n",
    "    relu = ReLU()(inputs)\n",
    "    bn = BatchNormalization()(relu)\n",
    "    return bn"
   ],
   "metadata": {
    "collapsed": false,
    "pycharm": {
     "name": "#%%\n"
    }
   }
  },
  {
   "cell_type": "code",
   "execution_count": 9,
   "outputs": [],
   "source": [
    "def residual_block(x: Tensor, downsample: bool, filters: int, kernel_size: int = 3) -> Tensor:\n",
    "    y = Conv2D(kernel_size=kernel_size,\n",
    "               strides=(1 if not downsample else 2),\n",
    "               filters=filters,\n",
    "               padding=\"same\")(x)\n",
    "    y = relu_bn(y)\n",
    "    y = Conv2D(kernel_size=kernel_size,\n",
    "               strides=1,\n",
    "               filters=filters,\n",
    "               padding=\"same\")(y)\n",
    "\n",
    "    if downsample:\n",
    "        x = Conv2D(kernel_size=1,\n",
    "                   strides=2,\n",
    "                   filters=filters,\n",
    "                   padding=\"same\")(x)\n",
    "    out = Add()([x, y])\n",
    "    out = relu_bn(out)\n",
    "    return out"
   ],
   "metadata": {
    "collapsed": false,
    "pycharm": {
     "name": "#%%\n"
    }
   }
  },
  {
   "cell_type": "code",
   "execution_count": 10,
   "outputs": [],
   "source": [
    "def create_res_net(input_shape, regression):\n",
    "    inputs = Input(shape=input_shape)\n",
    "    num_filters = 64\n",
    "\n",
    "    t = BatchNormalization()(inputs)\n",
    "    t = Conv2D(kernel_size=3,\n",
    "               strides=1,\n",
    "               filters=num_filters,\n",
    "               padding=\"same\")(t)\n",
    "    t = relu_bn(t)\n",
    "\n",
    "    num_blocks_list = [2, 5, 5, 2]\n",
    "    for i in range(len(num_blocks_list)):\n",
    "        num_blocks = num_blocks_list[i]\n",
    "        for j in range(num_blocks):\n",
    "            t = residual_block(t, downsample=(j == 0 and i != 0), filters=num_filters)\n",
    "        num_filters *= 2\n",
    "\n",
    "    t = AveragePooling2D(4)(t)\n",
    "    t = Flatten()(t)\n",
    "    outputs = Dense(19, activation='softmax')(t)\n",
    "\n",
    "    if regression:\n",
    "        outputs = Dense(1, activation='linear')(t)\n",
    "\n",
    "    model = Model(inputs, outputs)\n",
    "\n",
    "    if regression:\n",
    "        model.compile(\n",
    "            optimizer='adam',\n",
    "            loss='mean_squared_error',\n",
    "            metrics=['mean_absolute_percentage_error']\n",
    "        )\n",
    "    else:\n",
    "        model.compile(\n",
    "            optimizer='adam',\n",
    "            loss='sparse_categorical_crossentropy',\n",
    "            metrics=['accuracy']\n",
    "        )\n",
    "\n",
    "    return model"
   ],
   "metadata": {
    "collapsed": false,
    "pycharm": {
     "name": "#%%\n"
    }
   }
  },
  {
   "cell_type": "code",
   "execution_count": 11,
   "outputs": [],
   "source": [
    "from tensorflow.keras.callbacks import ModelCheckpoint, TensorBoard, EarlyStopping\n",
    "import datetime\n",
    "import os\n",
    "\n",
    "def fit_model(model, epochs, batch_size, X_train, y_train, X_test, y_test):\n",
    "    timestr = datetime.datetime.now().strftime(\"%Y%m%d-%H%M%S\")\n",
    "    name = 'res_net'+timestr\n",
    "\n",
    "    checkpoint_path = \"checkpoints/\"+name+\"/cp-{epoch:04d}.ckpt\"\n",
    "    checkpoint_dir = os.path.dirname(checkpoint_path)\n",
    "    os.system('mkdir {}'.format(checkpoint_dir))\n",
    "\n",
    "    cp_callback = ModelCheckpoint(\n",
    "        filepath=checkpoint_path,\n",
    "        verbose=0,\n",
    "        save_best_only=True,\n",
    "        monitor='val_loss',\n",
    "        mode='min'\n",
    "    )\n",
    "    tensorboard_callback = TensorBoard(\n",
    "        log_dir=f'tensorboard_logs/{name}',\n",
    "        histogram_freq=1\n",
    "    )\n",
    "    # early_stop_callback = EarlyStopping(\n",
    "    #     monitor='val_loss',\n",
    "    #     mode='min',\n",
    "    #     patience=10\n",
    "    # )\n",
    "\n",
    "    model.fit(\n",
    "        x=X_train,\n",
    "        y=y_train,\n",
    "        epochs=epochs,\n",
    "        verbose=1,\n",
    "        validation_data=(X_test, y_test),\n",
    "        batch_size=batch_size,\n",
    "        callbacks=[cp_callback, tensorboard_callback]\n",
    "    )"
   ],
   "metadata": {
    "collapsed": false,
    "pycharm": {
     "name": "#%%\n"
    }
   }
  },
  {
   "cell_type": "code",
   "execution_count": 12,
   "outputs": [],
   "source": [
    "model = create_res_net((250,250,3),True)\n",
    "X_train, y_train, X_test, y_test = prepare_data(1, 'Diameter', 0)"
   ],
   "metadata": {
    "collapsed": false,
    "pycharm": {
     "name": "#%%\n"
    }
   }
  },
  {
   "cell_type": "code",
   "execution_count": 14,
   "outputs": [
    {
     "name": "stdout",
     "output_type": "stream",
     "text": [
      "Epoch 1/100\n",
      "15/15 [==============================] - ETA: 0s - loss: 160.4766 - mean_absolute_percentage_error: 40.2802"
     ]
    },
    {
     "name": "stderr",
     "output_type": "stream",
     "text": [
      "WARNING:absl:Found untraced functions such as _jit_compiled_convolution_op, _jit_compiled_convolution_op, _jit_compiled_convolution_op, _jit_compiled_convolution_op, _jit_compiled_convolution_op while saving (showing 5 of 32). These functions will not be directly callable after loading.\n"
     ]
    },
    {
     "name": "stdout",
     "output_type": "stream",
     "text": [
      "INFO:tensorflow:Assets written to: checkpoints/res_net20221220-135423\\cp-0001.ckpt\\assets\n"
     ]
    },
    {
     "name": "stderr",
     "output_type": "stream",
     "text": [
      "INFO:tensorflow:Assets written to: checkpoints/res_net20221220-135423\\cp-0001.ckpt\\assets\n"
     ]
    },
    {
     "name": "stdout",
     "output_type": "stream",
     "text": [
      "15/15 [==============================] - 58s 3s/step - loss: 160.4766 - mean_absolute_percentage_error: 40.2802 - val_loss: 522995416170496.0000 - val_mean_absolute_percentage_error: 103469016.0000\n",
      "Epoch 2/100\n",
      "15/15 [==============================] - ETA: 0s - loss: 17.0243 - mean_absolute_percentage_error: 15.1390"
     ]
    },
    {
     "name": "stderr",
     "output_type": "stream",
     "text": [
      "WARNING:absl:Found untraced functions such as _jit_compiled_convolution_op, _jit_compiled_convolution_op, _jit_compiled_convolution_op, _jit_compiled_convolution_op, _jit_compiled_convolution_op while saving (showing 5 of 32). These functions will not be directly callable after loading.\n"
     ]
    },
    {
     "name": "stdout",
     "output_type": "stream",
     "text": [
      "INFO:tensorflow:Assets written to: checkpoints/res_net20221220-135423\\cp-0002.ckpt\\assets\n"
     ]
    },
    {
     "name": "stderr",
     "output_type": "stream",
     "text": [
      "INFO:tensorflow:Assets written to: checkpoints/res_net20221220-135423\\cp-0002.ckpt\\assets\n"
     ]
    },
    {
     "name": "stdout",
     "output_type": "stream",
     "text": [
      "15/15 [==============================] - 33s 2s/step - loss: 17.0243 - mean_absolute_percentage_error: 15.1390 - val_loss: 43095219503104.0000 - val_mean_absolute_percentage_error: 28794624.0000\n",
      "Epoch 3/100\n",
      "15/15 [==============================] - ETA: 0s - loss: 8.0379 - mean_absolute_percentage_error: 10.5856"
     ]
    },
    {
     "name": "stderr",
     "output_type": "stream",
     "text": [
      "WARNING:absl:Found untraced functions such as _jit_compiled_convolution_op, _jit_compiled_convolution_op, _jit_compiled_convolution_op, _jit_compiled_convolution_op, _jit_compiled_convolution_op while saving (showing 5 of 32). These functions will not be directly callable after loading.\n"
     ]
    },
    {
     "name": "stdout",
     "output_type": "stream",
     "text": [
      "INFO:tensorflow:Assets written to: checkpoints/res_net20221220-135423\\cp-0003.ckpt\\assets\n"
     ]
    },
    {
     "name": "stderr",
     "output_type": "stream",
     "text": [
      "INFO:tensorflow:Assets written to: checkpoints/res_net20221220-135423\\cp-0003.ckpt\\assets\n"
     ]
    },
    {
     "name": "stdout",
     "output_type": "stream",
     "text": [
      "15/15 [==============================] - 32s 2s/step - loss: 8.0379 - mean_absolute_percentage_error: 10.5856 - val_loss: 463574630400.0000 - val_mean_absolute_percentage_error: 2947081.0000\n",
      "Epoch 4/100\n",
      "15/15 [==============================] - ETA: 0s - loss: 5.7989 - mean_absolute_percentage_error: 8.7341"
     ]
    },
    {
     "name": "stderr",
     "output_type": "stream",
     "text": [
      "WARNING:absl:Found untraced functions such as _jit_compiled_convolution_op, _jit_compiled_convolution_op, _jit_compiled_convolution_op, _jit_compiled_convolution_op, _jit_compiled_convolution_op while saving (showing 5 of 32). These functions will not be directly callable after loading.\n"
     ]
    },
    {
     "name": "stdout",
     "output_type": "stream",
     "text": [
      "INFO:tensorflow:Assets written to: checkpoints/res_net20221220-135423\\cp-0004.ckpt\\assets\n"
     ]
    },
    {
     "name": "stderr",
     "output_type": "stream",
     "text": [
      "INFO:tensorflow:Assets written to: checkpoints/res_net20221220-135423\\cp-0004.ckpt\\assets\n"
     ]
    },
    {
     "name": "stdout",
     "output_type": "stream",
     "text": [
      "15/15 [==============================] - 32s 2s/step - loss: 5.7989 - mean_absolute_percentage_error: 8.7341 - val_loss: 1161517056.0000 - val_mean_absolute_percentage_error: 140343.0938\n",
      "Epoch 5/100\n",
      "15/15 [==============================] - ETA: 0s - loss: 8.0289 - mean_absolute_percentage_error: 10.2129"
     ]
    },
    {
     "name": "stderr",
     "output_type": "stream",
     "text": [
      "WARNING:absl:Found untraced functions such as _jit_compiled_convolution_op, _jit_compiled_convolution_op, _jit_compiled_convolution_op, _jit_compiled_convolution_op, _jit_compiled_convolution_op while saving (showing 5 of 32). These functions will not be directly callable after loading.\n"
     ]
    },
    {
     "name": "stdout",
     "output_type": "stream",
     "text": [
      "INFO:tensorflow:Assets written to: checkpoints/res_net20221220-135423\\cp-0005.ckpt\\assets\n"
     ]
    },
    {
     "name": "stderr",
     "output_type": "stream",
     "text": [
      "INFO:tensorflow:Assets written to: checkpoints/res_net20221220-135423\\cp-0005.ckpt\\assets\n"
     ]
    },
    {
     "name": "stdout",
     "output_type": "stream",
     "text": [
      "15/15 [==============================] - 32s 2s/step - loss: 8.0289 - mean_absolute_percentage_error: 10.2129 - val_loss: 43697412.0000 - val_mean_absolute_percentage_error: 23992.2344\n",
      "Epoch 6/100\n",
      "15/15 [==============================] - ETA: 0s - loss: 27.8855 - mean_absolute_percentage_error: 18.8836"
     ]
    },
    {
     "name": "stderr",
     "output_type": "stream",
     "text": [
      "WARNING:absl:Found untraced functions such as _jit_compiled_convolution_op, _jit_compiled_convolution_op, _jit_compiled_convolution_op, _jit_compiled_convolution_op, _jit_compiled_convolution_op while saving (showing 5 of 32). These functions will not be directly callable after loading.\n"
     ]
    },
    {
     "name": "stdout",
     "output_type": "stream",
     "text": [
      "INFO:tensorflow:Assets written to: checkpoints/res_net20221220-135423\\cp-0006.ckpt\\assets\n"
     ]
    },
    {
     "name": "stderr",
     "output_type": "stream",
     "text": [
      "INFO:tensorflow:Assets written to: checkpoints/res_net20221220-135423\\cp-0006.ckpt\\assets\n"
     ]
    },
    {
     "name": "stdout",
     "output_type": "stream",
     "text": [
      "15/15 [==============================] - 33s 2s/step - loss: 27.8855 - mean_absolute_percentage_error: 18.8836 - val_loss: 22423844.0000 - val_mean_absolute_percentage_error: 17955.4219\n",
      "Epoch 7/100\n",
      "15/15 [==============================] - ETA: 0s - loss: 11.1281 - mean_absolute_percentage_error: 12.7160"
     ]
    },
    {
     "name": "stderr",
     "output_type": "stream",
     "text": [
      "WARNING:absl:Found untraced functions such as _jit_compiled_convolution_op, _jit_compiled_convolution_op, _jit_compiled_convolution_op, _jit_compiled_convolution_op, _jit_compiled_convolution_op while saving (showing 5 of 32). These functions will not be directly callable after loading.\n"
     ]
    },
    {
     "name": "stdout",
     "output_type": "stream",
     "text": [
      "INFO:tensorflow:Assets written to: checkpoints/res_net20221220-135423\\cp-0007.ckpt\\assets\n"
     ]
    },
    {
     "name": "stderr",
     "output_type": "stream",
     "text": [
      "INFO:tensorflow:Assets written to: checkpoints/res_net20221220-135423\\cp-0007.ckpt\\assets\n"
     ]
    },
    {
     "name": "stdout",
     "output_type": "stream",
     "text": [
      "15/15 [==============================] - 33s 2s/step - loss: 11.1281 - mean_absolute_percentage_error: 12.7160 - val_loss: 230650.0781 - val_mean_absolute_percentage_error: 1876.2635\n",
      "Epoch 8/100\n",
      "15/15 [==============================] - ETA: 0s - loss: 8.1459 - mean_absolute_percentage_error: 10.1764"
     ]
    },
    {
     "name": "stderr",
     "output_type": "stream",
     "text": [
      "WARNING:absl:Found untraced functions such as _jit_compiled_convolution_op, _jit_compiled_convolution_op, _jit_compiled_convolution_op, _jit_compiled_convolution_op, _jit_compiled_convolution_op while saving (showing 5 of 32). These functions will not be directly callable after loading.\n"
     ]
    },
    {
     "name": "stdout",
     "output_type": "stream",
     "text": [
      "INFO:tensorflow:Assets written to: checkpoints/res_net20221220-135423\\cp-0008.ckpt\\assets\n"
     ]
    },
    {
     "name": "stderr",
     "output_type": "stream",
     "text": [
      "INFO:tensorflow:Assets written to: checkpoints/res_net20221220-135423\\cp-0008.ckpt\\assets\n"
     ]
    },
    {
     "name": "stdout",
     "output_type": "stream",
     "text": [
      "15/15 [==============================] - 33s 2s/step - loss: 8.1459 - mean_absolute_percentage_error: 10.1764 - val_loss: 113734.4844 - val_mean_absolute_percentage_error: 1214.4893\n",
      "Epoch 9/100\n",
      "15/15 [==============================] - ETA: 0s - loss: 9.4071 - mean_absolute_percentage_error: 11.6004"
     ]
    },
    {
     "name": "stderr",
     "output_type": "stream",
     "text": [
      "WARNING:absl:Found untraced functions such as _jit_compiled_convolution_op, _jit_compiled_convolution_op, _jit_compiled_convolution_op, _jit_compiled_convolution_op, _jit_compiled_convolution_op while saving (showing 5 of 32). These functions will not be directly callable after loading.\n"
     ]
    },
    {
     "name": "stdout",
     "output_type": "stream",
     "text": [
      "INFO:tensorflow:Assets written to: checkpoints/res_net20221220-135423\\cp-0009.ckpt\\assets\n"
     ]
    },
    {
     "name": "stderr",
     "output_type": "stream",
     "text": [
      "INFO:tensorflow:Assets written to: checkpoints/res_net20221220-135423\\cp-0009.ckpt\\assets\n"
     ]
    },
    {
     "name": "stdout",
     "output_type": "stream",
     "text": [
      "15/15 [==============================] - 33s 2s/step - loss: 9.4071 - mean_absolute_percentage_error: 11.6004 - val_loss: 18739.5547 - val_mean_absolute_percentage_error: 320.1593\n",
      "Epoch 10/100\n",
      "15/15 [==============================] - ETA: 0s - loss: 6.1921 - mean_absolute_percentage_error: 8.8731"
     ]
    },
    {
     "name": "stderr",
     "output_type": "stream",
     "text": [
      "WARNING:absl:Found untraced functions such as _jit_compiled_convolution_op, _jit_compiled_convolution_op, _jit_compiled_convolution_op, _jit_compiled_convolution_op, _jit_compiled_convolution_op while saving (showing 5 of 32). These functions will not be directly callable after loading.\n"
     ]
    },
    {
     "name": "stdout",
     "output_type": "stream",
     "text": [
      "INFO:tensorflow:Assets written to: checkpoints/res_net20221220-135423\\cp-0010.ckpt\\assets\n"
     ]
    },
    {
     "name": "stderr",
     "output_type": "stream",
     "text": [
      "INFO:tensorflow:Assets written to: checkpoints/res_net20221220-135423\\cp-0010.ckpt\\assets\n"
     ]
    },
    {
     "name": "stdout",
     "output_type": "stream",
     "text": [
      "15/15 [==============================] - 33s 2s/step - loss: 6.1921 - mean_absolute_percentage_error: 8.8731 - val_loss: 1888.6324 - val_mean_absolute_percentage_error: 147.4860\n",
      "Epoch 11/100\n",
      "15/15 [==============================] - ETA: 0s - loss: 7.4416 - mean_absolute_percentage_error: 10.2980"
     ]
    },
    {
     "name": "stderr",
     "output_type": "stream",
     "text": [
      "WARNING:absl:Found untraced functions such as _jit_compiled_convolution_op, _jit_compiled_convolution_op, _jit_compiled_convolution_op, _jit_compiled_convolution_op, _jit_compiled_convolution_op while saving (showing 5 of 32). These functions will not be directly callable after loading.\n"
     ]
    },
    {
     "name": "stdout",
     "output_type": "stream",
     "text": [
      "INFO:tensorflow:Assets written to: checkpoints/res_net20221220-135423\\cp-0011.ckpt\\assets\n"
     ]
    },
    {
     "name": "stderr",
     "output_type": "stream",
     "text": [
      "INFO:tensorflow:Assets written to: checkpoints/res_net20221220-135423\\cp-0011.ckpt\\assets\n"
     ]
    },
    {
     "name": "stdout",
     "output_type": "stream",
     "text": [
      "15/15 [==============================] - 33s 2s/step - loss: 7.4416 - mean_absolute_percentage_error: 10.2980 - val_loss: 1436.6289 - val_mean_absolute_percentage_error: 95.4568\n",
      "Epoch 12/100\n",
      "15/15 [==============================] - ETA: 0s - loss: 5.4482 - mean_absolute_percentage_error: 8.6839"
     ]
    },
    {
     "name": "stderr",
     "output_type": "stream",
     "text": [
      "WARNING:absl:Found untraced functions such as _jit_compiled_convolution_op, _jit_compiled_convolution_op, _jit_compiled_convolution_op, _jit_compiled_convolution_op, _jit_compiled_convolution_op while saving (showing 5 of 32). These functions will not be directly callable after loading.\n"
     ]
    },
    {
     "name": "stdout",
     "output_type": "stream",
     "text": [
      "INFO:tensorflow:Assets written to: checkpoints/res_net20221220-135423\\cp-0012.ckpt\\assets\n"
     ]
    },
    {
     "name": "stderr",
     "output_type": "stream",
     "text": [
      "INFO:tensorflow:Assets written to: checkpoints/res_net20221220-135423\\cp-0012.ckpt\\assets\n"
     ]
    },
    {
     "name": "stdout",
     "output_type": "stream",
     "text": [
      "15/15 [==============================] - 33s 2s/step - loss: 5.4482 - mean_absolute_percentage_error: 8.6839 - val_loss: 475.8232 - val_mean_absolute_percentage_error: 61.4967\n",
      "Epoch 13/100\n",
      "15/15 [==============================] - ETA: 0s - loss: 5.8622 - mean_absolute_percentage_error: 9.1049"
     ]
    },
    {
     "name": "stderr",
     "output_type": "stream",
     "text": [
      "WARNING:absl:Found untraced functions such as _jit_compiled_convolution_op, _jit_compiled_convolution_op, _jit_compiled_convolution_op, _jit_compiled_convolution_op, _jit_compiled_convolution_op while saving (showing 5 of 32). These functions will not be directly callable after loading.\n"
     ]
    },
    {
     "name": "stdout",
     "output_type": "stream",
     "text": [
      "INFO:tensorflow:Assets written to: checkpoints/res_net20221220-135423\\cp-0013.ckpt\\assets\n"
     ]
    },
    {
     "name": "stderr",
     "output_type": "stream",
     "text": [
      "INFO:tensorflow:Assets written to: checkpoints/res_net20221220-135423\\cp-0013.ckpt\\assets\n"
     ]
    },
    {
     "name": "stdout",
     "output_type": "stream",
     "text": [
      "15/15 [==============================] - 33s 2s/step - loss: 5.8622 - mean_absolute_percentage_error: 9.1049 - val_loss: 216.3946 - val_mean_absolute_percentage_error: 48.4562\n",
      "Epoch 14/100\n",
      "15/15 [==============================] - ETA: 0s - loss: 5.3995 - mean_absolute_percentage_error: 8.5627"
     ]
    },
    {
     "name": "stderr",
     "output_type": "stream",
     "text": [
      "WARNING:absl:Found untraced functions such as _jit_compiled_convolution_op, _jit_compiled_convolution_op, _jit_compiled_convolution_op, _jit_compiled_convolution_op, _jit_compiled_convolution_op while saving (showing 5 of 32). These functions will not be directly callable after loading.\n"
     ]
    },
    {
     "name": "stdout",
     "output_type": "stream",
     "text": [
      "INFO:tensorflow:Assets written to: checkpoints/res_net20221220-135423\\cp-0014.ckpt\\assets\n"
     ]
    },
    {
     "name": "stderr",
     "output_type": "stream",
     "text": [
      "INFO:tensorflow:Assets written to: checkpoints/res_net20221220-135423\\cp-0014.ckpt\\assets\n"
     ]
    },
    {
     "name": "stdout",
     "output_type": "stream",
     "text": [
      "15/15 [==============================] - 33s 2s/step - loss: 5.3995 - mean_absolute_percentage_error: 8.5627 - val_loss: 109.2498 - val_mean_absolute_percentage_error: 36.4471\n",
      "Epoch 15/100\n",
      "15/15 [==============================] - ETA: 0s - loss: 4.8649 - mean_absolute_percentage_error: 8.2400"
     ]
    },
    {
     "name": "stderr",
     "output_type": "stream",
     "text": [
      "WARNING:absl:Found untraced functions such as _jit_compiled_convolution_op, _jit_compiled_convolution_op, _jit_compiled_convolution_op, _jit_compiled_convolution_op, _jit_compiled_convolution_op while saving (showing 5 of 32). These functions will not be directly callable after loading.\n"
     ]
    },
    {
     "name": "stdout",
     "output_type": "stream",
     "text": [
      "INFO:tensorflow:Assets written to: checkpoints/res_net20221220-135423\\cp-0015.ckpt\\assets\n"
     ]
    },
    {
     "name": "stderr",
     "output_type": "stream",
     "text": [
      "INFO:tensorflow:Assets written to: checkpoints/res_net20221220-135423\\cp-0015.ckpt\\assets\n"
     ]
    },
    {
     "name": "stdout",
     "output_type": "stream",
     "text": [
      "15/15 [==============================] - 33s 2s/step - loss: 4.8649 - mean_absolute_percentage_error: 8.2400 - val_loss: 74.8393 - val_mean_absolute_percentage_error: 35.9453\n",
      "Epoch 16/100\n",
      "15/15 [==============================] - ETA: 0s - loss: 5.1521 - mean_absolute_percentage_error: 8.3200"
     ]
    },
    {
     "name": "stderr",
     "output_type": "stream",
     "text": [
      "WARNING:absl:Found untraced functions such as _jit_compiled_convolution_op, _jit_compiled_convolution_op, _jit_compiled_convolution_op, _jit_compiled_convolution_op, _jit_compiled_convolution_op while saving (showing 5 of 32). These functions will not be directly callable after loading.\n"
     ]
    },
    {
     "name": "stdout",
     "output_type": "stream",
     "text": [
      "INFO:tensorflow:Assets written to: checkpoints/res_net20221220-135423\\cp-0016.ckpt\\assets\n"
     ]
    },
    {
     "name": "stderr",
     "output_type": "stream",
     "text": [
      "INFO:tensorflow:Assets written to: checkpoints/res_net20221220-135423\\cp-0016.ckpt\\assets\n"
     ]
    },
    {
     "name": "stdout",
     "output_type": "stream",
     "text": [
      "15/15 [==============================] - 33s 2s/step - loss: 5.1521 - mean_absolute_percentage_error: 8.3200 - val_loss: 73.9633 - val_mean_absolute_percentage_error: 35.0991\n",
      "Epoch 17/100\n",
      "15/15 [==============================] - ETA: 0s - loss: 4.4892 - mean_absolute_percentage_error: 7.6971"
     ]
    },
    {
     "name": "stderr",
     "output_type": "stream",
     "text": [
      "WARNING:absl:Found untraced functions such as _jit_compiled_convolution_op, _jit_compiled_convolution_op, _jit_compiled_convolution_op, _jit_compiled_convolution_op, _jit_compiled_convolution_op while saving (showing 5 of 32). These functions will not be directly callable after loading.\n"
     ]
    },
    {
     "name": "stdout",
     "output_type": "stream",
     "text": [
      "INFO:tensorflow:Assets written to: checkpoints/res_net20221220-135423\\cp-0017.ckpt\\assets\n"
     ]
    },
    {
     "name": "stderr",
     "output_type": "stream",
     "text": [
      "INFO:tensorflow:Assets written to: checkpoints/res_net20221220-135423\\cp-0017.ckpt\\assets\n"
     ]
    },
    {
     "name": "stdout",
     "output_type": "stream",
     "text": [
      "15/15 [==============================] - 33s 2s/step - loss: 4.4892 - mean_absolute_percentage_error: 7.6971 - val_loss: 47.2586 - val_mean_absolute_percentage_error: 28.7986\n",
      "Epoch 18/100\n",
      "15/15 [==============================] - ETA: 0s - loss: 3.2361 - mean_absolute_percentage_error: 6.5922"
     ]
    },
    {
     "name": "stderr",
     "output_type": "stream",
     "text": [
      "WARNING:absl:Found untraced functions such as _jit_compiled_convolution_op, _jit_compiled_convolution_op, _jit_compiled_convolution_op, _jit_compiled_convolution_op, _jit_compiled_convolution_op while saving (showing 5 of 32). These functions will not be directly callable after loading.\n"
     ]
    },
    {
     "name": "stdout",
     "output_type": "stream",
     "text": [
      "INFO:tensorflow:Assets written to: checkpoints/res_net20221220-135423\\cp-0018.ckpt\\assets\n"
     ]
    },
    {
     "name": "stderr",
     "output_type": "stream",
     "text": [
      "INFO:tensorflow:Assets written to: checkpoints/res_net20221220-135423\\cp-0018.ckpt\\assets\n"
     ]
    },
    {
     "name": "stdout",
     "output_type": "stream",
     "text": [
      "15/15 [==============================] - 33s 2s/step - loss: 3.2361 - mean_absolute_percentage_error: 6.5922 - val_loss: 20.4131 - val_mean_absolute_percentage_error: 18.8889\n",
      "Epoch 19/100\n",
      "15/15 [==============================] - 23s 2s/step - loss: 3.4250 - mean_absolute_percentage_error: 6.9083 - val_loss: 21.2508 - val_mean_absolute_percentage_error: 20.2404\n",
      "Epoch 20/100\n",
      "15/15 [==============================] - 23s 2s/step - loss: 3.6190 - mean_absolute_percentage_error: 6.8986 - val_loss: 26.7883 - val_mean_absolute_percentage_error: 22.5743\n",
      "Epoch 21/100\n",
      "15/15 [==============================] - ETA: 0s - loss: 3.1934 - mean_absolute_percentage_error: 6.7246"
     ]
    },
    {
     "name": "stderr",
     "output_type": "stream",
     "text": [
      "WARNING:absl:Found untraced functions such as _jit_compiled_convolution_op, _jit_compiled_convolution_op, _jit_compiled_convolution_op, _jit_compiled_convolution_op, _jit_compiled_convolution_op while saving (showing 5 of 32). These functions will not be directly callable after loading.\n"
     ]
    },
    {
     "name": "stdout",
     "output_type": "stream",
     "text": [
      "INFO:tensorflow:Assets written to: checkpoints/res_net20221220-135423\\cp-0021.ckpt\\assets\n"
     ]
    },
    {
     "name": "stderr",
     "output_type": "stream",
     "text": [
      "INFO:tensorflow:Assets written to: checkpoints/res_net20221220-135423\\cp-0021.ckpt\\assets\n"
     ]
    },
    {
     "name": "stdout",
     "output_type": "stream",
     "text": [
      "15/15 [==============================] - 33s 2s/step - loss: 3.1934 - mean_absolute_percentage_error: 6.7246 - val_loss: 14.2621 - val_mean_absolute_percentage_error: 15.4754\n",
      "Epoch 22/100\n",
      "15/15 [==============================] - 23s 2s/step - loss: 3.1977 - mean_absolute_percentage_error: 6.8229 - val_loss: 16.5044 - val_mean_absolute_percentage_error: 17.2672\n",
      "Epoch 23/100\n",
      "15/15 [==============================] - 23s 2s/step - loss: 4.4665 - mean_absolute_percentage_error: 7.6121 - val_loss: 17.7119 - val_mean_absolute_percentage_error: 18.0722\n",
      "Epoch 24/100\n",
      "15/15 [==============================] - ETA: 0s - loss: 4.9587 - mean_absolute_percentage_error: 8.0699"
     ]
    },
    {
     "name": "stderr",
     "output_type": "stream",
     "text": [
      "WARNING:absl:Found untraced functions such as _jit_compiled_convolution_op, _jit_compiled_convolution_op, _jit_compiled_convolution_op, _jit_compiled_convolution_op, _jit_compiled_convolution_op while saving (showing 5 of 32). These functions will not be directly callable after loading.\n"
     ]
    },
    {
     "name": "stdout",
     "output_type": "stream",
     "text": [
      "INFO:tensorflow:Assets written to: checkpoints/res_net20221220-135423\\cp-0024.ckpt\\assets\n"
     ]
    },
    {
     "name": "stderr",
     "output_type": "stream",
     "text": [
      "INFO:tensorflow:Assets written to: checkpoints/res_net20221220-135423\\cp-0024.ckpt\\assets\n"
     ]
    },
    {
     "name": "stdout",
     "output_type": "stream",
     "text": [
      "15/15 [==============================] - 33s 2s/step - loss: 4.9587 - mean_absolute_percentage_error: 8.0699 - val_loss: 9.7440 - val_mean_absolute_percentage_error: 11.9612\n",
      "Epoch 25/100\n",
      "15/15 [==============================] - ETA: 0s - loss: 4.2239 - mean_absolute_percentage_error: 7.0323"
     ]
    },
    {
     "name": "stderr",
     "output_type": "stream",
     "text": [
      "WARNING:absl:Found untraced functions such as _jit_compiled_convolution_op, _jit_compiled_convolution_op, _jit_compiled_convolution_op, _jit_compiled_convolution_op, _jit_compiled_convolution_op while saving (showing 5 of 32). These functions will not be directly callable after loading.\n"
     ]
    },
    {
     "name": "stdout",
     "output_type": "stream",
     "text": [
      "INFO:tensorflow:Assets written to: checkpoints/res_net20221220-135423\\cp-0025.ckpt\\assets\n"
     ]
    },
    {
     "name": "stderr",
     "output_type": "stream",
     "text": [
      "INFO:tensorflow:Assets written to: checkpoints/res_net20221220-135423\\cp-0025.ckpt\\assets\n"
     ]
    },
    {
     "name": "stdout",
     "output_type": "stream",
     "text": [
      "15/15 [==============================] - 34s 2s/step - loss: 4.2239 - mean_absolute_percentage_error: 7.0323 - val_loss: 7.7352 - val_mean_absolute_percentage_error: 9.2688\n",
      "Epoch 26/100\n",
      "15/15 [==============================] - ETA: 0s - loss: 3.2976 - mean_absolute_percentage_error: 6.5801"
     ]
    },
    {
     "name": "stderr",
     "output_type": "stream",
     "text": [
      "WARNING:absl:Found untraced functions such as _jit_compiled_convolution_op, _jit_compiled_convolution_op, _jit_compiled_convolution_op, _jit_compiled_convolution_op, _jit_compiled_convolution_op while saving (showing 5 of 32). These functions will not be directly callable after loading.\n"
     ]
    },
    {
     "name": "stdout",
     "output_type": "stream",
     "text": [
      "INFO:tensorflow:Assets written to: checkpoints/res_net20221220-135423\\cp-0026.ckpt\\assets\n"
     ]
    },
    {
     "name": "stderr",
     "output_type": "stream",
     "text": [
      "INFO:tensorflow:Assets written to: checkpoints/res_net20221220-135423\\cp-0026.ckpt\\assets\n"
     ]
    },
    {
     "name": "stdout",
     "output_type": "stream",
     "text": [
      "15/15 [==============================] - 33s 2s/step - loss: 3.2976 - mean_absolute_percentage_error: 6.5801 - val_loss: 6.2091 - val_mean_absolute_percentage_error: 8.4151\n",
      "Epoch 27/100\n",
      "15/15 [==============================] - 23s 2s/step - loss: 3.3119 - mean_absolute_percentage_error: 6.3910 - val_loss: 9.3124 - val_mean_absolute_percentage_error: 12.4223\n",
      "Epoch 28/100\n",
      "15/15 [==============================] - 23s 2s/step - loss: 3.2992 - mean_absolute_percentage_error: 6.6221 - val_loss: 7.5607 - val_mean_absolute_percentage_error: 9.3902\n",
      "Epoch 29/100\n",
      "15/15 [==============================] - 23s 2s/step - loss: 3.2630 - mean_absolute_percentage_error: 6.6324 - val_loss: 7.4708 - val_mean_absolute_percentage_error: 9.9915\n",
      "Epoch 30/100\n",
      "15/15 [==============================] - ETA: 0s - loss: 3.3876 - mean_absolute_percentage_error: 6.7785"
     ]
    },
    {
     "name": "stderr",
     "output_type": "stream",
     "text": [
      "WARNING:absl:Found untraced functions such as _jit_compiled_convolution_op, _jit_compiled_convolution_op, _jit_compiled_convolution_op, _jit_compiled_convolution_op, _jit_compiled_convolution_op while saving (showing 5 of 32). These functions will not be directly callable after loading.\n"
     ]
    },
    {
     "name": "stdout",
     "output_type": "stream",
     "text": [
      "INFO:tensorflow:Assets written to: checkpoints/res_net20221220-135423\\cp-0030.ckpt\\assets\n"
     ]
    },
    {
     "name": "stderr",
     "output_type": "stream",
     "text": [
      "INFO:tensorflow:Assets written to: checkpoints/res_net20221220-135423\\cp-0030.ckpt\\assets\n"
     ]
    },
    {
     "name": "stdout",
     "output_type": "stream",
     "text": [
      "15/15 [==============================] - 33s 2s/step - loss: 3.3876 - mean_absolute_percentage_error: 6.7785 - val_loss: 5.9010 - val_mean_absolute_percentage_error: 8.7941\n",
      "Epoch 31/100\n",
      "15/15 [==============================] - 23s 2s/step - loss: 3.2336 - mean_absolute_percentage_error: 6.3365 - val_loss: 7.9636 - val_mean_absolute_percentage_error: 10.0576\n",
      "Epoch 32/100\n",
      "15/15 [==============================] - 23s 2s/step - loss: 2.9204 - mean_absolute_percentage_error: 6.4825 - val_loss: 7.1068 - val_mean_absolute_percentage_error: 8.8967\n",
      "Epoch 33/100\n",
      "15/15 [==============================] - 23s 2s/step - loss: 3.7075 - mean_absolute_percentage_error: 7.2498 - val_loss: 10.3833 - val_mean_absolute_percentage_error: 11.1806\n",
      "Epoch 34/100\n",
      "15/15 [==============================] - 23s 2s/step - loss: 3.0928 - mean_absolute_percentage_error: 6.3123 - val_loss: 9.3904 - val_mean_absolute_percentage_error: 10.3927\n",
      "Epoch 35/100\n",
      "15/15 [==============================] - 23s 2s/step - loss: 3.5212 - mean_absolute_percentage_error: 6.7328 - val_loss: 6.8244 - val_mean_absolute_percentage_error: 9.0682\n",
      "Epoch 36/100\n",
      "15/15 [==============================] - 24s 2s/step - loss: 5.2872 - mean_absolute_percentage_error: 8.5649 - val_loss: 9.0340 - val_mean_absolute_percentage_error: 10.6111\n",
      "Epoch 37/100\n",
      "15/15 [==============================] - 23s 2s/step - loss: 4.0459 - mean_absolute_percentage_error: 7.4108 - val_loss: 7.6294 - val_mean_absolute_percentage_error: 9.9667\n",
      "Epoch 38/100\n",
      "15/15 [==============================] - 23s 2s/step - loss: 2.7591 - mean_absolute_percentage_error: 6.1462 - val_loss: 6.7402 - val_mean_absolute_percentage_error: 8.8924\n",
      "Epoch 39/100\n",
      "15/15 [==============================] - 23s 2s/step - loss: 3.6550 - mean_absolute_percentage_error: 7.1917 - val_loss: 6.0363 - val_mean_absolute_percentage_error: 8.5237\n",
      "Epoch 40/100\n",
      "15/15 [==============================] - 24s 2s/step - loss: 3.6670 - mean_absolute_percentage_error: 7.0833 - val_loss: 7.6779 - val_mean_absolute_percentage_error: 9.9236\n",
      "Epoch 41/100\n",
      "15/15 [==============================] - 23s 2s/step - loss: 3.6437 - mean_absolute_percentage_error: 6.9181 - val_loss: 9.9950 - val_mean_absolute_percentage_error: 12.0261\n",
      "Epoch 42/100\n",
      "15/15 [==============================] - 23s 2s/step - loss: 6.2017 - mean_absolute_percentage_error: 9.1600 - val_loss: 7.0485 - val_mean_absolute_percentage_error: 8.7604\n",
      "Epoch 43/100\n",
      "15/15 [==============================] - 23s 2s/step - loss: 4.8544 - mean_absolute_percentage_error: 8.3224 - val_loss: 12.4768 - val_mean_absolute_percentage_error: 13.2497\n",
      "Epoch 44/100\n",
      "15/15 [==============================] - 23s 2s/step - loss: 4.0951 - mean_absolute_percentage_error: 7.1409 - val_loss: 7.3094 - val_mean_absolute_percentage_error: 9.5720\n",
      "Epoch 45/100\n",
      "15/15 [==============================] - 23s 2s/step - loss: 4.1361 - mean_absolute_percentage_error: 7.5190 - val_loss: 7.1192 - val_mean_absolute_percentage_error: 9.1262\n",
      "Epoch 46/100\n",
      "15/15 [==============================] - 23s 2s/step - loss: 3.5999 - mean_absolute_percentage_error: 7.1647 - val_loss: 9.6982 - val_mean_absolute_percentage_error: 10.7782\n",
      "Epoch 47/100\n",
      "15/15 [==============================] - 24s 2s/step - loss: 3.5457 - mean_absolute_percentage_error: 6.5622 - val_loss: 19.6318 - val_mean_absolute_percentage_error: 15.3110\n",
      "Epoch 48/100\n",
      "15/15 [==============================] - 23s 2s/step - loss: 5.7961 - mean_absolute_percentage_error: 8.7014 - val_loss: 14.2546 - val_mean_absolute_percentage_error: 15.3077\n",
      "Epoch 49/100\n",
      "15/15 [==============================] - 23s 2s/step - loss: 6.2380 - mean_absolute_percentage_error: 9.2973 - val_loss: 14.9383 - val_mean_absolute_percentage_error: 13.0407\n",
      "Epoch 50/100\n",
      "15/15 [==============================] - 23s 2s/step - loss: 3.6780 - mean_absolute_percentage_error: 6.8214 - val_loss: 10.8879 - val_mean_absolute_percentage_error: 10.7076\n",
      "Epoch 51/100\n",
      "15/15 [==============================] - 23s 2s/step - loss: 3.4944 - mean_absolute_percentage_error: 6.6122 - val_loss: 9.1849 - val_mean_absolute_percentage_error: 10.7733\n",
      "Epoch 52/100\n",
      "15/15 [==============================] - 24s 2s/step - loss: 3.0524 - mean_absolute_percentage_error: 6.5826 - val_loss: 6.3130 - val_mean_absolute_percentage_error: 8.3859\n",
      "Epoch 53/100\n",
      "15/15 [==============================] - 23s 2s/step - loss: 2.8715 - mean_absolute_percentage_error: 6.1903 - val_loss: 13.3088 - val_mean_absolute_percentage_error: 12.0031\n",
      "Epoch 54/100\n",
      "15/15 [==============================] - 23s 2s/step - loss: 4.4226 - mean_absolute_percentage_error: 7.6278 - val_loss: 8.8489 - val_mean_absolute_percentage_error: 9.6782\n",
      "Epoch 55/100\n",
      "15/15 [==============================] - 23s 2s/step - loss: 3.6309 - mean_absolute_percentage_error: 6.9178 - val_loss: 8.8328 - val_mean_absolute_percentage_error: 11.7371\n",
      "Epoch 56/100\n",
      "15/15 [==============================] - 23s 2s/step - loss: 4.3546 - mean_absolute_percentage_error: 7.6086 - val_loss: 10.7730 - val_mean_absolute_percentage_error: 11.7198\n",
      "Epoch 57/100\n",
      "15/15 [==============================] - 23s 2s/step - loss: 4.0550 - mean_absolute_percentage_error: 7.3805 - val_loss: 7.9811 - val_mean_absolute_percentage_error: 10.8127\n",
      "Epoch 58/100\n",
      "15/15 [==============================] - 23s 2s/step - loss: 2.2877 - mean_absolute_percentage_error: 5.7028 - val_loss: 9.0653 - val_mean_absolute_percentage_error: 10.8615\n",
      "Epoch 59/100\n",
      "15/15 [==============================] - 23s 2s/step - loss: 2.7492 - mean_absolute_percentage_error: 6.2004 - val_loss: 8.6726 - val_mean_absolute_percentage_error: 9.9841\n",
      "Epoch 60/100\n",
      "15/15 [==============================] - 23s 2s/step - loss: 2.0902 - mean_absolute_percentage_error: 5.3989 - val_loss: 6.4231 - val_mean_absolute_percentage_error: 8.9215\n",
      "Epoch 61/100\n",
      "15/15 [==============================] - 23s 2s/step - loss: 2.5023 - mean_absolute_percentage_error: 5.8087 - val_loss: 18.6939 - val_mean_absolute_percentage_error: 14.9718\n",
      "Epoch 62/100\n",
      "15/15 [==============================] - 23s 2s/step - loss: 2.1210 - mean_absolute_percentage_error: 5.4429 - val_loss: 9.4873 - val_mean_absolute_percentage_error: 10.3388\n",
      "Epoch 63/100\n",
      "15/15 [==============================] - 24s 2s/step - loss: 3.2326 - mean_absolute_percentage_error: 6.6408 - val_loss: 7.9465 - val_mean_absolute_percentage_error: 9.5260\n",
      "Epoch 64/100\n",
      "15/15 [==============================] - 24s 2s/step - loss: 3.7250 - mean_absolute_percentage_error: 6.8264 - val_loss: 24.7905 - val_mean_absolute_percentage_error: 18.2553\n",
      "Epoch 65/100\n",
      "15/15 [==============================] - 23s 2s/step - loss: 7.1288 - mean_absolute_percentage_error: 9.5896 - val_loss: 11.7499 - val_mean_absolute_percentage_error: 12.6602\n",
      "Epoch 66/100\n",
      "15/15 [==============================] - 23s 2s/step - loss: 6.9919 - mean_absolute_percentage_error: 9.5601 - val_loss: 37.5275 - val_mean_absolute_percentage_error: 20.7755\n",
      "Epoch 67/100\n",
      "15/15 [==============================] - 23s 2s/step - loss: 9.5880 - mean_absolute_percentage_error: 11.4461 - val_loss: 7.8718 - val_mean_absolute_percentage_error: 9.5410\n",
      "Epoch 68/100\n",
      "15/15 [==============================] - 23s 2s/step - loss: 13.7347 - mean_absolute_percentage_error: 12.7463 - val_loss: 110.2778 - val_mean_absolute_percentage_error: 31.6722\n",
      "Epoch 69/100\n",
      "15/15 [==============================] - 23s 2s/step - loss: 9.5727 - mean_absolute_percentage_error: 10.1566 - val_loss: 35.1823 - val_mean_absolute_percentage_error: 17.6301\n",
      "Epoch 70/100\n",
      "15/15 [==============================] - 23s 2s/step - loss: 5.8313 - mean_absolute_percentage_error: 8.6538 - val_loss: 36.2516 - val_mean_absolute_percentage_error: 19.6653\n",
      "Epoch 71/100\n",
      "15/15 [==============================] - 23s 2s/step - loss: 6.3451 - mean_absolute_percentage_error: 8.6163 - val_loss: 220.1765 - val_mean_absolute_percentage_error: 49.7057\n",
      "Epoch 72/100\n",
      "15/15 [==============================] - 24s 2s/step - loss: 7.9719 - mean_absolute_percentage_error: 10.8597 - val_loss: 125.6729 - val_mean_absolute_percentage_error: 32.3573\n",
      "Epoch 73/100\n",
      "15/15 [==============================] - 23s 2s/step - loss: 4.6611 - mean_absolute_percentage_error: 7.4300 - val_loss: 39.3724 - val_mean_absolute_percentage_error: 20.5949\n",
      "Epoch 74/100\n",
      "15/15 [==============================] - 24s 2s/step - loss: 3.2995 - mean_absolute_percentage_error: 6.5123 - val_loss: 27.1038 - val_mean_absolute_percentage_error: 19.5665\n",
      "Epoch 75/100\n",
      "15/15 [==============================] - 23s 2s/step - loss: 3.0869 - mean_absolute_percentage_error: 6.6060 - val_loss: 41.4562 - val_mean_absolute_percentage_error: 21.2765\n",
      "Epoch 76/100\n",
      "15/15 [==============================] - 23s 2s/step - loss: 2.3605 - mean_absolute_percentage_error: 5.6573 - val_loss: 21.0866 - val_mean_absolute_percentage_error: 14.4913\n",
      "Epoch 77/100\n",
      "15/15 [==============================] - 23s 2s/step - loss: 1.9201 - mean_absolute_percentage_error: 5.2195 - val_loss: 20.4693 - val_mean_absolute_percentage_error: 15.8874\n",
      "Epoch 78/100\n",
      "15/15 [==============================] - 23s 2s/step - loss: 2.6648 - mean_absolute_percentage_error: 5.9816 - val_loss: 8.3229 - val_mean_absolute_percentage_error: 9.6856\n",
      "Epoch 79/100\n",
      "15/15 [==============================] - 23s 2s/step - loss: 2.2537 - mean_absolute_percentage_error: 5.4388 - val_loss: 7.1057 - val_mean_absolute_percentage_error: 8.9663\n",
      "Epoch 80/100\n",
      "15/15 [==============================] - 23s 2s/step - loss: 2.3176 - mean_absolute_percentage_error: 5.5601 - val_loss: 7.3508 - val_mean_absolute_percentage_error: 8.8425\n",
      "Epoch 81/100\n",
      "15/15 [==============================] - 23s 2s/step - loss: 2.8251 - mean_absolute_percentage_error: 6.2720 - val_loss: 8.3829 - val_mean_absolute_percentage_error: 9.6393\n",
      "Epoch 82/100\n",
      "15/15 [==============================] - 23s 2s/step - loss: 3.1369 - mean_absolute_percentage_error: 6.1809 - val_loss: 7.3917 - val_mean_absolute_percentage_error: 8.9971\n",
      "Epoch 83/100\n",
      "15/15 [==============================] - 23s 2s/step - loss: 4.9519 - mean_absolute_percentage_error: 8.0399 - val_loss: 7.7620 - val_mean_absolute_percentage_error: 10.1694\n",
      "Epoch 84/100\n",
      "15/15 [==============================] - 23s 2s/step - loss: 4.2808 - mean_absolute_percentage_error: 7.2859 - val_loss: 25.5235 - val_mean_absolute_percentage_error: 16.5231\n",
      "Epoch 85/100\n",
      "15/15 [==============================] - 23s 2s/step - loss: 5.3652 - mean_absolute_percentage_error: 8.1339 - val_loss: 41.4497 - val_mean_absolute_percentage_error: 21.9137\n",
      "Epoch 86/100\n",
      "15/15 [==============================] - 24s 2s/step - loss: 6.3662 - mean_absolute_percentage_error: 8.8991 - val_loss: 13.5352 - val_mean_absolute_percentage_error: 15.7228\n",
      "Epoch 87/100\n",
      "15/15 [==============================] - 23s 2s/step - loss: 3.7788 - mean_absolute_percentage_error: 7.0609 - val_loss: 12.4005 - val_mean_absolute_percentage_error: 14.4482\n",
      "Epoch 88/100\n",
      "15/15 [==============================] - 23s 2s/step - loss: 3.3194 - mean_absolute_percentage_error: 6.5719 - val_loss: 9.0258 - val_mean_absolute_percentage_error: 11.3846\n",
      "Epoch 89/100\n",
      "15/15 [==============================] - 23s 2s/step - loss: 2.2722 - mean_absolute_percentage_error: 5.6693 - val_loss: 9.5243 - val_mean_absolute_percentage_error: 10.3911\n",
      "Epoch 90/100\n",
      "15/15 [==============================] - 23s 2s/step - loss: 1.8024 - mean_absolute_percentage_error: 4.5803 - val_loss: 6.4827 - val_mean_absolute_percentage_error: 9.3638\n",
      "Epoch 91/100\n",
      "15/15 [==============================] - 23s 2s/step - loss: 1.8081 - mean_absolute_percentage_error: 5.0572 - val_loss: 6.8396 - val_mean_absolute_percentage_error: 8.8560\n",
      "Epoch 92/100\n",
      "15/15 [==============================] - 23s 2s/step - loss: 2.0419 - mean_absolute_percentage_error: 5.1337 - val_loss: 7.1935 - val_mean_absolute_percentage_error: 9.6739\n",
      "Epoch 93/100\n",
      "15/15 [==============================] - 23s 2s/step - loss: 1.7656 - mean_absolute_percentage_error: 4.8278 - val_loss: 9.4383 - val_mean_absolute_percentage_error: 10.6455\n",
      "Epoch 94/100\n",
      "15/15 [==============================] - 23s 2s/step - loss: 1.9632 - mean_absolute_percentage_error: 4.7691 - val_loss: 6.5240 - val_mean_absolute_percentage_error: 9.1215\n",
      "Epoch 95/100\n",
      "15/15 [==============================] - 23s 2s/step - loss: 1.3384 - mean_absolute_percentage_error: 4.0460 - val_loss: 7.1441 - val_mean_absolute_percentage_error: 9.7792\n",
      "Epoch 96/100\n",
      "15/15 [==============================] - 23s 2s/step - loss: 1.3212 - mean_absolute_percentage_error: 4.2110 - val_loss: 6.3806 - val_mean_absolute_percentage_error: 8.6313\n",
      "Epoch 97/100\n",
      "15/15 [==============================] - 23s 2s/step - loss: 1.6960 - mean_absolute_percentage_error: 4.5247 - val_loss: 7.0327 - val_mean_absolute_percentage_error: 9.4796\n",
      "Epoch 98/100\n",
      "15/15 [==============================] - 23s 2s/step - loss: 2.1110 - mean_absolute_percentage_error: 5.2220 - val_loss: 13.4066 - val_mean_absolute_percentage_error: 11.7680\n",
      "Epoch 99/100\n",
      "15/15 [==============================] - 23s 2s/step - loss: 2.1098 - mean_absolute_percentage_error: 4.9594 - val_loss: 9.6522 - val_mean_absolute_percentage_error: 11.0836\n",
      "Epoch 100/100\n",
      "15/15 [==============================] - 23s 2s/step - loss: 2.2606 - mean_absolute_percentage_error: 5.1028 - val_loss: 9.3517 - val_mean_absolute_percentage_error: 11.6846\n"
     ]
    }
   ],
   "source": [
    "fit_model(model, 100, 20, X_train, y_train, X_test, y_test)"
   ],
   "metadata": {
    "collapsed": false,
    "pycharm": {
     "name": "#%%\n"
    }
   }
  },
  {
   "cell_type": "code",
   "execution_count": null,
   "outputs": [],
   "source": [],
   "metadata": {
    "collapsed": false,
    "pycharm": {
     "name": "#%%\n"
    }
   }
  }
 ],
 "metadata": {
  "kernelspec": {
   "display_name": "Python 3 (ipykernel)",
   "language": "python",
   "name": "python3"
  },
  "language_info": {
   "codemirror_mode": {
    "name": "ipython",
    "version": 3
   },
   "file_extension": ".py",
   "mimetype": "text/x-python",
   "name": "python",
   "nbconvert_exporter": "python",
   "pygments_lexer": "ipython3",
   "version": "3.7.15"
  }
 },
 "nbformat": 4,
 "nbformat_minor": 1
}