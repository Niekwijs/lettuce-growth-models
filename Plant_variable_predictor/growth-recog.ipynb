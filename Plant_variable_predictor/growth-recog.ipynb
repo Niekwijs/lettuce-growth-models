{
 "cells": [
  {
   "cell_type": "code",
   "execution_count": 12,
   "outputs": [],
   "source": [
    "import os\n",
    "\n",
    "import numpy as np\n",
    "import pandas as pd\n",
    "import json\n",
    "import cv2\n",
    "from sklearn.model_selection import train_test_split\n",
    "import cv2\n",
    "\n",
    "# tf imports\n",
    "import tensorflow as tf\n",
    "from tensorflow import keras\n",
    "import matplotlib.pyplot as plt\n",
    "from keras.layers import Dense\n",
    "from keras import backend as K"
   ],
   "metadata": {
    "collapsed": false,
    "pycharm": {
     "name": "#%%\n"
    }
   }
  },
  {
   "cell_type": "code",
   "execution_count": 13,
   "outputs": [
    {
     "name": "stdout",
     "output_type": "stream",
     "text": [
      "1 Physical GPUs, 1 Logical GPU\n"
     ]
    }
   ],
   "source": [
    "gpus = tf.config.list_physical_devices('GPU')\n",
    "if gpus:\n",
    "  try:\n",
    "    tf.config.set_visible_devices(gpus[0], 'GPU')\n",
    "    for gpu in gpus:\n",
    "      tf.config.experimental.set_memory_growth(gpu, True)\n",
    "    logical_gpus = tf.config.list_logical_devices('GPU')\n",
    "    print(len(gpus), \"Physical GPUs,\", len(logical_gpus), \"Logical GPU\")\n",
    "  except RuntimeError as e:\n",
    "    print(e)"
   ],
   "metadata": {
    "collapsed": false,
    "pycharm": {
     "name": "#%%\n"
    }
   }
  },
  {
   "cell_type": "markdown",
   "source": [
    "loading images with labels"
   ],
   "metadata": {
    "collapsed": false,
    "pycharm": {
     "name": "#%% md\n"
    }
   }
  },
  {
   "cell_type": "code",
   "execution_count": 14,
   "outputs": [
    {
     "data": {
      "text/plain": "  Variety    RGB_Image Depth_Information  FreshWeightShoot  DryWeightShoot  \\\n0  Lugano   RGB_27.png      Depth_27.png               5.5            0.42   \n1  Lugano   RGB_79.png      Depth_79.png              30.3            1.92   \n2  Lugano  RGB_140.png     Depth_140.png              60.9            2.83   \n3  Lugano  RGB_203.png     Depth_203.png             112.0            5.76   \n4  Lugano  RGB_292.png     Depth_292.png             372.6           14.17   \n\n   Height  Diameter  LeafArea  \n0     9.0      11.0     153.9  \n1     8.8      20.2     582.3  \n2    11.6      19.0     960.6  \n3    11.0      22.0    1614.9  \n4    17.0      32.0    3839.6  ",
      "text/html": "<div>\n<style scoped>\n    .dataframe tbody tr th:only-of-type {\n        vertical-align: middle;\n    }\n\n    .dataframe tbody tr th {\n        vertical-align: top;\n    }\n\n    .dataframe thead th {\n        text-align: right;\n    }\n</style>\n<table border=\"1\" class=\"dataframe\">\n  <thead>\n    <tr style=\"text-align: right;\">\n      <th></th>\n      <th>Variety</th>\n      <th>RGB_Image</th>\n      <th>Depth_Information</th>\n      <th>FreshWeightShoot</th>\n      <th>DryWeightShoot</th>\n      <th>Height</th>\n      <th>Diameter</th>\n      <th>LeafArea</th>\n    </tr>\n  </thead>\n  <tbody>\n    <tr>\n      <th>0</th>\n      <td>Lugano</td>\n      <td>RGB_27.png</td>\n      <td>Depth_27.png</td>\n      <td>5.5</td>\n      <td>0.42</td>\n      <td>9.0</td>\n      <td>11.0</td>\n      <td>153.9</td>\n    </tr>\n    <tr>\n      <th>1</th>\n      <td>Lugano</td>\n      <td>RGB_79.png</td>\n      <td>Depth_79.png</td>\n      <td>30.3</td>\n      <td>1.92</td>\n      <td>8.8</td>\n      <td>20.2</td>\n      <td>582.3</td>\n    </tr>\n    <tr>\n      <th>2</th>\n      <td>Lugano</td>\n      <td>RGB_140.png</td>\n      <td>Depth_140.png</td>\n      <td>60.9</td>\n      <td>2.83</td>\n      <td>11.6</td>\n      <td>19.0</td>\n      <td>960.6</td>\n    </tr>\n    <tr>\n      <th>3</th>\n      <td>Lugano</td>\n      <td>RGB_203.png</td>\n      <td>Depth_203.png</td>\n      <td>112.0</td>\n      <td>5.76</td>\n      <td>11.0</td>\n      <td>22.0</td>\n      <td>1614.9</td>\n    </tr>\n    <tr>\n      <th>4</th>\n      <td>Lugano</td>\n      <td>RGB_292.png</td>\n      <td>Depth_292.png</td>\n      <td>372.6</td>\n      <td>14.17</td>\n      <td>17.0</td>\n      <td>32.0</td>\n      <td>3839.6</td>\n    </tr>\n  </tbody>\n</table>\n</div>"
     },
     "execution_count": 14,
     "metadata": {},
     "output_type": "execute_result"
    }
   ],
   "source": [
    "f = open(\"..\\data\\measurements.json\")\n",
    "data_json = json.loads(f.read())[\"Measurements\"]\n",
    "\n",
    "vs = data_json.values()\n",
    "\n",
    "df = pd.json_normalize(vs)\n",
    "\n",
    "df.head()\n"
   ],
   "metadata": {
    "collapsed": false,
    "pycharm": {
     "name": "#%%\n"
    }
   }
  },
  {
   "cell_type": "code",
   "execution_count": 57,
   "outputs": [],
   "source": [
    "import albumentations as alb\n",
    "\n",
    "def augment(train_set, train_labels):\n",
    "    # Define a list of image augmentation transformations to apply\n",
    "    aug_transforms = [\n",
    "        alb.HorizontalFlip(),\n",
    "        alb.VerticalFlip(),\n",
    "        alb.RandomRotate90(),\n",
    "        alb.Transpose(),\n",
    "        alb.RandomBrightnessContrast()\n",
    "    ]\n",
    "\n",
    "    # Use the Compose function to apply the transformations\n",
    "    aug = alb.Compose(aug_transforms)\n",
    "\n",
    "    # Set the number of times to augment the images\n",
    "    num_augmentations = 1\n",
    "\n",
    "    # Iterate through the number of augmentations\n",
    "    for i in range(num_augmentations):\n",
    "      # Iterate through your training set and apply the augmentations to each image\n",
    "      augmented_train_set = []\n",
    "      augmented_train_labels = []\n",
    "      for image, label in zip(train_set, train_labels):\n",
    "        augmented_image = aug(image=image)['image']\n",
    "        augmented_train_set.append(augmented_image)\n",
    "        augmented_train_labels.append(label)\n",
    "\n",
    "      # Add the augmented images and labels to the training set\n",
    "      train_set = np.concatenate((train_set, augmented_train_set))\n",
    "      train_labels = np.concatenate((train_labels, augmented_train_labels))\n",
    "\n",
    "    # Shuffle the training set and labels\n",
    "    p = np.random.permutation(len(train_set))\n",
    "    X = train_set[p]\n",
    "    y = train_labels[p]\n",
    "    return X, y\n"
   ],
   "metadata": {
    "collapsed": false,
    "pycharm": {
     "name": "#%%\n"
    }
   }
  },
  {
   "cell_type": "code",
   "execution_count": 58,
   "outputs": [],
   "source": [
    "\"\"\"\n",
    "    number: depth=0, RGB=1, depth/RGB=2\n",
    "\"\"\"\n",
    "def prepare_data(number=0, y_key='Height'):\n",
    "\n",
    "    all_images = []\n",
    "    y = []\n",
    "\n",
    "    if number == 2:\n",
    "        path_RGB = '../data/RGBImagesResize/'\n",
    "        key_RGB = 'RGB_Image'\n",
    "        flag_RGB = cv2.IMREAD_COLOR\n",
    "\n",
    "        path_depth = '../data/DepthImagesResize/'\n",
    "        key_depth = 'Depth_Information'\n",
    "        flag_depth = cv2.IMREAD_GRAYSCALE\n",
    "\n",
    "        for image_path_RGB in os.listdir(path_RGB):\n",
    "            if df.loc[df[key_RGB] == image_path_RGB][y_key].size > 0:\n",
    "                img_ID = image_path_RGB.strip(\".png\").strip(\"RGB_\")\n",
    "                y.append(df.loc[df[key_RGB] == image_path_RGB][y_key].item())\n",
    "                img_RGB = cv2.imread(path_RGB + image_path_RGB, flag_RGB)\n",
    "                img_RGB = cv2.resize(img_RGB, (250, 250))\n",
    "                image_path_depth = path_depth + \"Depth_\"+ img_ID + \".png\"\n",
    "                img_depth = cv2.imread(image_path_depth, flag_depth)\n",
    "                img_depth = cv2.resize(img_depth, (250,250))\n",
    "                img_combined = np.dstack((img_RGB, img_depth))\n",
    "                all_images.append(img_combined)\n",
    "    else:\n",
    "        if number == 1:\n",
    "            path = '../data/RGBImagesResize/'\n",
    "            key = 'RGB_Image'\n",
    "            flag = cv2.IMREAD_COLOR\n",
    "        else:\n",
    "            path = '../data/DepthImagesResize/'\n",
    "            key = 'Depth_Information'\n",
    "            flag = cv2.IMREAD_GRAYSCALE\n",
    "\n",
    "        for image_path in os.listdir(path):\n",
    "            if df.loc[df[key] == image_path][y_key].size > 0:\n",
    "                y.append(df.loc[df[key] == image_path][y_key].item())\n",
    "                img = cv2.imread(path + image_path, flag)\n",
    "                img = cv2.resize(img, (250, 250))\n",
    "                all_images.append(img)\n",
    "\n",
    "\n",
    "    X_train, X_test, y_train, y_test = train_test_split(np.array(all_images), y, test_size=0.25, shuffle=True)\n",
    "\n",
    "    X_train, y_train = augment(X_train, y_train)\n",
    "\n",
    "    X_train = tf.convert_to_tensor(X_train)\n",
    "    X_test = tf.convert_to_tensor(X_test)\n",
    "    y_train = tf.convert_to_tensor(y_train)\n",
    "    y_test = tf.convert_to_tensor(y_test)\n",
    "\n",
    "    return X_train, y_train, X_test, y_test"
   ],
   "metadata": {
    "collapsed": false,
    "pycharm": {
     "name": "#%%\n"
    }
   }
  },
  {
   "cell_type": "markdown",
   "source": [
    "ResNet Implementation for regression: depth images height\n",
    "\n",
    "https://towardsdatascience.com/building-a-resnet-in-keras-e8f1322a49ba\n",
    "\n",
    "!!LET OP NIET RUNNEN ZONDER GPU!!"
   ],
   "metadata": {
    "collapsed": false,
    "pycharm": {
     "name": "#%% md\n"
    }
   }
  },
  {
   "cell_type": "code",
   "execution_count": 59,
   "outputs": [],
   "source": [
    "from tensorflow import Tensor\n",
    "from tensorflow.keras.layers import Input, Conv2D, ReLU, BatchNormalization, \\\n",
    "    Add, AveragePooling2D, Flatten, Dense\n",
    "from tensorflow.keras.models import Model"
   ],
   "metadata": {
    "collapsed": false,
    "pycharm": {
     "name": "#%%\n"
    }
   }
  },
  {
   "cell_type": "code",
   "execution_count": 60,
   "outputs": [],
   "source": [
    "def relu_bn(inputs: Tensor) -> Tensor:\n",
    "    relu = ReLU()(inputs)\n",
    "    bn = BatchNormalization()(relu)\n",
    "    return bn"
   ],
   "metadata": {
    "collapsed": false,
    "pycharm": {
     "name": "#%%\n"
    }
   }
  },
  {
   "cell_type": "code",
   "execution_count": 61,
   "outputs": [],
   "source": [
    "def residual_block(x: Tensor, downsample: bool, filters: int, kernel_size: int = 3) -> Tensor:\n",
    "    y = Conv2D(kernel_size=kernel_size,\n",
    "               strides=(1 if not downsample else 2),\n",
    "               filters=filters,\n",
    "               padding=\"same\")(x)\n",
    "    y = relu_bn(y)\n",
    "    y = Conv2D(kernel_size=kernel_size,\n",
    "               strides=1,\n",
    "               filters=filters,\n",
    "               padding=\"same\")(y)\n",
    "\n",
    "    if downsample:\n",
    "        x = Conv2D(kernel_size=1,\n",
    "                   strides=2,\n",
    "                   filters=filters,\n",
    "                   padding=\"same\")(x)\n",
    "    out = Add()([x, y])\n",
    "    out = relu_bn(out)\n",
    "    return out"
   ],
   "metadata": {
    "collapsed": false,
    "pycharm": {
     "name": "#%%\n"
    }
   }
  },
  {
   "cell_type": "code",
   "execution_count": 62,
   "outputs": [],
   "source": [
    "def create_res_net(input_shape, regression):\n",
    "    inputs = Input(shape=input_shape)\n",
    "    num_filters = 64\n",
    "\n",
    "    t = BatchNormalization()(inputs)\n",
    "    t = Conv2D(kernel_size=3,\n",
    "               strides=1,\n",
    "               filters=num_filters,\n",
    "               padding=\"same\")(t)\n",
    "    t = relu_bn(t)\n",
    "\n",
    "    num_blocks_list = [2, 5, 5, 2]\n",
    "    for i in range(len(num_blocks_list)):\n",
    "        num_blocks = num_blocks_list[i]\n",
    "        for j in range(num_blocks):\n",
    "            t = residual_block(t, downsample=(j == 0 and i != 0), filters=num_filters)\n",
    "        num_filters *= 2\n",
    "\n",
    "    t = AveragePooling2D(4)(t)\n",
    "    t = Flatten()(t)\n",
    "    outputs = Dense(19, activation='softmax')(t)\n",
    "\n",
    "    if regression:\n",
    "        outputs = Dense(1, activation='linear')(t)\n",
    "\n",
    "    model = Model(inputs, outputs)\n",
    "\n",
    "    if regression:\n",
    "        model.compile(\n",
    "            optimizer='adam',\n",
    "            loss='mean_squared_error',\n",
    "            metrics=['mean_absolute_percentage_error']\n",
    "        )\n",
    "    else:\n",
    "        model.compile(\n",
    "            optimizer='adam',\n",
    "            loss='sparse_categorical_crossentropy',\n",
    "            metrics=['accuracy']\n",
    "        )\n",
    "\n",
    "    return model"
   ],
   "metadata": {
    "collapsed": false,
    "pycharm": {
     "name": "#%%\n"
    }
   }
  },
  {
   "cell_type": "code",
   "execution_count": 63,
   "outputs": [],
   "source": [
    "from tensorflow.keras.callbacks import ModelCheckpoint, TensorBoard, EarlyStopping\n",
    "import datetime\n",
    "import os\n",
    "\n",
    "def fit_model(model, epochs, batch_size, X_train, y_train, X_test, y_test):\n",
    "    timestr = datetime.datetime.now().strftime(\"%Y%m%d-%H%M%S\")\n",
    "    name = 'res_net'+timestr\n",
    "\n",
    "    checkpoint_path = \"checkpoints/\"+name+\"/cp-{epoch:04d}.ckpt\"\n",
    "    checkpoint_dir = os.path.dirname(checkpoint_path)\n",
    "    os.system('mkdir {}'.format(checkpoint_dir))\n",
    "\n",
    "    cp_callback = ModelCheckpoint(\n",
    "        filepath=checkpoint_path,\n",
    "        verbose=0,\n",
    "        save_best_only=True,\n",
    "        monitor='val_loss',\n",
    "        mode='min'\n",
    "    )\n",
    "    tensorboard_callback = TensorBoard(\n",
    "        log_dir=f'tensorboard_logs/{name}',\n",
    "        histogram_freq=1\n",
    "    )\n",
    "    # early_stop_callback = EarlyStopping(\n",
    "    #     monitor='val_loss',\n",
    "    #     mode='min',\n",
    "    #     patience=10\n",
    "    # )\n",
    "\n",
    "    model.fit(\n",
    "        x=X_train,\n",
    "        y=y_train,\n",
    "        epochs=epochs,\n",
    "        verbose=1,\n",
    "        validation_data=(X_test, y_test),\n",
    "        batch_size=batch_size,\n",
    "        callbacks=[cp_callback, tensorboard_callback]\n",
    "    )"
   ],
   "metadata": {
    "collapsed": false,
    "pycharm": {
     "name": "#%%\n"
    }
   }
  },
  {
   "cell_type": "code",
   "execution_count": 68,
   "outputs": [],
   "source": [
    "model = create_res_net((250,250,1),True)\n",
    "X_train, y_train, X_test, y_test = prepare_data(0, 'Height')"
   ],
   "metadata": {
    "collapsed": false,
    "pycharm": {
     "name": "#%%\n"
    }
   }
  },
  {
   "cell_type": "code",
   "execution_count": 69,
   "outputs": [
    {
     "name": "stdout",
     "output_type": "stream",
     "text": [
      "Epoch 1/100\n",
      "73/73 [==============================] - ETA: 0s - loss: 79.0476 - mean_absolute_percentage_error: 60.1966"
     ]
    },
    {
     "name": "stderr",
     "output_type": "stream",
     "text": [
      "WARNING:absl:Found untraced functions such as _jit_compiled_convolution_op, _jit_compiled_convolution_op, _jit_compiled_convolution_op, _jit_compiled_convolution_op, _jit_compiled_convolution_op while saving (showing 5 of 32). These functions will not be directly callable after loading.\n"
     ]
    },
    {
     "name": "stdout",
     "output_type": "stream",
     "text": [
      "INFO:tensorflow:Assets written to: checkpoints/res_net20221219-195506\\cp-0001.ckpt\\assets\n"
     ]
    },
    {
     "name": "stderr",
     "output_type": "stream",
     "text": [
      "INFO:tensorflow:Assets written to: checkpoints/res_net20221219-195506\\cp-0001.ckpt\\assets\n"
     ]
    },
    {
     "name": "stdout",
     "output_type": "stream",
     "text": [
      "73/73 [==============================] - 68s 804ms/step - loss: 79.0476 - mean_absolute_percentage_error: 60.1966 - val_loss: 2057346.2500 - val_mean_absolute_percentage_error: 13506.9043\n",
      "Epoch 2/100\n",
      "73/73 [==============================] - 43s 583ms/step - loss: 53.5410 - mean_absolute_percentage_error: 52.4944 - val_loss: 495485216.0000 - val_mean_absolute_percentage_error: 214312.1406\n",
      "Epoch 3/100\n",
      "73/73 [==============================] - ETA: 0s - loss: 30.1873 - mean_absolute_percentage_error: 40.5782"
     ]
    },
    {
     "name": "stderr",
     "output_type": "stream",
     "text": [
      "WARNING:absl:Found untraced functions such as _jit_compiled_convolution_op, _jit_compiled_convolution_op, _jit_compiled_convolution_op, _jit_compiled_convolution_op, _jit_compiled_convolution_op while saving (showing 5 of 32). These functions will not be directly callable after loading.\n"
     ]
    },
    {
     "name": "stdout",
     "output_type": "stream",
     "text": [
      "INFO:tensorflow:Assets written to: checkpoints/res_net20221219-195506\\cp-0003.ckpt\\assets\n"
     ]
    },
    {
     "name": "stderr",
     "output_type": "stream",
     "text": [
      "INFO:tensorflow:Assets written to: checkpoints/res_net20221219-195506\\cp-0003.ckpt\\assets\n"
     ]
    },
    {
     "name": "stdout",
     "output_type": "stream",
     "text": [
      "73/73 [==============================] - 52s 706ms/step - loss: 30.1873 - mean_absolute_percentage_error: 40.5782 - val_loss: 10000.0273 - val_mean_absolute_percentage_error: 201.6722\n",
      "Epoch 4/100\n",
      "73/73 [==============================] - ETA: 0s - loss: 47.3494 - mean_absolute_percentage_error: 48.2652"
     ]
    },
    {
     "name": "stderr",
     "output_type": "stream",
     "text": [
      "WARNING:absl:Found untraced functions such as _jit_compiled_convolution_op, _jit_compiled_convolution_op, _jit_compiled_convolution_op, _jit_compiled_convolution_op, _jit_compiled_convolution_op while saving (showing 5 of 32). These functions will not be directly callable after loading.\n"
     ]
    },
    {
     "name": "stdout",
     "output_type": "stream",
     "text": [
      "INFO:tensorflow:Assets written to: checkpoints/res_net20221219-195506\\cp-0004.ckpt\\assets\n"
     ]
    },
    {
     "name": "stderr",
     "output_type": "stream",
     "text": [
      "INFO:tensorflow:Assets written to: checkpoints/res_net20221219-195506\\cp-0004.ckpt\\assets\n"
     ]
    },
    {
     "name": "stdout",
     "output_type": "stream",
     "text": [
      "73/73 [==============================] - 52s 716ms/step - loss: 47.3494 - mean_absolute_percentage_error: 48.2652 - val_loss: 64.7328 - val_mean_absolute_percentage_error: 44.8665\n",
      "Epoch 5/100\n",
      "73/73 [==============================] - 43s 590ms/step - loss: 38.7540 - mean_absolute_percentage_error: 44.1540 - val_loss: 692.5519 - val_mean_absolute_percentage_error: 223.9875\n",
      "Epoch 6/100\n",
      "73/73 [==============================] - ETA: 0s - loss: 37.3880 - mean_absolute_percentage_error: 43.6163"
     ]
    },
    {
     "name": "stderr",
     "output_type": "stream",
     "text": [
      "WARNING:absl:Found untraced functions such as _jit_compiled_convolution_op, _jit_compiled_convolution_op, _jit_compiled_convolution_op, _jit_compiled_convolution_op, _jit_compiled_convolution_op while saving (showing 5 of 32). These functions will not be directly callable after loading.\n"
     ]
    },
    {
     "name": "stdout",
     "output_type": "stream",
     "text": [
      "INFO:tensorflow:Assets written to: checkpoints/res_net20221219-195506\\cp-0006.ckpt\\assets\n"
     ]
    },
    {
     "name": "stderr",
     "output_type": "stream",
     "text": [
      "INFO:tensorflow:Assets written to: checkpoints/res_net20221219-195506\\cp-0006.ckpt\\assets\n"
     ]
    },
    {
     "name": "stdout",
     "output_type": "stream",
     "text": [
      "73/73 [==============================] - 52s 714ms/step - loss: 37.3880 - mean_absolute_percentage_error: 43.6163 - val_loss: 47.3446 - val_mean_absolute_percentage_error: 64.9813\n",
      "Epoch 7/100\n",
      "73/73 [==============================] - 43s 586ms/step - loss: 35.6474 - mean_absolute_percentage_error: 42.4467 - val_loss: 109.7609 - val_mean_absolute_percentage_error: 71.4968\n",
      "Epoch 8/100\n",
      "73/73 [==============================] - ETA: 0s - loss: 24.8732 - mean_absolute_percentage_error: 35.0679"
     ]
    },
    {
     "name": "stderr",
     "output_type": "stream",
     "text": [
      "WARNING:absl:Found untraced functions such as _jit_compiled_convolution_op, _jit_compiled_convolution_op, _jit_compiled_convolution_op, _jit_compiled_convolution_op, _jit_compiled_convolution_op while saving (showing 5 of 32). These functions will not be directly callable after loading.\n"
     ]
    },
    {
     "name": "stdout",
     "output_type": "stream",
     "text": [
      "INFO:tensorflow:Assets written to: checkpoints/res_net20221219-195506\\cp-0008.ckpt\\assets\n"
     ]
    },
    {
     "name": "stderr",
     "output_type": "stream",
     "text": [
      "INFO:tensorflow:Assets written to: checkpoints/res_net20221219-195506\\cp-0008.ckpt\\assets\n"
     ]
    },
    {
     "name": "stdout",
     "output_type": "stream",
     "text": [
      "73/73 [==============================] - 52s 715ms/step - loss: 24.8732 - mean_absolute_percentage_error: 35.0679 - val_loss: 30.4019 - val_mean_absolute_percentage_error: 56.6631\n",
      "Epoch 9/100\n",
      "73/73 [==============================] - 43s 587ms/step - loss: 25.8697 - mean_absolute_percentage_error: 37.0645 - val_loss: 89.9576 - val_mean_absolute_percentage_error: 91.6088\n",
      "Epoch 10/100\n",
      "73/73 [==============================] - 43s 581ms/step - loss: 23.1273 - mean_absolute_percentage_error: 34.1825 - val_loss: 33.9435 - val_mean_absolute_percentage_error: 47.0762\n",
      "Epoch 11/100\n",
      "73/73 [==============================] - ETA: 0s - loss: 16.1276 - mean_absolute_percentage_error: 29.6604"
     ]
    },
    {
     "name": "stderr",
     "output_type": "stream",
     "text": [
      "WARNING:absl:Found untraced functions such as _jit_compiled_convolution_op, _jit_compiled_convolution_op, _jit_compiled_convolution_op, _jit_compiled_convolution_op, _jit_compiled_convolution_op while saving (showing 5 of 32). These functions will not be directly callable after loading.\n"
     ]
    },
    {
     "name": "stdout",
     "output_type": "stream",
     "text": [
      "INFO:tensorflow:Assets written to: checkpoints/res_net20221219-195506\\cp-0011.ckpt\\assets\n"
     ]
    },
    {
     "name": "stderr",
     "output_type": "stream",
     "text": [
      "INFO:tensorflow:Assets written to: checkpoints/res_net20221219-195506\\cp-0011.ckpt\\assets\n"
     ]
    },
    {
     "name": "stdout",
     "output_type": "stream",
     "text": [
      "73/73 [==============================] - 52s 712ms/step - loss: 16.1276 - mean_absolute_percentage_error: 29.6604 - val_loss: 27.5574 - val_mean_absolute_percentage_error: 52.7412\n",
      "Epoch 12/100\n",
      "73/73 [==============================] - ETA: 0s - loss: 17.6220 - mean_absolute_percentage_error: 30.7358"
     ]
    },
    {
     "name": "stderr",
     "output_type": "stream",
     "text": [
      "WARNING:absl:Found untraced functions such as _jit_compiled_convolution_op, _jit_compiled_convolution_op, _jit_compiled_convolution_op, _jit_compiled_convolution_op, _jit_compiled_convolution_op while saving (showing 5 of 32). These functions will not be directly callable after loading.\n"
     ]
    },
    {
     "name": "stdout",
     "output_type": "stream",
     "text": [
      "INFO:tensorflow:Assets written to: checkpoints/res_net20221219-195506\\cp-0012.ckpt\\assets\n"
     ]
    },
    {
     "name": "stderr",
     "output_type": "stream",
     "text": [
      "INFO:tensorflow:Assets written to: checkpoints/res_net20221219-195506\\cp-0012.ckpt\\assets\n"
     ]
    },
    {
     "name": "stdout",
     "output_type": "stream",
     "text": [
      "73/73 [==============================] - 53s 722ms/step - loss: 17.6220 - mean_absolute_percentage_error: 30.7358 - val_loss: 27.2109 - val_mean_absolute_percentage_error: 33.8043\n",
      "Epoch 13/100\n",
      "73/73 [==============================] - 43s 582ms/step - loss: 20.0019 - mean_absolute_percentage_error: 32.2498 - val_loss: 97.0473 - val_mean_absolute_percentage_error: 63.3726\n",
      "Epoch 14/100\n",
      "73/73 [==============================] - 43s 582ms/step - loss: 20.4139 - mean_absolute_percentage_error: 32.2379 - val_loss: 32.5296 - val_mean_absolute_percentage_error: 56.7788\n",
      "Epoch 15/100\n",
      "73/73 [==============================] - 43s 583ms/step - loss: 29.1126 - mean_absolute_percentage_error: 38.2230 - val_loss: 30.8476 - val_mean_absolute_percentage_error: 48.4634\n",
      "Epoch 16/100\n",
      "73/73 [==============================] - ETA: 0s - loss: 17.9837 - mean_absolute_percentage_error: 30.2519"
     ]
    },
    {
     "name": "stderr",
     "output_type": "stream",
     "text": [
      "WARNING:absl:Found untraced functions such as _jit_compiled_convolution_op, _jit_compiled_convolution_op, _jit_compiled_convolution_op, _jit_compiled_convolution_op, _jit_compiled_convolution_op while saving (showing 5 of 32). These functions will not be directly callable after loading.\n"
     ]
    },
    {
     "name": "stdout",
     "output_type": "stream",
     "text": [
      "INFO:tensorflow:Assets written to: checkpoints/res_net20221219-195506\\cp-0016.ckpt\\assets\n"
     ]
    },
    {
     "name": "stderr",
     "output_type": "stream",
     "text": [
      "INFO:tensorflow:Assets written to: checkpoints/res_net20221219-195506\\cp-0016.ckpt\\assets\n"
     ]
    },
    {
     "name": "stdout",
     "output_type": "stream",
     "text": [
      "73/73 [==============================] - 52s 713ms/step - loss: 17.9837 - mean_absolute_percentage_error: 30.2519 - val_loss: 24.1770 - val_mean_absolute_percentage_error: 36.3759\n",
      "Epoch 17/100\n",
      "73/73 [==============================] - 43s 584ms/step - loss: 15.8297 - mean_absolute_percentage_error: 28.2774 - val_loss: 25.1577 - val_mean_absolute_percentage_error: 40.7062\n",
      "Epoch 18/100\n",
      "73/73 [==============================] - 43s 593ms/step - loss: 16.1617 - mean_absolute_percentage_error: 28.3835 - val_loss: 28.2119 - val_mean_absolute_percentage_error: 29.2790\n",
      "Epoch 19/100\n",
      "73/73 [==============================] - 43s 593ms/step - loss: 13.9950 - mean_absolute_percentage_error: 26.7935 - val_loss: 25.8976 - val_mean_absolute_percentage_error: 28.7343\n",
      "Epoch 20/100\n",
      "73/73 [==============================] - ETA: 0s - loss: 16.0096 - mean_absolute_percentage_error: 29.3316"
     ]
    },
    {
     "name": "stderr",
     "output_type": "stream",
     "text": [
      "WARNING:absl:Found untraced functions such as _jit_compiled_convolution_op, _jit_compiled_convolution_op, _jit_compiled_convolution_op, _jit_compiled_convolution_op, _jit_compiled_convolution_op while saving (showing 5 of 32). These functions will not be directly callable after loading.\n"
     ]
    },
    {
     "name": "stdout",
     "output_type": "stream",
     "text": [
      "INFO:tensorflow:Assets written to: checkpoints/res_net20221219-195506\\cp-0020.ckpt\\assets\n"
     ]
    },
    {
     "name": "stderr",
     "output_type": "stream",
     "text": [
      "INFO:tensorflow:Assets written to: checkpoints/res_net20221219-195506\\cp-0020.ckpt\\assets\n"
     ]
    },
    {
     "name": "stdout",
     "output_type": "stream",
     "text": [
      "73/73 [==============================] - 52s 716ms/step - loss: 16.0096 - mean_absolute_percentage_error: 29.3316 - val_loss: 19.4096 - val_mean_absolute_percentage_error: 28.2225\n",
      "Epoch 21/100\n",
      "73/73 [==============================] - 43s 579ms/step - loss: 15.2378 - mean_absolute_percentage_error: 27.6974 - val_loss: 29.6762 - val_mean_absolute_percentage_error: 39.6546\n",
      "Epoch 22/100\n",
      "73/73 [==============================] - 43s 589ms/step - loss: 13.4318 - mean_absolute_percentage_error: 26.8229 - val_loss: 37.8278 - val_mean_absolute_percentage_error: 41.0594\n",
      "Epoch 23/100\n",
      "73/73 [==============================] - 43s 582ms/step - loss: 12.8056 - mean_absolute_percentage_error: 25.9040 - val_loss: 27.8726 - val_mean_absolute_percentage_error: 30.7613\n",
      "Epoch 24/100\n",
      "73/73 [==============================] - 43s 581ms/step - loss: 15.4378 - mean_absolute_percentage_error: 28.5475 - val_loss: 22.9654 - val_mean_absolute_percentage_error: 33.6977\n",
      "Epoch 25/100\n",
      "73/73 [==============================] - 43s 584ms/step - loss: 13.4969 - mean_absolute_percentage_error: 26.7184 - val_loss: 25.5403 - val_mean_absolute_percentage_error: 42.3922\n",
      "Epoch 26/100\n",
      "73/73 [==============================] - ETA: 0s - loss: 12.9142 - mean_absolute_percentage_error: 25.3023"
     ]
    },
    {
     "name": "stderr",
     "output_type": "stream",
     "text": [
      "WARNING:absl:Found untraced functions such as _jit_compiled_convolution_op, _jit_compiled_convolution_op, _jit_compiled_convolution_op, _jit_compiled_convolution_op, _jit_compiled_convolution_op while saving (showing 5 of 32). These functions will not be directly callable after loading.\n"
     ]
    },
    {
     "name": "stdout",
     "output_type": "stream",
     "text": [
      "INFO:tensorflow:Assets written to: checkpoints/res_net20221219-195506\\cp-0026.ckpt\\assets\n"
     ]
    },
    {
     "name": "stderr",
     "output_type": "stream",
     "text": [
      "INFO:tensorflow:Assets written to: checkpoints/res_net20221219-195506\\cp-0026.ckpt\\assets\n"
     ]
    },
    {
     "name": "stdout",
     "output_type": "stream",
     "text": [
      "73/73 [==============================] - 52s 714ms/step - loss: 12.9142 - mean_absolute_percentage_error: 25.3023 - val_loss: 19.0147 - val_mean_absolute_percentage_error: 36.1855\n",
      "Epoch 27/100\n",
      "73/73 [==============================] - ETA: 0s - loss: 11.0798 - mean_absolute_percentage_error: 24.1537"
     ]
    },
    {
     "name": "stderr",
     "output_type": "stream",
     "text": [
      "WARNING:absl:Found untraced functions such as _jit_compiled_convolution_op, _jit_compiled_convolution_op, _jit_compiled_convolution_op, _jit_compiled_convolution_op, _jit_compiled_convolution_op while saving (showing 5 of 32). These functions will not be directly callable after loading.\n"
     ]
    },
    {
     "name": "stdout",
     "output_type": "stream",
     "text": [
      "INFO:tensorflow:Assets written to: checkpoints/res_net20221219-195506\\cp-0027.ckpt\\assets\n"
     ]
    },
    {
     "name": "stderr",
     "output_type": "stream",
     "text": [
      "INFO:tensorflow:Assets written to: checkpoints/res_net20221219-195506\\cp-0027.ckpt\\assets\n"
     ]
    },
    {
     "name": "stdout",
     "output_type": "stream",
     "text": [
      "73/73 [==============================] - 52s 709ms/step - loss: 11.0798 - mean_absolute_percentage_error: 24.1537 - val_loss: 18.6653 - val_mean_absolute_percentage_error: 31.6863\n",
      "Epoch 28/100\n",
      "73/73 [==============================] - 42s 580ms/step - loss: 12.0143 - mean_absolute_percentage_error: 24.7326 - val_loss: 23.3922 - val_mean_absolute_percentage_error: 30.0266\n",
      "Epoch 29/100\n",
      "73/73 [==============================] - 44s 601ms/step - loss: 11.6724 - mean_absolute_percentage_error: 24.1802 - val_loss: 24.6319 - val_mean_absolute_percentage_error: 44.6482\n",
      "Epoch 30/100\n",
      "73/73 [==============================] - 43s 586ms/step - loss: 9.9149 - mean_absolute_percentage_error: 21.9800 - val_loss: 30.6017 - val_mean_absolute_percentage_error: 53.2080\n",
      "Epoch 31/100\n",
      "73/73 [==============================] - 43s 587ms/step - loss: 10.8281 - mean_absolute_percentage_error: 23.2762 - val_loss: 28.8512 - val_mean_absolute_percentage_error: 29.3972\n",
      "Epoch 32/100\n",
      "73/73 [==============================] - 43s 584ms/step - loss: 11.3490 - mean_absolute_percentage_error: 23.7115 - val_loss: 23.3792 - val_mean_absolute_percentage_error: 37.3230\n",
      "Epoch 33/100\n",
      "73/73 [==============================] - 43s 583ms/step - loss: 9.1965 - mean_absolute_percentage_error: 20.9729 - val_loss: 22.8760 - val_mean_absolute_percentage_error: 32.0960\n",
      "Epoch 34/100\n",
      "73/73 [==============================] - ETA: 0s - loss: 9.9686 - mean_absolute_percentage_error: 22.0366 "
     ]
    },
    {
     "name": "stderr",
     "output_type": "stream",
     "text": [
      "WARNING:absl:Found untraced functions such as _jit_compiled_convolution_op, _jit_compiled_convolution_op, _jit_compiled_convolution_op, _jit_compiled_convolution_op, _jit_compiled_convolution_op while saving (showing 5 of 32). These functions will not be directly callable after loading.\n"
     ]
    },
    {
     "name": "stdout",
     "output_type": "stream",
     "text": [
      "INFO:tensorflow:Assets written to: checkpoints/res_net20221219-195506\\cp-0034.ckpt\\assets\n"
     ]
    },
    {
     "name": "stderr",
     "output_type": "stream",
     "text": [
      "INFO:tensorflow:Assets written to: checkpoints/res_net20221219-195506\\cp-0034.ckpt\\assets\n"
     ]
    },
    {
     "name": "stdout",
     "output_type": "stream",
     "text": [
      "73/73 [==============================] - 54s 736ms/step - loss: 9.9686 - mean_absolute_percentage_error: 22.0366 - val_loss: 18.2504 - val_mean_absolute_percentage_error: 35.5342\n",
      "Epoch 35/100\n",
      "73/73 [==============================] - 42s 577ms/step - loss: 9.7822 - mean_absolute_percentage_error: 22.4952 - val_loss: 22.4809 - val_mean_absolute_percentage_error: 40.4171\n",
      "Epoch 36/100\n",
      "73/73 [==============================] - 43s 585ms/step - loss: 8.5025 - mean_absolute_percentage_error: 19.3343 - val_loss: 27.7205 - val_mean_absolute_percentage_error: 38.8402\n",
      "Epoch 37/100\n",
      "73/73 [==============================] - ETA: 0s - loss: 10.6403 - mean_absolute_percentage_error: 21.6495"
     ]
    },
    {
     "name": "stderr",
     "output_type": "stream",
     "text": [
      "WARNING:absl:Found untraced functions such as _jit_compiled_convolution_op, _jit_compiled_convolution_op, _jit_compiled_convolution_op, _jit_compiled_convolution_op, _jit_compiled_convolution_op while saving (showing 5 of 32). These functions will not be directly callable after loading.\n"
     ]
    },
    {
     "name": "stdout",
     "output_type": "stream",
     "text": [
      "INFO:tensorflow:Assets written to: checkpoints/res_net20221219-195506\\cp-0037.ckpt\\assets\n"
     ]
    },
    {
     "name": "stderr",
     "output_type": "stream",
     "text": [
      "INFO:tensorflow:Assets written to: checkpoints/res_net20221219-195506\\cp-0037.ckpt\\assets\n"
     ]
    },
    {
     "name": "stdout",
     "output_type": "stream",
     "text": [
      "73/73 [==============================] - 53s 730ms/step - loss: 10.6403 - mean_absolute_percentage_error: 21.6495 - val_loss: 16.8861 - val_mean_absolute_percentage_error: 40.1154\n",
      "Epoch 38/100\n",
      "73/73 [==============================] - 45s 612ms/step - loss: 11.4201 - mean_absolute_percentage_error: 24.8334 - val_loss: 23.8426 - val_mean_absolute_percentage_error: 48.8296\n",
      "Epoch 39/100\n",
      "73/73 [==============================] - 44s 601ms/step - loss: 8.9811 - mean_absolute_percentage_error: 20.5339 - val_loss: 26.7624 - val_mean_absolute_percentage_error: 48.4121\n",
      "Epoch 40/100\n",
      "73/73 [==============================] - 43s 585ms/step - loss: 10.2936 - mean_absolute_percentage_error: 21.7557 - val_loss: 24.4070 - val_mean_absolute_percentage_error: 36.4852\n",
      "Epoch 41/100\n",
      "73/73 [==============================] - 43s 584ms/step - loss: 12.4924 - mean_absolute_percentage_error: 25.4056 - val_loss: 30.5747 - val_mean_absolute_percentage_error: 54.5086\n",
      "Epoch 42/100\n",
      "73/73 [==============================] - 43s 583ms/step - loss: 15.3947 - mean_absolute_percentage_error: 28.4574 - val_loss: 28.0141 - val_mean_absolute_percentage_error: 37.5569\n",
      "Epoch 43/100\n",
      "73/73 [==============================] - 43s 580ms/step - loss: 15.9057 - mean_absolute_percentage_error: 28.6088 - val_loss: 27.2236 - val_mean_absolute_percentage_error: 38.2178\n",
      "Epoch 44/100\n",
      "73/73 [==============================] - 43s 585ms/step - loss: 13.3479 - mean_absolute_percentage_error: 26.2936 - val_loss: 25.7221 - val_mean_absolute_percentage_error: 46.5351\n",
      "Epoch 45/100\n",
      "73/73 [==============================] - 43s 589ms/step - loss: 14.5019 - mean_absolute_percentage_error: 27.6511 - val_loss: 26.1010 - val_mean_absolute_percentage_error: 45.9324\n",
      "Epoch 46/100\n",
      "73/73 [==============================] - 43s 582ms/step - loss: 12.8296 - mean_absolute_percentage_error: 25.1725 - val_loss: 26.1354 - val_mean_absolute_percentage_error: 44.2207\n",
      "Epoch 47/100\n",
      "73/73 [==============================] - 43s 593ms/step - loss: 13.0054 - mean_absolute_percentage_error: 24.8005 - val_loss: 25.5694 - val_mean_absolute_percentage_error: 43.2685\n",
      "Epoch 48/100\n",
      "73/73 [==============================] - 43s 586ms/step - loss: 12.4731 - mean_absolute_percentage_error: 24.9425 - val_loss: 24.6605 - val_mean_absolute_percentage_error: 41.9968\n",
      "Epoch 49/100\n",
      "73/73 [==============================] - ETA: 0s - loss: 13.6067 - mean_absolute_percentage_error: 27.1307"
     ]
    },
    {
     "name": "stderr",
     "output_type": "stream",
     "text": [
      "WARNING:absl:Found untraced functions such as _jit_compiled_convolution_op, _jit_compiled_convolution_op, _jit_compiled_convolution_op, _jit_compiled_convolution_op, _jit_compiled_convolution_op while saving (showing 5 of 32). These functions will not be directly callable after loading.\n"
     ]
    },
    {
     "name": "stdout",
     "output_type": "stream",
     "text": [
      "INFO:tensorflow:Assets written to: checkpoints/res_net20221219-195506\\cp-0049.ckpt\\assets\n"
     ]
    },
    {
     "name": "stderr",
     "output_type": "stream",
     "text": [
      "INFO:tensorflow:Assets written to: checkpoints/res_net20221219-195506\\cp-0049.ckpt\\assets\n"
     ]
    },
    {
     "name": "stdout",
     "output_type": "stream",
     "text": [
      "73/73 [==============================] - 52s 719ms/step - loss: 13.6067 - mean_absolute_percentage_error: 27.1307 - val_loss: 8.1312 - val_mean_absolute_percentage_error: 24.2357\n",
      "Epoch 50/100\n",
      "73/73 [==============================] - 42s 577ms/step - loss: 12.7367 - mean_absolute_percentage_error: 25.1145 - val_loss: 25.8360 - val_mean_absolute_percentage_error: 44.8106\n",
      "Epoch 51/100\n",
      "73/73 [==============================] - 42s 578ms/step - loss: 12.5232 - mean_absolute_percentage_error: 26.4699 - val_loss: 25.3583 - val_mean_absolute_percentage_error: 42.2649\n",
      "Epoch 52/100\n",
      "73/73 [==============================] - 43s 585ms/step - loss: 10.7301 - mean_absolute_percentage_error: 23.8346 - val_loss: 15.2881 - val_mean_absolute_percentage_error: 22.9247\n",
      "Epoch 53/100\n",
      "73/73 [==============================] - 43s 593ms/step - loss: 11.4836 - mean_absolute_percentage_error: 24.2380 - val_loss: 24.5105 - val_mean_absolute_percentage_error: 38.5629\n",
      "Epoch 54/100\n",
      "73/73 [==============================] - 44s 596ms/step - loss: 13.2923 - mean_absolute_percentage_error: 25.8897 - val_loss: 19.1335 - val_mean_absolute_percentage_error: 33.7602\n",
      "Epoch 55/100\n",
      "73/73 [==============================] - 43s 584ms/step - loss: 12.3224 - mean_absolute_percentage_error: 25.4040 - val_loss: 25.4686 - val_mean_absolute_percentage_error: 44.9568\n",
      "Epoch 56/100\n",
      "73/73 [==============================] - 43s 588ms/step - loss: 12.3042 - mean_absolute_percentage_error: 25.0107 - val_loss: 8.3582 - val_mean_absolute_percentage_error: 23.2263\n",
      "Epoch 57/100\n",
      "73/73 [==============================] - ETA: 0s - loss: 10.3478 - mean_absolute_percentage_error: 23.1526"
     ]
    },
    {
     "name": "stderr",
     "output_type": "stream",
     "text": [
      "WARNING:absl:Found untraced functions such as _jit_compiled_convolution_op, _jit_compiled_convolution_op, _jit_compiled_convolution_op, _jit_compiled_convolution_op, _jit_compiled_convolution_op while saving (showing 5 of 32). These functions will not be directly callable after loading.\n"
     ]
    },
    {
     "name": "stdout",
     "output_type": "stream",
     "text": [
      "INFO:tensorflow:Assets written to: checkpoints/res_net20221219-195506\\cp-0057.ckpt\\assets\n"
     ]
    },
    {
     "name": "stderr",
     "output_type": "stream",
     "text": [
      "INFO:tensorflow:Assets written to: checkpoints/res_net20221219-195506\\cp-0057.ckpt\\assets\n"
     ]
    },
    {
     "name": "stdout",
     "output_type": "stream",
     "text": [
      "73/73 [==============================] - 52s 709ms/step - loss: 10.3478 - mean_absolute_percentage_error: 23.1526 - val_loss: 7.0900 - val_mean_absolute_percentage_error: 21.3205\n",
      "Epoch 58/100\n",
      "73/73 [==============================] - 43s 580ms/step - loss: 10.1760 - mean_absolute_percentage_error: 22.8885 - val_loss: 19.8800 - val_mean_absolute_percentage_error: 43.9721\n",
      "Epoch 59/100\n",
      "73/73 [==============================] - 43s 583ms/step - loss: 10.1941 - mean_absolute_percentage_error: 22.8058 - val_loss: 13.5358 - val_mean_absolute_percentage_error: 32.2293\n",
      "Epoch 60/100\n",
      "73/73 [==============================] - ETA: 0s - loss: 10.7953 - mean_absolute_percentage_error: 22.7840"
     ]
    },
    {
     "name": "stderr",
     "output_type": "stream",
     "text": [
      "WARNING:absl:Found untraced functions such as _jit_compiled_convolution_op, _jit_compiled_convolution_op, _jit_compiled_convolution_op, _jit_compiled_convolution_op, _jit_compiled_convolution_op while saving (showing 5 of 32). These functions will not be directly callable after loading.\n"
     ]
    },
    {
     "name": "stdout",
     "output_type": "stream",
     "text": [
      "INFO:tensorflow:Assets written to: checkpoints/res_net20221219-195506\\cp-0060.ckpt\\assets\n"
     ]
    },
    {
     "name": "stderr",
     "output_type": "stream",
     "text": [
      "INFO:tensorflow:Assets written to: checkpoints/res_net20221219-195506\\cp-0060.ckpt\\assets\n"
     ]
    },
    {
     "name": "stdout",
     "output_type": "stream",
     "text": [
      "73/73 [==============================] - 52s 716ms/step - loss: 10.7953 - mean_absolute_percentage_error: 22.7840 - val_loss: 5.9401 - val_mean_absolute_percentage_error: 16.9186\n",
      "Epoch 61/100\n",
      "73/73 [==============================] - 43s 580ms/step - loss: 9.9496 - mean_absolute_percentage_error: 22.3767 - val_loss: 10.0004 - val_mean_absolute_percentage_error: 17.8174\n",
      "Epoch 62/100\n",
      "73/73 [==============================] - 43s 581ms/step - loss: 10.6360 - mean_absolute_percentage_error: 22.4050 - val_loss: 6.0523 - val_mean_absolute_percentage_error: 18.1475\n",
      "Epoch 63/100\n",
      "73/73 [==============================] - 42s 579ms/step - loss: 10.2772 - mean_absolute_percentage_error: 22.9248 - val_loss: 11.4525 - val_mean_absolute_percentage_error: 18.7211\n",
      "Epoch 64/100\n",
      "73/73 [==============================] - ETA: 0s - loss: 10.6914 - mean_absolute_percentage_error: 23.5604"
     ]
    },
    {
     "name": "stderr",
     "output_type": "stream",
     "text": [
      "WARNING:absl:Found untraced functions such as _jit_compiled_convolution_op, _jit_compiled_convolution_op, _jit_compiled_convolution_op, _jit_compiled_convolution_op, _jit_compiled_convolution_op while saving (showing 5 of 32). These functions will not be directly callable after loading.\n"
     ]
    },
    {
     "name": "stdout",
     "output_type": "stream",
     "text": [
      "INFO:tensorflow:Assets written to: checkpoints/res_net20221219-195506\\cp-0064.ckpt\\assets\n"
     ]
    },
    {
     "name": "stderr",
     "output_type": "stream",
     "text": [
      "INFO:tensorflow:Assets written to: checkpoints/res_net20221219-195506\\cp-0064.ckpt\\assets\n"
     ]
    },
    {
     "name": "stdout",
     "output_type": "stream",
     "text": [
      "73/73 [==============================] - 52s 718ms/step - loss: 10.6914 - mean_absolute_percentage_error: 23.5604 - val_loss: 4.8677 - val_mean_absolute_percentage_error: 15.0920\n",
      "Epoch 65/100\n",
      "73/73 [==============================] - 43s 587ms/step - loss: 11.1618 - mean_absolute_percentage_error: 24.2069 - val_loss: 6.1061 - val_mean_absolute_percentage_error: 18.8123\n",
      "Epoch 66/100\n",
      "73/73 [==============================] - 43s 590ms/step - loss: 10.9653 - mean_absolute_percentage_error: 23.4960 - val_loss: 20.4559 - val_mean_absolute_percentage_error: 34.1973\n",
      "Epoch 67/100\n",
      "73/73 [==============================] - 43s 588ms/step - loss: 10.5500 - mean_absolute_percentage_error: 22.8476 - val_loss: 13.2161 - val_mean_absolute_percentage_error: 31.8085\n",
      "Epoch 68/100\n",
      "73/73 [==============================] - 43s 583ms/step - loss: 9.6488 - mean_absolute_percentage_error: 22.2855 - val_loss: 17.4582 - val_mean_absolute_percentage_error: 37.6156\n",
      "Epoch 69/100\n",
      "73/73 [==============================] - 43s 585ms/step - loss: 9.7020 - mean_absolute_percentage_error: 22.7395 - val_loss: 7.2727 - val_mean_absolute_percentage_error: 21.5928\n",
      "Epoch 70/100\n",
      "73/73 [==============================] - 44s 595ms/step - loss: 11.1286 - mean_absolute_percentage_error: 24.3708 - val_loss: 16.7806 - val_mean_absolute_percentage_error: 22.1359\n",
      "Epoch 71/100\n",
      "73/73 [==============================] - 43s 586ms/step - loss: 9.4164 - mean_absolute_percentage_error: 21.9666 - val_loss: 12.4343 - val_mean_absolute_percentage_error: 19.8787\n",
      "Epoch 72/100\n",
      "73/73 [==============================] - 43s 581ms/step - loss: 8.3648 - mean_absolute_percentage_error: 21.2657 - val_loss: 28.9071 - val_mean_absolute_percentage_error: 36.7133\n",
      "Epoch 73/100\n",
      "73/73 [==============================] - 42s 579ms/step - loss: 9.1005 - mean_absolute_percentage_error: 21.2293 - val_loss: 18.2606 - val_mean_absolute_percentage_error: 35.8841\n",
      "Epoch 74/100\n",
      "73/73 [==============================] - 43s 586ms/step - loss: 9.2622 - mean_absolute_percentage_error: 21.8489 - val_loss: 20.3300 - val_mean_absolute_percentage_error: 38.8414\n",
      "Epoch 75/100\n",
      "73/73 [==============================] - 43s 592ms/step - loss: 8.4251 - mean_absolute_percentage_error: 19.7482 - val_loss: 7.0049 - val_mean_absolute_percentage_error: 18.1299\n",
      "Epoch 76/100\n",
      "73/73 [==============================] - 43s 589ms/step - loss: 8.6790 - mean_absolute_percentage_error: 20.7337 - val_loss: 7.7673 - val_mean_absolute_percentage_error: 22.0899\n",
      "Epoch 77/100\n",
      "73/73 [==============================] - 43s 584ms/step - loss: 7.7326 - mean_absolute_percentage_error: 19.4077 - val_loss: 5.6195 - val_mean_absolute_percentage_error: 16.6988\n",
      "Epoch 78/100\n",
      "73/73 [==============================] - 42s 577ms/step - loss: 8.8101 - mean_absolute_percentage_error: 21.4087 - val_loss: 8.6653 - val_mean_absolute_percentage_error: 25.3145\n",
      "Epoch 79/100\n",
      "73/73 [==============================] - 43s 584ms/step - loss: 8.0386 - mean_absolute_percentage_error: 19.9250 - val_loss: 11.2816 - val_mean_absolute_percentage_error: 24.2888\n",
      "Epoch 80/100\n",
      "73/73 [==============================] - 44s 595ms/step - loss: 7.6762 - mean_absolute_percentage_error: 19.6615 - val_loss: 19.2070 - val_mean_absolute_percentage_error: 34.0883\n",
      "Epoch 81/100\n",
      "73/73 [==============================] - 42s 578ms/step - loss: 8.2385 - mean_absolute_percentage_error: 20.1864 - val_loss: 17.1416 - val_mean_absolute_percentage_error: 41.3493\n",
      "Epoch 82/100\n",
      "73/73 [==============================] - 42s 578ms/step - loss: 7.8686 - mean_absolute_percentage_error: 20.3646 - val_loss: 12.0690 - val_mean_absolute_percentage_error: 31.0349\n",
      "Epoch 83/100\n",
      "73/73 [==============================] - 42s 576ms/step - loss: 7.6154 - mean_absolute_percentage_error: 19.4963 - val_loss: 19.8071 - val_mean_absolute_percentage_error: 41.5502\n",
      "Epoch 84/100\n",
      "73/73 [==============================] - 42s 577ms/step - loss: 8.1847 - mean_absolute_percentage_error: 20.0823 - val_loss: 7.8177 - val_mean_absolute_percentage_error: 22.9963\n",
      "Epoch 85/100\n",
      "73/73 [==============================] - 42s 576ms/step - loss: 6.8686 - mean_absolute_percentage_error: 18.3819 - val_loss: 17.1940 - val_mean_absolute_percentage_error: 40.7609\n",
      "Epoch 86/100\n",
      "73/73 [==============================] - 43s 587ms/step - loss: 6.6840 - mean_absolute_percentage_error: 18.5509 - val_loss: 19.6845 - val_mean_absolute_percentage_error: 34.2806\n",
      "Epoch 87/100\n",
      "73/73 [==============================] - 43s 588ms/step - loss: 6.8103 - mean_absolute_percentage_error: 18.2687 - val_loss: 16.7738 - val_mean_absolute_percentage_error: 33.0731\n",
      "Epoch 88/100\n",
      "73/73 [==============================] - 43s 580ms/step - loss: 6.3674 - mean_absolute_percentage_error: 17.7440 - val_loss: 6.8598 - val_mean_absolute_percentage_error: 19.2715\n",
      "Epoch 89/100\n",
      "73/73 [==============================] - 42s 577ms/step - loss: 6.6714 - mean_absolute_percentage_error: 18.5165 - val_loss: 5.9906 - val_mean_absolute_percentage_error: 14.8513\n",
      "Epoch 90/100\n",
      "73/73 [==============================] - 42s 578ms/step - loss: 6.5341 - mean_absolute_percentage_error: 17.4932 - val_loss: 7.6211 - val_mean_absolute_percentage_error: 17.3011\n",
      "Epoch 91/100\n",
      "73/73 [==============================] - 42s 578ms/step - loss: 6.4968 - mean_absolute_percentage_error: 17.4841 - val_loss: 18.6212 - val_mean_absolute_percentage_error: 41.8016\n",
      "Epoch 92/100\n",
      "73/73 [==============================] - 42s 578ms/step - loss: 6.0743 - mean_absolute_percentage_error: 17.2980 - val_loss: 11.5528 - val_mean_absolute_percentage_error: 22.7230\n",
      "Epoch 93/100\n",
      "73/73 [==============================] - 42s 578ms/step - loss: 6.3908 - mean_absolute_percentage_error: 17.2995 - val_loss: 17.0217 - val_mean_absolute_percentage_error: 20.8525\n",
      "Epoch 94/100\n",
      "73/73 [==============================] - 42s 578ms/step - loss: 6.3974 - mean_absolute_percentage_error: 17.9021 - val_loss: 8.3171 - val_mean_absolute_percentage_error: 19.5247\n",
      "Epoch 95/100\n",
      "73/73 [==============================] - 42s 578ms/step - loss: 5.4555 - mean_absolute_percentage_error: 16.5488 - val_loss: 17.5600 - val_mean_absolute_percentage_error: 27.7327\n",
      "Epoch 96/100\n",
      "73/73 [==============================] - 42s 579ms/step - loss: 6.2634 - mean_absolute_percentage_error: 16.9213 - val_loss: 9.1414 - val_mean_absolute_percentage_error: 20.5329\n",
      "Epoch 97/100\n",
      "73/73 [==============================] - 43s 585ms/step - loss: 5.8890 - mean_absolute_percentage_error: 16.3172 - val_loss: 10.8165 - val_mean_absolute_percentage_error: 24.1478\n",
      "Epoch 98/100\n",
      "73/73 [==============================] - 43s 594ms/step - loss: 8.8987 - mean_absolute_percentage_error: 20.6169 - val_loss: 6.9605 - val_mean_absolute_percentage_error: 18.3959\n",
      "Epoch 99/100\n",
      "73/73 [==============================] - 43s 588ms/step - loss: 7.3077 - mean_absolute_percentage_error: 18.7574 - val_loss: 9.6985 - val_mean_absolute_percentage_error: 22.6835\n",
      "Epoch 100/100\n",
      "73/73 [==============================] - 43s 588ms/step - loss: 6.2853 - mean_absolute_percentage_error: 17.3556 - val_loss: 12.4088 - val_mean_absolute_percentage_error: 27.4184\n"
     ]
    }
   ],
   "source": [
    "fit_model(model, 100, 8, X_train, y_train, X_test, y_test)"
   ],
   "metadata": {
    "collapsed": false,
    "pycharm": {
     "name": "#%%\n"
    }
   }
  },
  {
   "cell_type": "code",
   "execution_count": null,
   "outputs": [],
   "source": [],
   "metadata": {
    "collapsed": false,
    "pycharm": {
     "name": "#%%\n"
    }
   }
  }
 ],
 "metadata": {
  "kernelspec": {
   "display_name": "Python 3 (ipykernel)",
   "language": "python",
   "name": "python3"
  },
  "language_info": {
   "codemirror_mode": {
    "name": "ipython",
    "version": 3
   },
   "file_extension": ".py",
   "mimetype": "text/x-python",
   "name": "python",
   "nbconvert_exporter": "python",
   "pygments_lexer": "ipython3",
   "version": "3.7.15"
  }
 },
 "nbformat": 4,
 "nbformat_minor": 1
}